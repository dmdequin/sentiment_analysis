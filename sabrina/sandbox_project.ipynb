<<<<<<< HEAD
{
 "cells": [
  {
   "cell_type": "code",
   "execution_count": 1,
   "metadata": {},
   "outputs": [],
   "source": [
    "# datsets from: https://nijianmo.github.io/amazon/index.html\n",
    "# !wget http://deepyeti.ucsd.edu/jianmo/amazon/categoryFilesSmall/Digital_Music_5.json.gz\n",
    "# !gzip -d -k Digital_Music_5.json.gz\n",
    "\n",
    "\n",
    "# !wget http://deepyeti.ucsd.edu/jianmo/amazon/categoryFilesSmall/Video_Games_5.json.gz\n",
    "# !gzip -d -k Video_Games_5.json.gz\n",
    "\n",
    "# !wget http://deepyeti.ucsd.edu/jianmo/amazon/categoryFilesSmall/Arts_Crafts_and_Sewing_5.json.gz\n",
    "# !gzip -d -k Arts_Crafts_and_Sewing_5.json.gz"
   ]
  },
  {
   "cell_type": "code",
   "execution_count": 2,
   "metadata": {},
   "outputs": [],
   "source": [
    "import pandas as pd\n",
    "import numpy as np\n",
    "import seaborn as sns\n",
    "import gensim"
   ]
  },
  {
   "cell_type": "code",
   "execution_count": 2,
   "metadata": {},
   "outputs": [
    {
     "data": {
      "text/plain": [
       "(497577, 12)"
      ]
     },
     "execution_count": 2,
     "metadata": {},
     "output_type": "execute_result"
    }
   ],
   "source": [
    "df_vg = pd.read_json('Video_Games_5.json', orient='records', lines=True)\n",
    "df_vg.shape"
   ]
  },
  {
   "cell_type": "markdown",
   "metadata": {},
   "source": [
    "## Rating distribution"
   ]
  },
  {
   "cell_type": "code",
   "execution_count": 3,
   "metadata": {},
   "outputs": [
    {
     "data": {
      "text/plain": [
       "<seaborn.axisgrid.FacetGrid at 0x7fb15febd370>"
      ]
     },
     "execution_count": 3,
     "metadata": {},
     "output_type": "execute_result"
    },
    {
     "data": {
      "image/png": "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",
      "text/plain": [
       "<Figure size 360x360 with 1 Axes>"
      ]
     },
     "metadata": {
      "needs_background": "light"
     },
     "output_type": "display_data"
    }
   ],
   "source": [
    "sns.displot(df_vg['overall'])"
   ]
  },
  {
   "cell_type": "code",
   "execution_count": 4,
   "metadata": {},
   "outputs": [
    {
     "name": "stdout",
     "output_type": "stream",
     "text": [
      "(448431, 12)\n"
     ]
    },
    {
     "data": {
      "text/html": [
       "<div>\n",
       "<style scoped>\n",
       "    .dataframe tbody tr th:only-of-type {\n",
       "        vertical-align: middle;\n",
       "    }\n",
       "\n",
       "    .dataframe tbody tr th {\n",
       "        vertical-align: top;\n",
       "    }\n",
       "\n",
       "    .dataframe thead th {\n",
       "        text-align: right;\n",
       "    }\n",
       "</style>\n",
       "<table border=\"1\" class=\"dataframe\">\n",
       "  <thead>\n",
       "    <tr style=\"text-align: right;\">\n",
       "      <th></th>\n",
       "      <th>overall</th>\n",
       "      <th>verified</th>\n",
       "      <th>reviewTime</th>\n",
       "      <th>reviewerID</th>\n",
       "      <th>asin</th>\n",
       "      <th>reviewerName</th>\n",
       "      <th>reviewText</th>\n",
       "      <th>summary</th>\n",
       "      <th>unixReviewTime</th>\n",
       "      <th>vote</th>\n",
       "      <th>style</th>\n",
       "      <th>image</th>\n",
       "    </tr>\n",
       "  </thead>\n",
       "  <tbody>\n",
       "    <tr>\n",
       "      <th>0</th>\n",
       "      <td>5</td>\n",
       "      <td>True</td>\n",
       "      <td>10 17, 2015</td>\n",
       "      <td>A1HP7NVNPFMA4N</td>\n",
       "      <td>0700026657</td>\n",
       "      <td>Ambrosia075</td>\n",
       "      <td>This game is a bit hard to get the hang of, bu...</td>\n",
       "      <td>but when you do it's great.</td>\n",
       "      <td>1445040000</td>\n",
       "      <td>NaN</td>\n",
       "      <td>NaN</td>\n",
       "      <td>NaN</td>\n",
       "    </tr>\n",
       "    <tr>\n",
       "      <th>1</th>\n",
       "      <td>4</td>\n",
       "      <td>False</td>\n",
       "      <td>07 27, 2015</td>\n",
       "      <td>A1JGAP0185YJI6</td>\n",
       "      <td>0700026657</td>\n",
       "      <td>travis</td>\n",
       "      <td>I played it a while but it was alright. The st...</td>\n",
       "      <td>But in spite of that it was fun, I liked it</td>\n",
       "      <td>1437955200</td>\n",
       "      <td>NaN</td>\n",
       "      <td>NaN</td>\n",
       "      <td>NaN</td>\n",
       "    </tr>\n",
       "    <tr>\n",
       "      <th>3</th>\n",
       "      <td>2</td>\n",
       "      <td>True</td>\n",
       "      <td>02 20, 2015</td>\n",
       "      <td>A2204E1TH211HT</td>\n",
       "      <td>0700026657</td>\n",
       "      <td>Grandma KR</td>\n",
       "      <td>found the game a bit too complicated, not what...</td>\n",
       "      <td>Two Stars</td>\n",
       "      <td>1424390400</td>\n",
       "      <td>NaN</td>\n",
       "      <td>NaN</td>\n",
       "      <td>NaN</td>\n",
       "    </tr>\n",
       "  </tbody>\n",
       "</table>\n",
       "</div>"
      ],
      "text/plain": [
       "   overall  verified   reviewTime      reviewerID        asin reviewerName  \\\n",
       "0        5      True  10 17, 2015  A1HP7NVNPFMA4N  0700026657  Ambrosia075   \n",
       "1        4     False  07 27, 2015  A1JGAP0185YJI6  0700026657       travis   \n",
       "3        2      True  02 20, 2015  A2204E1TH211HT  0700026657   Grandma KR   \n",
       "\n",
       "                                          reviewText  \\\n",
       "0  This game is a bit hard to get the hang of, bu...   \n",
       "1  I played it a while but it was alright. The st...   \n",
       "3  found the game a bit too complicated, not what...   \n",
       "\n",
       "                                       summary  unixReviewTime vote style  \\\n",
       "0                  but when you do it's great.      1445040000  NaN   NaN   \n",
       "1  But in spite of that it was fun, I liked it      1437955200  NaN   NaN   \n",
       "3                                    Two Stars      1424390400  NaN   NaN   \n",
       "\n",
       "  image  \n",
       "0   NaN  \n",
       "1   NaN  \n",
       "3   NaN  "
      ]
     },
     "execution_count": 4,
     "metadata": {},
     "output_type": "execute_result"
    }
   ],
   "source": [
    "df_no3 = df_vg[df_vg['overall'].isin([1,2,4,5])]\n",
    "print(df_no3.shape)\n",
    "df_no3.head(3)"
   ]
  },
  {
   "cell_type": "code",
   "execution_count": 5,
   "metadata": {},
   "outputs": [
    {
     "name": "stderr",
     "output_type": "stream",
     "text": [
      "/tmp/ipykernel_152/2452910105.py:9: SettingWithCopyWarning: \n",
      "A value is trying to be set on a copy of a slice from a DataFrame.\n",
      "Try using .loc[row_indexer,col_indexer] = value instead\n",
      "\n",
      "See the caveats in the documentation: https://pandas.pydata.org/pandas-docs/stable/user_guide/indexing.html#returning-a-view-versus-a-copy\n",
      "  df_no3['sentiment'] = df_no3['overall'].map(dict_class)\n",
      "/tmp/ipykernel_152/2452910105.py:10: SettingWithCopyWarning: \n",
      "A value is trying to be set on a copy of a slice from a DataFrame.\n",
      "Try using .loc[row_indexer,col_indexer] = value instead\n",
      "\n",
      "See the caveats in the documentation: https://pandas.pydata.org/pandas-docs/stable/user_guide/indexing.html#returning-a-view-versus-a-copy\n",
      "  df_no3['rev_sum'] = df_no3['summary'] + ' ' + df_no3['reviewText']\n"
     ]
    },
    {
     "data": {
      "text/plain": [
       "(448431, 2)"
      ]
     },
     "execution_count": 5,
     "metadata": {},
     "output_type": "execute_result"
    }
   ],
   "source": [
    "dict_class = {\n",
    "    1 : 0,\n",
    "    2 : 0,\n",
    "    4 : 1,\n",
    "    5 : 1\n",
    "}\n",
    "\n",
    "# map reviews to sentiment classification\n",
    "df_no3['sentiment'] = df_no3['overall'].map(dict_class)\n",
    "df_no3['rev_sum'] = df_no3['summary'] + ' ' + df_no3['reviewText']\n",
    "# df_no3.head(3)\n",
    "\n",
    "# get only relevant columns\n",
    "df_games = pd.DataFrame()\n",
    "df_games = df_no3[['rev_sum', 'sentiment']]\n",
    "df_games.shape"
   ]
  },
  {
   "cell_type": "markdown",
   "metadata": {},
   "source": [
    "## Split dataset"
   ]
  },
  {
   "cell_type": "code",
   "execution_count": 6,
   "metadata": {},
   "outputs": [],
   "source": [
    "from sklearn.model_selection import train_test_split\n",
    "\n",
    "X_game, y_game = df_games['rev_sum'], df_games['sentiment']\n",
    "\n",
    "X_train, X_temp, y_train, y_temp = train_test_split(X_game, y_game, test_size=0.2, train_size = 0.8, stratify=y_game, random_state=42)\n",
    "X_dev, X_test, y_dev, y_test = train_test_split(X_temp, y_temp, test_size = 0.5, train_size = 0.5, stratify=y_temp, random_state=42)"
   ]
  },
  {
   "cell_type": "code",
   "execution_count": 7,
   "metadata": {},
   "outputs": [
    {
     "data": {
      "text/plain": [
       "((358744,), (44843,), (44844,))"
      ]
     },
     "execution_count": 7,
     "metadata": {},
     "output_type": "execute_result"
    }
   ],
   "source": [
    "X_train.shape, X_dev.shape, X_test.shape"
   ]
  },
  {
   "cell_type": "markdown",
   "metadata": {},
   "source": [
    "# Similarity\n",
    "from https://dev.to/thepylot/compare-documents-similarity-using-python-nlp-4odp"
   ]
  },
  {
   "cell_type": "code",
   "execution_count": 8,
   "metadata": {},
   "outputs": [
    {
     "data": {
      "text/plain": [
       "\"hmmmm, what was I thinking I bought this for my PSP so that if I was traveling with the kids they could play it (as opposed to their leapster).  Well it is too difficult for them, and for me as an adult it is my last choice.  For a 8-12 year old, it is probably good, I just can't rate it high for myself or my kids.\""
      ]
     },
     "execution_count": 8,
     "metadata": {},
     "output_type": "execute_result"
    }
   ],
   "source": [
    "list(X_train[0:100])[0]"
   ]
  },
  {
   "cell_type": "code",
   "execution_count": null,
   "metadata": {},
   "outputs": [],
   "source": [
    "# X_train[:100].to_csv('X_train_100.txt', index=False)\n",
    "X_train_100 = list(X_train[:100])\n",
    "X_train_1000 = list(X_train[:1000])\n",
    "total_diff = 'My house is really small and this vacuum cleaner is perfect for it! Has enough power to pick up debris and clean carpets.'"
   ]
  },
  {
   "cell_type": "code",
   "execution_count": null,
   "metadata": {},
   "outputs": [],
   "source": [
    "# one big string\n",
    "df_vg = pd.DataFrame(X_train_100)\n",
    "X_train_joint = ' '.join(df_vg[0].astype(str))"
   ]
  },
  {
   "cell_type": "code",
   "execution_count": null,
   "metadata": {},
   "outputs": [],
   "source": [
    "import pandas as pd\n",
    "import numpy as np\n",
    "import seaborn as sns\n",
    "import gensim\n",
    "\n",
    "import nltk\n",
    "from nltk.tokenize import word_tokenize, sent_tokenize"
   ]
  },
  {
   "cell_type": "code",
   "execution_count": null,
   "metadata": {},
   "outputs": [],
   "source": [
    "# list of strings, paragraph to sentences\n",
    "file_docs = sent_tokenize(X_train_joint)\n",
    "file2_docs = sent_tokenize(X_train_100[0])\n",
    "file3_docs = sent_tokenize(total_diff)"
   ]
  },
  {
   "cell_type": "code",
   "execution_count": null,
   "metadata": {},
   "outputs": [],
   "source": [
    "def compare_text(corpus1, corpus2):\n",
    "    \n",
    "    # tokenize corpus into sentences\n",
    "    # list of strings\n",
    "    first = sent_tokenize(corpus1)\n",
    "    second = sent_tokenize(corpus2)\n",
    "\n",
    "    # list of lists, words as tokens for corpus 1\n",
    "    gen_docs = [[w.lower() for w in word_tokenize(text)] for text in first]\n",
    "\n",
    "    dictionary = gensim.corpora.Dictionary(gen_docs)\n",
    "    corpus = [dictionary.doc2bow(gen_doc) for gen_doc in gen_docs]\n",
    "    tf_idf = gensim.models.TfidfModel(corpus)\n",
    "\n",
    "    # # building the index\n",
    "    sims = gensim.similarities.Similarity('workdir/', tf_idf[corpus], num_features=len(dictionary))\n",
    "\n",
    "    for line in second:\n",
    "        # list of lists, words as tokens for corpus 2\n",
    "        query_doc = [w.lower() for w in word_tokenize(line)]\n",
    "\n",
    "        # update an existing dictionary and create bag of words\n",
    "        query_doc_bow = dictionary.doc2bow(query_doc)\n",
    "\n",
    "    query_doc_tf_idf = tf_idf[query_doc_bow]\n",
    "\n",
    "    sum_of_sims =(np.sum(sims[query_doc_tf_idf], dtype=np.float32))\n",
    "    print(sum_of_sims)\n",
    "\n",
    "    print('Comparing Result:', sims[query_doc_tf_idf]) \n",
    "    \n",
    "    # percentage_of_similarity = round(float((sum_of_sims / len(file_docs))))\n",
    "    # print(percentage_of_similarity)\n"
   ]
  },
  {
   "cell_type": "code",
   "execution_count": null,
   "metadata": {},
   "outputs": [],
   "source": [
    "X_train_100[0]"
   ]
  },
  {
   "cell_type": "code",
   "execution_count": null,
   "metadata": {},
   "outputs": [],
   "source": [
    "X_train_100[3]"
   ]
  },
  {
   "cell_type": "code",
   "execution_count": null,
   "metadata": {},
   "outputs": [],
   "source": [
    "compare_text(X_train_100[0], X_train_100[3])\n",
    "compare_text(X_train_100[0], X_train_100[2])\n",
    "compare_text(X_train_100[0], X_train_100[1])\n",
    "compare_text(X_train_100[0], X_train_100[0])\n",
    "compare_text(X_train_100[0], total_diff)"
   ]
  },
  {
   "cell_type": "code",
   "execution_count": null,
   "metadata": {},
   "outputs": [],
   "source": [
    "X_train_100[0]"
   ]
  },
  {
   "cell_type": "code",
   "execution_count": null,
   "metadata": {},
   "outputs": [],
   "source": [
    "X_train_100[3]"
   ]
  },
  {
   "cell_type": "code",
   "execution_count": null,
   "metadata": {},
   "outputs": [],
   "source": [
    "total_diff"
   ]
  },
  {
   "cell_type": "code",
   "execution_count": null,
   "metadata": {},
   "outputs": [],
   "source": [
    "# X_train_joint"
   ]
  },
  {
   "cell_type": "code",
   "execution_count": null,
   "metadata": {},
   "outputs": [],
   "source": [
    "compare_text(X_train_joint, X_train_100[3])\n",
    "compare_text(X_train_joint, X_train_100[2])\n",
    "compare_text(X_train_joint, X_train_100[1])\n",
    "compare_text(X_train_joint, X_train_100[0])\n",
    "compare_text(X_train_joint, total_diff)"
   ]
  },
  {
   "cell_type": "markdown",
   "metadata": {},
   "source": [
    "# Gensim tut\n",
    "https://www.machinelearningplus.com/nlp/gensim-tutorial/"
   ]
  },
  {
   "cell_type": "code",
   "execution_count": null,
   "metadata": {},
   "outputs": [],
   "source": [
    "import gensim\n",
    "from gensim import corpora\n",
    "from pprint import pprint\n",
    "\n",
    "# How to create a dictionary from a list of sentences?\n",
    "documents = [\"The Saudis are preparing a report that will acknowledge that\", \n",
    "             \"Saudi journalist Jamal Khashoggi's death was the result of an\", \n",
    "             \"interrogation that went wrong, one that was intended to lead\", \n",
    "             \"to his abduction from Turkey, according to two sources.\"]\n",
    "\n",
    "documents_2 = [\"One source says the report will likely conclude that\", \n",
    "                \"the operation was carried out without clearance and\", \n",
    "                \"transparency and that those involved will be held\", \n",
    "                \"responsible. One of the sources acknowledged that the\", \n",
    "                \"report is still being prepared and cautioned that\", \n",
    "                \"things could change.\"]\n",
    "\n",
    "# Tokenize(split) the sentences into words\n",
    "texts = [[text for text in doc.split()] for doc in documents]"
   ]
  },
  {
   "cell_type": "code",
   "execution_count": null,
   "metadata": {},
   "outputs": [],
   "source": [
    "print(texts)"
   ]
  },
  {
   "cell_type": "code",
   "execution_count": null,
   "metadata": {},
   "outputs": [],
   "source": [
    "for i in texts:\n",
    "    print(i)"
   ]
  },
  {
   "cell_type": "code",
   "execution_count": null,
   "metadata": {},
   "outputs": [],
   "source": [
    "# Create dictionary\n",
    "dictionary = corpora.Dictionary(texts)\n",
    "\n",
    "# Get information about the dictionary\n",
    "print(dictionary.token2id)"
   ]
  },
  {
   "cell_type": "code",
   "execution_count": null,
   "metadata": {},
   "outputs": [],
   "source": [
    "from gensim.utils import simple_preprocess\n",
    "from smart_open import smart_open\n",
    "import os\n",
    "\n",
    "# List with 2 sentences\n",
    "my_docs = [\"Who let the dogs out?\",\n",
    "           \"Who? Who? Who? Who?\"]\n",
    "\n",
    "# Tokenize the docs\n",
    "tokenized_list = [simple_preprocess(doc) for doc in my_docs]\n",
    "\n",
    "# Create the Corpus\n",
    "mydict = corpora.Dictionary()\n",
    "mycorpus = [mydict.doc2bow(doc, allow_update=True) for doc in tokenized_list]\n",
    "pprint(mycorpus)"
   ]
  },
  {
   "cell_type": "code",
   "execution_count": null,
   "metadata": {},
   "outputs": [],
   "source": [
    "tokenized_list"
   ]
  },
  {
   "cell_type": "markdown",
   "metadata": {},
   "source": [
    "# Compare sentences"
   ]
  },
  {
   "cell_type": "code",
   "execution_count": null,
   "metadata": {},
   "outputs": [],
   "source": [
    "gensim.__version__"
   ]
  },
  {
   "cell_type": "code",
   "execution_count": null,
   "metadata": {},
   "outputs": [],
   "source": [
    "X_train_100 = list(X_train[:100])"
   ]
  },
  {
   "cell_type": "code",
   "execution_count": null,
   "metadata": {},
   "outputs": [],
   "source": [
    "# one big string\n",
    "df_vg = pd.DataFrame(X_train_100)\n",
    "X_train_joint = ' '.join(df_vg[0].astype(str))"
   ]
  },
  {
   "cell_type": "code",
   "execution_count": null,
   "metadata": {},
   "outputs": [],
   "source": [
    "nltk.download('stopwords')\n",
    "from nltk.corpus import stopwords\n",
    "print(stopwords.words('english'))"
   ]
  },
  {
   "cell_type": "code",
   "execution_count": null,
   "metadata": {},
   "outputs": [],
   "source": [
    "def tokenize(string):\n",
    "    '''\n",
    "    Input: A string, can contain multiple sentences.\n",
    "    Output: A list of lists where each sublist is a sentence and the strings in it are the tokenised words.\n",
    "    '''\n",
    "    # list of strings\n",
    "    sentences = sent_tokenize(string)\n",
    "    # sentences = string.lower()\n",
    "\n",
    "    # list of lists, words as tokens for corpus 1\n",
    "    tokens = [[word.lower() for word in word_tokenize(text)] for text in sentences]\n",
    "    # tokens = [word_tokenize(sentences)]\n",
    "\n",
    "    return tokens"
   ]
  },
  {
   "cell_type": "code",
   "execution_count": null,
   "metadata": {},
   "outputs": [],
   "source": [
    "tokens = tokenize(X_train_100[0])\n",
    "print(tokens)\n",
    "print('\\ntokens len = num. of sentences in string =', len(tokens))"
   ]
  },
  {
   "cell_type": "code",
   "execution_count": null,
   "metadata": {},
   "outputs": [],
   "source": [
    "dictionary = gensim.corpora.Dictionary(tokens)\n",
    "# dictionary.token2id"
   ]
  },
  {
   "cell_type": "code",
   "execution_count": null,
   "metadata": {},
   "outputs": [],
   "source": [
    "corpus = [dictionary.doc2bow(token) for token in tokens]\n",
    "# corpus\n",
    "# (0, 1) means the word with id=0 appears once in the 1st sentence."
   ]
  },
  {
   "cell_type": "code",
   "execution_count": null,
   "metadata": {},
   "outputs": [],
   "source": [
    "# # word frequency in corpus\n",
    "# for doc in corpus:\n",
    "#     print([[dictionary[id], freq] for id, freq in doc])"
   ]
  },
  {
   "cell_type": "code",
   "execution_count": null,
   "metadata": {},
   "outputs": [],
   "source": [
    "tf_idf = gensim.models.TfidfModel(corpus)\n",
    "# used tfid to weight down frequent words\n",
    "\n",
    "# # print if you want to see what it looks like\n",
    "# for doc in tf_idf[corpus]:\n",
    "#     print([[dictionary[id], np.around(freq, decimals=2)] for id, freq in doc])"
   ]
  },
  {
   "cell_type": "markdown",
   "metadata": {},
   "source": [
    "The class similarities.MatrixSimilarity is only appropriate when the whole set of vectors fits into memory. For example, a corpus of one million documents would require 2GB of RAM in a 256-dimensional LSI space, when used with this class.\n",
    "\n",
    "Without 2GB of free RAM, you would need to use the similarities.Similarity class. This class operates in fixed memory, by splitting the index across multiple files on disk, called shards. It uses similarities.MatrixSimilarity and similarities.SparseMatrixSimilarity internally, so it is still fast, although slightly more complex.\n",
    "\n",
    "From gensim docs: https://radimrehurek.com/gensim/auto_examples/core/run_similarity_queries.html"
   ]
  },
  {
   "cell_type": "code",
   "execution_count": null,
   "metadata": {},
   "outputs": [],
   "source": [
    "sims = gensim.similarities.Similarity('workdir/', tf_idf[corpus], num_features=len(dictionary))\n",
    "print(sims)\n",
    "print(type(sims))"
   ]
  },
  {
   "cell_type": "code",
   "execution_count": null,
   "metadata": {},
   "outputs": [],
   "source": [
    "def make_dict(tokens):\n",
    "    '''\n",
    "    Input: A list of lists where each sublist is a sentence and the strings in it are the tokenised words.\n",
    "    Output: returns indexed similarities\n",
    "    '''\n",
    "    dictionary = gensim.corpora.Dictionary(tokens)\n",
    "    corpus = [dictionary.doc2bow(token) for token in tokens]\n",
    "    tf_idf = gensim.models.TfidfModel(corpus)\n",
    "    sims = gensim.similarities.Similarity('workdir/', tf_idf[corpus], num_features=len(dictionary))\n",
    "    print(sims)\n",
    "    return sims"
   ]
  },
  {
   "cell_type": "markdown",
   "metadata": {},
   "source": [
    "How to query using gensim: https://stackoverflow.com/questions/51287590/how-to-use-gensim-similarities-similarity-to-find-similarity-between-two-sentenc"
   ]
  },
  {
   "cell_type": "code",
   "execution_count": null,
   "metadata": {},
   "outputs": [],
   "source": [
    "def query_sim(string):\n",
    "    query = [w.lower() for w in word_tokenize(string)] # tokenise into strings\n",
    "    # print(query)\n",
    "    query_bow = dictionary.doc2bow(query) # bag of words for string being queried\n",
    "    query_tf_idf = tf_idf[query_bow] # ??? \n",
    "    \n",
    "    # get similarity scores between given string and indexes text\n",
    "    sim_score =  sims[query_tf_idf]\n",
    "    # print(len(sim_score), sim_score)\n",
    "\n",
    "    # return the avarage sim between the queried string and all sentences in the indexed text - in the case review(s)\n",
    "    return sum(sim_score) / len(sim_score)"
   ]
  },
  {
   "cell_type": "code",
   "execution_count": null,
   "metadata": {},
   "outputs": [],
   "source": [
    "query_sim('Nature is good for your mental health.'), query_sim('My house is really small and this vacuum cleaner is perfect for it! Has enough power to pick up debris and clean carpets.')"
   ]
  },
  {
   "cell_type": "code",
   "execution_count": null,
   "metadata": {},
   "outputs": [],
   "source": [
    "sim_list = [] # similarities between each review and the full corpus\n",
    "for i in range(len(X_train_100)):\n",
    "    sim_list.append(round(query_sim(X_train_100[i]),3))"
   ]
  },
  {
   "cell_type": "code",
   "execution_count": null,
   "metadata": {},
   "outputs": [],
   "source": [
    "sns.displot(sim_list, kind='kde');"
   ]
  },
  {
   "cell_type": "markdown",
   "metadata": {},
   "source": [
    "# Functions test"
   ]
  },
  {
   "cell_type": "code",
   "execution_count": null,
   "metadata": {},
   "outputs": [],
   "source": [
    "import gensim\n",
    "from nltk.tokenize import word_tokenize, sent_tokenize\n",
    "\n",
    "def tokenize(string):\n",
    "    '''\n",
    "    Input: A string, can contain multiple sentences.\n",
    "    Output: A list of lists where each sublist is a sentence and the strings in it are the tokenised words.\n",
    "    '''\n",
    "    # list of strings\n",
    "    sentences = sent_tokenize(string)\n",
    "    # sentences = string.lower()\n",
    "\n",
    "    # list of lists, words as tokens for corpus 1\n",
    "    tokens = [[word.lower() for word in word_tokenize(text)] for text in sentences]\n",
    "    # tokens = [word_tokenize(sentences)]\n",
    "\n",
    "    return tokens\n",
    "\n",
    "def make_dict(tokens):\n",
    "    '''\n",
    "    Input: A list of lists where each sublist is a sentence and the strings in it are the tokenised words.\n",
    "    Output: returns indexed similarities\n",
    "    '''\n",
    "    dictionary = gensim.corpora.Dictionary(tokens)\n",
    "    corpus = [dictionary.doc2bow(token) for token in tokens]\n",
    "    tf_idf = gensim.models.TfidfModel(corpus)\n",
    "    sims = gensim.similarities.Similarity('workdir/', tf_idf[corpus], num_features=len(dictionary))\n",
    "    print(sims)\n",
    "    return dictionary, tf_idf, sims\n",
    "\n",
    "\n",
    "def compare(string_index, string_query):\n",
    "    tokens = tokenize(string_index)\n",
    "    dictionary, tf_idf, sims = make_dict(tokens)\n",
    "\n",
    "    query = [w.lower() for w in word_tokenize(string_query)] # tokenise into strings\n",
    "    # print(query)\n",
    "    query_bow = dictionary.doc2bow(query) # bag of words for string being queried\n",
    "    query_tf_idf = tf_idf[query_bow] # ??? \n",
    "    \n",
    "    # get similarity scores between given string and indexes text\n",
    "    sim_score =  sims[query_tf_idf]\n",
    "    # print(len(sim_score), sim_score)\n",
    "\n",
    "    # return the avarage sim between the queried string and all sentences in the indexed text - in the case review(s)\n",
    "    return sum(sim_score) / len(sim_score)"
   ]
  },
  {
   "cell_type": "code",
   "execution_count": null,
   "metadata": {},
   "outputs": [],
   "source": [
    "X_train_100 = list(X_train[:100])\n",
    "\n",
    "docs = [\n",
    "    'Nature is good for your mental health.', \n",
    "    'My house is really small and this vacuum cleaner is perfect for it! Has enough power to pick up debris and clean carpets.'\n",
    "]\n",
    "\n",
    "compare(docs[0], docs[1])"
   ]
  },
  {
   "cell_type": "code",
   "execution_count": null,
   "metadata": {},
   "outputs": [],
   "source": [
    "X_train_100[0], X_train_100[1]"
   ]
  },
  {
   "cell_type": "code",
   "execution_count": null,
   "metadata": {},
   "outputs": [],
   "source": [
    "compare(X_train_100[0], X_train_100[1])"
   ]
  },
  {
   "cell_type": "code",
   "execution_count": null,
   "metadata": {},
   "outputs": [],
   "source": [
    "docs[1], X_train_100[1]"
   ]
  },
  {
   "cell_type": "code",
   "execution_count": null,
   "metadata": {},
   "outputs": [],
   "source": [
    "compare(docs[1], X_train_100[1])\n"
   ]
  },
  {
   "cell_type": "code",
   "execution_count": null,
   "metadata": {},
   "outputs": [],
   "source": [
    "compare('The best thing ever. The best .', 'The best thing ever. The best .')"
   ]
  },
  {
   "cell_type": "code",
   "execution_count": 1,
   "metadata": {},
   "outputs": [
    {
     "name": "stdout",
     "output_type": "stream",
     "text": [
      "KL:  0.4999997133484283\n"
     ]
    },
    {
     "data": {
      "image/png": "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",
      "text/plain": [
       "<Figure size 1800x800 with 2 Axes>"
      ]
     },
     "metadata": {
      "needs_background": "light"
     },
     "output_type": "display_data"
    }
   ],
   "source": [
    "# code from: https://moonbooks.org/Articles/How-to-calculate-and-visualize-Kullback-Leibler-divergence-using-python-/\n",
    "\n",
    "#!/usr/bin/env python\n",
    "# -*- coding: utf-8 -*-\n",
    "\n",
    "import matplotlib.pyplot as plt\n",
    "import numpy as np\n",
    "import matplotlib.mlab as mlab\n",
    "\n",
    "from scipy.stats import norm\n",
    "from scipy.integrate import quad\n",
    "\n",
    "def p(x):\n",
    "    return norm.pdf(x, 0, 2)\n",
    "\n",
    "def q(x):\n",
    "    return norm.pdf(x, 2, 2)\n",
    "\n",
    "def KL(x):\n",
    "    return p(x) * np.log( p(x) / q(x) )\n",
    "\n",
    "range = np.arange(-10, 10, 0.001)\n",
    "\n",
    "KL_int, err = quad(KL, -10, 10) \n",
    "print( 'KL: ', KL_int )\n",
    "\n",
    "fig = plt.figure(figsize=(18, 8), dpi=100)\n",
    "\n",
    "#---------- First Plot\n",
    "\n",
    "ax = fig.add_subplot(1,2,1)\n",
    "ax.grid(True)\n",
    "ax.spines['left'].set_position('zero')\n",
    "ax.spines['right'].set_color('none')\n",
    "ax.spines['bottom'].set_position('zero')\n",
    "ax.spines['top'].set_color('none')\n",
    "ax.set_xlim(-10,10)\n",
    "ax.set_ylim(-0.1,0.25)\n",
    "\n",
    "ax.text(-2.5, 0.17, 'p(x)', horizontalalignment='center',fontsize=17)\n",
    "ax.text(4.5, 0.17, 'q(x)', horizontalalignment='center',fontsize=17)\n",
    "\n",
    "plt.plot(range, p(range))\n",
    "plt.plot(range, q(range))\n",
    "\n",
    "#---------- Second Plot\n",
    "\n",
    "ax = fig.add_subplot(1,2,2)\n",
    "ax.grid(True)\n",
    "ax.spines['left'].set_position('zero')\n",
    "ax.spines['right'].set_color('none')\n",
    "ax.spines['bottom'].set_position('zero')\n",
    "ax.spines['top'].set_color('none')\n",
    "ax.set_xlim(-10,10)\n",
    "ax.set_ylim(-0.1,0.25)\n",
    "\n",
    "ax.text(3.5, 0.17, r'$DK_{KL}(p||q)$', horizontalalignment='center',fontsize=17)\n",
    "\n",
    "ax.plot(range, KL(range))\n",
    "\n",
    "ax.fill_between(range, 0, KL(range))\n",
    "\n",
    "plt.savefig('KullbackLeibler.png',bbox_inches='tight')\n",
    "plt.show()"
   ]
  },
  {
   "cell_type": "code",
   "execution_count": 2,
   "metadata": {},
   "outputs": [
    {
     "data": {
      "text/plain": [
       "array([ 4.08847867e-06,  4.09833953e-06,  4.10822311e-06, ...,\n",
       "       -3.36917439e-06, -3.36113762e-06, -3.35311914e-06])"
      ]
     },
     "execution_count": 2,
     "metadata": {},
     "output_type": "execute_result"
    }
   ],
   "source": [
    "KL(range)"
   ]
  },
  {
   "cell_type": "code",
   "execution_count": null,
   "metadata": {},
   "outputs": [],
   "source": []
  }
 ],
 "metadata": {
  "interpreter": {
   "hash": "62a3362af9fb780a0eb03402584da787fc1a1b0aa4d8f94c680e96f1c63d9193"
  },
  "kernelspec": {
   "display_name": "Python 3.9.7 64-bit",
   "language": "python",
   "name": "python3"
  },
  "language_info": {
   "codemirror_mode": {
    "name": "ipython",
    "version": 3
   },
   "file_extension": ".py",
   "mimetype": "text/x-python",
   "name": "python",
   "nbconvert_exporter": "python",
   "pygments_lexer": "ipython3",
   "version": "3.9.7"
  },
  "orig_nbformat": 4
 },
 "nbformat": 4,
 "nbformat_minor": 2
}
=======
{
 "cells": [
  {
   "cell_type": "code",
   "execution_count": 2,
   "metadata": {},
   "outputs": [],
   "source": [
    "# !wget http://deepyeti.ucsd.edu/jianmo/amazon/categoryFilesSmall/Video_Games_5.json.gz\n",
    "# !gzip -d -k Video_Games_5.json.gz"
   ]
  },
  {
   "cell_type": "code",
   "execution_count": 3,
   "metadata": {},
   "outputs": [],
   "source": [
    "import pandas as pd\n",
    "import numpy as np\n",
    "import seaborn as sns\n",
    "import gensim"
   ]
  },
  {
   "cell_type": "code",
   "execution_count": 4,
   "metadata": {},
   "outputs": [
    {
     "data": {
      "text/plain": [
       "(497577, 12)"
      ]
     },
     "execution_count": 4,
     "metadata": {},
     "output_type": "execute_result"
    }
   ],
   "source": [
    "df = pd.read_json('Video_Games_5.json', orient='records', lines=True)\n",
    "df.shape"
   ]
  },
  {
   "cell_type": "code",
   "execution_count": 5,
   "metadata": {},
   "outputs": [
    {
     "data": {
      "text/plain": [
       "<seaborn.axisgrid.FacetGrid at 0x7fdeec3f8c10>"
      ]
     },
     "execution_count": 5,
     "metadata": {},
     "output_type": "execute_result"
    },
    {
     "data": {
      "image/png": "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",
      "text/plain": [
       "<Figure size 360x360 with 1 Axes>"
      ]
     },
     "metadata": {
      "needs_background": "light"
     },
     "output_type": "display_data"
    }
   ],
   "source": [
    "sns.displot(df['overall'])"
   ]
  },
  {
   "cell_type": "code",
   "execution_count": 6,
   "metadata": {},
   "outputs": [
    {
     "name": "stdout",
     "output_type": "stream",
     "text": [
      "(448431, 12)\n"
     ]
    },
    {
     "data": {
      "text/html": [
       "<div>\n",
       "<style scoped>\n",
       "    .dataframe tbody tr th:only-of-type {\n",
       "        vertical-align: middle;\n",
       "    }\n",
       "\n",
       "    .dataframe tbody tr th {\n",
       "        vertical-align: top;\n",
       "    }\n",
       "\n",
       "    .dataframe thead th {\n",
       "        text-align: right;\n",
       "    }\n",
       "</style>\n",
       "<table border=\"1\" class=\"dataframe\">\n",
       "  <thead>\n",
       "    <tr style=\"text-align: right;\">\n",
       "      <th></th>\n",
       "      <th>overall</th>\n",
       "      <th>verified</th>\n",
       "      <th>reviewTime</th>\n",
       "      <th>reviewerID</th>\n",
       "      <th>asin</th>\n",
       "      <th>reviewerName</th>\n",
       "      <th>reviewText</th>\n",
       "      <th>summary</th>\n",
       "      <th>unixReviewTime</th>\n",
       "      <th>vote</th>\n",
       "      <th>style</th>\n",
       "      <th>image</th>\n",
       "    </tr>\n",
       "  </thead>\n",
       "  <tbody>\n",
       "    <tr>\n",
       "      <th>0</th>\n",
       "      <td>5</td>\n",
       "      <td>True</td>\n",
       "      <td>10 17, 2015</td>\n",
       "      <td>A1HP7NVNPFMA4N</td>\n",
       "      <td>0700026657</td>\n",
       "      <td>Ambrosia075</td>\n",
       "      <td>This game is a bit hard to get the hang of, bu...</td>\n",
       "      <td>but when you do it's great.</td>\n",
       "      <td>1445040000</td>\n",
       "      <td>NaN</td>\n",
       "      <td>NaN</td>\n",
       "      <td>NaN</td>\n",
       "    </tr>\n",
       "    <tr>\n",
       "      <th>1</th>\n",
       "      <td>4</td>\n",
       "      <td>False</td>\n",
       "      <td>07 27, 2015</td>\n",
       "      <td>A1JGAP0185YJI6</td>\n",
       "      <td>0700026657</td>\n",
       "      <td>travis</td>\n",
       "      <td>I played it a while but it was alright. The st...</td>\n",
       "      <td>But in spite of that it was fun, I liked it</td>\n",
       "      <td>1437955200</td>\n",
       "      <td>NaN</td>\n",
       "      <td>NaN</td>\n",
       "      <td>NaN</td>\n",
       "    </tr>\n",
       "    <tr>\n",
       "      <th>3</th>\n",
       "      <td>2</td>\n",
       "      <td>True</td>\n",
       "      <td>02 20, 2015</td>\n",
       "      <td>A2204E1TH211HT</td>\n",
       "      <td>0700026657</td>\n",
       "      <td>Grandma KR</td>\n",
       "      <td>found the game a bit too complicated, not what...</td>\n",
       "      <td>Two Stars</td>\n",
       "      <td>1424390400</td>\n",
       "      <td>NaN</td>\n",
       "      <td>NaN</td>\n",
       "      <td>NaN</td>\n",
       "    </tr>\n",
       "  </tbody>\n",
       "</table>\n",
       "</div>"
      ],
      "text/plain": [
       "   overall  verified   reviewTime      reviewerID        asin reviewerName  \\\n",
       "0        5      True  10 17, 2015  A1HP7NVNPFMA4N  0700026657  Ambrosia075   \n",
       "1        4     False  07 27, 2015  A1JGAP0185YJI6  0700026657       travis   \n",
       "3        2      True  02 20, 2015  A2204E1TH211HT  0700026657   Grandma KR   \n",
       "\n",
       "                                          reviewText  \\\n",
       "0  This game is a bit hard to get the hang of, bu...   \n",
       "1  I played it a while but it was alright. The st...   \n",
       "3  found the game a bit too complicated, not what...   \n",
       "\n",
       "                                       summary  unixReviewTime vote style  \\\n",
       "0                  but when you do it's great.      1445040000  NaN   NaN   \n",
       "1  But in spite of that it was fun, I liked it      1437955200  NaN   NaN   \n",
       "3                                    Two Stars      1424390400  NaN   NaN   \n",
       "\n",
       "  image  \n",
       "0   NaN  \n",
       "1   NaN  \n",
       "3   NaN  "
      ]
     },
     "execution_count": 6,
     "metadata": {},
     "output_type": "execute_result"
    }
   ],
   "source": [
    "df_no3 = df[df['overall'].isin([1,2,4,5])]\n",
    "print(df_no3.shape)\n",
    "df_no3.head(3)"
   ]
  },
  {
   "cell_type": "code",
   "execution_count": 7,
   "metadata": {},
   "outputs": [
    {
     "name": "stderr",
     "output_type": "stream",
     "text": [
      "/tmp/ipykernel_149/2452910105.py:9: SettingWithCopyWarning: \n",
      "A value is trying to be set on a copy of a slice from a DataFrame.\n",
      "Try using .loc[row_indexer,col_indexer] = value instead\n",
      "\n",
      "See the caveats in the documentation: https://pandas.pydata.org/pandas-docs/stable/user_guide/indexing.html#returning-a-view-versus-a-copy\n",
      "  df_no3['sentiment'] = df_no3['overall'].map(dict_class)\n",
      "/tmp/ipykernel_149/2452910105.py:10: SettingWithCopyWarning: \n",
      "A value is trying to be set on a copy of a slice from a DataFrame.\n",
      "Try using .loc[row_indexer,col_indexer] = value instead\n",
      "\n",
      "See the caveats in the documentation: https://pandas.pydata.org/pandas-docs/stable/user_guide/indexing.html#returning-a-view-versus-a-copy\n",
      "  df_no3['rev_sum'] = df_no3['summary'] + ' ' + df_no3['reviewText']\n"
     ]
    },
    {
     "data": {
      "text/plain": [
       "(448431, 2)"
      ]
     },
     "execution_count": 7,
     "metadata": {},
     "output_type": "execute_result"
    }
   ],
   "source": [
    "dict_class = {\n",
    "    1 : 0,\n",
    "    2 : 0,\n",
    "    4 : 1,\n",
    "    5 : 1\n",
    "}\n",
    "\n",
    "# map reviews to sentiment classification\n",
    "df_no3['sentiment'] = df_no3['overall'].map(dict_class)\n",
    "df_no3['rev_sum'] = df_no3['summary'] + ' ' + df_no3['reviewText']\n",
    "# df_no3.head(3)\n",
    "\n",
    "# get only relevant columns\n",
    "df_games = pd.DataFrame()\n",
    "df_games = df_no3[['rev_sum', 'sentiment']]\n",
    "df_games.shape"
   ]
  },
  {
   "cell_type": "code",
   "execution_count": 8,
   "metadata": {},
   "outputs": [],
   "source": [
    "from sklearn.model_selection import train_test_split\n",
    "\n",
    "X_game, y_game = df_games['rev_sum'], df_games['sentiment']\n",
    "\n",
    "X_train, X_temp, y_train, y_temp = train_test_split(X_game, y_game, test_size=0.2, train_size = 0.8, stratify=y_game, random_state=42)\n",
    "X_dev, X_test, y_dev, y_test = train_test_split(X_temp, y_temp, test_size = 0.5, train_size = 0.5, stratify=y_temp, random_state=42)"
   ]
  },
  {
   "cell_type": "code",
   "execution_count": 9,
   "metadata": {},
   "outputs": [
    {
     "data": {
      "text/plain": [
       "((358744,), (44843,), (44844,))"
      ]
     },
     "execution_count": 9,
     "metadata": {},
     "output_type": "execute_result"
    }
   ],
   "source": [
    "X_train.shape, X_dev.shape, X_test.shape"
   ]
  },
  {
   "cell_type": "markdown",
   "metadata": {},
   "source": [
    "# Similarity\n",
    "from https://dev.to/thepylot/compare-documents-similarity-using-python-nlp-4odp"
   ]
  },
  {
   "cell_type": "code",
   "execution_count": 10,
   "metadata": {},
   "outputs": [
    {
     "data": {
      "text/plain": [
       "\"hmmmm, what was I thinking I bought this for my PSP so that if I was traveling with the kids they could play it (as opposed to their leapster).  Well it is too difficult for them, and for me as an adult it is my last choice.  For a 8-12 year old, it is probably good, I just can't rate it high for myself or my kids.\""
      ]
     },
     "execution_count": 10,
     "metadata": {},
     "output_type": "execute_result"
    }
   ],
   "source": [
    "list(X_train[0:100])[0]"
   ]
  },
  {
   "cell_type": "code",
   "execution_count": 11,
   "metadata": {},
   "outputs": [],
   "source": [
    "# X_train[:100].to_csv('X_train_100.txt', index=False)\n",
    "X_train_100 = list(X_train[:100])\n",
    "X_train_1000 = list(X_train[:1000])\n",
    "total_diff = 'My house is really small and this vacuum cleaner is perfect for it! Has enough power to pick up debris and clean carpets.'"
   ]
  },
  {
   "cell_type": "code",
   "execution_count": 12,
   "metadata": {},
   "outputs": [],
   "source": [
    "# one big string\n",
    "df = pd.DataFrame(X_train_100)\n",
    "X_train_joint = ' '.join(df[0].astype(str))"
   ]
  },
  {
   "cell_type": "code",
   "execution_count": 13,
   "metadata": {},
   "outputs": [],
   "source": [
    "import pandas as pd\n",
    "import numpy as np\n",
    "import seaborn as sns\n",
    "import gensim\n",
    "\n",
    "import nltk\n",
    "from nltk.tokenize import word_tokenize, sent_tokenize"
   ]
  },
  {
   "cell_type": "code",
   "execution_count": 14,
   "metadata": {},
   "outputs": [],
   "source": [
    "# list of strings, paragraph to sentences\n",
    "file_docs = sent_tokenize(X_train_joint)\n",
    "file2_docs = sent_tokenize(X_train_100[0])\n",
    "file3_docs = sent_tokenize(total_diff)"
   ]
  },
  {
   "cell_type": "code",
   "execution_count": 15,
   "metadata": {},
   "outputs": [],
   "source": [
    "def compare_text(corpus1, corpus2):\n",
    "    \n",
    "    # tokenize corpus into sentences\n",
    "    # list of strings\n",
    "    first = sent_tokenize(corpus1)\n",
    "    second = sent_tokenize(corpus2)\n",
    "\n",
    "    # list of lists, words as tokens for corpus 1\n",
    "    gen_docs = [[w.lower() for w in word_tokenize(text)] for text in first]\n",
    "\n",
    "    dictionary = gensim.corpora.Dictionary(gen_docs)\n",
    "    corpus = [dictionary.doc2bow(gen_doc) for gen_doc in gen_docs]\n",
    "    tf_idf = gensim.models.TfidfModel(corpus)\n",
    "\n",
    "    # # building the index\n",
    "    sims = gensim.similarities.Similarity('workdir/', tf_idf[corpus], num_features=len(dictionary))\n",
    "\n",
    "    for line in second:\n",
    "        # list of lists, words as tokens for corpus 2\n",
    "        query_doc = [w.lower() for w in word_tokenize(line)]\n",
    "\n",
    "        # update an existing dictionary and create bag of words\n",
    "        query_doc_bow = dictionary.doc2bow(query_doc)\n",
    "\n",
    "    query_doc_tf_idf = tf_idf[query_doc_bow]\n",
    "\n",
    "    sum_of_sims =(np.sum(sims[query_doc_tf_idf], dtype=np.float32))\n",
    "    print(sum_of_sims)\n",
    "\n",
    "    print('Comparing Result:', sims[query_doc_tf_idf]) \n",
    "    \n",
    "    # percentage_of_similarity = round(float((sum_of_sims / len(file_docs))))\n",
    "    # print(percentage_of_similarity)\n"
   ]
  },
  {
   "cell_type": "code",
   "execution_count": 16,
   "metadata": {},
   "outputs": [
    {
     "data": {
      "text/plain": [
       "\"hmmmm, what was I thinking I bought this for my PSP so that if I was traveling with the kids they could play it (as opposed to their leapster).  Well it is too difficult for them, and for me as an adult it is my last choice.  For a 8-12 year old, it is probably good, I just can't rate it high for myself or my kids.\""
      ]
     },
     "execution_count": 16,
     "metadata": {},
     "output_type": "execute_result"
    }
   ],
   "source": [
    "X_train_100[0]"
   ]
  },
  {
   "cell_type": "code",
   "execution_count": 17,
   "metadata": {},
   "outputs": [
    {
     "data": {
      "text/plain": [
       "\"Racing at its console best. EA sports has neared perfection.  They could only make very few improvements.  Such as matching your pit box with your starting position in the race.  Having the weather affect the track to some degree.  Otherwise this game is screaming.  My only gripe, is the fantasy super speedway you can unlock you have to race the wrong direction on.  Racing a track the opposite direction at 239 miles per hour (thats right no restrictor plates on this track).  I bought this game right away and haven't had the first regret since.  By the way, in carreer mode you can sign up with a sponsor that lets you drive the earnhardt #3 car.  :)\""
      ]
     },
     "execution_count": 17,
     "metadata": {},
     "output_type": "execute_result"
    }
   ],
   "source": [
    "X_train_100[3]"
   ]
  },
  {
   "cell_type": "code",
   "execution_count": 18,
   "metadata": {},
   "outputs": [
    {
     "name": "stdout",
     "output_type": "stream",
     "text": [
      "0.19426325\n",
      "Comparing Result: [0.19426325 0.         0.        ]\n",
      "0.5719042\n",
      "Comparing Result: [0.16823691 0.08832876 0.31533852]\n",
      "0.8307915\n",
      "Comparing Result: [0.2721454  0.1428834  0.41576266]\n",
      "1.0516691\n",
      "Comparing Result: [0.02890523 0.02276399 0.99999994]\n",
      "0.35372525\n",
      "Comparing Result: [0.13736486 0.21636038 0.        ]\n"
     ]
    }
   ],
   "source": [
    "compare_text(X_train_100[0], X_train_100[3])\n",
    "compare_text(X_train_100[0], X_train_100[2])\n",
    "compare_text(X_train_100[0], X_train_100[1])\n",
    "compare_text(X_train_100[0], X_train_100[0])\n",
    "compare_text(X_train_100[0], total_diff)"
   ]
  },
  {
   "cell_type": "code",
   "execution_count": 19,
   "metadata": {},
   "outputs": [
    {
     "data": {
      "text/plain": [
       "\"hmmmm, what was I thinking I bought this for my PSP so that if I was traveling with the kids they could play it (as opposed to their leapster).  Well it is too difficult for them, and for me as an adult it is my last choice.  For a 8-12 year old, it is probably good, I just can't rate it high for myself or my kids.\""
      ]
     },
     "execution_count": 19,
     "metadata": {},
     "output_type": "execute_result"
    }
   ],
   "source": [
    "X_train_100[0]"
   ]
  },
  {
   "cell_type": "code",
   "execution_count": 20,
   "metadata": {},
   "outputs": [
    {
     "data": {
      "text/plain": [
       "\"Racing at its console best. EA sports has neared perfection.  They could only make very few improvements.  Such as matching your pit box with your starting position in the race.  Having the weather affect the track to some degree.  Otherwise this game is screaming.  My only gripe, is the fantasy super speedway you can unlock you have to race the wrong direction on.  Racing a track the opposite direction at 239 miles per hour (thats right no restrictor plates on this track).  I bought this game right away and haven't had the first regret since.  By the way, in carreer mode you can sign up with a sponsor that lets you drive the earnhardt #3 car.  :)\""
      ]
     },
     "execution_count": 20,
     "metadata": {},
     "output_type": "execute_result"
    }
   ],
   "source": [
    "X_train_100[3]"
   ]
  },
  {
   "cell_type": "code",
   "execution_count": 21,
   "metadata": {},
   "outputs": [
    {
     "data": {
      "text/plain": [
       "'My house is really small and this vacuum cleaner is perfect for it! Has enough power to pick up debris and clean carpets.'"
      ]
     },
     "execution_count": 21,
     "metadata": {},
     "output_type": "execute_result"
    }
   ],
   "source": [
    "total_diff"
   ]
  },
  {
   "cell_type": "code",
   "execution_count": 22,
   "metadata": {},
   "outputs": [],
   "source": [
    "# X_train_joint"
   ]
  },
  {
   "cell_type": "code",
   "execution_count": 23,
   "metadata": {},
   "outputs": [
    {
     "name": "stdout",
     "output_type": "stream",
     "text": [
      "7.4918284\n",
      "Comparing Result: [0.08128969 0.         0.         0.         0.         0.\n",
      " 0.         0.         0.         0.3230962  0.         0.\n",
      " 0.         0.         0.         0.         0.         0.\n",
      " 0.         0.         0.         0.         0.         0.\n",
      " 0.         0.         0.         0.08155163 0.         0.\n",
      " 0.         0.         0.         0.         0.         0.07400901\n",
      " 0.         0.         0.         0.         0.         0.\n",
      " 0.         0.         0.         0.         0.         0.\n",
      " 0.06878629 0.         0.         0.21416041 0.         0.\n",
      " 0.         0.         0.         0.1005437  0.         0.10265557\n",
      " 0.0732097  0.         0.17486972 0.         0.0944374  0.\n",
      " 0.         0.         0.         0.         0.11179182 0.\n",
      " 0.         0.         0.         0.         0.         0.\n",
      " 0.         0.         0.         0.         0.         0.\n",
      " 0.         0.         0.         0.         0.         0.\n",
      " 0.         0.         0.         0.         0.         0.10755602\n",
      " 0.         0.10842442 0.         0.10270875 0.         0.\n",
      " 0.11403544 0.         0.         0.         0.         0.0946697\n",
      " 0.         0.         0.         0.         0.         0.\n",
      " 0.         0.         0.         0.         0.         0.\n",
      " 0.         0.         0.         0.         0.         0.\n",
      " 0.         0.         0.         0.         0.14623702 0.\n",
      " 0.06727733 0.07253391 0.         0.06183295 0.         0.\n",
      " 0.         0.         0.         0.         0.         0.\n",
      " 0.07782973 0.         0.07603326 0.         0.         0.\n",
      " 0.10790943 0.         0.         0.         0.         0.\n",
      " 0.         0.         0.         0.21200356 0.16272138 0.\n",
      " 0.         0.         0.         0.         0.         0.\n",
      " 0.         0.         0.         0.         0.         0.\n",
      " 0.         0.         0.         0.         0.17293942 0.\n",
      " 0.         0.         0.         0.         0.         0.\n",
      " 0.         0.         0.         0.         0.07726764 0.\n",
      " 0.         0.         0.         0.13748932 0.         0.\n",
      " 0.         0.         0.         0.         0.         0.\n",
      " 0.         0.         0.         0.         0.         0.\n",
      " 0.         0.         0.07281198 0.         0.         0.\n",
      " 0.         0.         0.         0.         0.         0.\n",
      " 0.         0.         0.         0.         0.         0.\n",
      " 0.         0.         0.         0.         0.         0.\n",
      " 0.         0.         0.         0.         0.         0.\n",
      " 0.         0.         0.         0.         0.         0.\n",
      " 0.         0.         0.         0.         0.         0.\n",
      " 0.         0.         0.         0.         0.1035104  0.\n",
      " 0.07243706 0.         0.         0.16741273 0.16939616 0.\n",
      " 0.         0.         0.         0.         0.         0.\n",
      " 0.         0.         0.         0.         0.         0.\n",
      " 0.         0.         0.07182058 0.         0.15947798 0.\n",
      " 0.34519693 0.         0.         0.         0.         0.\n",
      " 0.         0.35837424 0.         0.         0.         0.\n",
      " 0.         0.         0.         0.         0.         0.\n",
      " 0.         0.         0.         0.         0.         0.\n",
      " 0.         0.         0.         0.         0.         0.\n",
      " 0.         0.         0.         0.         0.         0.\n",
      " 0.         0.         0.         0.         0.         0.\n",
      " 0.         0.         0.         0.         0.         0.\n",
      " 0.         0.         0.         0.         0.         0.\n",
      " 0.         0.         0.         0.         0.         0.\n",
      " 0.         0.         0.06269579 0.         0.         0.\n",
      " 0.         0.         0.04847484 0.         0.         0.\n",
      " 0.04849237 0.         0.         0.         0.         0.\n",
      " 0.         0.         0.         0.         0.         0.\n",
      " 0.         0.         0.         0.         0.         0.\n",
      " 0.         0.         0.         0.         0.         0.\n",
      " 0.         0.         0.         0.         0.         0.0663453\n",
      " 0.         0.         0.         0.         0.         0.\n",
      " 0.         0.         0.         0.         0.         0.\n",
      " 0.         0.         0.         0.         0.         0.\n",
      " 0.         0.         0.         0.         0.         0.\n",
      " 0.         0.         0.         0.         0.         0.\n",
      " 0.         0.         0.         0.         0.         0.\n",
      " 0.         0.         0.         0.         0.         0.\n",
      " 0.         0.         0.         0.         0.         0.\n",
      " 0.08802129 0.         0.         0.         0.         0.\n",
      " 0.2210928  0.         0.         0.         0.         0.\n",
      " 0.         0.         0.         0.         0.         0.\n",
      " 0.         0.         0.         0.         0.         0.\n",
      " 0.         0.         0.         0.         0.         0.\n",
      " 0.         0.         0.         0.         0.         0.\n",
      " 0.         0.         0.         0.         0.         0.\n",
      " 0.         0.         0.         0.         0.         0.\n",
      " 0.         0.         0.         0.         0.         0.\n",
      " 0.         0.         0.         0.         0.         0.\n",
      " 0.         0.         0.         0.         0.         0.\n",
      " 0.         0.         0.         0.         0.         0.\n",
      " 0.         0.         0.         0.09565803 0.         0.\n",
      " 0.         0.         0.         0.         0.         0.\n",
      " 0.         0.         0.         0.         0.         0.\n",
      " 0.         0.08823743 0.         0.         0.         0.\n",
      " 0.06498935 0.         0.         0.         0.14486647 0.\n",
      " 0.         0.         0.17709924 0.         0.         0.\n",
      " 0.         0.         0.         0.         0.         0.\n",
      " 0.         0.         0.         0.         0.         0.\n",
      " 0.         0.         0.         0.         0.         0.\n",
      " 0.         0.         0.         0.         0.         0.\n",
      " 0.         0.         0.         0.         0.         0.\n",
      " 0.         0.07402688 0.0482378  0.         0.         0.22819744\n",
      " 0.         0.         0.         0.         0.         0.\n",
      " 0.         0.         0.07448062 0.         0.         0.\n",
      " 0.         0.         0.         0.         0.         0.\n",
      " 0.         0.         0.         0.         0.         0.\n",
      " 0.         0.         0.         0.         0.         0.13329625\n",
      " 0.         0.         0.         0.15944745 0.         0.\n",
      " 0.         0.         0.         0.         0.         0.\n",
      " 0.         0.         0.         0.         0.         0.\n",
      " 0.         0.         0.         0.         0.         0.\n",
      " 0.20928174 0.         0.         0.         0.         0.\n",
      " 0.         0.         0.307424   0.         0.         0.\n",
      " 0.         0.         0.         0.         0.         0.\n",
      " 0.06369033 0.         0.         0.         0.         0.\n",
      " 0.         0.         0.         0.         0.         0.\n",
      " 0.09607213 0.         0.         0.07139231 0.         0.\n",
      " 0.         0.         0.         0.         0.         0.\n",
      " 0.         0.         0.         0.         0.         0.\n",
      " 0.         0.         0.         0.         0.         0.\n",
      " 0.        ]\n",
      "24.195408\n",
      "Comparing Result: [4.75141071e-02 5.63982502e-02 9.06149745e-02 5.07611036e-02\n",
      " 7.86571577e-02 8.30137953e-02 6.02886006e-02 2.39023156e-02\n",
      " 2.59738714e-01 5.40221263e-05 9.68957174e-05 1.21991467e-02\n",
      " 6.18415400e-02 3.99271473e-02 3.54610421e-02 3.14352587e-02\n",
      " 3.18563730e-02 1.17987227e-04 1.17987227e-04 2.39136461e-02\n",
      " 8.38315040e-02 4.27872054e-02 4.37766202e-02 1.23148598e-02\n",
      " 2.98277289e-02 1.05960222e-04 8.92596145e-05 9.77708027e-02\n",
      " 1.41352087e-01 1.01114251e-01 2.76003610e-02 7.55508244e-02\n",
      " 5.90709895e-02 9.51923802e-03 4.20785621e-02 2.66177375e-02\n",
      " 1.22614726e-01 9.53085423e-02 1.72990814e-01 4.48477976e-02\n",
      " 1.00000012e+00 4.84971788e-05 3.25999260e-02 4.36552073e-05\n",
      " 1.28350286e-02 3.33638527e-05 1.28675988e-02 1.36616975e-02\n",
      " 5.07682748e-03 3.37733626e-02 4.72203717e-02 1.28514497e-02\n",
      " 3.76151055e-02 1.03387080e-01 2.08294541e-02 7.74072930e-02\n",
      " 7.62033183e-03 6.02164194e-02 2.93773822e-02 2.41526421e-02\n",
      " 4.94602136e-02 1.02943452e-02 1.10434489e-02 7.11842658e-05\n",
      " 2.06736531e-02 2.17254050e-02 6.26838282e-02 6.21331111e-03\n",
      " 6.54842779e-02 1.83991902e-02 5.01343086e-02 1.88974738e-02\n",
      " 5.74252754e-02 1.26244305e-02 4.83883992e-02 5.03277555e-02\n",
      " 1.10981248e-01 2.95818372e-05 2.85173766e-02 4.05931026e-02\n",
      " 1.98901575e-02 4.79240080e-05 1.79639924e-02 1.97489485e-02\n",
      " 4.75975685e-02 9.95623413e-03 8.80105217e-05 4.32091393e-02\n",
      " 8.46525356e-02 1.44844323e-01 9.67421234e-02 8.80105217e-05\n",
      " 2.56269388e-02 8.67934749e-02 5.32750636e-02 2.94602705e-05\n",
      " 3.79738323e-02 1.33168129e-02 4.79110749e-05 1.58479866e-02\n",
      " 2.74520899e-05 4.72535248e-05 1.42146163e-02 2.21396622e-05\n",
      " 1.39862485e-02 1.54978745e-02 1.16539346e-02 5.64298518e-02\n",
      " 2.45303959e-02 6.68223426e-02 2.54607350e-02 1.64225008e-02\n",
      " 5.67481443e-02 1.48271278e-01 1.71642080e-01 2.81094518e-02\n",
      " 3.73192306e-05 3.82090881e-02 4.81157440e-05 1.24955557e-01\n",
      " 1.72229856e-02 7.58340320e-05 3.58721390e-02 3.54723968e-02\n",
      " 1.15375891e-01 5.40167838e-02 2.59674005e-02 1.85049456e-02\n",
      " 8.11694115e-02 3.36568132e-02 1.64715163e-02 4.38056159e-05\n",
      " 9.06745121e-02 8.10579434e-02 2.51325648e-02 5.35200164e-02\n",
      " 1.21854935e-02 1.34215336e-02 2.89972126e-02 4.88638216e-05\n",
      " 1.63298994e-02 2.44836137e-02 3.84045243e-02 2.79030483e-02\n",
      " 9.70154442e-03 2.83938480e-05 1.50970351e-02 1.55758001e-02\n",
      " 7.59821460e-02 8.36831704e-03 7.22705899e-03 7.53070563e-02\n",
      " 3.17119807e-03 4.71045375e-02 1.18770106e-02 4.23691563e-05\n",
      " 8.71635377e-02 1.36658885e-02 9.63362306e-03 6.78507537e-02\n",
      " 3.38181220e-02 3.70189250e-02 5.91265410e-02 4.63283248e-02\n",
      " 1.24228671e-02 3.08568813e-02 3.53198993e-05 3.16218429e-05\n",
      " 3.53195495e-03 4.12752992e-03 2.07848288e-03 1.03113592e-01\n",
      " 3.08247074e-03 8.03682208e-02 0.00000000e+00 3.88220139e-02\n",
      " 3.48638045e-03 1.90028753e-02 4.99816500e-02 6.43728854e-05\n",
      " 8.06176066e-02 4.02663760e-02 1.17874974e-02 6.31688684e-02\n",
      " 8.70971195e-03 7.27898777e-02 4.28390801e-02 5.85297421e-02\n",
      " 1.99713670e-02 4.65252064e-03 3.94984195e-03 1.49442572e-02\n",
      " 2.81313551e-05 1.04309648e-01 6.97060823e-02 1.83729976e-02\n",
      " 6.89527392e-02 7.38988072e-02 0.00000000e+00 9.72993970e-02\n",
      " 1.05435811e-02 1.21409811e-01 3.41840610e-02 3.63552943e-03\n",
      " 2.09602397e-02 4.11994733e-05 4.92671914e-02 4.95537259e-02\n",
      " 0.00000000e+00 3.99736746e-05 2.15655118e-02 0.00000000e+00\n",
      " 5.86314276e-02 3.33303176e-02 1.36991385e-02 3.03989761e-02\n",
      " 2.96735634e-05 6.26222268e-02 3.99103537e-02 1.98874418e-02\n",
      " 6.29091810e-05 0.00000000e+00 6.07065894e-02 2.67608091e-03\n",
      " 2.98799258e-02 4.07071039e-03 1.38553381e-02 5.43863419e-03\n",
      " 0.00000000e+00 1.64225008e-02 1.72005650e-02 1.23429736e-02\n",
      " 7.65083432e-02 4.25811777e-05 4.33984023e-05 4.63301241e-02\n",
      " 3.49388101e-05 1.96453575e-02 3.77285578e-05 5.18465415e-02\n",
      " 3.87897635e-05 7.37273321e-03 4.57218364e-02 1.09459646e-02\n",
      " 3.69976237e-02 6.89547451e-05 6.17315155e-03 7.35992071e-05\n",
      " 1.27061037e-02 7.61620849e-02 3.62035632e-02 3.77678126e-02\n",
      " 8.59558117e-03 5.35658970e-02 7.68959597e-02 9.73225310e-02\n",
      " 9.47390497e-03 1.62952263e-02 1.07093826e-02 7.85464272e-02\n",
      " 1.48680434e-01 5.22406306e-03 3.29599231e-02 5.67431981e-03\n",
      " 2.95009759e-05 9.96848643e-02 6.63882308e-03 5.32153435e-02\n",
      " 3.26308683e-02 1.75307021e-02 2.35634185e-02 7.11539313e-02\n",
      " 3.15100513e-03 2.39597894e-02 2.18979530e-02 1.77174136e-02\n",
      " 1.75773911e-02 4.18529622e-02 2.55743042e-02 1.24111809e-02\n",
      " 4.41179201e-02 2.47216057e-02 5.77174069e-05 3.72847281e-02\n",
      " 1.03571832e-01 1.17987227e-04 5.28767658e-03 1.05960222e-04\n",
      " 6.38109148e-02 5.99206724e-05 3.55805787e-05 8.50087106e-02\n",
      " 5.03531322e-02 1.17987227e-04 6.03333768e-03 1.05960222e-04\n",
      " 5.49151190e-03 3.82358618e-02 9.68957174e-05 8.01239982e-02\n",
      " 0.00000000e+00 7.03131445e-05 2.92085670e-02 5.52022420e-02\n",
      " 4.05118590e-05 9.68957174e-05 3.07724085e-02 1.05960222e-04\n",
      " 3.80308786e-03 2.95020764e-05 2.47307234e-02 9.40766409e-02\n",
      " 7.02270120e-02 6.69219047e-02 2.52977200e-02 0.00000000e+00\n",
      " 1.11514516e-01 1.69352572e-02 3.60117033e-02 5.69401160e-02\n",
      " 1.47243217e-01 1.66763991e-01 3.86330830e-05 1.66763991e-01\n",
      " 6.10164570e-05 9.95721295e-03 3.02222576e-02 3.00956033e-02\n",
      " 3.60047306e-05 7.00922319e-05 2.20349785e-02 3.00926547e-02\n",
      " 2.43462948e-03 4.22852375e-02 1.16332851e-01 5.33575825e-02\n",
      " 4.27184179e-02 3.20945233e-02 7.56544843e-02 1.41889034e-02\n",
      " 2.34479718e-02 3.44332220e-05 1.83090493e-02 1.30682364e-01\n",
      " 4.06296514e-02 3.35692763e-02 5.47290370e-02 2.95989737e-02\n",
      " 5.50243556e-02 5.46241552e-02 3.52593698e-02 3.94370556e-02\n",
      " 4.81111184e-02 3.55348662e-02 4.38298024e-02 1.35791637e-02\n",
      " 6.12345804e-03 8.94265324e-02 8.02020133e-02 8.09092913e-03\n",
      " 4.86437697e-03 5.56721650e-02 3.61653753e-02 1.64225008e-02\n",
      " 0.00000000e+00 6.72804192e-02 3.96113005e-03 1.29635967e-02\n",
      " 2.94511276e-03 1.37792351e-02 4.41808589e-02 8.40317365e-03\n",
      " 4.20194641e-02 1.37141366e-02 4.52785045e-02 8.58681798e-02\n",
      " 1.25745595e-01 4.54779603e-02 3.86724770e-02 5.48723862e-02\n",
      " 8.20617937e-03 7.70539865e-02 4.63584292e-05 7.11314082e-02\n",
      " 4.26374099e-05 2.20097899e-02 5.71823621e-05 1.45529192e-02\n",
      " 2.39947382e-02 1.00199819e-01 2.21900102e-02 6.72024107e-05\n",
      " 3.90236522e-03 1.98558178e-02 2.40334608e-02 9.93302837e-02\n",
      " 2.50847451e-02 2.10093822e-05 2.95552029e-03 5.15088068e-05\n",
      " 7.02953190e-02 1.73840802e-02 1.06316861e-02 4.83860495e-03\n",
      " 4.46674228e-02 3.75602581e-02 4.42540331e-05 6.21296058e-05\n",
      " 4.00207043e-02 3.79166304e-05 2.99275307e-05 1.00259917e-04\n",
      " 1.82355847e-02 1.48970280e-02 1.00326464e-02 3.42607386e-02\n",
      " 1.14024011e-02 3.76627184e-02 4.50464941e-05 8.22883286e-03\n",
      " 8.30642506e-03 2.32034763e-05 2.74385661e-02 6.87209703e-03\n",
      " 1.02935014e-02 2.10693781e-03 6.24945023e-05 2.16451306e-02\n",
      " 7.12910667e-02 3.62977833e-02 5.35914260e-05 8.36502016e-02\n",
      " 6.64553493e-02 4.71992325e-03 5.10312989e-02 2.46394482e-02\n",
      " 1.53807793e-02 3.45468484e-02 1.32674146e-02 1.29044531e-02\n",
      " 5.67551397e-05 6.39733407e-05 4.52252898e-05 3.57106328e-02\n",
      " 2.54068784e-02 1.61786564e-02 1.49890874e-02 9.95494053e-03\n",
      " 3.01982727e-05 8.60921890e-02 3.11600547e-02 6.98917732e-03\n",
      " 5.00813387e-02 5.92622580e-03 7.14565590e-02 3.06195244e-02\n",
      " 4.50298786e-02 8.79175961e-02 4.31800447e-02 3.59227657e-02\n",
      " 5.75783057e-03 3.82014960e-02 1.71522722e-02 2.09683292e-02\n",
      " 3.24876606e-02 0.00000000e+00 7.66707672e-05 3.64734515e-05\n",
      " 3.94626368e-05 1.25449095e-02 3.52230445e-02 1.63818430e-02\n",
      " 4.48735729e-02 1.95157044e-02 1.62840057e-02 8.86664819e-03\n",
      " 2.79632378e-02 5.44661917e-02 7.45238215e-02 3.76011012e-05\n",
      " 5.88801950e-02 5.32298163e-03 4.27759662e-02 8.23088363e-03\n",
      " 1.73649285e-02 1.58163290e-02 7.33653903e-02 7.00093806e-02\n",
      " 1.76553763e-02 6.11419827e-02 2.37556584e-02 1.34292906e-02\n",
      " 4.44017537e-02 2.44136900e-02 2.17064586e-03 8.37072916e-03\n",
      " 4.48876657e-02 3.46964300e-02 5.21636009e-02 2.83401143e-02\n",
      " 2.48730946e-02 5.44946305e-02 3.19402316e-05 5.52791059e-02\n",
      " 3.16935666e-02 3.97907794e-02 4.46144768e-05 2.62013382e-05\n",
      " 8.13090876e-02 7.14693218e-02 2.76736412e-02 4.47891094e-02\n",
      " 1.44432662e-02 3.27692178e-05 6.17742335e-05 1.12186968e-02\n",
      " 2.32610218e-02 1.32040158e-02 5.03287576e-02 9.32538062e-02\n",
      " 4.81290855e-02 1.29237045e-02 6.01414554e-02 3.04023810e-02\n",
      " 4.08519991e-02 4.98594157e-02 4.35940363e-02 8.39414001e-02\n",
      " 4.01947573e-02 1.09145470e-01 1.54454589e-01 1.42620832e-01\n",
      " 3.96798387e-05 3.19744013e-02 2.88393795e-02 9.69804674e-02\n",
      " 1.83218382e-02 3.41027844e-05 3.91764380e-03 7.15903267e-02\n",
      " 3.10216360e-02 3.38598564e-02 4.45222855e-02 7.56824017e-02\n",
      " 5.10216778e-05 1.68714263e-02 1.92963779e-02 4.81331646e-02\n",
      " 3.17896642e-02 5.52379061e-05 4.05348255e-05 1.85684711e-02\n",
      " 6.37956522e-03 7.34438217e-05 5.41966328e-05 0.00000000e+00\n",
      " 0.00000000e+00 7.43991695e-05 2.67110709e-02 2.90196349e-05\n",
      " 4.21896949e-02 5.33594051e-03 6.08535036e-02 7.18560368e-02\n",
      " 5.73145691e-03 1.24897202e-02 5.05123753e-03 1.02443278e-01\n",
      " 6.92075491e-03 3.91029045e-02 6.46443069e-02 2.23368369e-02\n",
      " 5.35480045e-02 6.99688215e-03 0.00000000e+00 0.00000000e+00\n",
      " 4.09102176e-05 1.88778043e-02 4.46072668e-02 1.33903846e-02\n",
      " 4.69461903e-02 4.39154282e-02 2.17748657e-02 1.73313357e-02\n",
      " 9.21638012e-02 4.72890139e-02 4.34487686e-02 1.10548533e-01\n",
      " 8.04801565e-03 4.07128269e-03 4.58815172e-02 4.13694829e-02\n",
      " 6.98552355e-02 0.00000000e+00 7.33431876e-02 3.82924713e-02\n",
      " 2.91771553e-02 8.73853918e-03 9.64122301e-05 1.69305623e-01\n",
      " 4.52903062e-02 7.67161474e-02 4.85268829e-05 7.27883726e-02\n",
      " 1.79891344e-02 1.83312222e-02 1.45733412e-02 3.13257193e-03\n",
      " 3.01735272e-05 3.10285040e-03 4.23474470e-03 8.11200310e-03\n",
      " 4.09759923e-05 1.04188524e-01 1.06286034e-02 3.48078429e-05\n",
      " 3.05830035e-05 3.35030407e-02 4.44299112e-05 5.22293672e-02\n",
      " 6.73498660e-02 3.64285843e-05 1.17168827e-02 6.34756172e-03\n",
      " 2.95262016e-05 6.58125791e-05 2.25334652e-02 2.61685643e-02\n",
      " 3.68277542e-05 4.38588468e-05 9.42887273e-03 3.84201012e-05\n",
      " 4.84326780e-02 1.03281122e-02 5.27309924e-02 1.49214687e-02\n",
      " 7.56269146e-05 1.30652320e-02 1.05020307e-01 5.69801033e-02\n",
      " 3.69596593e-02 4.67437245e-02 2.09979638e-01 3.69839817e-02\n",
      " 4.29882221e-02 6.67261938e-03 4.99112941e-02 3.32382470e-02\n",
      " 2.07612701e-02 7.71915913e-02 2.77679898e-02 2.47565024e-02\n",
      " 7.33713657e-02 4.82106246e-02 7.57625848e-02 4.97419201e-03\n",
      " 2.88000964e-02 1.73261967e-02 3.34605668e-03 3.13529535e-03\n",
      " 1.86050624e-01 1.00178011e-01 4.79614399e-02 8.77675563e-02\n",
      " 0.00000000e+00 3.70565616e-02 2.11084858e-02 8.36373046e-02\n",
      " 4.53094799e-05 4.76206616e-02 5.71575474e-05 2.10959855e-02\n",
      " 2.28726305e-02 2.53917091e-02 1.92172620e-02 4.33842689e-02\n",
      " 7.04579055e-02 2.53259987e-02 7.58635998e-03 1.14278413e-01\n",
      " 1.21788599e-01 2.02606265e-02 1.83011107e-02 8.07164758e-02\n",
      " 7.51223713e-02]\n",
      "19.532475\n",
      "Comparing Result: [2.88480502e-02 1.53221209e-02 4.83902842e-02 9.77809787e-01\n",
      " 1.33433193e-02 2.05844510e-02 1.59822721e-02 2.45064851e-02\n",
      " 5.84688745e-02 5.88247029e-04 0.00000000e+00 1.23230098e-02\n",
      " 6.48549646e-02 4.52514961e-02 2.81888843e-02 1.44004114e-02\n",
      " 1.42937386e-02 2.03241304e-01 0.00000000e+00 4.46532592e-02\n",
      " 3.71758379e-02 1.81850698e-02 1.68290734e-02 1.84831955e-02\n",
      " 2.90405899e-02 5.65842800e-02 0.00000000e+00 3.13124508e-02\n",
      " 3.89604308e-02 2.97752898e-02 4.77671884e-02 1.93548575e-02\n",
      " 6.41429201e-02 1.15263136e-02 4.16681804e-02 8.10944568e-03\n",
      " 2.94227898e-02 3.72606739e-02 3.56247015e-02 2.23525055e-02\n",
      " 4.78568412e-02 1.37978382e-02 0.00000000e+00 1.21553680e-02\n",
      " 9.74697247e-03 7.26598082e-04 1.73143521e-02 5.50348312e-02\n",
      " 3.18711088e-03 3.24154161e-02 5.87273762e-02 2.35534236e-02\n",
      " 2.43071746e-02 6.25929758e-02 2.56508477e-02 3.22472979e-03\n",
      " 4.73510334e-03 2.34519280e-02 3.08558792e-02 2.12979526e-03\n",
      " 1.04753748e-02 3.75908986e-03 1.45828137e-02 4.62371446e-02\n",
      " 2.06327494e-02 1.49297379e-02 1.50387026e-02 1.39988679e-02\n",
      " 3.11062299e-02 1.20612904e-02 4.44916673e-02 3.35377567e-02\n",
      " 7.57329632e-03 1.60684381e-02 7.55510759e-03 7.06937630e-03\n",
      " 1.97665077e-02 6.44233369e-04 2.67482921e-02 3.08602005e-02\n",
      " 1.44755160e-02 2.31753848e-03 1.49357626e-02 4.08439003e-02\n",
      " 3.73128876e-02 2.60527693e-02 8.22073817e-02 1.76298469e-02\n",
      " 3.23141068e-02 1.75993852e-02 1.87746435e-02 8.22073817e-02\n",
      " 1.37319162e-01 4.03773151e-02 2.34090667e-02 3.20792955e-04\n",
      " 6.94125192e-03 3.16324309e-02 0.00000000e+00 3.27468514e-02\n",
      " 3.48381186e-03 1.37344087e-02 3.18026505e-02 3.15704406e-03\n",
      " 1.52816363e-02 1.69332661e-02 1.23461895e-02 1.41698599e-01\n",
      " 9.43064597e-03 3.97035889e-02 3.27446535e-02 1.65517911e-01\n",
      " 3.36624570e-02 6.70469925e-02 3.07780746e-02 7.96938762e-02\n",
      " 0.00000000e+00 9.56382696e-03 3.00138798e-02 1.72178876e-02\n",
      " 2.18601823e-02 3.08610424e-02 1.08372942e-02 1.77670233e-02\n",
      " 1.30326059e-02 2.00422183e-02 3.87598798e-02 4.00661724e-03\n",
      " 1.55814346e-02 3.89946066e-03 2.78726090e-02 2.11837888e-03\n",
      " 2.44489051e-02 2.96894312e-02 1.52849732e-02 5.01389382e-03\n",
      " 1.51444944e-02 2.76645608e-02 3.42706800e-03 8.07335228e-03\n",
      " 4.70620580e-03 1.52304787e-02 3.33044901e-02 3.39957327e-02\n",
      " 5.83582837e-03 3.09180643e-04 1.10953683e-02 6.14400301e-03\n",
      " 3.10038887e-02 2.15515420e-01 5.65804988e-02 5.46086580e-02\n",
      " 3.52249779e-02 1.00642703e-02 1.87800601e-02 3.99279036e-03\n",
      " 2.02534236e-02 3.60598182e-03 3.51580009e-02 3.13296877e-02\n",
      " 3.74244526e-02 1.35317352e-02 1.75891966e-02 2.82046734e-03\n",
      " 1.76192112e-02 2.23666951e-02 1.70802150e-03 3.05837719e-03\n",
      " 4.71462263e-03 8.56867582e-02 4.68565896e-03 1.32932784e-02\n",
      " 4.16475022e-03 6.59314692e-02 0.00000000e+00 2.15014163e-02\n",
      " 7.48513192e-02 2.98966840e-02 3.40960845e-02 6.76733814e-03\n",
      " 8.24002698e-02 1.15748178e-02 2.84197498e-02 1.41483843e-02\n",
      " 7.79323000e-03 3.64346504e-02 3.00914645e-02 1.43615548e-02\n",
      " 2.92086266e-02 1.92639399e-02 8.56708828e-03 2.13728379e-02\n",
      " 8.61342344e-03 2.08398588e-02 3.26623134e-02 2.87155099e-02\n",
      " 1.88450962e-02 1.90772302e-02 0.00000000e+00 3.43597382e-02\n",
      " 2.71224640e-02 5.36264591e-02 3.99902463e-02 5.21946279e-03\n",
      " 5.53072290e-03 0.00000000e+00 3.27310376e-02 3.07033826e-02\n",
      " 5.40005118e-02 0.00000000e+00 6.30161073e-03 2.84759514e-03\n",
      " 5.40130734e-02 1.76846907e-02 2.09298339e-02 4.03296277e-02\n",
      " 1.27870562e-02 6.65322598e-03 4.29231524e-02 3.76105532e-02\n",
      " 7.81864077e-02 0.00000000e+00 8.43830500e-03 9.67827905e-03\n",
      " 1.40027264e-02 5.52048627e-03 4.76029981e-03 2.29795910e-02\n",
      " 3.60455073e-04 1.65517911e-01 1.25671960e-02 1.29655832e-02\n",
      " 3.74675505e-02 6.53728005e-03 5.07166097e-03 1.90941393e-02\n",
      " 1.80844553e-02 2.33092681e-02 4.40906687e-03 3.79725881e-02\n",
      " 4.22381796e-04 4.71293181e-03 4.19416018e-02 1.54346395e-02\n",
      " 3.95522118e-02 4.08540433e-03 1.67332068e-02 7.79959094e-03\n",
      " 4.53736000e-02 1.10038025e-02 3.08000520e-02 2.34485418e-02\n",
      " 2.28948537e-02 2.67873183e-02 9.60128289e-03 7.41741508e-02\n",
      " 2.23366588e-01 3.30440775e-02 6.38626516e-03 4.14710194e-02\n",
      " 2.60514487e-02 1.37618068e-03 1.15090776e-02 2.48800707e-03\n",
      " 1.48513969e-02 2.30104569e-02 1.69861242e-02 5.60325431e-03\n",
      " 8.63457005e-03 1.70136299e-02 2.14459188e-02 1.89424567e-02\n",
      " 9.48792882e-03 0.00000000e+00 6.58188853e-03 3.35766077e-01\n",
      " 2.34283619e-02 1.76835023e-02 2.93593183e-02 3.58673304e-01\n",
      " 1.37076937e-02 9.14903730e-02 0.00000000e+00 1.10331569e-02\n",
      " 6.79416442e-03 2.03241304e-01 9.14703123e-03 5.65842800e-02\n",
      " 2.39530439e-03 0.00000000e+00 0.00000000e+00 2.05865484e-02\n",
      " 8.63782223e-03 2.03241304e-01 5.31156035e-03 5.65842800e-02\n",
      " 1.92152578e-02 1.13763325e-02 3.71296257e-01 2.95313983e-03\n",
      " 0.00000000e+00 0.00000000e+00 3.86499707e-03 6.61997404e-03\n",
      " 4.70002973e-03 6.18827119e-02 5.06127486e-03 0.00000000e+00\n",
      " 6.90503838e-03 0.00000000e+00 3.19831580e-01 3.42252515e-02\n",
      " 4.81003895e-02 4.32922766e-02 2.93591525e-02 0.00000000e+00\n",
      " 3.47126946e-02 1.16660567e-02 2.93822698e-02 1.77481547e-02\n",
      " 6.18435182e-02 4.72805947e-02 4.09409683e-03 4.72805947e-02\n",
      " 6.46614889e-03 2.09914856e-02 2.56375056e-02 1.40246525e-02\n",
      " 4.20761574e-03 3.26241553e-02 5.55423386e-02 5.29948026e-02\n",
      " 2.49394886e-02 5.22780120e-02 2.29094960e-02 1.38564650e-02\n",
      " 5.15559278e-02 1.85195077e-02 2.94904038e-02 1.93611961e-02\n",
      " 1.73760131e-02 2.07489021e-02 1.43105676e-02 2.48606466e-02\n",
      " 2.47649364e-02 9.63155366e-03 7.07610184e-03 1.65963303e-02\n",
      " 3.31643000e-02 2.98211798e-02 1.29504660e-02 4.56915703e-03\n",
      " 3.16060446e-02 1.15074106e-02 4.77712639e-02 5.68132661e-03\n",
      " 8.10227450e-03 2.06076186e-02 6.74880892e-02 3.81087586e-02\n",
      " 8.88869837e-02 7.96178263e-03 3.48704085e-02 1.65517911e-01\n",
      " 0.00000000e+00 6.45632297e-02 7.49636581e-03 1.94151457e-02\n",
      " 1.18749486e-02 6.79031387e-03 1.38488077e-02 2.89532486e-02\n",
      " 2.01266482e-02 8.35642032e-03 1.70164816e-02 3.35050896e-02\n",
      " 6.60896599e-02 1.17124747e-02 3.87054868e-02 2.86939554e-02\n",
      " 2.17340863e-03 3.50557119e-02 4.91278106e-03 7.39229321e-02\n",
      " 9.63950008e-02 1.82355419e-02 7.74976332e-03 6.83209524e-02\n",
      " 1.28855649e-02 2.11975928e-02 3.69497761e-02 0.00000000e+00\n",
      " 2.16087997e-02 2.18078997e-02 1.56702604e-02 9.17015411e-03\n",
      " 2.79488936e-02 2.22920775e-02 7.95864034e-03 7.44246691e-03\n",
      " 1.38521688e-02 1.75964162e-02 3.93936830e-03 3.35683078e-02\n",
      " 6.32968917e-03 3.46027277e-02 3.85755952e-03 0.00000000e+00\n",
      " 1.58947203e-02 4.12874215e-04 3.25880945e-04 0.00000000e+00\n",
      " 3.08522545e-02 1.29481759e-02 2.01562084e-02 8.39566346e-03\n",
      " 3.31150070e-02 1.47677381e-02 2.17838609e-03 9.69453715e-03\n",
      " 5.27569577e-02 1.01065077e-03 4.81785610e-02 2.41449736e-02\n",
      " 1.32425018e-02 3.79805407e-03 7.38040656e-02 5.24979047e-02\n",
      " 4.63439822e-02 4.04255837e-02 3.68179120e-02 2.91952137e-02\n",
      " 1.95891224e-02 2.47866428e-03 4.01376821e-02 4.03645122e-03\n",
      " 1.05458125e-02 1.64867099e-02 1.51557839e-02 4.15235246e-03\n",
      " 6.18006801e-04 6.96605770e-04 2.67949048e-03 1.86372995e-02\n",
      " 1.31045850e-02 1.28210019e-02 1.87803227e-02 9.23127774e-03\n",
      " 2.90297763e-03 9.50630102e-03 1.97545309e-02 3.80594246e-02\n",
      " 2.01251544e-02 1.79888271e-02 1.59433447e-02 1.26015069e-02\n",
      " 1.58614349e-02 1.50190860e-01 7.30679417e-03 6.82884082e-03\n",
      " 1.48411125e-01 3.02288905e-02 1.36283506e-02 1.60776731e-02\n",
      " 4.39245254e-02 7.13144988e-02 0.00000000e+00 2.51947455e-02\n",
      " 4.61171614e-03 8.20452906e-03 7.04791676e-03 2.36350223e-02\n",
      " 5.18888086e-02 3.72085162e-02 5.57228271e-03 1.71031207e-02\n",
      " 2.39594281e-02 2.29176953e-02 2.17219256e-02 3.68707138e-03\n",
      " 1.13099003e-02 2.02338398e-03 1.74912438e-02 1.19551634e-02\n",
      " 1.75326504e-02 1.49274124e-02 1.22545911e-02 6.79305792e-02\n",
      " 7.28614023e-03 1.62087027e-02 2.46341843e-02 1.38185751e-02\n",
      " 1.14252931e-02 1.89902671e-02 5.86656341e-03 4.04930348e-03\n",
      " 1.90989263e-02 6.13391511e-02 1.72105990e-02 1.16120325e-02\n",
      " 1.40922479e-02 2.80104429e-02 3.47797235e-04 3.93091403e-02\n",
      " 2.80427635e-02 2.42574494e-02 3.74404900e-02 1.83767313e-03\n",
      " 1.43502448e-02 2.68057249e-02 2.03383788e-02 5.33646345e-03\n",
      " 2.05676276e-02 1.24206506e-02 0.00000000e+00 1.10304160e-02\n",
      " 2.21809875e-02 4.91012726e-03 3.44569013e-02 9.04872548e-03\n",
      " 3.03199440e-02 1.82147343e-02 4.18758504e-02 3.76114994e-02\n",
      " 1.08196633e-02 4.95358557e-02 2.08176170e-02 2.24781819e-02\n",
      " 8.41712300e-03 1.82147585e-02 3.57679836e-02 1.57494806e-02\n",
      " 3.40699255e-02 1.02335978e-02 2.54307478e-03 7.41861090e-02\n",
      " 2.36656778e-02 2.97268992e-03 1.96893588e-02 6.04996504e-03\n",
      " 2.57020332e-02 1.35656685e-01 6.86183721e-02 3.29914689e-02\n",
      " 0.00000000e+00 1.63986348e-02 1.70948971e-02 2.65574101e-02\n",
      " 1.14250723e-02 0.00000000e+00 9.13344137e-03 2.89371051e-02\n",
      " 3.35022435e-03 0.00000000e+00 2.30747741e-02 3.74582014e-03\n",
      " 6.05019322e-03 0.00000000e+00 1.41183473e-02 5.85859176e-03\n",
      " 2.54351459e-03 3.44693027e-02 3.03896163e-02 3.02017964e-02\n",
      " 6.83069928e-03 1.02434121e-02 2.65265373e-03 1.75260343e-02\n",
      " 4.83077429e-02 4.95120808e-02 1.15874466e-02 3.68935615e-02\n",
      " 6.28282428e-02 1.52303670e-02 0.00000000e+00 0.00000000e+00\n",
      " 0.00000000e+00 1.19140837e-02 1.20524969e-02 1.55948773e-02\n",
      " 3.33184190e-02 1.78766157e-02 1.44942477e-02 1.99745949e-02\n",
      " 3.40539292e-02 1.62387099e-02 2.98290346e-02 4.06891890e-02\n",
      " 2.33905986e-02 2.13803141e-03 3.36535424e-02 2.97898031e-03\n",
      " 6.85065687e-02 2.54645906e-02 1.27181280e-02 3.37665435e-03\n",
      " 2.35683657e-02 1.72114111e-02 6.21933043e-02 4.32493687e-02\n",
      " 1.10699497e-02 3.68841179e-02 5.14258118e-03 3.40689570e-02\n",
      " 1.80566087e-01 1.83120891e-02 1.80977583e-02 3.23972991e-03\n",
      " 3.22915846e-03 1.89461336e-02 2.22387328e-03 2.13407390e-02\n",
      " 1.27257053e-02 4.88565362e-04 8.44496582e-03 3.79022647e-04\n",
      " 0.00000000e+00 5.28306374e-03 0.00000000e+00 9.27188527e-03\n",
      " 1.24473702e-02 0.00000000e+00 1.16364937e-02 2.15488560e-02\n",
      " 0.00000000e+00 0.00000000e+00 1.87722407e-02 1.15785813e-02\n",
      " 3.47057893e-03 5.12546999e-03 4.56117559e-03 1.22862291e-02\n",
      " 4.27082414e-03 1.43319676e-02 4.38246839e-02 2.42443159e-02\n",
      " 6.59228768e-03 1.03809899e-02 3.23322900e-02 2.49014609e-02\n",
      " 1.66336987e-02 1.13612562e-02 4.02437858e-02 7.70028774e-03\n",
      " 3.52956541e-02 1.17580127e-02 1.03874005e-01 4.26425599e-02\n",
      " 1.31220985e-02 2.68129651e-02 3.53186131e-02 4.50852094e-03\n",
      " 3.83591428e-02 1.45444339e-02 3.60522456e-02 1.02955373e-02\n",
      " 1.43835634e-01 1.67505275e-02 1.39975641e-02 7.81354867e-03\n",
      " 2.38470398e-02 1.28396004e-01 8.46461281e-02 4.39202636e-02\n",
      " 5.53807765e-02 3.59735861e-02 2.07903720e-02 1.20838126e-02\n",
      " 2.24537570e-02 3.25241387e-02 3.38644837e-03 1.69878397e-02\n",
      " 5.32022864e-02 7.48621449e-02 8.80196970e-03 8.24725628e-03\n",
      " 4.20677029e-02 1.39811160e-02 9.30803046e-02 4.10766825e-02\n",
      " 6.58002347e-02 2.35973187e-02 1.42865144e-02 1.21975262e-02\n",
      " 4.07178514e-02]\n",
      "21.318714\n",
      "Comparing Result: [1.36321470e-01 1.40899986e-01 1.00000000e+00 4.80910689e-02\n",
      " 7.22690150e-02 1.16246566e-01 4.86678258e-02 2.63395049e-02\n",
      " 9.31458920e-02 6.12357107e-05 1.09834218e-04 5.71349543e-03\n",
      " 1.73199493e-02 3.21232267e-02 7.19745364e-03 3.20973769e-02\n",
      " 5.57437912e-02 1.33742069e-04 1.33742069e-04 2.00781748e-02\n",
      " 2.87738871e-02 3.23525444e-02 3.28987613e-02 8.84133857e-03\n",
      " 4.40072604e-02 1.20109107e-04 1.01178463e-04 3.16784456e-02\n",
      " 4.04212140e-02 6.28150180e-02 8.84409621e-02 1.13803567e-02\n",
      " 9.42970961e-02 4.30721603e-02 2.77587622e-02 4.04214822e-02\n",
      " 2.61566006e-02 4.89206687e-02 8.26601684e-02 5.71771003e-02\n",
      " 9.06149745e-02 5.49730103e-05 4.10850262e-05 4.94844935e-05\n",
      " 3.13826240e-05 3.78189325e-05 1.09515609e-02 3.81107032e-02\n",
      " 2.88804644e-03 3.20250615e-02 9.67037305e-03 1.51272202e-02\n",
      " 2.42358074e-02 8.94282907e-02 3.50489063e-05 5.15255961e-05\n",
      " 3.72686227e-05 6.25431836e-02 4.68594916e-02 1.82624534e-02\n",
      " 3.02148908e-02 3.86368520e-05 3.31426745e-05 8.06895041e-05\n",
      " 2.07517967e-02 4.37155868e-05 3.20138934e-05 3.56901586e-02\n",
      " 1.15538090e-02 3.87853421e-02 6.93073273e-02 9.78624728e-03\n",
      " 2.98357209e-05 2.27659531e-02 3.30633447e-02 3.35476696e-02\n",
      " 5.12350164e-02 3.35319055e-05 8.23571719e-03 5.53864948e-02\n",
      " 5.03322226e-05 9.97313485e-03 4.12962036e-05 6.49402617e-03\n",
      " 9.41589326e-02 1.02884155e-02 9.97625757e-05 1.32710775e-02\n",
      " 1.41779566e-02 7.49664288e-03 3.68835293e-02 9.97625757e-05\n",
      " 1.01009123e-01 2.30655037e-02 7.04422742e-02 3.33941061e-05\n",
      " 6.38868567e-03 2.05745064e-02 5.43086462e-05 1.34512484e-02\n",
      " 3.70015986e-02 1.28136557e-02 1.12525690e-02 2.24664658e-02\n",
      " 9.49298032e-03 1.05189774e-02 0.00000000e+00 4.88820076e-02\n",
      " 1.88575052e-02 8.38009566e-02 2.17801034e-02 0.00000000e+00\n",
      " 1.40168488e-01 2.22524941e-01 2.70600878e-02 5.07431217e-02\n",
      " 4.23024721e-05 2.54695602e-02 1.09661445e-02 1.50677841e-02\n",
      " 1.60536990e-02 2.05637831e-02 2.00852621e-02 2.68575695e-05\n",
      " 2.78890636e-02 2.73050945e-02 3.02780699e-02 3.18612978e-02\n",
      " 5.03447652e-02 3.34254354e-02 1.97513327e-02 9.11608618e-03\n",
      " 6.26990944e-02 5.69322743e-02 1.49947954e-02 1.43198632e-02\n",
      " 1.81206651e-02 7.85055384e-03 9.66718234e-03 2.12499648e-02\n",
      " 5.50035294e-03 2.78335307e-02 2.60297135e-02 6.82250829e-05\n",
      " 3.63895409e-02 7.69950962e-03 3.13802250e-02 1.23301074e-02\n",
      " 1.17662311e-01 3.87945802e-05 5.42858429e-02 4.09618281e-02\n",
      " 3.08853887e-05 7.68066337e-03 1.10706678e-02 3.42254415e-02\n",
      " 9.98095870e-02 7.77409226e-03 6.03132993e-02 3.64709646e-02\n",
      " 4.17937860e-02 7.39565492e-02 3.82042235e-05 6.08061114e-03\n",
      " 2.63604783e-02 5.26691116e-02 1.68877803e-02 2.16643624e-02\n",
      " 2.45138220e-02 2.86474545e-02 1.44258784e-02 5.22317886e-02\n",
      " 3.00212396e-05 5.04195914e-02 0.00000000e+00 4.89243232e-02\n",
      " 1.49160586e-02 9.94516760e-02 1.10563770e-01 5.19998670e-02\n",
      " 1.29207773e-02 5.11705801e-02 6.49456400e-03 4.80147824e-02\n",
      " 1.24799740e-02 9.10491198e-02 2.39426307e-02 6.31626993e-02\n",
      " 5.42604961e-02 1.13350581e-02 4.82354639e-03 1.58969946e-02\n",
      " 3.54834273e-02 7.29115680e-02 1.17116719e-01 2.55652852e-02\n",
      " 5.82026616e-02 7.89848268e-02 0.00000000e+00 4.76940908e-02\n",
      " 1.17567349e-02 1.78308845e-01 4.75654788e-02 5.46818934e-02\n",
      " 1.19236177e-02 4.67008431e-05 3.94716710e-02 4.17579934e-02\n",
      " 7.68269002e-02 4.53113644e-05 8.91120080e-03 9.94749926e-03\n",
      " 5.01276180e-02 4.46168818e-02 8.05427209e-02 3.90952267e-02\n",
      " 1.41880531e-02 4.12781201e-02 5.24576120e-02 8.19014609e-02\n",
      " 5.78065589e-02 0.00000000e+00 4.58885208e-02 7.98307657e-02\n",
      " 2.97925677e-02 1.45174721e-02 5.51866088e-03 5.29687240e-05\n",
      " 0.00000000e+00 0.00000000e+00 6.77084830e-03 2.77975630e-02\n",
      " 4.79097366e-02 4.82670475e-05 2.16100812e-02 4.60533500e-02\n",
      " 3.76579612e-02 2.77094282e-02 8.59878212e-03 7.13670775e-02\n",
      " 4.39693649e-05 8.22104607e-03 1.05660465e-02 2.64085457e-02\n",
      " 2.94000432e-02 1.43496981e-02 5.48785105e-02 1.67741235e-02\n",
      " 1.69972964e-02 7.59394169e-02 5.72205409e-02 8.95915087e-03\n",
      " 2.45286543e-02 4.07485254e-02 2.90302924e-05 8.66716802e-02\n",
      " 1.15859918e-02 3.70538235e-02 2.60338355e-02 5.41586392e-02\n",
      " 2.21590027e-02 3.17293670e-05 3.95188071e-02 8.24465789e-03\n",
      " 3.34402430e-05 1.12294070e-02 4.03221893e-05 4.23694401e-05\n",
      " 3.08519844e-02 4.15872363e-03 4.55999980e-03 3.86184402e-05\n",
      " 1.46523034e-02 3.33903481e-05 1.27601447e-02 1.69098023e-02\n",
      " 4.63208235e-05 2.32449329e-05 8.86569619e-02 7.08772196e-03\n",
      " 1.12878000e-02 1.86817888e-02 6.54244141e-05 3.38184088e-02\n",
      " 5.54168178e-03 1.33742069e-04 3.18983868e-02 1.20109107e-04\n",
      " 5.11133159e-03 6.79218865e-05 4.03316553e-05 9.02089998e-02\n",
      " 1.38200773e-02 1.33742069e-04 2.79698761e-05 1.20109107e-04\n",
      " 2.68572403e-05 3.24694775e-02 1.09834218e-04 2.08181918e-05\n",
      " 8.04806873e-03 7.97020693e-05 2.52587288e-05 2.34050788e-02\n",
      " 3.27251293e-02 1.09834218e-04 2.44580824e-05 1.20109107e-04\n",
      " 1.93642434e-02 3.34414908e-05 1.82216167e-02 2.44210232e-02\n",
      " 5.37040532e-02 3.03837545e-02 1.18009038e-02 0.00000000e+00\n",
      " 5.76153025e-02 1.91966221e-02 3.74430418e-02 1.70522388e-02\n",
      " 9.20335725e-02 1.22689746e-01 8.80493410e-03 1.22689746e-01\n",
      " 1.39063681e-02 3.44209895e-02 4.21957523e-02 4.68204990e-02\n",
      " 8.20590276e-03 7.94516600e-05 3.31323072e-02 4.52480167e-02\n",
      " 4.21958044e-02 3.75645250e-05 3.33886258e-02 7.66047882e-03\n",
      " 1.84085146e-02 5.09443209e-02 6.88929409e-02 4.06965613e-02\n",
      " 3.58842537e-02 7.16566155e-03 1.32042058e-02 9.73044485e-02\n",
      " 7.61046782e-02 2.98026651e-02 3.54333147e-02 6.08363375e-02\n",
      " 3.48000862e-02 7.33197704e-02 2.71330774e-02 3.91659439e-02\n",
      " 2.48081181e-02 6.42211884e-02 3.79013531e-02 1.07495310e-02\n",
      " 2.29826292e-05 4.23764214e-02 3.73601578e-02 6.38789907e-02\n",
      " 9.52556171e-03 7.25854887e-03 5.43790981e-02 0.00000000e+00\n",
      " 0.00000000e+00 1.41656594e-02 8.62964988e-03 1.43347420e-02\n",
      " 5.26595535e-03 3.65255959e-02 1.07832588e-02 2.02193335e-02\n",
      " 6.91660773e-03 5.86961163e-03 3.09235789e-02 1.53138712e-02\n",
      " 1.69187546e-01 6.77344278e-02 1.50366090e-02 8.56682006e-03\n",
      " 4.65097511e-03 6.54843776e-03 1.05656320e-02 1.45678082e-02\n",
      " 4.83307886e-05 2.49487590e-02 1.18998298e-02 2.67373100e-02\n",
      " 7.17010861e-03 1.02217548e-01 5.67728933e-03 7.61759511e-05\n",
      " 3.80064739e-05 1.14981066e-02 1.06562059e-02 3.92328687e-02\n",
      " 4.93530929e-02 3.16565558e-02 1.51259257e-02 1.07191438e-02\n",
      " 2.83303261e-02 4.03778940e-05 8.41625128e-03 1.01855993e-02\n",
      " 2.53605992e-02 3.71453986e-02 1.20002888e-02 7.04257764e-05\n",
      " 1.49492202e-02 4.29796419e-05 3.39237558e-05 1.13647635e-04\n",
      " 1.19576864e-02 2.45427508e-02 7.94203859e-03 3.31281954e-05\n",
      " 4.58856076e-02 7.25819031e-03 9.37431585e-03 5.90781402e-03\n",
      " 3.30839120e-02 4.48358767e-02 3.50166932e-02 2.19966471e-02\n",
      " 1.96086597e-02 1.95117854e-02 7.03599751e-02 2.23240368e-02\n",
      " 2.31589079e-02 4.85463887e-02 1.11525431e-02 2.15501040e-02\n",
      " 3.60010900e-02 4.59689545e-05 1.59013085e-02 2.61693653e-02\n",
      " 3.01072095e-02 1.96158625e-02 1.76334288e-02 7.83777214e-05\n",
      " 6.43336607e-05 7.25157079e-05 9.41152405e-03 0.00000000e+00\n",
      " 7.59208482e-03 1.47609767e-02 4.97766733e-02 2.20895186e-02\n",
      " 3.42306521e-05 5.57680503e-02 1.14988394e-01 7.75112584e-03\n",
      " 1.92311499e-02 7.56954104e-02 4.79232147e-02 8.38100351e-03\n",
      " 7.47896824e-03 5.63694239e-02 8.74231607e-02 4.15317416e-02\n",
      " 4.34505800e-03 1.77097885e-04 0.00000000e+00 5.52567944e-05\n",
      " 1.27238408e-01 0.00000000e+00 8.69086216e-05 3.35150510e-02\n",
      " 8.99400003e-03 4.46914546e-02 2.66330820e-02 7.20120221e-02\n",
      " 7.85572678e-02 1.56496260e-02 6.55854773e-03 1.73385367e-02\n",
      " 9.90866870e-03 4.55278046e-02 2.47041713e-02 4.26219813e-05\n",
      " 4.73642200e-02 3.23301720e-05 4.23497967e-02 3.41924950e-02\n",
      " 2.74913423e-02 2.99949646e-02 1.11400411e-02 5.43721952e-02\n",
      " 2.34529376e-02 1.07936244e-02 7.61464192e-03 3.42929810e-02\n",
      " 4.08271626e-02 2.89670154e-02 1.39536364e-02 1.11914035e-02\n",
      " 6.00995636e-03 4.68040598e-05 2.81724206e-05 5.79509623e-02\n",
      " 1.46213621e-02 3.69797423e-02 8.66117701e-03 4.37223911e-02\n",
      " 2.75973286e-02 7.36816153e-02 1.20980293e-02 5.45257982e-03\n",
      " 1.82112809e-02 1.43946856e-02 4.32726411e-05 1.98509023e-02\n",
      " 3.12659795e-05 6.81937626e-03 7.00229575e-05 5.24330325e-03\n",
      " 6.93352055e-03 5.25923586e-03 3.89730595e-02 7.63611272e-02\n",
      " 1.86729953e-02 1.37185454e-01 7.68705904e-02 4.26455587e-02\n",
      " 4.11306433e-02 1.40944704e-01 4.15630974e-02 3.67563181e-02\n",
      " 6.47487268e-02 3.19701470e-02 8.49352777e-02 3.95037755e-02\n",
      " 9.04350262e-03 1.39236236e-02 3.08724232e-02 2.16730103e-01\n",
      " 5.49859651e-05 3.86565334e-05 7.67164212e-03 3.38645168e-02\n",
      " 3.51639539e-02 5.30020557e-02 3.12838629e-02 6.33520409e-02\n",
      " 5.78346117e-05 3.79200913e-02 6.67565241e-02 2.88936552e-02\n",
      " 5.51913343e-02 6.26138280e-05 3.72470059e-02 1.03799775e-02\n",
      " 6.21327781e-05 8.32507867e-05 1.23520503e-02 3.20634022e-02\n",
      " 5.17883301e-02 8.43337039e-05 6.53106108e-05 6.03907648e-03\n",
      " 0.00000000e+00 4.17750329e-02 6.73947781e-02 7.64285699e-02\n",
      " 5.26888967e-02 1.48139306e-05 4.91957362e-05 8.98691732e-03\n",
      " 3.93699855e-03 2.93995738e-02 2.40070549e-05 5.49832406e-03\n",
      " 2.53973156e-02 5.02334628e-03 1.20997177e-02 0.00000000e+00\n",
      " 4.63729630e-05 6.78521581e-03 1.28079519e-01 1.73032805e-02\n",
      " 3.90976807e-03 2.65771858e-02 2.73905918e-02 2.33792634e-05\n",
      " 6.48426861e-02 6.56542089e-03 2.77504642e-02 6.59169927e-02\n",
      " 2.61830427e-02 3.96516225e-05 4.91890758e-02 2.78672087e-05\n",
      " 4.76014577e-02 1.08985670e-01 8.42376128e-02 2.89539546e-02\n",
      " 8.40301905e-03 3.77612923e-05 8.85921344e-02 1.07571967e-01\n",
      " 2.80011982e-01 3.77020389e-02 1.10598486e-02 4.26877104e-02\n",
      " 8.33956219e-05 6.04361296e-03 3.56329328e-05 5.60113834e-03\n",
      " 3.42025996e-05 3.02197259e-05 4.12436348e-05 9.04537737e-03\n",
      " 4.87173274e-02 5.08589874e-05 0.00000000e+00 3.94557392e-05\n",
      " 3.46667548e-05 1.24749899e-01 5.03626434e-05 2.54954448e-05\n",
      " 2.31538229e-02 4.12928966e-05 9.95860156e-03 4.15529981e-02\n",
      " 3.34688375e-05 7.46005389e-05 4.07535098e-02 4.04304937e-02\n",
      " 2.97491420e-02 9.99594759e-03 1.26061086e-02 4.35503425e-05\n",
      " 3.66212353e-02 4.46302183e-05 4.15812768e-02 2.30188929e-02\n",
      " 8.57253835e-05 0.00000000e+00 1.23360664e-01 2.42817551e-02\n",
      " 5.11642173e-02 1.04583679e-02 6.27922863e-02 2.73051038e-02\n",
      " 6.19402453e-02 0.00000000e+00 4.80235368e-02 2.28844453e-02\n",
      " 2.51859054e-02 6.06261231e-02 1.20199800e-01 3.44062895e-02\n",
      " 6.22067228e-02 5.03074676e-02 6.16928153e-02 2.70462036e-02\n",
      " 2.04275828e-02 4.27252874e-02 1.25805721e-01 3.05357207e-05\n",
      " 7.62229711e-02 4.24950719e-02 1.66370291e-02 5.02907634e-02\n",
      " 0.00000000e+00 4.20047231e-02 1.60495132e-01 8.33927840e-02\n",
      " 9.42904409e-03 2.52951086e-02 1.18946638e-02 8.04750714e-03\n",
      " 4.74821702e-02 6.19422691e-03 2.57580057e-02 3.81347574e-02\n",
      " 5.80493584e-02 6.19239945e-05 6.40208647e-02 3.27727087e-02\n",
      " 4.02558558e-02 4.33507282e-03 8.99712089e-03 2.19405703e-02\n",
      " 6.31420314e-02]\n",
      "9.087921\n",
      "Comparing Result: [6.18767552e-03 7.24596856e-03 5.19300775e-05 4.35671490e-03\n",
      " 4.22787219e-02 1.48834046e-02 3.42566371e-02 4.64029617e-05\n",
      " 8.62932429e-05 1.09270761e-04 1.95991335e-04 1.65856667e-02\n",
      " 5.30923204e-03 7.25791650e-03 5.36873995e-05 1.36478487e-02\n",
      " 1.50543228e-02 2.38653214e-04 2.38653214e-04 8.58292542e-03\n",
      " 4.88511905e-05 1.00754893e-04 5.59402688e-05 1.66705530e-02\n",
      " 1.72124710e-02 2.14326152e-04 1.80545758e-04 4.51821543e-05\n",
      " 4.24285245e-05 9.52611584e-03 5.74414479e-03 6.38966885e-05\n",
      " 5.51803596e-03 1.41711980e-02 6.94974791e-03 5.63347945e-03\n",
      " 1.06973602e-02 6.56710981e-05 5.27211341e-05 1.31265791e-02\n",
      " 4.64913771e-02 9.80954283e-05 6.59400001e-02 8.83015528e-05\n",
      " 5.60000553e-05 9.27184802e-03 1.06446081e-04 7.25050736e-03\n",
      " 3.81097561e-05 8.18269420e-03 4.76110317e-02 1.13236327e-02\n",
      " 7.64504820e-03 9.94765386e-03 6.25422763e-05 9.19437589e-05\n",
      " 1.54136745e-02 5.01020364e-02 4.92559895e-02 5.68744035e-05\n",
      " 4.72069951e-03 8.02424829e-03 6.88319607e-03 1.43984682e-04\n",
      " 5.39112203e-02 9.07901954e-03 6.64876727e-03 6.58245897e-03\n",
      " 8.91262200e-03 7.01168756e-05 1.14013422e-02 7.29977764e-05\n",
      " 5.32397207e-05 5.70057819e-05 9.63343401e-03 1.21597173e-02\n",
      " 0.00000000e+00 6.16535693e-02 1.08675951e-04 5.94292433e-05\n",
      " 8.98142680e-05 9.69360772e-05 2.08713546e-01 2.54582856e-02\n",
      " 5.58306565e-05 2.79742986e-01 1.78019211e-04 1.43480804e-02\n",
      " 1.37805750e-04 6.82080071e-03 1.45236384e-02 1.78019211e-04\n",
      " 0.00000000e+00 3.17959161e-03 1.11471247e-02 5.95894016e-05\n",
      " 1.20460177e-02 3.49570508e-03 9.69099128e-05 1.43840201e-02\n",
      " 2.27758344e-02 9.55798823e-05 6.31792063e-05 4.47819803e-05\n",
      " 5.32997401e-05 5.90603449e-05 0.00000000e+00 5.24499810e-05\n",
      " 4.96667708e-05 8.56249314e-03 5.42580802e-03 0.00000000e+00\n",
      " 9.14161187e-03 1.20186299e-01 1.72590949e-02 6.99019874e-05\n",
      " 7.54857538e-05 9.23171826e-03 9.73239003e-05 1.09700346e-02\n",
      " 1.42475648e-04 1.53389788e-04 7.28012202e-03 5.57788229e-03\n",
      " 8.37396830e-02 2.30207741e-02 7.04550231e-03 4.60177034e-05\n",
      " 8.57240427e-03 2.76700407e-01 4.94571941e-05 8.86057896e-05\n",
      " 9.42196790e-03 5.52119734e-03 6.34336538e-05 4.87820692e-02\n",
      " 1.14208078e-02 8.04547220e-03 7.21096512e-05 9.88370375e-05\n",
      " 7.25809296e-05 6.80146040e-03 9.51743405e-03 1.21742807e-04\n",
      " 4.31201115e-05 1.57239251e-02 1.15330024e-02 1.96803540e-01\n",
      " 1.29656885e-02 6.92261674e-05 5.97852122e-05 1.15077849e-02\n",
      " 1.39312735e-02 5.81404939e-02 9.82515267e-05 8.57002524e-05\n",
      " 1.07618961e-02 1.02584483e-04 7.50922784e-03 4.00441289e-02\n",
      " 3.07355039e-02 8.02265058e-05 9.36630741e-03 7.21681118e-02\n",
      " 5.42017697e-05 1.61920954e-02 9.81543493e-03 6.39616192e-05\n",
      " 7.14409910e-03 1.81324966e-02 9.13090631e-03 5.58121782e-03\n",
      " 1.35414870e-02 2.86412891e-03 0.00000000e+00 6.09614872e-05\n",
      " 7.05191540e-03 8.61825049e-03 4.98977955e-03 1.30207278e-04\n",
      " 6.88572079e-02 6.63611991e-03 7.34695001e-03 1.05032548e-02\n",
      " 5.42861735e-03 7.41573604e-05 5.50316200e-02 9.08020884e-03\n",
      " 1.08195031e-02 5.04243835e-05 4.28086933e-05 1.33940037e-02\n",
      " 5.69013973e-05 6.26158799e-05 0.00000000e+00 4.64987315e-05\n",
      " 4.97727795e-03 1.91077758e-02 0.00000000e+00 8.78548902e-03\n",
      " 1.14272152e-04 5.24500138e-05 8.28385167e-03 7.35359918e-03\n",
      " 1.57340328e-04 1.14493752e-02 0.00000000e+00 4.10874782e-05\n",
      " 0.00000000e+00 8.08549012e-05 4.58455039e-03 0.00000000e+00\n",
      " 1.24000087e-02 7.04100076e-03 5.15126267e-05 1.96983889e-02\n",
      " 6.00208296e-05 6.52981398e-05 7.46910507e-03 4.56487287e-05\n",
      " 1.27246632e-04 0.00000000e+00 7.15172719e-05 1.17561920e-02\n",
      " 7.03609621e-05 8.23384058e-03 8.47557373e-03 1.10007459e-02\n",
      " 9.13230982e-03 0.00000000e+00 6.99378084e-03 9.26538705e-05\n",
      " 7.07067875e-03 8.61291119e-05 8.77821076e-05 8.77590384e-03\n",
      " 7.06708670e-05 1.47470026e-04 1.04848035e-02 1.12360547e-04\n",
      " 7.84602016e-05 7.99062473e-05 1.28835579e-02 1.12890042e-02\n",
      " 8.56163824e-05 1.39475029e-04 1.62382200e-02 1.48869396e-04\n",
      " 0.00000000e+00 1.79345720e-04 3.15578002e-03 5.20719495e-03\n",
      " 5.35748154e-03 6.20649225e-05 9.99174491e-02 4.24913168e-02\n",
      " 2.40482739e-03 6.29457281e-05 2.44981293e-05 7.27679653e-05\n",
      " 6.41006138e-03 5.66187991e-05 4.14034538e-03 6.14987221e-05\n",
      " 5.96717364e-05 5.55781387e-02 7.19520758e-05 1.03874700e-02\n",
      " 8.10404588e-03 6.38697902e-03 8.26712791e-03 6.99327290e-02\n",
      " 1.38425641e-02 5.95826968e-05 5.55048743e-03 3.16316052e-03\n",
      " 8.26562100e-05 4.82759578e-03 4.63112630e-03 7.74710730e-04\n",
      " 5.47342785e-02 7.94913806e-03 1.16745214e-04 5.75349113e-05\n",
      " 4.91821011e-05 2.38653214e-04 7.87362829e-03 2.14326152e-04\n",
      " 4.96807043e-05 1.21201774e-04 7.19689706e-05 1.38414940e-02\n",
      " 6.60349760e-05 2.38653214e-04 4.99102534e-05 2.14326152e-04\n",
      " 1.11077027e-02 6.72840606e-03 1.95991335e-04 3.71485839e-05\n",
      " 8.22222978e-03 1.42222663e-04 4.50724037e-05 5.14846142e-05\n",
      " 8.19434863e-05 1.95991335e-04 1.10321492e-02 2.14326152e-04\n",
      " 4.32241336e-03 5.96739628e-05 0.00000000e+00 1.49133336e-02\n",
      " 7.77629204e-03 5.50314217e-05 6.46067783e-02 0.00000000e+00\n",
      " 1.49411466e-02 1.53051708e-02 9.07738227e-03 5.31054502e-05\n",
      " 2.60332637e-02 2.46045471e-04 7.81432827e-05 2.46045471e-04\n",
      " 1.23418213e-04 4.80694603e-03 5.43515016e-05 1.57889854e-02\n",
      " 1.00057507e-02 1.41775832e-04 7.27368679e-05 9.93350404e-05\n",
      " 4.92453435e-03 6.70312220e-05 0.00000000e+00 6.65047672e-03\n",
      " 5.73292746e-05 6.20389869e-03 3.73066147e-03 6.40701764e-05\n",
      " 1.51930358e-02 6.96482093e-05 5.29523706e-03 4.35475372e-02\n",
      " 8.78033787e-03 4.87523563e-02 7.06285500e-05 3.49196908e-03\n",
      " 1.41342148e-01 6.72374014e-03 4.73942533e-02 9.80712357e-05\n",
      " 5.14687235e-05 4.49472154e-03 3.50113399e-02 6.03548287e-05\n",
      " 1.03666261e-02 5.10682613e-02 7.99378380e-03 3.55439559e-02\n",
      " 9.83919390e-03 1.49306599e-02 1.19380922e-04 0.00000000e+00\n",
      " 0.00000000e+00 9.35530104e-03 2.97346542e-05 7.02303788e-03\n",
      " 5.95709123e-03 1.17743611e-02 4.56172602e-05 8.85080621e-02\n",
      " 5.93935549e-02 5.70563227e-02 3.55622992e-02 6.57431781e-02\n",
      " 1.02606798e-02 1.19973784e-02 0.00000000e+00 0.00000000e+00\n",
      " 0.00000000e+00 8.64111353e-05 9.37693767e-05 4.27807029e-03\n",
      " 8.62428496e-05 7.26537255e-05 1.15662981e-04 3.09376302e-03\n",
      " 9.46145083e-05 2.35949527e-04 5.51816520e-05 1.35930561e-04\n",
      " 7.89332949e-03 1.08626802e-02 4.50797779e-05 5.13899140e-02\n",
      " 1.67577341e-02 4.24957580e-05 3.20321597e-05 1.04187064e-04\n",
      " 5.30505776e-02 7.20514799e-05 4.72542815e-05 9.94416606e-03\n",
      " 6.17586682e-03 1.26695093e-02 1.22982394e-02 1.25669787e-04\n",
      " 5.90114323e-05 1.05370684e-02 6.05345303e-05 2.02796116e-04\n",
      " 4.72024803e-05 9.07915179e-03 6.12649787e-03 6.88018929e-03\n",
      " 4.34530375e-05 6.30122796e-03 9.11157185e-05 1.11393221e-02\n",
      " 1.10357348e-02 4.69337574e-05 1.21136717e-02 1.16340257e-02\n",
      " 3.20700201e-05 9.25591029e-03 1.26407860e-04 9.44391068e-05\n",
      " 5.58191650e-02 4.13491689e-02 1.08399581e-04 1.35822613e-02\n",
      " 1.23270908e-02 9.54700634e-03 7.01104663e-03 4.98383120e-02\n",
      " 1.25153800e-02 1.71557590e-02 8.62784963e-03 1.39859476e-04\n",
      " 1.14798837e-04 1.29399123e-04 9.14773627e-05 0.00000000e+00\n",
      " 1.00182770e-04 1.51311345e-02 9.16911010e-03 9.33023170e-03\n",
      " 8.39212909e-03 8.44671857e-03 6.96920650e-03 5.78173567e-05\n",
      " 1.42039610e-02 6.42288942e-05 6.19935850e-03 1.40295997e-02\n",
      " 6.49289740e-03 3.87825891e-02 6.66320993e-05 8.67931917e-03\n",
      " 4.41835225e-02 3.16018559e-04 0.00000000e+00 9.86018131e-05\n",
      " 8.56591359e-05 0.00000000e+00 1.55082249e-04 7.37749870e-05\n",
      " 7.98212277e-05 9.41697217e-05 8.29428827e-05 7.42954947e-03\n",
      " 7.59768518e-05 5.55615723e-02 5.69383008e-03 7.33485649e-05\n",
      " 4.73455220e-05 5.86697497e-05 1.63866971e-02 7.60558905e-05\n",
      " 5.96480891e-02 7.92620052e-03 1.29195154e-02 5.02624130e-03\n",
      " 5.26335686e-02 1.48237944e-02 6.25474058e-05 6.03457261e-03\n",
      " 4.50917101e-03 9.72933508e-03 7.40121759e-05 1.85305476e-02\n",
      " 8.88588838e-03 1.58304367e-02 1.98262036e-02 8.63306131e-03\n",
      " 5.84150839e-05 2.11116057e-02 5.85095584e-03 5.99800982e-03\n",
      " 6.18538834e-05 8.63126386e-03 6.46056287e-05 8.07437114e-03\n",
      " 5.05785174e-05 9.57089663e-02 9.02418687e-05 5.29975441e-05\n",
      " 4.75964285e-02 4.43626940e-02 1.06089013e-02 4.33262065e-02\n",
      " 1.52748059e-02 9.10659786e-03 1.24950981e-04 5.41594112e-03\n",
      " 7.16180913e-03 8.07714742e-03 7.61968622e-05 7.30600059e-02\n",
      " 7.09674277e-05 9.70131950e-05 4.92562613e-05 1.57949194e-01\n",
      " 0.00000000e+00 8.19926336e-03 6.47133887e-02 6.89254887e-03\n",
      " 9.85782128e-03 1.05507420e-02 4.58137438e-05 1.98255889e-02\n",
      " 8.02605646e-05 1.43559771e-02 9.33030713e-03 1.08592452e-04\n",
      " 2.48021632e-02 6.89798326e-05 7.92423263e-03 1.43037857e-02\n",
      " 1.02401580e-04 1.02263063e-01 3.13805952e-03 6.20084174e-05\n",
      " 1.03201746e-04 1.09715518e-02 7.96300080e-03 9.26960073e-03\n",
      " 5.68167819e-03 1.11729918e-04 8.19899506e-05 6.34411583e-03\n",
      " 1.29039716e-02 1.48555104e-04 1.09623739e-04 0.00000000e+00\n",
      " 0.00000000e+00 1.50487496e-04 1.16542134e-04 1.94054574e-01\n",
      " 8.53372589e-02 1.20850252e-02 6.85148127e-03 6.35346587e-05\n",
      " 4.39811386e-02 1.33376140e-02 1.02171572e-02 8.21820647e-02\n",
      " 1.42233409e-02 6.61739195e-03 4.93163355e-02 1.03672184e-02\n",
      " 1.20587431e-01 4.36103903e-03 0.00000000e+00 0.00000000e+00\n",
      " 8.27492549e-05 7.67574925e-03 4.08019172e-03 1.82052441e-02\n",
      " 5.15920765e-05 1.18621722e-01 8.44195858e-03 4.85549401e-03\n",
      " 1.12974923e-02 1.64872352e-02 1.38772586e-02 6.03129528e-03\n",
      " 4.21376619e-03 8.23500007e-03 4.89137284e-02 5.78756770e-03\n",
      " 1.34345695e-01 0.00000000e+00 9.42303054e-03 9.01707244e-05\n",
      " 7.64546450e-03 9.25771706e-03 1.95013388e-04 3.73760872e-02\n",
      " 0.00000000e+00 1.18111977e-02 9.81555131e-05 6.82032928e-02\n",
      " 1.48813560e-04 5.24678780e-03 6.35844335e-05 6.33626524e-03\n",
      " 6.10321076e-05 1.36310179e-02 8.56563449e-03 8.79185245e-05\n",
      " 8.28822958e-05 8.16268548e-02 0.00000000e+00 7.04059566e-05\n",
      " 8.49904679e-03 5.35901301e-02 8.98685539e-05 5.95345050e-02\n",
      " 6.67049643e-03 1.01235388e-02 0.00000000e+00 6.87953725e-05\n",
      " 5.97227590e-05 1.33119349e-04 8.58720450e-05 6.86933100e-03\n",
      " 7.44916397e-05 8.87134593e-05 7.07788568e-05 7.77124878e-05\n",
      " 1.14048795e-04 7.96394452e-05 1.46015752e-02 5.76391394e-05\n",
      " 5.55426121e-01 0.00000000e+00 9.06880572e-03 5.44780924e-05\n",
      " 6.22057632e-05 6.44158991e-03 1.58437004e-04 4.34535359e-05\n",
      " 8.34555467e-05 0.00000000e+00 8.69360473e-03 1.14701390e-01\n",
      " 8.91962089e-03 1.03334016e-04 4.52448092e-02 3.56966164e-03\n",
      " 1.57731660e-02 1.81377400e-02 6.93397876e-03 2.21126825e-02\n",
      " 1.08041484e-02 4.89191370e-05 6.76808180e-03 6.34177448e-03\n",
      " 5.32269733e-05 7.49842802e-05 7.40103860e-05 9.16746818e-03\n",
      " 0.00000000e+00 1.22322701e-04 8.32336227e-05 1.96948298e-04\n",
      " 9.16476565e-05 1.38459895e-02 1.15612784e-04 9.10371076e-03\n",
      " 7.12150056e-03 9.51310992e-03 1.78505797e-02 1.04820970e-02\n",
      " 7.25453068e-03 1.10498964e-04 6.27574991e-05 1.75682064e-02\n",
      " 6.49708323e-03 5.72042663e-05 7.98489273e-05 9.37905535e-03\n",
      " 1.11416681e-04]\n"
     ]
    }
   ],
   "source": [
    "compare_text(X_train_joint, X_train_100[3])\n",
    "compare_text(X_train_joint, X_train_100[2])\n",
    "compare_text(X_train_joint, X_train_100[1])\n",
    "compare_text(X_train_joint, X_train_100[0])\n",
    "compare_text(X_train_joint, total_diff)"
   ]
  },
  {
   "cell_type": "markdown",
   "metadata": {},
   "source": [
    "# Gensim tut\n",
    "https://www.machinelearningplus.com/nlp/gensim-tutorial/"
   ]
  },
  {
   "cell_type": "code",
   "execution_count": 24,
   "metadata": {},
   "outputs": [],
   "source": [
    "import gensim\n",
    "from gensim import corpora\n",
    "from pprint import pprint\n",
    "\n",
    "# How to create a dictionary from a list of sentences?\n",
    "documents = [\"The Saudis are preparing a report that will acknowledge that\", \n",
    "             \"Saudi journalist Jamal Khashoggi's death was the result of an\", \n",
    "             \"interrogation that went wrong, one that was intended to lead\", \n",
    "             \"to his abduction from Turkey, according to two sources.\"]\n",
    "\n",
    "documents_2 = [\"One source says the report will likely conclude that\", \n",
    "                \"the operation was carried out without clearance and\", \n",
    "                \"transparency and that those involved will be held\", \n",
    "                \"responsible. One of the sources acknowledged that the\", \n",
    "                \"report is still being prepared and cautioned that\", \n",
    "                \"things could change.\"]\n",
    "\n",
    "# Tokenize(split) the sentences into words\n",
    "texts = [[text for text in doc.split()] for doc in documents]"
   ]
  },
  {
   "cell_type": "code",
   "execution_count": 25,
   "metadata": {},
   "outputs": [
    {
     "name": "stdout",
     "output_type": "stream",
     "text": [
      "[['The', 'Saudis', 'are', 'preparing', 'a', 'report', 'that', 'will', 'acknowledge', 'that'], ['Saudi', 'journalist', 'Jamal', \"Khashoggi's\", 'death', 'was', 'the', 'result', 'of', 'an'], ['interrogation', 'that', 'went', 'wrong,', 'one', 'that', 'was', 'intended', 'to', 'lead'], ['to', 'his', 'abduction', 'from', 'Turkey,', 'according', 'to', 'two', 'sources.']]\n"
     ]
    }
   ],
   "source": [
    "print(texts)"
   ]
  },
  {
   "cell_type": "code",
   "execution_count": 26,
   "metadata": {},
   "outputs": [
    {
     "name": "stdout",
     "output_type": "stream",
     "text": [
      "['The', 'Saudis', 'are', 'preparing', 'a', 'report', 'that', 'will', 'acknowledge', 'that']\n",
      "['Saudi', 'journalist', 'Jamal', \"Khashoggi's\", 'death', 'was', 'the', 'result', 'of', 'an']\n",
      "['interrogation', 'that', 'went', 'wrong,', 'one', 'that', 'was', 'intended', 'to', 'lead']\n",
      "['to', 'his', 'abduction', 'from', 'Turkey,', 'according', 'to', 'two', 'sources.']\n"
     ]
    }
   ],
   "source": [
    "for i in texts:\n",
    "    print(i)"
   ]
  },
  {
   "cell_type": "code",
   "execution_count": 27,
   "metadata": {},
   "outputs": [
    {
     "name": "stdout",
     "output_type": "stream",
     "text": [
      "{'Saudis': 0, 'The': 1, 'a': 2, 'acknowledge': 3, 'are': 4, 'preparing': 5, 'report': 6, 'that': 7, 'will': 8, 'Jamal': 9, \"Khashoggi's\": 10, 'Saudi': 11, 'an': 12, 'death': 13, 'journalist': 14, 'of': 15, 'result': 16, 'the': 17, 'was': 18, 'intended': 19, 'interrogation': 20, 'lead': 21, 'one': 22, 'to': 23, 'went': 24, 'wrong,': 25, 'Turkey,': 26, 'abduction': 27, 'according': 28, 'from': 29, 'his': 30, 'sources.': 31, 'two': 32}\n"
     ]
    }
   ],
   "source": [
    "# Create dictionary\n",
    "dictionary = corpora.Dictionary(texts)\n",
    "\n",
    "# Get information about the dictionary\n",
    "print(dictionary.token2id)"
   ]
  },
  {
   "cell_type": "code",
   "execution_count": 28,
   "metadata": {},
   "outputs": [
    {
     "name": "stdout",
     "output_type": "stream",
     "text": [
      "[[(0, 1), (1, 1), (2, 1), (3, 1), (4, 1)], [(4, 4)]]\n"
     ]
    }
   ],
   "source": [
    "from gensim.utils import simple_preprocess\n",
    "from smart_open import smart_open\n",
    "import os\n",
    "\n",
    "# List with 2 sentences\n",
    "my_docs = [\"Who let the dogs out?\",\n",
    "           \"Who? Who? Who? Who?\"]\n",
    "\n",
    "# Tokenize the docs\n",
    "tokenized_list = [simple_preprocess(doc) for doc in my_docs]\n",
    "\n",
    "# Create the Corpus\n",
    "mydict = corpora.Dictionary()\n",
    "mycorpus = [mydict.doc2bow(doc, allow_update=True) for doc in tokenized_list]\n",
    "pprint(mycorpus)"
   ]
  },
  {
   "cell_type": "code",
   "execution_count": 29,
   "metadata": {},
   "outputs": [
    {
     "data": {
      "text/plain": [
       "[['who', 'let', 'the', 'dogs', 'out'], ['who', 'who', 'who', 'who']]"
      ]
     },
     "execution_count": 29,
     "metadata": {},
     "output_type": "execute_result"
    }
   ],
   "source": [
    "tokenized_list"
   ]
  },
  {
   "cell_type": "markdown",
   "metadata": {},
   "source": [
    "# Compare sentences"
   ]
  },
  {
   "cell_type": "code",
   "execution_count": 30,
   "metadata": {},
   "outputs": [
    {
     "data": {
      "text/plain": [
       "'4.1.2'"
      ]
     },
     "execution_count": 30,
     "metadata": {},
     "output_type": "execute_result"
    }
   ],
   "source": [
    "gensim.__version__"
   ]
  },
  {
   "cell_type": "code",
   "execution_count": 31,
   "metadata": {},
   "outputs": [],
   "source": [
    "X_train_100 = list(X_train[:100])"
   ]
  },
  {
   "cell_type": "code",
   "execution_count": 32,
   "metadata": {},
   "outputs": [],
   "source": [
    "# one big string\n",
    "df = pd.DataFrame(X_train_100)\n",
    "X_train_joint = ' '.join(df[0].astype(str))"
   ]
  },
  {
   "cell_type": "code",
   "execution_count": 33,
   "metadata": {},
   "outputs": [
    {
     "name": "stdout",
     "output_type": "stream",
     "text": [
      "['i', 'me', 'my', 'myself', 'we', 'our', 'ours', 'ourselves', 'you', \"you're\", \"you've\", \"you'll\", \"you'd\", 'your', 'yours', 'yourself', 'yourselves', 'he', 'him', 'his', 'himself', 'she', \"she's\", 'her', 'hers', 'herself', 'it', \"it's\", 'its', 'itself', 'they', 'them', 'their', 'theirs', 'themselves', 'what', 'which', 'who', 'whom', 'this', 'that', \"that'll\", 'these', 'those', 'am', 'is', 'are', 'was', 'were', 'be', 'been', 'being', 'have', 'has', 'had', 'having', 'do', 'does', 'did', 'doing', 'a', 'an', 'the', 'and', 'but', 'if', 'or', 'because', 'as', 'until', 'while', 'of', 'at', 'by', 'for', 'with', 'about', 'against', 'between', 'into', 'through', 'during', 'before', 'after', 'above', 'below', 'to', 'from', 'up', 'down', 'in', 'out', 'on', 'off', 'over', 'under', 'again', 'further', 'then', 'once', 'here', 'there', 'when', 'where', 'why', 'how', 'all', 'any', 'both', 'each', 'few', 'more', 'most', 'other', 'some', 'such', 'no', 'nor', 'not', 'only', 'own', 'same', 'so', 'than', 'too', 'very', 's', 't', 'can', 'will', 'just', 'don', \"don't\", 'should', \"should've\", 'now', 'd', 'll', 'm', 'o', 're', 've', 'y', 'ain', 'aren', \"aren't\", 'couldn', \"couldn't\", 'didn', \"didn't\", 'doesn', \"doesn't\", 'hadn', \"hadn't\", 'hasn', \"hasn't\", 'haven', \"haven't\", 'isn', \"isn't\", 'ma', 'mightn', \"mightn't\", 'mustn', \"mustn't\", 'needn', \"needn't\", 'shan', \"shan't\", 'shouldn', \"shouldn't\", 'wasn', \"wasn't\", 'weren', \"weren't\", 'won', \"won't\", 'wouldn', \"wouldn't\"]\n"
     ]
    },
    {
     "name": "stderr",
     "output_type": "stream",
     "text": [
      "[nltk_data] Downloading package stopwords to\n",
      "[nltk_data]     /home/sabrina/nltk_data...\n",
      "[nltk_data]   Package stopwords is already up-to-date!\n"
     ]
    }
   ],
   "source": [
    "nltk.download('stopwords')\n",
    "from nltk.corpus import stopwords\n",
    "print(stopwords.words('english'))"
   ]
  },
  {
   "cell_type": "code",
   "execution_count": 34,
   "metadata": {},
   "outputs": [],
   "source": [
    "def tokenize(string):\n",
    "    '''\n",
    "    Input: A string, can contain multiple sentences.\n",
    "    Output: A list of lists where each sublist is a sentence and the strings in it are the tokenised words.\n",
    "    '''\n",
    "    # list of strings\n",
    "    sentences = sent_tokenize(string)\n",
    "    # sentences = string.lower()\n",
    "\n",
    "    # list of lists, words as tokens for corpus 1\n",
    "    tokens = [[word.lower() for word in word_tokenize(text)] for text in sentences]\n",
    "    # tokens = [word_tokenize(sentences)]\n",
    "\n",
    "    return tokens"
   ]
  },
  {
   "cell_type": "code",
   "execution_count": 35,
   "metadata": {},
   "outputs": [
    {
     "name": "stdout",
     "output_type": "stream",
     "text": [
      "[['hmmmm', ',', 'what', 'was', 'i', 'thinking', 'i', 'bought', 'this', 'for', 'my', 'psp', 'so', 'that', 'if', 'i', 'was', 'traveling', 'with', 'the', 'kids', 'they', 'could', 'play', 'it', '(', 'as', 'opposed', 'to', 'their', 'leapster', ')', '.'], ['well', 'it', 'is', 'too', 'difficult', 'for', 'them', ',', 'and', 'for', 'me', 'as', 'an', 'adult', 'it', 'is', 'my', 'last', 'choice', '.'], ['for', 'a', '8-12', 'year', 'old', ',', 'it', 'is', 'probably', 'good', ',', 'i', 'just', 'ca', \"n't\", 'rate', 'it', 'high', 'for', 'myself', 'or', 'my', 'kids', '.']]\n",
      "\n",
      "tokens len = num. of sentences in string = 3\n"
     ]
    }
   ],
   "source": [
    "tokens = tokenize(X_train_100[0])\n",
    "print(tokens)\n",
    "print('\\ntokens len = num. of sentences in string =', len(tokens))"
   ]
  },
  {
   "cell_type": "code",
   "execution_count": 36,
   "metadata": {},
   "outputs": [],
   "source": [
    "dictionary = gensim.corpora.Dictionary(tokens)\n",
    "# dictionary.token2id"
   ]
  },
  {
   "cell_type": "code",
   "execution_count": 37,
   "metadata": {},
   "outputs": [],
   "source": [
    "corpus = [dictionary.doc2bow(token) for token in tokens]\n",
    "# corpus\n",
    "# (0, 1) means the word with id=0 appears once in the 1st sentence."
   ]
  },
  {
   "cell_type": "code",
   "execution_count": 38,
   "metadata": {},
   "outputs": [],
   "source": [
    "# # word frequency in corpus\n",
    "# for doc in corpus:\n",
    "#     print([[dictionary[id], freq] for id, freq in doc])"
   ]
  },
  {
   "cell_type": "code",
   "execution_count": 39,
   "metadata": {},
   "outputs": [],
   "source": [
    "tf_idf = gensim.models.TfidfModel(corpus)\n",
    "# used tfid to weight down frequent words\n",
    "\n",
    "# # print if you want to see what it looks like\n",
    "# for doc in tf_idf[corpus]:\n",
    "#     print([[dictionary[id], np.around(freq, decimals=2)] for id, freq in doc])"
   ]
  },
  {
   "cell_type": "markdown",
   "metadata": {},
   "source": [
    "The class similarities.MatrixSimilarity is only appropriate when the whole set of vectors fits into memory. For example, a corpus of one million documents would require 2GB of RAM in a 256-dimensional LSI space, when used with this class.\n",
    "\n",
    "Without 2GB of free RAM, you would need to use the similarities.Similarity class. This class operates in fixed memory, by splitting the index across multiple files on disk, called shards. It uses similarities.MatrixSimilarity and similarities.SparseMatrixSimilarity internally, so it is still fast, although slightly more complex.\n",
    "\n",
    "From gensim docs: https://radimrehurek.com/gensim/auto_examples/core/run_similarity_queries.html"
   ]
  },
  {
   "cell_type": "code",
   "execution_count": 40,
   "metadata": {},
   "outputs": [
    {
     "name": "stdout",
     "output_type": "stream",
     "text": [
      "Similarity index with 3 documents in 0 shards (stored under workdir/)\n",
      "<class 'gensim.similarities.docsim.Similarity'>\n"
     ]
    }
   ],
   "source": [
    "sims = gensim.similarities.Similarity('workdir/', tf_idf[corpus], num_features=len(dictionary))\n",
    "print(sims)\n",
    "print(type(sims))"
   ]
  },
  {
   "cell_type": "code",
   "execution_count": 41,
   "metadata": {},
   "outputs": [],
   "source": [
    "def make_dict(tokens):\n",
    "    '''\n",
    "    Input: A list of lists where each sublist is a sentence and the strings in it are the tokenised words.\n",
    "    Output: returns indexed similarities\n",
    "    '''\n",
    "    dictionary = gensim.corpora.Dictionary(tokens)\n",
    "    corpus = [dictionary.doc2bow(token) for token in tokens]\n",
    "    tf_idf = gensim.models.TfidfModel(corpus)\n",
    "    sims = gensim.similarities.Similarity('workdir/', tf_idf[corpus], num_features=len(dictionary))\n",
    "    print(sims)\n",
    "    return sims"
   ]
  },
  {
   "cell_type": "markdown",
   "metadata": {},
   "source": [
    "How to query using gensim: https://stackoverflow.com/questions/51287590/how-to-use-gensim-similarities-similarity-to-find-similarity-between-two-sentenc"
   ]
  },
  {
   "cell_type": "code",
   "execution_count": 46,
   "metadata": {},
   "outputs": [],
   "source": [
    "def query_sim(string):\n",
    "    query = [w.lower() for w in word_tokenize(string)] # tokenise into strings\n",
    "    # print(query)\n",
    "    query_bow = dictionary.doc2bow(query) # bag of words for string being queried\n",
    "    query_tf_idf = tf_idf[query_bow] # ??? \n",
    "    \n",
    "    # get similarity scores between given string and indexes text\n",
    "    sim_score =  sims[query_tf_idf]\n",
    "    # print(len(sim_score), sim_score)\n",
    "\n",
    "    # return the avarage sim between the queried string and all sentences in the indexed text - in the case review(s)\n",
    "    return sum(sim_score) / len(sim_score)"
   ]
  },
  {
   "cell_type": "code",
   "execution_count": 47,
   "metadata": {},
   "outputs": [
    {
     "data": {
      "text/plain": [
       "(0.12309919794400533, 0.16177424291769663)"
      ]
     },
     "execution_count": 47,
     "metadata": {},
     "output_type": "execute_result"
    }
   ],
   "source": [
    "query_sim('Nature is good for your mental health.'), query_sim('My house is really small and this vacuum cleaner is perfect for it! Has enough power to pick up debris and clean carpets.')"
   ]
  },
  {
   "cell_type": "code",
   "execution_count": 48,
   "metadata": {},
   "outputs": [],
   "source": [
    "sim_list = [] # similarities between each review and the full corpus\n",
    "for i in range(len(X_train_100)):\n",
    "    sim_list.append(round(query_sim(X_train_100[i]),3))"
   ]
  },
  {
   "cell_type": "code",
   "execution_count": 49,
   "metadata": {},
   "outputs": [
    {
     "data": {
      "image/png": "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",
      "text/plain": [
       "<Figure size 360x360 with 1 Axes>"
      ]
     },
     "metadata": {
      "needs_background": "light"
     },
     "output_type": "display_data"
    }
   ],
   "source": [
    "sns.displot(sim_list, kind='kde');"
   ]
  },
  {
   "cell_type": "markdown",
   "metadata": {},
   "source": [
    "# Functions test"
   ]
  },
  {
   "cell_type": "code",
   "execution_count": 50,
   "metadata": {},
   "outputs": [],
   "source": [
    "import gensim\n",
    "from nltk.tokenize import word_tokenize, sent_tokenize\n",
    "\n",
    "def tokenize(string):\n",
    "    '''\n",
    "    Input: A string, can contain multiple sentences.\n",
    "    Output: A list of lists where each sublist is a sentence and the strings in it are the tokenised words.\n",
    "    '''\n",
    "    # list of strings\n",
    "    sentences = sent_tokenize(string)\n",
    "    # sentences = string.lower()\n",
    "\n",
    "    # list of lists, words as tokens for corpus 1\n",
    "    tokens = [[word.lower() for word in word_tokenize(text)] for text in sentences]\n",
    "    # tokens = [word_tokenize(sentences)]\n",
    "\n",
    "    return tokens\n",
    "\n",
    "def make_dict(tokens):\n",
    "    '''\n",
    "    Input: A list of lists where each sublist is a sentence and the strings in it are the tokenised words.\n",
    "    Output: returns indexed similarities\n",
    "    '''\n",
    "    dictionary = gensim.corpora.Dictionary(tokens)\n",
    "    corpus = [dictionary.doc2bow(token) for token in tokens]\n",
    "    tf_idf = gensim.models.TfidfModel(corpus)\n",
    "    sims = gensim.similarities.Similarity('workdir/', tf_idf[corpus], num_features=len(dictionary))\n",
    "    print(sims)\n",
    "    return dictionary, tf_idf, sims\n",
    "\n",
    "\n",
    "def compare(string_index, string_query):\n",
    "    tokens = tokenize(string_index)\n",
    "    dictionary, tf_idf, sims = make_dict(tokens)\n",
    "\n",
    "    query = [w.lower() for w in word_tokenize(string_query)] # tokenise into strings\n",
    "    # print(query)\n",
    "    query_bow = dictionary.doc2bow(query) # bag of words for string being queried\n",
    "    query_tf_idf = tf_idf[query_bow] # ??? \n",
    "    \n",
    "    # get similarity scores between given string and indexes text\n",
    "    sim_score =  sims[query_tf_idf]\n",
    "    # print(len(sim_score), sim_score)\n",
    "\n",
    "    # return the avarage sim between the queried string and all sentences in the indexed text - in the case review(s)\n",
    "    return sum(sim_score) / len(sim_score)"
   ]
  },
  {
   "cell_type": "code",
   "execution_count": 61,
   "metadata": {},
   "outputs": [
    {
     "name": "stdout",
     "output_type": "stream",
     "text": [
      "Similarity index with 1 documents in 0 shards (stored under workdir/)\n"
     ]
    },
    {
     "data": {
      "text/plain": [
       "0.0"
      ]
     },
     "execution_count": 61,
     "metadata": {},
     "output_type": "execute_result"
    }
   ],
   "source": [
    "X_train_100 = list(X_train[:100])\n",
    "\n",
    "docs = [\n",
    "    'Nature is good for your mental health.', \n",
    "    'My house is really small and this vacuum cleaner is perfect for it! Has enough power to pick up debris and clean carpets.'\n",
    "]\n",
    "\n",
    "compare(docs[0], docs[1])"
   ]
  },
  {
   "cell_type": "code",
   "execution_count": 62,
   "metadata": {},
   "outputs": [
    {
     "data": {
      "text/plain": [
       "(\"hmmmm, what was I thinking I bought this for my PSP so that if I was traveling with the kids they could play it (as opposed to their leapster).  Well it is too difficult for them, and for me as an adult it is my last choice.  For a 8-12 year old, it is probably good, I just can't rate it high for myself or my kids.\",\n",
       " \"the best video game ever if you don't have this game\\nyou can stop call yourself a PC gamer\\nbecause you're not\\n\\nRainbow Six Vegas 2\\nit's not only a good game\\nbut is better of battlefield 3 and 4\\nespecially in co op mode\\nI buy Rainbow Six Vegas 2 yesterday and I play for 8hr 39mins\\n\\n*graphic 5 stars\\n*co op mode 5 stars\\n*gameplay 5 stars\\n*interface 5 stars\\n*sound 5 stars\\n*connectivity 5 stars\\n\\nyou can't go wrong with Rainbow Six Vegas 2\\noh PS rainbow six Vegas 2 run just fine with windows 7 64bit\")"
      ]
     },
     "execution_count": 62,
     "metadata": {},
     "output_type": "execute_result"
    }
   ],
   "source": [
    "X_train_100[0], X_train_100[1]"
   ]
  },
  {
   "cell_type": "code",
   "execution_count": 63,
   "metadata": {},
   "outputs": [
    {
     "name": "stdout",
     "output_type": "stream",
     "text": [
      "Similarity index with 3 documents in 0 shards (stored under workdir/)\n"
     ]
    },
    {
     "data": {
      "text/plain": [
       "0.27693048616250354"
      ]
     },
     "execution_count": 63,
     "metadata": {},
     "output_type": "execute_result"
    }
   ],
   "source": [
    "compare(X_train_100[0], X_train_100[1])"
   ]
  },
  {
   "cell_type": "code",
   "execution_count": 64,
   "metadata": {},
   "outputs": [
    {
     "data": {
      "text/plain": [
       "('My house is really small and this vacuum cleaner is perfect for it! Has enough power to pick up debris and clean carpets.',\n",
       " \"the best video game ever if you don't have this game\\nyou can stop call yourself a PC gamer\\nbecause you're not\\n\\nRainbow Six Vegas 2\\nit's not only a good game\\nbut is better of battlefield 3 and 4\\nespecially in co op mode\\nI buy Rainbow Six Vegas 2 yesterday and I play for 8hr 39mins\\n\\n*graphic 5 stars\\n*co op mode 5 stars\\n*gameplay 5 stars\\n*interface 5 stars\\n*sound 5 stars\\n*connectivity 5 stars\\n\\nyou can't go wrong with Rainbow Six Vegas 2\\noh PS rainbow six Vegas 2 run just fine with windows 7 64bit\")"
      ]
     },
     "execution_count": 64,
     "metadata": {},
     "output_type": "execute_result"
    }
   ],
   "source": [
    "docs[1], X_train_100[1]"
   ]
  },
  {
   "cell_type": "code",
   "execution_count": 65,
   "metadata": {},
   "outputs": [
    {
     "name": "stdout",
     "output_type": "stream",
     "text": [
      "Similarity index with 2 documents in 0 shards (stored under workdir/)\n"
     ]
    },
    {
     "data": {
      "text/plain": [
       "0.322748601436615"
      ]
     },
     "execution_count": 65,
     "metadata": {},
     "output_type": "execute_result"
    }
   ],
   "source": [
    "compare(docs[1], X_train_100[1])\n"
   ]
  },
  {
   "cell_type": "code",
   "execution_count": 70,
   "metadata": {},
   "outputs": [
    {
     "name": "stdout",
     "output_type": "stream",
     "text": [
      "Similarity index with 2 documents in 0 shards (stored under workdir/)\n"
     ]
    },
    {
     "data": {
      "text/plain": [
       "0.4999999701976776"
      ]
     },
     "execution_count": 70,
     "metadata": {},
     "output_type": "execute_result"
    }
   ],
   "source": [
    "compare('The best thing ever. The best .', 'The best thing ever. The best .')"
   ]
  }
 ],
 "metadata": {
  "interpreter": {
   "hash": "62a3362af9fb780a0eb03402584da787fc1a1b0aa4d8f94c680e96f1c63d9193"
  },
  "kernelspec": {
   "display_name": "Python 3.9.7 64-bit",
   "language": "python",
   "name": "python3"
  },
  "language_info": {
   "codemirror_mode": {
    "name": "ipython",
    "version": 3
   },
   "file_extension": ".py",
   "mimetype": "text/x-python",
   "name": "python",
   "nbconvert_exporter": "python",
   "pygments_lexer": "ipython3",
   "version": "3.9.7"
  },
  "orig_nbformat": 4
 },
 "nbformat": 4,
 "nbformat_minor": 2
}
>>>>>>> 174e67437034d667308c7a1fb93653e56d9c90a1
