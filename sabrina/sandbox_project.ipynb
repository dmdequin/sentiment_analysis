{
 "cells": [
  {
   "cell_type": "code",
   "execution_count": 2,
   "metadata": {},
   "outputs": [],
   "source": [
    "# !wget http://deepyeti.ucsd.edu/jianmo/amazon/categoryFilesSmall/Video_Games_5.json.gz\n",
    "# !gzip -d -k Video_Games_5.json.gz"
   ]
  },
  {
   "cell_type": "code",
   "execution_count": 3,
   "metadata": {},
   "outputs": [],
   "source": [
    "import pandas as pd\n",
    "import numpy as np\n",
    "import seaborn as sns\n",
    "import gensim"
   ]
  },
  {
   "cell_type": "code",
   "execution_count": 4,
   "metadata": {},
   "outputs": [
    {
     "data": {
      "text/plain": [
       "(497577, 12)"
      ]
     },
     "execution_count": 4,
     "metadata": {},
     "output_type": "execute_result"
    }
   ],
   "source": [
    "df = pd.read_json('Video_Games_5.json', orient='records', lines=True)\n",
    "df.shape"
   ]
  },
  {
   "cell_type": "code",
   "execution_count": 5,
   "metadata": {},
   "outputs": [
    {
     "data": {
      "text/plain": [
       "<seaborn.axisgrid.FacetGrid at 0x7fdeec3f8c10>"
      ]
     },
     "execution_count": 5,
     "metadata": {},
     "output_type": "execute_result"
    },
    {
     "data": {
      "image/png": "[encoded data removed]",
      "text/plain": [
       "<Figure size 360x360 with 1 Axes>"
      ]
     },
     "metadata": {
      "needs_background": "light"
     },
     "output_type": "display_data"
    }
   ],
   "source": [
    "sns.displot(df['overall'])"
   ]
  },
  {
   "cell_type": "code",
   "execution_count": 6,
   "metadata": {},
   "outputs": [
    {
     "name": "stdout",
     "output_type": "stream",
     "text": [
      "(448431, 12)\n"
     ]
    },
    {
     "data": {
      "text/html": [
       "<div>\n",
       "<style scoped>\n",
       "    .dataframe tbody tr th:only-of-type {\n",
       "        vertical-align: middle;\n",
       "    }\n",
       "\n",
       "    .dataframe tbody tr th {\n",
       "        vertical-align: top;\n",
       "    }\n",
       "\n",
       "    .dataframe thead th {\n",
       "        text-align: right;\n",
       "    }\n",
       "</style>\n",
       "<table border=\"1\" class=\"dataframe\">\n",
       "  <thead>\n",
       "    <tr style=\"text-align: right;\">\n",
       "      <th></th>\n",
       "      <th>overall</th>\n",
       "      <th>verified</th>\n",
       "      <th>reviewTime</th>\n",
       "      <th>reviewerID</th>\n",
       "      <th>asin</th>\n",
       "      <th>reviewerName</th>\n",
       "      <th>reviewText</th>\n",
       "      <th>summary</th>\n",
       "      <th>unixReviewTime</th>\n",
       "      <th>vote</th>\n",
       "      <th>style</th>\n",
       "      <th>image</th>\n",
       "    </tr>\n",
       "  </thead>\n",
       "  <tbody>\n",
       "    <tr>\n",
       "      <th>0</th>\n",
       "      <td>5</td>\n",
       "      <td>True</td>\n",
       "      <td>10 17, 2015</td>\n",
       "      <td>A1HP7NVNPFMA4N</td>\n",
       "      <td>0700026657</td>\n",
       "      <td>Ambrosia075</td>\n",
       "      <td>This game is a bit hard to get the hang of, bu...</td>\n",
       "      <td>but when you do it's great.</td>\n",
       "      <td>1445040000</td>\n",
       "      <td>NaN</td>\n",
       "      <td>NaN</td>\n",
       "      <td>NaN</td>\n",
       "    </tr>\n",
       "    <tr>\n",
       "      <th>1</th>\n",
       "      <td>4</td>\n",
       "      <td>False</td>\n",
       "      <td>07 27, 2015</td>\n",
       "      <td>A1JGAP0185YJI6</td>\n",
       "      <td>0700026657</td>\n",
       "      <td>travis</td>\n",
       "      <td>I played it a while but it was alright. The st...</td>\n",
       "      <td>But in spite of that it was fun, I liked it</td>\n",
       "      <td>1437955200</td>\n",
       "      <td>NaN</td>\n",
       "      <td>NaN</td>\n",
       "      <td>NaN</td>\n",
       "    </tr>\n",
       "    <tr>\n",
       "      <th>3</th>\n",
       "      <td>2</td>\n",
       "      <td>True</td>\n",
       "      <td>02 20, 2015</td>\n",
       "      <td>A2204E1TH211HT</td>\n",
       "      <td>0700026657</td>\n",
       "      <td>Grandma KR</td>\n",
       "      <td>found the game a bit too complicated, not what...</td>\n",
       "      <td>Two Stars</td>\n",
       "      <td>1424390400</td>\n",
       "      <td>NaN</td>\n",
       "      <td>NaN</td>\n",
       "      <td>NaN</td>\n",
       "    </tr>\n",
       "  </tbody>\n",
       "</table>\n",
       "</div>"
      ],
      "text/plain": [
       "   overall  verified   reviewTime      reviewerID        asin reviewerName  \\\n",
       "0        5      True  10 17, 2015  A1HP7NVNPFMA4N  0700026657  Ambrosia075   \n",
       "1        4     False  07 27, 2015  A1JGAP0185YJI6  0700026657       travis   \n",
       "3        2      True  02 20, 2015  A2204E1TH211HT  0700026657   Grandma KR   \n",
       "\n",
       "                                          reviewText  \\\n",
       "0  This game is a bit hard to get the hang of, bu...   \n",
       "1  I played it a while but it was alright. The st...   \n",
       "3  found the game a bit too complicated, not what...   \n",
       "\n",
       "                                       summary  unixReviewTime vote style  \\\n",
       "0                  but when you do it's great.      1445040000  NaN   NaN   \n",
       "1  But in spite of that it was fun, I liked it      1437955200  NaN   NaN   \n",
       "3                                    Two Stars      1424390400  NaN   NaN   \n",
       "\n",
       "  image  \n",
       "0   NaN  \n",
       "1   NaN  \n",
       "3   NaN  "
      ]
     },
     "execution_count": 6,
     "metadata": {},
     "output_type": "execute_result"
    }
   ],
   "source": [
    "df_no3 = df[df['overall'].isin([1,2,4,5])]\n",
    "print(df_no3.shape)\n",
    "df_no3.head(3)"
   ]
  },
  {
   "cell_type": "code",
   "execution_count": 7,
   "metadata": {},
   "outputs": [
    {
     "name": "stderr",
     "output_type": "stream",
     "text": [
      "/tmp/ipykernel_149/2452910105.py:9: SettingWithCopyWarning: \n",
      "A value is trying to be set on a copy of a slice from a DataFrame.\n",
      "Try using .loc[row_indexer,col_indexer] = value instead\n",
      "\n",
      "See the caveats in the documentation: https://pandas.pydata.org/pandas-docs/stable/user_guide/indexing.html#returning-a-view-versus-a-copy\n",
      "  df_no3['sentiment'] = df_no3['overall'].map(dict_class)\n",
      "/tmp/ipykernel_149/2452910105.py:10: SettingWithCopyWarning: \n",
      "A value is trying to be set on a copy of a slice from a DataFrame.\n",
      "Try using .loc[row_indexer,col_indexer] = value instead\n",
      "\n",
      "See the caveats in the documentation: https://pandas.pydata.org/pandas-docs/stable/user_guide/indexing.html#returning-a-view-versus-a-copy\n",
      "  df_no3['rev_sum'] = df_no3['summary'] + ' ' + df_no3['reviewText']\n"
     ]
    },
    {
     "data": {
      "text/plain": [
       "(448431, 2)"
      ]
     },
     "execution_count": 7,
     "metadata": {},
     "output_type": "execute_result"
    }
   ],
   "source": [
    "dict_class = {\n",
    "    1 : 0,\n",
    "    2 : 0,\n",
    "    4 : 1,\n",
    "    5 : 1\n",
    "}\n",
    "\n",
    "# map reviews to sentiment classification\n",
    "df_no3['sentiment'] = df_no3['overall'].map(dict_class)\n",
    "df_no3['rev_sum'] = df_no3['summary'] + ' ' + df_no3['reviewText']\n",
    "# df_no3.head(3)\n",
    "\n",
    "# get only relevant columns\n",
    "df_games = pd.DataFrame()\n",
    "df_games = df_no3[['rev_sum', 'sentiment']]\n",
    "df_games.shape"
   ]
  },
  {
   "cell_type": "code",
   "execution_count": 8,
   "metadata": {},
   "outputs": [],
   "source": [
    "from sklearn.model_selection import train_test_split\n",
    "\n",
    "X_game, y_game = df_games['rev_sum'], df_games['sentiment']\n",
    "\n",
    "X_train, X_temp, y_train, y_temp = train_test_split(X_game, y_game, test_size=0.2, train_size = 0.8, stratify=y_game, random_state=42)\n",
    "X_dev, X_test, y_dev, y_test = train_test_split(X_temp, y_temp, test_size = 0.5, train_size = 0.5, stratify=y_temp, random_state=42)"
   ]
  },
  {
   "cell_type": "code",
   "execution_count": 9,
   "metadata": {},
   "outputs": [
    {
     "data": {
      "text/plain": [
       "((358744,), (44843,), (44844,))"
      ]
     },
     "execution_count": 9,
     "metadata": {},
     "output_type": "execute_result"
    }
   ],
   "source": [
    "X_train.shape, X_dev.shape, X_test.shape"
   ]
  },
  {
   "cell_type": "markdown",
   "metadata": {},
   "source": [
    "# Similarity\n",
    "from https://dev.to/thepylot/compare-documents-similarity-using-python-nlp-4odp"
   ]
  },
  {
   "cell_type": "code",
   "execution_count": 10,
   "metadata": {},
   "outputs": [
    {
     "data": {
      "text/plain": [
       "\"hmmmm, what was I thinking I bought this for my PSP so that if I was traveling with the kids they could play it (as opposed to their leapster).  Well it is too difficult for them, and for me as an adult it is my last choice.  For a 8-12 year old, it is probably good, I just can't rate it high for myself or my kids.\""
      ]
     },
     "execution_count": 10,
     "metadata": {},
     "output_type": "execute_result"
    }
   ],
   "source": [
    "list(X_train[0:100])[0]"
   ]
  },
  {
   "cell_type": "code",
   "execution_count": 11,
   "metadata": {},
   "outputs": [],
   "source": [
    "# X_train[:100].to_csv('X_train_100.txt', index=False)\n",
    "X_train_100 = list(X_train[:100])\n",
    "X_train_1000 = list(X_train[:1000])\n",
    "total_diff = 'My house is really small and this vacuum cleaner is perfect for it! Has enough power to pick up debris and clean carpets.'"
   ]
  },
  {
   "cell_type": "code",
   "execution_count": 12,
   "metadata": {},
   "outputs": [],
   "source": [
    "# one big string\n",
    "df = pd.DataFrame(X_train_100)\n",
    "X_train_joint = ' '.join(df[0].astype(str))"
   ]
  },
  {
   "cell_type": "code",
   "execution_count": 13,
   "metadata": {},
   "outputs": [],
   "source": [
    "import pandas as pd\n",
    "import numpy as np\n",
    "import seaborn as sns\n",
    "import gensim\n",
    "\n",
    "import nltk\n",
    "from nltk.tokenize import word_tokenize, sent_tokenize"
   ]
  },
  {
   "cell_type": "code",
   "execution_count": 14,
   "metadata": {},
   "outputs": [],
   "source": [
    "# list of strings, paragraph to sentences\n",
    "file_docs = sent_tokenize(X_train_joint)\n",
    "file2_docs = sent_tokenize(X_train_100[0])\n",
    "file3_docs = sent_tokenize(total_diff)"
   ]
  },
  {
   "cell_type": "code",
   "execution_count": 15,
   "metadata": {},
   "outputs": [],
   "source": [
    "def compare_text(corpus1, corpus2):\n",
    "    \n",
    "    # tokenize corpus into sentences\n",
    "    # list of strings\n",
    "    first = sent_tokenize(corpus1)\n",
    "    second = sent_tokenize(corpus2)\n",
    "\n",
    "    # list of lists, words as tokens for corpus 1\n",
    "    gen_docs = [[w.lower() for w in word_tokenize(text)] for text in first]\n",
    "\n",
    "    dictionary = gensim.corpora.Dictionary(gen_docs)\n",
    "    corpus = [dictionary.doc2bow(gen_doc) for gen_doc in gen_docs]\n",
    "    tf_idf = gensim.models.TfidfModel(corpus)\n",
    "\n",
    "    # # building the index\n",
    "    sims = gensim.similarities.Similarity('workdir/', tf_idf[corpus], num_features=len(dictionary))\n",
    "\n",
    "    for line in second:\n",
    "        # list of lists, words as tokens for corpus 2\n",
    "        query_doc = [w.lower() for w in word_tokenize(line)]\n",
    "\n",
    "        # update an existing dictionary and create bag of words\n",
    "        query_doc_bow = dictionary.doc2bow(query_doc)\n",
    "\n",
    "    query_doc_tf_idf = tf_idf[query_doc_bow]\n",
    "\n",
    "    sum_of_sims =(np.sum(sims[query_doc_tf_idf], dtype=np.float32))\n",
    "    print(sum_of_sims)\n",
    "\n",
    "    print('Comparing Result:', sims[query_doc_tf_idf]) \n",
    "    \n",
    "    # percentage_of_similarity = round(float((sum_of_sims / len(file_docs))))\n",
    "    # print(percentage_of_similarity)\n"
   ]
  },
  {
   "cell_type": "code",
   "execution_count": 16,
   "metadata": {},
   "outputs": [
    {
     "data": {
      "text/plain": [
       "\"hmmmm, what was I thinking I bought this for my PSP so that if I was traveling with the kids they could play it (as opposed to their leapster).  Well it is too difficult for them, and for me as an adult it is my last choice.  For a 8-12 year old, it is probably good, I just can't rate it high for myself or my kids.\""
      ]
     },
     "execution_count": 16,
     "metadata": {},
     "output_type": "execute_result"
    }
   ],
   "source": [
    "X_train_100[0]"
   ]
  },
  {
   "cell_type": "code",
   "execution_count": 17,
   "metadata": {},
   "outputs": [
    {
     "data": {
      "text/plain": [
       "\"Racing at its console best. EA sports has neared perfection.  They could only make very few improvements.  Such as matching your pit box with your starting position in the race.  Having the weather affect the track to some degree.  Otherwise this game is screaming.  My only gripe, is the fantasy super speedway you can unlock you have to race the wrong direction on.  Racing a track the opposite direction at 239 miles per hour (thats right no restrictor plates on this track).  I bought this game right away and haven't had the first regret since.  By the way, in carreer mode you can sign up with a sponsor that lets you drive the earnhardt #3 car.  :)\""
      ]
     },
     "execution_count": 17,
     "metadata": {},
     "output_type": "execute_result"
    }
   ],
   "source": [
    "X_train_100[3]"
   ]
  },
  {
   "cell_type": "code",
   "execution_count": 18,
   "metadata": {},
   "outputs": [
    {
     "name": "stdout",
     "output_type": "stream",
     "text": [
      "0.19426325\n",
      "Comparing Result: [0.19426325 0.         0.        ]\n",
      "0.5719042\n",
      "Comparing Result: [0.16823691 0.08832876 0.31533852]\n",
      "0.8307915\n",
      "Comparing Result: [0.2721454  0.1428834  0.41576266]\n",
      "1.0516691\n",
      "Comparing Result: [0.02890523 0.02276399 0.99999994]\n",
      "0.35372525\n",
      "Comparing Result: [0.13736486 0.21636038 0.        ]\n"
     ]
    }
   ],
   "source": [
    "compare_text(X_train_100[0], X_train_100[3])\n",
    "compare_text(X_train_100[0], X_train_100[2])\n",
    "compare_text(X_train_100[0], X_train_100[1])\n",
    "compare_text(X_train_100[0], X_train_100[0])\n",
    "compare_text(X_train_100[0], total_diff)"
   ]
  },
  {
   "cell_type": "code",
   "execution_count": 19,
   "metadata": {},
   "outputs": [
    {
     "data": {
      "text/plain": [
       "\"hmmmm, what was I thinking I bought this for my PSP so that if I was traveling with the kids they could play it (as opposed to their leapster).  Well it is too difficult for them, and for me as an adult it is my last choice.  For a 8-12 year old, it is probably good, I just can't rate it high for myself or my kids.\""
      ]
     },
     "execution_count": 19,
     "metadata": {},
     "output_type": "execute_result"
    }
   ],
   "source": [
    "X_train_100[0]"
   ]
  },
  {
   "cell_type": "code",
   "execution_count": 20,
   "metadata": {},
   "outputs": [
    {
     "data": {
      "text/plain": [
       "\"Racing at its console best. EA sports has neared perfection.  They could only make very few improvements.  Such as matching your pit box with your starting position in the race.  Having the weather affect the track to some degree.  Otherwise this game is screaming.  My only gripe, is the fantasy super speedway you can unlock you have to race the wrong direction on.  Racing a track the opposite direction at 239 miles per hour (thats right no restrictor plates on this track).  I bought this game right away and haven't had the first regret since.  By the way, in carreer mode you can sign up with a sponsor that lets you drive the earnhardt #3 car.  :)\""
      ]
     },
     "execution_count": 20,
     "metadata": {},
     "output_type": "execute_result"
    }
   ],
   "source": [
    "X_train_100[3]"
   ]
  },
  {
   "cell_type": "code",
   "execution_count": 21,
   "metadata": {},
   "outputs": [
    {
     "data": {
      "text/plain": [
       "'My house is really small and this vacuum cleaner is perfect for it! Has enough power to pick up debris and clean carpets.'"
      ]
     },
     "execution_count": 21,
     "metadata": {},
     "output_type": "execute_result"
    }
   ],
   "source": [
    "total_diff"
   ]
  },
  {
   "cell_type": "code",
   "execution_count": 22,
   "metadata": {},
   "outputs": [],
   "source": [
    "# X_train_joint"
   ]
  },
  {
   "cell_type": "code",
   "execution_count": 23,
   "metadata": {},
   "outputs": [
    {
     "name": "stdout",
     "output_type": "stream",
     "text": [
      "7.4918284\n",
      "Comparing Result: [0.08128969 0.         0.         0.         0.         0.\n",
      " 0.         0.         0.         0.3230962  0.         0.\n",
      " 0.         0.         0.         0.         0.         0.\n",
      " 0.         0.         0.         0.         0.         0.\n",
      " 0.         0.         0.         0.08155163 0.         0.\n",
      " 0.         0.         0.         0.         0.         0.07400901\n",
      " 0.         0.         0.         0.         0.         0.\n",
      " 0.         0.         0.         0.         0.         0.\n",
      " 0.06878629 0.         0.         0.21416041 0.         0.\n",
      " 0.         0.         0.         0.1005437  0.         0.10265557\n",
      " 0.0732097  0.         0.17486972 0.         0.0944374  0.\n",
      " 0.         0.         0.         0.         0.11179182 0.\n",
      " 0.         0.         0.         0.         0.         0.\n",
      " 0.         0.         0.         0.         0.         0.\n",
      " 0.         0.         0.         0.         0.         0.\n",
      " 0.         0.         0.         0.         0.         0.10755602\n",
      " 0.         0.10842442 0.         0.10270875 0.         0.\n",
      " 0.11403544 0.         0.         0.         0.         0.0946697\n",
      " 0.         0.         0.         0.         0.         0.\n",
      " 0.         0.         0.         0.         0.         0.\n",
      " 0.         0.         0.         0.         0.         0.\n",
      " 0.         0.         0.         0.         0.14623702 0.\n",
      " 0.06727733 0.07253391 0.         0.06183295 0.         0.\n",
      " 0.         0.         0.         0.         0.         0.\n",
      " 0.07782973 0.         0.07603326 0.         0.         0.\n",
      " 0.10790943 0.         0.         0.         0.         0.\n",
      " 0.         0.         0.         0.21200356 0.16272138 0.\n",
      " 0.         0.         0.         0.         0.         0.\n",
      " 0.         0.         0.         0.         0.         0.\n",
      " 0.         0.         0.         0.         0.17293942 0.\n",
      " 0.         0.         0.         0.         0.         0.\n",
      " 0.         0.         0.         0.         0.07726764 0.\n",
      " 0.         0.         0.         0.13748932 0.         0.\n",
      " 0.         0.         0.         0.         0.         0.\n",
      " 0.         0.         0.         0.         0.         0.\n",
      " 0.         0.         0.07281198 0.         0.         0.\n",
      " 0.         0.         0.         0.         0.         0.\n",
      " 0.         0.         0.         0.         0.         0.\n",
      " 0.         0.         0.         0.         0.         0.\n",
      " 0.         0.         0.         0.         0.         0.\n",
      " 0.         0.         0.         0.         0.         0.\n",
      " 0.         0.         0.         0.         0.         0.\n",
      " 0.         0.         0.         0.         0.1035104  0.\n",
      " 0.07243706 0.         0.         0.16741273 0.16939616 0.\n",
      " 0.         0.         0.         0.         0.         0.\n",
      " 0.         0.         0.         0.         0.         0.\n",
      " 0.         0.         0.07182058 0.         0.15947798 0.\n",
      " 0.34519693 0.         0.         0.         0.         0.\n",
      " 0.         0.35837424 0.         0.         0.         0.\n",
      " 0.         0.         0.         0.         0.         0.\n",
      " 0.         0.         0.         0.         0.         0.\n",
      " 0.         0.         0.         0.         0.         0.\n",
      " 0.         0.         0.         0.         0.         0.\n",
      " 0.         0.         0.         0.         0.         0.\n",
      " 0.         0.         0.         0.         0.         0.\n",
      " 0.         0.         0.         0.         0.         0.\n",
      " 0.         0.         0.         0.         0.         0.\n",
      " 0.         0.         0.06269579 0.         0.         0.\n",
      " 0.         0.         0.04847484 0.         0.         0.\n",
      " 0.04849237 0.         0.         0.         0.         0.\n",
      " 0.         0.         0.         0.         0.         0.\n",
      " 0.         0.         0.         0.         0.         0.\n",
      " 0.         0.         0.         0.         0.         0.\n",
      " 0.         0.         0.         0.         0.         0.0663453\n",
      " 0.         0.         0.         0.         0.         0.\n",
      " 0.         0.         0.         0.         0.         0.\n",
      " 0.         0.         0.         0.         0.         0.\n",
      " 0.         0.         0.         0.         0.         0.\n",
      " 0.         0.         0.         0.         0.         0.\n",
      " 0.         0.         0.         0.         0.         0.\n",
      " 0.         0.         0.         0.         0.         0.\n",
      " 0.         0.         0.         0.         0.         0.\n",
      " 0.08802129 0.         0.         0.         0.         0.\n",
      " 0.2210928  0.         0.         0.         0.         0.\n",
      " 0.         0.         0.         0.         0.         0.\n",
      " 0.         0.         0.         0.         0.         0.\n",
      " 0.         0.         0.         0.         0.         0.\n",
      " 0.         0.         0.         0.         0.         0.\n",
      " 0.         0.         0.         0.         0.         0.\n",
      " 0.         0.         0.         0.         0.         0.\n",
      " 0.         0.         0.         0.         0.         0.\n",
      " 0.         0.         0.         0.         0.         0.\n",
      " 0.         0.         0.         0.         0.         0.\n",
      " 0.         0.         0.         0.         0.         0.\n",
      " 0.         0.         0.         0.09565803 0.         0.\n",
      " 0.         0.         0.         0.         0.         0.\n",
      " 0.         0.         0.         0.         0.         0.\n",
      " 0.         0.08823743 0.         0.         0.         0.\n",
      " 0.06498935 0.         0.         0.         0.14486647 0.\n",
      " 0.         0.         0.17709924 0.         0.         0.\n",
      " 0.         0.         0.         0.         0.         0.\n",
      " 0.         0.         0.         0.         0.         0.\n",
      " 0.         0.         0.         0.         0.         0.\n",
      " 0.         0.         0.         0.         0.         0.\n",
      " 0.         0.         0.         0.         0.         0.\n",
      " 0.         0.07402688 0.0482378  0.         0.         0.22819744\n",
      " 0.         0.         0.         0.         0.         0.\n",
      " 0.         0.         0.07448062 0.         0.         0.\n",
      " 0.         0.         0.         0.         0.         0.\n",
      " 0.         0.         0.         0.         0.         0.\n",
      " 0.         0.         0.         0.         0.         0.13329625\n",
      " 0.         0.         0.         0.15944745 0.         0.\n",
      " 0.         0.         0.         0.         0.         0.\n",
      " 0.         0.         0.         0.         0.         0.\n",
      " 0.         0.         0.         0.         0.         0.\n",
      " 0.20928174 0.         0.         0.         0.         0.\n",
      " 0.         0.         0.307424   0.         0.         0.\n",
      " 0.         0.         0.         0.         0.         0.\n",
      " 0.06369033 0.         0.         0.         0.         0.\n",
      " 0.         0.         0.         0.         0.         0.\n",
      " 0.09607213 0.         0.         0.07139231 0.         0.\n",
      " 0.         0.         0.         0.         0.         0.\n",
      " 0.         0.         0.         0.         0.         0.\n",
      " 0.         0.         0.         0.         0.         0.\n",
      " 0.        ]\n",
      "24.195408\n",
      "Comparing Result: [4.75141071e-02 5.63982502e-02 9.06149745e-02 5.07611036e-02\n",
      " 7.86571577e-02 8.30137953e-02 6.02886006e-02 2.39023156e-02\n",
      " 2.59738714e-01 5.40221263e-05 9.68957174e-05 1.21991467e-02\n",
      " 6.18415400e-02 3.99271473e-02 3.54610421e-02 3.14352587e-02\n",
      " 3.18563730e-02 1.17987227e-04 1.17987227e-04 2.39136461e-02\n",
      " 8.38315040e-02 4.27872054e-02 4.37766202e-02 1.23148598e-02\n",
      " 2.98277289e-02 1.05960222e-04 8.92596145e-05 9.77708027e-02\n",
      " 1.41352087e-01 1.01114251e-01 2.76003610e-02 7.55508244e-02\n",
      " 5.90709895e-02 9.51923802e-03 4.20785621e-02 2.66177375e-02\n",
      " 1.22614726e-01 9.53085423e-02 1.72990814e-01 4.48477976e-02\n",
      " 1.00000012e+00 4.84971788e-05 3.25999260e-02 4.36552073e-05\n",
      " 1.28350286e-02 3.33638527e-05 1.28675988e-02 1.36616975e-02\n",
      " 5.07682748e-03 3.37733626e-02 4.72203717e-02 1.28514497e-02\n",
      " 3.76151055e-02 1.03387080e-01 2.08294541e-02 7.74072930e-02\n",
      " 7.62033183e-03 6.02164194e-02 2.93773822e-02 2.41526421e-02\n",
      " 4.94602136e-02 1.02943452e-02 1.10434489e-02 7.11842658e-05\n",
      " 2.06736531e-02 2.17254050e-02 6.26838282e-02 6.21331111e-03\n",
      " 6.54842779e-02 1.83991902e-02 5.01343086e-02 1.88974738e-02\n",
      " 5.74252754e-02 1.26244305e-02 4.83883992e-02 5.03277555e-02\n",
      " 1.10981248e-01 2.95818372e-05 2.85173766e-02 4.05931026e-02\n",
      " 1.98901575e-02 4.79240080e-05 1.79639924e-02 1.97489485e-02\n",
      " 4.75975685e-02 9.95623413e-03 8.80105217e-05 4.32091393e-02\n",
      " 8.46525356e-02 1.44844323e-01 9.67421234e-02 8.80105217e-05\n",
      " 2.56269388e-02 8.67934749e-02 5.32750636e-02 2.94602705e-05\n",
      " 3.79738323e-02 1.33168129e-02 4.79110749e-05 1.58479866e-02\n",
      " 2.74520899e-05 4.72535248e-05 1.42146163e-02 2.21396622e-05\n",
      " 1.39862485e-02 1.54978745e-02 1.16539346e-02 5.64298518e-02\n",
      " 2.45303959e-02 6.68223426e-02 2.54607350e-02 1.64225008e-02\n",
      " 5.67481443e-02 1.48271278e-01 1.71642080e-01 2.81094518e-02\n",
      " 3.73192306e-05 3.82090881e-02 4.81157440e-05 1.24955557e-01\n",
      " 1.72229856e-02 7.58340320e-05 3.58721390e-02 3.54723968e-02\n",
      " 1.15375891e-01 5.40167838e-02 2.59674005e-02 1.85049456e-02\n",
      " 8.11694115e-02 3.36568132e-02 1.64715163e-02 4.38056159e-05\n",
      " 9.06745121e-02 8.10579434e-02 2.51325648e-02 5.35200164e-02\n",
      " 1.21854935e-02 1.34215336e-02 2.89972126e-02 4.88638216e-05\n",
      " 1.63298994e-02 2.44836137e-02 3.84045243e-02 2.79030483e-02\n",
      " 9.70154442e-03 2.83938480e-05 1.50970351e-02 1.55758001e-02\n",
      " 7.59821460e-02 8.36831704e-03 7.22705899e-03 7.53070563e-02\n",
      " 3.17119807e-03 4.71045375e-02 1.18770106e-02 4.23691563e-05\n",
      " 8.71635377e-02 1.36658885e-02 9.63362306e-03 6.78507537e-02\n",
      " 3.38181220e-02 3.70189250e-02 5.91265410e-02 4.63283248e-02\n",
      " 1.24228671e-02 3.08568813e-02 3.53198993e-05 3.16218429e-05\n",
      " 3.53195495e-03 4.12752992e-03 2.07848288e-03 1.03113592e-01\n",
      " 3.08247074e-03 8.03682208e-02 0.00000000e+00 3.88220139e-02\n",
      " 3.48638045e-03 1.90028753e-02 4.99816500e-02 6.43728854e-05\n",
      " 8.06176066e-02 4.02663760e-02 1.17874974e-02 6.31688684e-02\n",
      " 8.70971195e-03 7.27898777e-02 4.28390801e-02 5.85297421e-02\n",
      " 1.99713670e-02 4.65252064e-03 3.94984195e-03 1.49442572e-02\n",
      " 2.81313551e-05 1.04309648e-01 6.97060823e-02 1.83729976e-02\n",
      " 6.89527392e-02 7.38988072e-02 0.00000000e+00 9.72993970e-02\n",
      " 1.05435811e-02 1.21409811e-01 3.41840610e-02 3.63552943e-03\n",
      " 2.09602397e-02 4.11994733e-05 4.92671914e-02 4.95537259e-02\n",
      " 0.00000000e+00 3.99736746e-05 2.15655118e-02 0.00000000e+00\n",
      " 5.86314276e-02 3.33303176e-02 1.36991385e-02 3.03989761e-02\n",
      " 2.96735634e-05 6.26222268e-02 3.99103537e-02 1.98874418e-02\n",
      " 6.29091810e-05 0.00000000e+00 6.07065894e-02 2.67608091e-03\n",
      " 2.98799258e-02 4.07071039e-03 1.38553381e-02 5.43863419e-03\n",
      " 0.00000000e+00 1.64225008e-02 1.72005650e-02 1.23429736e-02\n",
      " 7.65083432e-02 4.25811777e-05 4.33984023e-05 4.63301241e-02\n",
      " 3.49388101e-05 1.96453575e-02 3.77285578e-05 5.18465415e-02\n",
      " 3.87897635e-05 7.37273321e-03 4.57218364e-02 1.09459646e-02\n",
      " 3.69976237e-02 6.89547451e-05 6.17315155e-03 7.35992071e-05\n",
      " 1.27061037e-02 7.61620849e-02 3.62035632e-02 3.77678126e-02\n",
      " 8.59558117e-03 5.35658970e-02 7.68959597e-02 9.73225310e-02\n",
      " 9.47390497e-03 1.62952263e-02 1.07093826e-02 7.85464272e-02\n",
      " 1.48680434e-01 5.22406306e-03 3.29599231e-02 5.67431981e-03\n",
      " 2.95009759e-05 9.96848643e-02 6.63882308e-03 5.32153435e-02\n",
      " 3.26308683e-02 1.75307021e-02 2.35634185e-02 7.11539313e-02\n",
      " 3.15100513e-03 2.39597894e-02 2.18979530e-02 1.77174136e-02\n",
      " 1.75773911e-02 4.18529622e-02 2.55743042e-02 1.24111809e-02\n",
      " 4.41179201e-02 2.47216057e-02 5.77174069e-05 3.72847281e-02\n",
      " 1.03571832e-01 1.17987227e-04 5.28767658e-03 1.05960222e-04\n",
      " 6.38109148e-02 5.99206724e-05 3.55805787e-05 8.50087106e-02\n",
      " 5.03531322e-02 1.17987227e-04 6.03333768e-03 1.05960222e-04\n",
      " 5.49151190e-03 3.82358618e-02 9.68957174e-05 8.01239982e-02\n",
      " 0.00000000e+00 7.03131445e-05 2.92085670e-02 5.52022420e-02\n",
      " 4.05118590e-05 9.68957174e-05 3.07724085e-02 1.05960222e-04\n",
      " 3.80308786e-03 2.95020764e-05 2.47307234e-02 9.40766409e-02\n",
      " 7.02270120e-02 6.69219047e-02 2.52977200e-02 0.00000000e+00\n",
      " 1.11514516e-01 1.69352572e-02 3.60117033e-02 5.69401160e-02\n",
      " 1.47243217e-01 1.66763991e-01 3.86330830e-05 1.66763991e-01\n",
      " 6.10164570e-05 9.95721295e-03 3.02222576e-02 3.00956033e-02\n",
      " 3.60047306e-05 7.00922319e-05 2.20349785e-02 3.00926547e-02\n",
      " 2.43462948e-03 4.22852375e-02 1.16332851e-01 5.33575825e-02\n",
      " 4.27184179e-02 3.20945233e-02 7.56544843e-02 1.41889034e-02\n",
      " 2.34479718e-02 3.44332220e-05 1.83090493e-02 1.30682364e-01\n",
      " 4.06296514e-02 3.35692763e-02 5.47290370e-02 2.95989737e-02\n",
      " 5.50243556e-02 5.46241552e-02 3.52593698e-02 3.94370556e-02\n",
      " 4.81111184e-02 3.55348662e-02 4.38298024e-02 1.35791637e-02\n",
      " 6.12345804e-03 8.94265324e-02 8.02020133e-02 8.09092913e-03\n",
      " 4.86437697e-03 5.56721650e-02 3.61653753e-02 1.64225008e-02\n",
      " 0.00000000e+00 6.72804192e-02 3.96113005e-03 1.29635967e-02\n",
      " 2.94511276e-03 1.37792351e-02 4.41808589e-02 8.40317365e-03\n",
      " 4.20194641e-02 1.37141366e-02 4.52785045e-02 8.58681798e-02\n",
      " 1.25745595e-01 4.54779603e-02 3.86724770e-02 5.48723862e-02\n",
      " 8.20617937e-03 7.70539865e-02 4.63584292e-05 7.11314082e-02\n",
      " 4.26374099e-05 2.20097899e-02 5.71823621e-05 1.45529192e-02\n",
      " 2.39947382e-02 1.00199819e-01 2.21900102e-02 6.72024107e-05\n",
      " 3.90236522e-03 1.98558178e-02 2.40334608e-02 9.93302837e-02\n",
      " 2.50847451e-02 2.10093822e-05 2.95552029e-03 5.15088068e-05\n",
      " 7.02953190e-02 1.73840802e-02 1.06316861e-02 4.83860495e-03\n",
      " 4.46674228e-02 3.75602581e-02 4.42540331e-05 6.21296058e-05\n",
      " 4.00207043e-02 3.79166304e-05 2.99275307e-05 1.00259917e-04\n",
      " 1.82355847e-02 1.48970280e-02 1.00326464e-02 3.42607386e-02\n",
      " 1.14024011e-02 3.76627184e-02 4.50464941e-05 8.22883286e-03\n",
      " 8.30642506e-03 2.32034763e-05 2.74385661e-02 6.87209703e-03\n",
      " 1.02935014e-02 2.10693781e-03 6.24945023e-05 2.16451306e-02\n",
      " 7.12910667e-02 3.62977833e-02 5.35914260e-05 8.36502016e-02\n",
      " 6.64553493e-02 4.71992325e-03 5.10312989e-02 2.46394482e-02\n",
      " 1.53807793e-02 3.45468484e-02 1.32674146e-02 1.29044531e-02\n",
      " 5.67551397e-05 6.39733407e-05 4.52252898e-05 3.57106328e-02\n",
      " 2.54068784e-02 1.61786564e-02 1.49890874e-02 9.95494053e-03\n",
      " 3.01982727e-05 8.60921890e-02 3.11600547e-02 6.98917732e-03\n",
      " 5.00813387e-02 5.92622580e-03 7.14565590e-02 3.06195244e-02\n",
      " 4.50298786e-02 8.79175961e-02 4.31800447e-02 3.59227657e-02\n",
      " 5.75783057e-03 3.82014960e-02 1.71522722e-02 2.09683292e-02\n",
      " 3.24876606e-02 0.00000000e+00 7.66707672e-05 3.64734515e-05\n",
      " 3.94626368e-05 1.25449095e-02 3.52230445e-02 1.63818430e-02\n",
      " 4.48735729e-02 1.95157044e-02 1.62840057e-02 8.86664819e-03\n",
      " 2.79632378e-02 5.44661917e-02 7.45238215e-02 3.76011012e-05\n",
      " 5.88801950e-02 5.32298163e-03 4.27759662e-02 8.23088363e-03\n",
      " 1.73649285e-02 1.58163290e-02 7.33653903e-02 7.00093806e-02\n",
      " 1.76553763e-02 6.11419827e-02 2.37556584e-02 1.34292906e-02\n",
      " 4.44017537e-02 2.44136900e-02 2.17064586e-03 8.37072916e-03\n",
      " 4.48876657e-02 3.46964300e-02 5.21636009e-02 2.83401143e-02\n",
      " 2.48730946e-02 5.44946305e-02 3.19402316e-05 5.52791059e-02\n",
      " 3.16935666e-02 3.97907794e-02 4.46144768e-05 2.62013382e-05\n",
      " 8.13090876e-02 7.14693218e-02 2.76736412e-02 4.47891094e-02\n",
      " 1.44432662e-02 3.27692178e-05 6.17742335e-05 1.12186968e-02\n",
      " 2.32610218e-02 1.32040158e-02 5.03287576e-02 9.32538062e-02\n",
      " 4.81290855e-02 1.29237045e-02 6.01414554e-02 3.04023810e-02\n",
      " 4.08519991e-02 4.98594157e-02 4.35940363e-02 8.39414001e-02\n",
      " 4.01947573e-02 1.09145470e-01 1.54454589e-01 1.42620832e-01\n",
      " 3.96798387e-05 3.19744013e-02 2.88393795e-02 9.69804674e-02\n",
      " 1.83218382e-02 3.41027844e-05 3.91764380e-03 7.15903267e-02\n",
      " 3.10216360e-02 3.38598564e-02 4.45222855e-02 7.56824017e-02\n",
      " 5.10216778e-05 1.68714263e-02 1.92963779e-02 4.81331646e-02\n",
      " 3.17896642e-02 5.52379061e-05 4.05348255e-05 1.85684711e-02\n",
      " 6.37956522e-03 7.34438217e-05 5.41966328e-05 0.00000000e+00\n",
      " 0.00000000e+00 7.43991695e-05 2.67110709e-02 2.90196349e-05\n",
      " 4.21896949e-02 5.33594051e-03 6.08535036e-02 7.18560368e-02\n",
      " 5.73145691e-03 1.24897202e-02 5.05123753e-03 1.02443278e-01\n",
      " 6.92075491e-03 3.91029045e-02 6.46443069e-02 2.23368369e-02\n",
      " 5.35480045e-02 6.99688215e-03 0.00000000e+00 0.00000000e+00\n",
      " 4.09102176e-05 1.88778043e-02 4.46072668e-02 1.33903846e-02\n",
      " 4.69461903e-02 4.39154282e-02 2.17748657e-02 1.73313357e-02\n",
      " 9.21638012e-02 4.72890139e-02 4.34487686e-02 1.10548533e-01\n",
      " 8.04801565e-03 4.07128269e-03 4.58815172e-02 4.13694829e-02\n",
      " 6.98552355e-02 0.00000000e+00 7.33431876e-02 3.82924713e-02\n",
      " 2.91771553e-02 8.73853918e-03 9.64122301e-05 1.69305623e-01\n",
      " 4.52903062e-02 7.67161474e-02 4.85268829e-05 7.27883726e-02\n",
      " 1.79891344e-02 1.83312222e-02 1.45733412e-02 3.13257193e-03\n",
      " 3.01735272e-05 3.10285040e-03 4.23474470e-03 8.11200310e-03\n",
      " 4.09759923e-05 1.04188524e-01 1.06286034e-02 3.48078429e-05\n",
      " 3.05830035e-05 3.35030407e-02 4.44299112e-05 5.22293672e-02\n",
      " 6.73498660e-02 3.64285843e-05 1.17168827e-02 6.34756172e-03\n",
      " 2.95262016e-05 6.58125791e-05 2.25334652e-02 2.61685643e-02\n",
      " 3.68277542e-05 4.38588468e-05 9.42887273e-03 3.84201012e-05\n",
      " 4.84326780e-02 1.03281122e-02 5.27309924e-02 1.49214687e-02\n",
      " 7.56269146e-05 1.30652320e-02 1.05020307e-01 5.69801033e-02\n",
      " 3.69596593e-02 4.67437245e-02 2.09979638e-01 3.69839817e-02\n",
      " 4.29882221e-02 6.67261938e-03 4.99112941e-02 3.32382470e-02\n",
      " 2.07612701e-02 7.71915913e-02 2.77679898e-02 2.47565024e-02\n",
      " 7.33713657e-02 4.82106246e-02 7.57625848e-02 4.97419201e-03\n",
      " 2.88000964e-02 1.73261967e-02 3.34605668e-03 3.13529535e-03\n",
      " 1.86050624e-01 1.00178011e-01 4.79614399e-02 8.77675563e-02\n",
      " 0.00000000e+00 3.70565616e-02 2.11084858e-02 8.36373046e-02\n",
      " 4.53094799e-05 4.76206616e-02 5.71575474e-05 2.10959855e-02\n",
      " 2.28726305e-02 2.53917091e-02 1.92172620e-02 4.33842689e-02\n",
      " 7.04579055e-02 2.53259987e-02 7.58635998e-03 1.14278413e-01\n",
      " 1.21788599e-01 2.02606265e-02 1.83011107e-02 8.07164758e-02\n",
      " 7.51223713e-02]\n",
      "19.532475\n",
      "Comparing Result: [2.88480502e-02 1.53221209e-02 4.83902842e-02 9.77809787e-01\n",
      " 1.33433193e-02 2.05844510e-02 1.59822721e-02 2.45064851e-02\n",
      " 5.84688745e-02 5.88247029e-04 0.00000000e+00 1.23230098e-02\n",
      " 6.48549646e-02 4.52514961e-02 2.81888843e-02 1.44004114e-02\n",
      " 1.42937386e-02 2.03241304e-01 0.00000000e+00 4.46532592e-02\n",
      " 3.71758379e-02 1.81850698e-02 1.68290734e-02 1.84831955e-02\n",
      " 2.90405899e-02 5.65842800e-02 0.00000000e+00 3.13124508e-02\n",
      " 3.89604308e-02 2.97752898e-02 4.77671884e-02 1.93548575e-02\n",
      " 6.41429201e-02 1.15263136e-02 4.16681804e-02 8.10944568e-03\n",
      " 2.94227898e-02 3.72606739e-02 3.56247015e-02 2.23525055e-02\n",
      " 4.78568412e-02 1.37978382e-02 0.00000000e+00 1.21553680e-02\n",
      " 9.74697247e-03 7.26598082e-04 1.73143521e-02 5.50348312e-02\n",
      " 3.18711088e-03 3.24154161e-02 5.87273762e-02 2.35534236e-02\n",
      " 2.43071746e-02 6.25929758e-02 2.56508477e-02 3.22472979e-03\n",
      " 4.73510334e-03 2.34519280e-02 3.08558792e-02 2.12979526e-03\n",
      " 1.04753748e-02 3.75908986e-03 1.45828137e-02 4.62371446e-02\n",
      " 2.06327494e-02 1.49297379e-02 1.50387026e-02 1.39988679e-02\n",
      " 3.11062299e-02 1.20612904e-02 4.44916673e-02 3.35377567e-02\n",
      " 7.57329632e-03 1.60684381e-02 7.55510759e-03 7.06937630e-03\n",
      " 1.97665077e-02 6.44233369e-04 2.67482921e-02 3.08602005e-02\n",
      " 1.44755160e-02 2.31753848e-03 1.49357626e-02 4.08439003e-02\n",
      " 3.73128876e-02 2.60527693e-02 8.22073817e-02 1.76298469e-02\n",
      " 3.23141068e-02 1.75993852e-02 1.87746435e-02 8.22073817e-02\n",
      " 1.37319162e-01 4.03773151e-02 2.34090667e-02 3.20792955e-04\n",
      " 6.94125192e-03 3.16324309e-02 0.00000000e+00 3.27468514e-02\n",
      " 3.48381186e-03 1.37344087e-02 3.18026505e-02 3.15704406e-03\n",
      " 1.52816363e-02 1.69332661e-02 1.23461895e-02 1.41698599e-01\n",
      " 9.43064597e-03 3.97035889e-02 3.27446535e-02 1.65517911e-01\n",
      " 3.36624570e-02 6.70469925e-02 3.07780746e-02 7.96938762e-02\n",
      " 0.00000000e+00 9.56382696e-03 3.00138798e-02 1.72178876e-02\n",
      " 2.18601823e-02 3.08610424e-02 1.08372942e-02 1.77670233e-02\n",
      " 1.30326059e-02 2.00422183e-02 3.87598798e-02 4.00661724e-03\n",
      " 1.55814346e-02 3.89946066e-03 2.78726090e-02 2.11837888e-03\n",
      " 2.44489051e-02 2.96894312e-02 1.52849732e-02 5.01389382e-03\n",
      " 1.51444944e-02 2.76645608e-02 3.42706800e-03 8.07335228e-03\n",
      " 4.70620580e-03 1.52304787e-02 3.33044901e-02 3.39957327e-02\n",
      " 5.83582837e-03 3.09180643e-04 1.10953683e-02 6.14400301e-03\n",
      " 3.10038887e-02 2.15515420e-01 5.65804988e-02 5.46086580e-02\n",
      " 3.52249779e-02 1.00642703e-02 1.87800601e-02 3.99279036e-03\n",
      " 2.02534236e-02 3.60598182e-03 3.51580009e-02 3.13296877e-02\n",
      " 3.74244526e-02 1.35317352e-02 1.75891966e-02 2.82046734e-03\n",
      " 1.76192112e-02 2.23666951e-02 1.70802150e-03 3.05837719e-03\n",
      " 4.71462263e-03 8.56867582e-02 4.68565896e-03 1.32932784e-02\n",
      " 4.16475022e-03 6.59314692e-02 0.00000000e+00 2.15014163e-02\n",
      " 7.48513192e-02 2.98966840e-02 3.40960845e-02 6.76733814e-03\n",
      " 8.24002698e-02 1.15748178e-02 2.84197498e-02 1.41483843e-02\n",
      " 7.79323000e-03 3.64346504e-02 3.00914645e-02 1.43615548e-02\n",
      " 2.92086266e-02 1.92639399e-02 8.56708828e-03 2.13728379e-02\n",
      " 8.61342344e-03 2.08398588e-02 3.26623134e-02 2.87155099e-02\n",
      " 1.88450962e-02 1.90772302e-02 0.00000000e+00 3.43597382e-02\n",
      " 2.71224640e-02 5.36264591e-02 3.99902463e-02 5.21946279e-03\n",
      " 5.53072290e-03 0.00000000e+00 3.27310376e-02 3.07033826e-02\n",
      " 5.40005118e-02 0.00000000e+00 6.30161073e-03 2.84759514e-03\n",
      " 5.40130734e-02 1.76846907e-02 2.09298339e-02 4.03296277e-02\n",
      " 1.27870562e-02 6.65322598e-03 4.29231524e-02 3.76105532e-02\n",
      " 7.81864077e-02 0.00000000e+00 8.43830500e-03 9.67827905e-03\n",
      " 1.40027264e-02 5.52048627e-03 4.76029981e-03 2.29795910e-02\n",
      " 3.60455073e-04 1.65517911e-01 1.25671960e-02 1.29655832e-02\n",
      " 3.74675505e-02 6.53728005e-03 5.07166097e-03 1.90941393e-02\n",
      " 1.80844553e-02 2.33092681e-02 4.40906687e-03 3.79725881e-02\n",
      " 4.22381796e-04 4.71293181e-03 4.19416018e-02 1.54346395e-02\n",
      " 3.95522118e-02 4.08540433e-03 1.67332068e-02 7.79959094e-03\n",
      " 4.53736000e-02 1.10038025e-02 3.08000520e-02 2.34485418e-02\n",
      " 2.28948537e-02 2.67873183e-02 9.60128289e-03 7.41741508e-02\n",
      " 2.23366588e-01 3.30440775e-02 6.38626516e-03 4.14710194e-02\n",
      " 2.60514487e-02 1.37618068e-03 1.15090776e-02 2.48800707e-03\n",
      " 1.48513969e-02 2.30104569e-02 1.69861242e-02 5.60325431e-03\n",
      " 8.63457005e-03 1.70136299e-02 2.14459188e-02 1.89424567e-02\n",
      " 9.48792882e-03 0.00000000e+00 6.58188853e-03 3.35766077e-01\n",
      " 2.34283619e-02 1.76835023e-02 2.93593183e-02 3.58673304e-01\n",
      " 1.37076937e-02 9.14903730e-02 0.00000000e+00 1.10331569e-02\n",
      " 6.79416442e-03 2.03241304e-01 9.14703123e-03 5.65842800e-02\n",
      " 2.39530439e-03 0.00000000e+00 0.00000000e+00 2.05865484e-02\n",
      " 8.63782223e-03 2.03241304e-01 5.31156035e-03 5.65842800e-02\n",
      " 1.92152578e-02 1.13763325e-02 3.71296257e-01 2.95313983e-03\n",
      " 0.00000000e+00 0.00000000e+00 3.86499707e-03 6.61997404e-03\n",
      " 4.70002973e-03 6.18827119e-02 5.06127486e-03 0.00000000e+00\n",
      " 6.90503838e-03 0.00000000e+00 3.19831580e-01 3.42252515e-02\n",
      " 4.81003895e-02 4.32922766e-02 2.93591525e-02 0.00000000e+00\n",
      " 3.47126946e-02 1.16660567e-02 2.93822698e-02 1.77481547e-02\n",
      " 6.18435182e-02 4.72805947e-02 4.09409683e-03 4.72805947e-02\n",
      " 6.46614889e-03 2.09914856e-02 2.56375056e-02 1.40246525e-02\n",
      " 4.20761574e-03 3.26241553e-02 5.55423386e-02 5.29948026e-02\n",
      " 2.49394886e-02 5.22780120e-02 2.29094960e-02 1.38564650e-02\n",
      " 5.15559278e-02 1.85195077e-02 2.94904038e-02 1.93611961e-02\n",
      " 1.73760131e-02 2.07489021e-02 1.43105676e-02 2.48606466e-02\n",
      " 2.47649364e-02 9.63155366e-03 7.07610184e-03 1.65963303e-02\n",
      " 3.31643000e-02 2.98211798e-02 1.29504660e-02 4.56915703e-03\n",
      " 3.16060446e-02 1.15074106e-02 4.77712639e-02 5.68132661e-03\n",
      " 8.10227450e-03 2.06076186e-02 6.74880892e-02 3.81087586e-02\n",
      " 8.88869837e-02 7.96178263e-03 3.48704085e-02 1.65517911e-01\n",
      " 0.00000000e+00 6.45632297e-02 7.49636581e-03 1.94151457e-02\n",
      " 1.18749486e-02 6.79031387e-03 1.38488077e-02 2.89532486e-02\n",
      " 2.01266482e-02 8.35642032e-03 1.70164816e-02 3.35050896e-02\n",
      " 6.60896599e-02 1.17124747e-02 3.87054868e-02 2.86939554e-02\n",
      " 2.17340863e-03 3.50557119e-02 4.91278106e-03 7.39229321e-02\n",
      " 9.63950008e-02 1.82355419e-02 7.74976332e-03 6.83209524e-02\n",
      " 1.28855649e-02 2.11975928e-02 3.69497761e-02 0.00000000e+00\n",
      " 2.16087997e-02 2.18078997e-02 1.56702604e-02 9.17015411e-03\n",
      " 2.79488936e-02 2.22920775e-02 7.95864034e-03 7.44246691e-03\n",
      " 1.38521688e-02 1.75964162e-02 3.93936830e-03 3.35683078e-02\n",
      " 6.32968917e-03 3.46027277e-02 3.85755952e-03 0.00000000e+00\n",
      " 1.58947203e-02 4.12874215e-04 3.25880945e-04 0.00000000e+00\n",
      " 3.08522545e-02 1.29481759e-02 2.01562084e-02 8.39566346e-03\n",
      " 3.31150070e-02 1.47677381e-02 2.17838609e-03 9.69453715e-03\n",
      " 5.27569577e-02 1.01065077e-03 4.81785610e-02 2.41449736e-02\n",
      " 1.32425018e-02 3.79805407e-03 7.38040656e-02 5.24979047e-02\n",
      " 4.63439822e-02 4.04255837e-02 3.68179120e-02 2.91952137e-02\n",
      " 1.95891224e-02 2.47866428e-03 4.01376821e-02 4.03645122e-03\n",
      " 1.05458125e-02 1.64867099e-02 1.51557839e-02 4.15235246e-03\n",
      " 6.18006801e-04 6.96605770e-04 2.67949048e-03 1.86372995e-02\n",
      " 1.31045850e-02 1.28210019e-02 1.87803227e-02 9.23127774e-03\n",
      " 2.90297763e-03 9.50630102e-03 1.97545309e-02 3.80594246e-02\n",
      " 2.01251544e-02 1.79888271e-02 1.59433447e-02 1.26015069e-02\n",
      " 1.58614349e-02 1.50190860e-01 7.30679417e-03 6.82884082e-03\n",
      " 1.48411125e-01 3.02288905e-02 1.36283506e-02 1.60776731e-02\n",
      " 4.39245254e-02 7.13144988e-02 0.00000000e+00 2.51947455e-02\n",
      " 4.61171614e-03 8.20452906e-03 7.04791676e-03 2.36350223e-02\n",
      " 5.18888086e-02 3.72085162e-02 5.57228271e-03 1.71031207e-02\n",
      " 2.39594281e-02 2.29176953e-02 2.17219256e-02 3.68707138e-03\n",
      " 1.13099003e-02 2.02338398e-03 1.74912438e-02 1.19551634e-02\n",
      " 1.75326504e-02 1.49274124e-02 1.22545911e-02 6.79305792e-02\n",
      " 7.28614023e-03 1.62087027e-02 2.46341843e-02 1.38185751e-02\n",
      " 1.14252931e-02 1.89902671e-02 5.86656341e-03 4.04930348e-03\n",
      " 1.90989263e-02 6.13391511e-02 1.72105990e-02 1.16120325e-02\n",
      " 1.40922479e-02 2.80104429e-02 3.47797235e-04 3.93091403e-02\n",
      " 2.80427635e-02 2.42574494e-02 3.74404900e-02 1.83767313e-03\n",
      " 1.43502448e-02 2.68057249e-02 2.03383788e-02 5.33646345e-03\n",
      " 2.05676276e-02 1.24206506e-02 0.00000000e+00 1.10304160e-02\n",
      " 2.21809875e-02 4.91012726e-03 3.44569013e-02 9.04872548e-03\n",
      " 3.03199440e-02 1.82147343e-02 4.18758504e-02 3.76114994e-02\n",
      " 1.08196633e-02 4.95358557e-02 2.08176170e-02 2.24781819e-02\n",
      " 8.41712300e-03 1.82147585e-02 3.57679836e-02 1.57494806e-02\n",
      " 3.40699255e-02 1.02335978e-02 2.54307478e-03 7.41861090e-02\n",
      " 2.36656778e-02 2.97268992e-03 1.96893588e-02 6.04996504e-03\n",
      " 2.57020332e-02 1.35656685e-01 6.86183721e-02 3.29914689e-02\n",
      " 0.00000000e+00 1.63986348e-02 1.70948971e-02 2.65574101e-02\n",
      " 1.14250723e-02 0.00000000e+00 9.13344137e-03 2.89371051e-02\n",
      " 3.35022435e-03 0.00000000e+00 2.30747741e-02 3.74582014e-03\n",
      " 6.05019322e-03 0.00000000e+00 1.41183473e-02 5.85859176e-03\n",
      " 2.54351459e-03 3.44693027e-02 3.03896163e-02 3.02017964e-02\n",
      " 6.83069928e-03 1.02434121e-02 2.65265373e-03 1.75260343e-02\n",
      " 4.83077429e-02 4.95120808e-02 1.15874466e-02 3.68935615e-02\n",
      " 6.28282428e-02 1.52303670e-02 0.00000000e+00 0.00000000e+00\n",
      " 0.00000000e+00 1.19140837e-02 1.20524969e-02 1.55948773e-02\n",
      " 3.33184190e-02 1.78766157e-02 1.44942477e-02 1.99745949e-02\n",
      " 3.40539292e-02 1.62387099e-02 2.98290346e-02 4.06891890e-02\n",
      " 2.33905986e-02 2.13803141e-03 3.36535424e-02 2.97898031e-03\n",
      " 6.85065687e-02 2.54645906e-02 1.27181280e-02 3.37665435e-03\n",
      " 2.35683657e-02 1.72114111e-02 6.21933043e-02 4.32493687e-02\n",
      " 1.10699497e-02 3.68841179e-02 5.14258118e-03 3.40689570e-02\n",
      " 1.80566087e-01 1.83120891e-02 1.80977583e-02 3.23972991e-03\n",
      " 3.22915846e-03 1.89461336e-02 2.22387328e-03 2.13407390e-02\n",
      " 1.27257053e-02 4.88565362e-04 8.44496582e-03 3.79022647e-04\n",
      " 0.00000000e+00 5.28306374e-03 0.00000000e+00 9.27188527e-03\n",
      " 1.24473702e-02 0.00000000e+00 1.16364937e-02 2.15488560e-02\n",
      " 0.00000000e+00 0.00000000e+00 1.87722407e-02 1.15785813e-02\n",
      " 3.47057893e-03 5.12546999e-03 4.56117559e-03 1.22862291e-02\n",
      " 4.27082414e-03 1.43319676e-02 4.38246839e-02 2.42443159e-02\n",
      " 6.59228768e-03 1.03809899e-02 3.23322900e-02 2.49014609e-02\n",
      " 1.66336987e-02 1.13612562e-02 4.02437858e-02 7.70028774e-03\n",
      " 3.52956541e-02 1.17580127e-02 1.03874005e-01 4.26425599e-02\n",
      " 1.31220985e-02 2.68129651e-02 3.53186131e-02 4.50852094e-03\n",
      " 3.83591428e-02 1.45444339e-02 3.60522456e-02 1.02955373e-02\n",
      " 1.43835634e-01 1.67505275e-02 1.39975641e-02 7.81354867e-03\n",
      " 2.38470398e-02 1.28396004e-01 8.46461281e-02 4.39202636e-02\n",
      " 5.53807765e-02 3.59735861e-02 2.07903720e-02 1.20838126e-02\n",
      " 2.24537570e-02 3.25241387e-02 3.38644837e-03 1.69878397e-02\n",
      " 5.32022864e-02 7.48621449e-02 8.80196970e-03 8.24725628e-03\n",
      " 4.20677029e-02 1.39811160e-02 9.30803046e-02 4.10766825e-02\n",
      " 6.58002347e-02 2.35973187e-02 1.42865144e-02 1.21975262e-02\n",
      " 4.07178514e-02]\n",
      "21.318714\n",
      "Comparing Result: [1.36321470e-01 1.40899986e-01 1.00000000e+00 4.80910689e-02\n",
      " 7.22690150e-02 1.16246566e-01 4.86678258e-02 2.63395049e-02\n",
      " 9.31458920e-02 6.12357107e-05 1.09834218e-04 5.71349543e-03\n",
      " 1.73199493e-02 3.21232267e-02 7.19745364e-03 3.20973769e-02\n",
      " 5.57437912e-02 1.33742069e-04 1.33742069e-04 2.00781748e-02\n",
      " 2.87738871e-02 3.23525444e-02 3.28987613e-02 8.84133857e-03\n",
      " 4.40072604e-02 1.20109107e-04 1.01178463e-04 3.16784456e-02\n",
      " 4.04212140e-02 6.28150180e-02 8.84409621e-02 1.13803567e-02\n",
      " 9.42970961e-02 4.30721603e-02 2.77587622e-02 4.04214822e-02\n",
      " 2.61566006e-02 4.89206687e-02 8.26601684e-02 5.71771003e-02\n",
      " 9.06149745e-02 5.49730103e-05 4.10850262e-05 4.94844935e-05\n",
      " 3.13826240e-05 3.78189325e-05 1.09515609e-02 3.81107032e-02\n",
      " 2.88804644e-03 3.20250615e-02 9.67037305e-03 1.51272202e-02\n",
      " 2.42358074e-02 8.94282907e-02 3.50489063e-05 5.15255961e-05\n",
      " 3.72686227e-05 6.25431836e-02 4.68594916e-02 1.82624534e-02\n",
      " 3.02148908e-02 3.86368520e-05 3.31426745e-05 8.06895041e-05\n",
      " 2.07517967e-02 4.37155868e-05 3.20138934e-05 3.56901586e-02\n",
      " 1.15538090e-02 3.87853421e-02 6.93073273e-02 9.78624728e-03\n",
      " 2.98357209e-05 2.27659531e-02 3.30633447e-02 3.35476696e-02\n",
      " 5.12350164e-02 3.35319055e-05 8.23571719e-03 5.53864948e-02\n",
      " 5.03322226e-05 9.97313485e-03 4.12962036e-05 6.49402617e-03\n",
      " 9.41589326e-02 1.02884155e-02 9.97625757e-05 1.32710775e-02\n",
      " 1.41779566e-02 7.49664288e-03 3.68835293e-02 9.97625757e-05\n",
      " 1.01009123e-01 2.30655037e-02 7.04422742e-02 3.33941061e-05\n",
      " 6.38868567e-03 2.05745064e-02 5.43086462e-05 1.34512484e-02\n",
      " 3.70015986e-02 1.28136557e-02 1.12525690e-02 2.24664658e-02\n",
      " 9.49298032e-03 1.05189774e-02 0.00000000e+00 4.88820076e-02\n",
      " 1.88575052e-02 8.38009566e-02 2.17801034e-02 0.00000000e+00\n",
      " 1.40168488e-01 2.22524941e-01 2.70600878e-02 5.07431217e-02\n",
      " 4.23024721e-05 2.54695602e-02 1.09661445e-02 1.50677841e-02\n",
      " 1.60536990e-02 2.05637831e-02 2.00852621e-02 2.68575695e-05\n",
      " 2.78890636e-02 2.73050945e-02 3.02780699e-02 3.18612978e-02\n",
      " 5.03447652e-02 3.34254354e-02 1.97513327e-02 9.11608618e-03\n",
      " 6.26990944e-02 5.69322743e-02 1.49947954e-02 1.43198632e-02\n",
      " 1.81206651e-02 7.85055384e-03 9.66718234e-03 2.12499648e-02\n",
      " 5.50035294e-03 2.78335307e-02 2.60297135e-02 6.82250829e-05\n",
      " 3.63895409e-02 7.69950962e-03 3.13802250e-02 1.23301074e-02\n",
      " 1.17662311e-01 3.87945802e-05 5.42858429e-02 4.09618281e-02\n",
      " 3.08853887e-05 7.68066337e-03 1.10706678e-02 3.42254415e-02\n",
      " 9.98095870e-02 7.77409226e-03 6.03132993e-02 3.64709646e-02\n",
      " 4.17937860e-02 7.39565492e-02 3.82042235e-05 6.08061114e-03\n",
      " 2.63604783e-02 5.26691116e-02 1.68877803e-02 2.16643624e-02\n",
      " 2.45138220e-02 2.86474545e-02 1.44258784e-02 5.22317886e-02\n",
      " 3.00212396e-05 5.04195914e-02 0.00000000e+00 4.89243232e-02\n",
      " 1.49160586e-02 9.94516760e-02 1.10563770e-01 5.19998670e-02\n",
      " 1.29207773e-02 5.11705801e-02 6.49456400e-03 4.80147824e-02\n",
      " 1.24799740e-02 9.10491198e-02 2.39426307e-02 6.31626993e-02\n",
      " 5.42604961e-02 1.13350581e-02 4.82354639e-03 1.58969946e-02\n",
      " 3.54834273e-02 7.29115680e-02 1.17116719e-01 2.55652852e-02\n",
      " 5.82026616e-02 7.89848268e-02 0.00000000e+00 4.76940908e-02\n",
      " 1.17567349e-02 1.78308845e-01 4.75654788e-02 5.46818934e-02\n",
      " 1.19236177e-02 4.67008431e-05 3.94716710e-02 4.17579934e-02\n",
      " 7.68269002e-02 4.53113644e-05 8.91120080e-03 9.94749926e-03\n",
      " 5.01276180e-02 4.46168818e-02 8.05427209e-02 3.90952267e-02\n",
      " 1.41880531e-02 4.12781201e-02 5.24576120e-02 8.19014609e-02\n",
      " 5.78065589e-02 0.00000000e+00 4.58885208e-02 7.98307657e-02\n",
      " 2.97925677e-02 1.45174721e-02 5.51866088e-03 5.29687240e-05\n",
      " 0.00000000e+00 0.00000000e+00 6.77084830e-03 2.77975630e-02\n",
      " 4.79097366e-02 4.82670475e-05 2.16100812e-02 4.60533500e-02\n",
      " 3.76579612e-02 2.77094282e-02 8.59878212e-03 7.13670775e-02\n",
      " 4.39693649e-05 8.22104607e-03 1.05660465e-02 2.64085457e-02\n",
      " 2.94000432e-02 1.43496981e-02 5.48785105e-02 1.67741235e-02\n",
      " 1.69972964e-02 7.59394169e-02 5.72205409e-02 8.95915087e-03\n",
      " 2.45286543e-02 4.07485254e-02 2.90302924e-05 8.66716802e-02\n",
      " 1.15859918e-02 3.70538235e-02 2.60338355e-02 5.41586392e-02\n",
      " 2.21590027e-02 3.17293670e-05 3.95188071e-02 8.24465789e-03\n",
      " 3.34402430e-05 1.12294070e-02 4.03221893e-05 4.23694401e-05\n",
      " 3.08519844e-02 4.15872363e-03 4.55999980e-03 3.86184402e-05\n",
      " 1.46523034e-02 3.33903481e-05 1.27601447e-02 1.69098023e-02\n",
      " 4.63208235e-05 2.32449329e-05 8.86569619e-02 7.08772196e-03\n",
      " 1.12878000e-02 1.86817888e-02 6.54244141e-05 3.38184088e-02\n",
      " 5.54168178e-03 1.33742069e-04 3.18983868e-02 1.20109107e-04\n",
      " 5.11133159e-03 6.79218865e-05 4.03316553e-05 9.02089998e-02\n",
      " 1.38200773e-02 1.33742069e-04 2.79698761e-05 1.20109107e-04\n",
      " 2.68572403e-05 3.24694775e-02 1.09834218e-04 2.08181918e-05\n",
      " 8.04806873e-03 7.97020693e-05 2.52587288e-05 2.34050788e-02\n",
      " 3.27251293e-02 1.09834218e-04 2.44580824e-05 1.20109107e-04\n",
      " 1.93642434e-02 3.34414908e-05 1.82216167e-02 2.44210232e-02\n",
      " 5.37040532e-02 3.03837545e-02 1.18009038e-02 0.00000000e+00\n",
      " 5.76153025e-02 1.91966221e-02 3.74430418e-02 1.70522388e-02\n",
      " 9.20335725e-02 1.22689746e-01 8.80493410e-03 1.22689746e-01\n",
      " 1.39063681e-02 3.44209895e-02 4.21957523e-02 4.68204990e-02\n",
      " 8.20590276e-03 7.94516600e-05 3.31323072e-02 4.52480167e-02\n",
      " 4.21958044e-02 3.75645250e-05 3.33886258e-02 7.66047882e-03\n",
      " 1.84085146e-02 5.09443209e-02 6.88929409e-02 4.06965613e-02\n",
      " 3.58842537e-02 7.16566155e-03 1.32042058e-02 9.73044485e-02\n",
      " 7.61046782e-02 2.98026651e-02 3.54333147e-02 6.08363375e-02\n",
      " 3.48000862e-02 7.33197704e-02 2.71330774e-02 3.91659439e-02\n",
      " 2.48081181e-02 6.42211884e-02 3.79013531e-02 1.07495310e-02\n",
      " 2.29826292e-05 4.23764214e-02 3.73601578e-02 6.38789907e-02\n",
      " 9.52556171e-03 7.25854887e-03 5.43790981e-02 0.00000000e+00\n",
      " 0.00000000e+00 1.41656594e-02 8.62964988e-03 1.43347420e-02\n",
      " 5.26595535e-03 3.65255959e-02 1.07832588e-02 2.02193335e-02\n",
      " 6.91660773e-03 5.86961163e-03 3.09235789e-02 1.53138712e-02\n",
      " 1.69187546e-01 6.77344278e-02 1.50366090e-02 8.56682006e-03\n",
      " 4.65097511e-03 6.54843776e-03 1.05656320e-02 1.45678082e-02\n",
      " 4.83307886e-05 2.49487590e-02 1.18998298e-02 2.67373100e-02\n",
      " 7.17010861e-03 1.02217548e-01 5.67728933e-03 7.61759511e-05\n",
      " 3.80064739e-05 1.14981066e-02 1.06562059e-02 3.92328687e-02\n",
      " 4.93530929e-02 3.16565558e-02 1.51259257e-02 1.07191438e-02\n",
      " 2.83303261e-02 4.03778940e-05 8.41625128e-03 1.01855993e-02\n",
      " 2.53605992e-02 3.71453986e-02 1.20002888e-02 7.04257764e-05\n",
      " 1.49492202e-02 4.29796419e-05 3.39237558e-05 1.13647635e-04\n",
      " 1.19576864e-02 2.45427508e-02 7.94203859e-03 3.31281954e-05\n",
      " 4.58856076e-02 7.25819031e-03 9.37431585e-03 5.90781402e-03\n",
      " 3.30839120e-02 4.48358767e-02 3.50166932e-02 2.19966471e-02\n",
      " 1.96086597e-02 1.95117854e-02 7.03599751e-02 2.23240368e-02\n",
      " 2.31589079e-02 4.85463887e-02 1.11525431e-02 2.15501040e-02\n",
      " 3.60010900e-02 4.59689545e-05 1.59013085e-02 2.61693653e-02\n",
      " 3.01072095e-02 1.96158625e-02 1.76334288e-02 7.83777214e-05\n",
      " 6.43336607e-05 7.25157079e-05 9.41152405e-03 0.00000000e+00\n",
      " 7.59208482e-03 1.47609767e-02 4.97766733e-02 2.20895186e-02\n",
      " 3.42306521e-05 5.57680503e-02 1.14988394e-01 7.75112584e-03\n",
      " 1.92311499e-02 7.56954104e-02 4.79232147e-02 8.38100351e-03\n",
      " 7.47896824e-03 5.63694239e-02 8.74231607e-02 4.15317416e-02\n",
      " 4.34505800e-03 1.77097885e-04 0.00000000e+00 5.52567944e-05\n",
      " 1.27238408e-01 0.00000000e+00 8.69086216e-05 3.35150510e-02\n",
      " 8.99400003e-03 4.46914546e-02 2.66330820e-02 7.20120221e-02\n",
      " 7.85572678e-02 1.56496260e-02 6.55854773e-03 1.73385367e-02\n",
      " 9.90866870e-03 4.55278046e-02 2.47041713e-02 4.26219813e-05\n",
      " 4.73642200e-02 3.23301720e-05 4.23497967e-02 3.41924950e-02\n",
      " 2.74913423e-02 2.99949646e-02 1.11400411e-02 5.43721952e-02\n",
      " 2.34529376e-02 1.07936244e-02 7.61464192e-03 3.42929810e-02\n",
      " 4.08271626e-02 2.89670154e-02 1.39536364e-02 1.11914035e-02\n",
      " 6.00995636e-03 4.68040598e-05 2.81724206e-05 5.79509623e-02\n",
      " 1.46213621e-02 3.69797423e-02 8.66117701e-03 4.37223911e-02\n",
      " 2.75973286e-02 7.36816153e-02 1.20980293e-02 5.45257982e-03\n",
      " 1.82112809e-02 1.43946856e-02 4.32726411e-05 1.98509023e-02\n",
      " 3.12659795e-05 6.81937626e-03 7.00229575e-05 5.24330325e-03\n",
      " 6.93352055e-03 5.25923586e-03 3.89730595e-02 7.63611272e-02\n",
      " 1.86729953e-02 1.37185454e-01 7.68705904e-02 4.26455587e-02\n",
      " 4.11306433e-02 1.40944704e-01 4.15630974e-02 3.67563181e-02\n",
      " 6.47487268e-02 3.19701470e-02 8.49352777e-02 3.95037755e-02\n",
      " 9.04350262e-03 1.39236236e-02 3.08724232e-02 2.16730103e-01\n",
      " 5.49859651e-05 3.86565334e-05 7.67164212e-03 3.38645168e-02\n",
      " 3.51639539e-02 5.30020557e-02 3.12838629e-02 6.33520409e-02\n",
      " 5.78346117e-05 3.79200913e-02 6.67565241e-02 2.88936552e-02\n",
      " 5.51913343e-02 6.26138280e-05 3.72470059e-02 1.03799775e-02\n",
      " 6.21327781e-05 8.32507867e-05 1.23520503e-02 3.20634022e-02\n",
      " 5.17883301e-02 8.43337039e-05 6.53106108e-05 6.03907648e-03\n",
      " 0.00000000e+00 4.17750329e-02 6.73947781e-02 7.64285699e-02\n",
      " 5.26888967e-02 1.48139306e-05 4.91957362e-05 8.98691732e-03\n",
      " 3.93699855e-03 2.93995738e-02 2.40070549e-05 5.49832406e-03\n",
      " 2.53973156e-02 5.02334628e-03 1.20997177e-02 0.00000000e+00\n",
      " 4.63729630e-05 6.78521581e-03 1.28079519e-01 1.73032805e-02\n",
      " 3.90976807e-03 2.65771858e-02 2.73905918e-02 2.33792634e-05\n",
      " 6.48426861e-02 6.56542089e-03 2.77504642e-02 6.59169927e-02\n",
      " 2.61830427e-02 3.96516225e-05 4.91890758e-02 2.78672087e-05\n",
      " 4.76014577e-02 1.08985670e-01 8.42376128e-02 2.89539546e-02\n",
      " 8.40301905e-03 3.77612923e-05 8.85921344e-02 1.07571967e-01\n",
      " 2.80011982e-01 3.77020389e-02 1.10598486e-02 4.26877104e-02\n",
      " 8.33956219e-05 6.04361296e-03 3.56329328e-05 5.60113834e-03\n",
      " 3.42025996e-05 3.02197259e-05 4.12436348e-05 9.04537737e-03\n",
      " 4.87173274e-02 5.08589874e-05 0.00000000e+00 3.94557392e-05\n",
      " 3.46667548e-05 1.24749899e-01 5.03626434e-05 2.54954448e-05\n",
      " 2.31538229e-02 4.12928966e-05 9.95860156e-03 4.15529981e-02\n",
      " 3.34688375e-05 7.46005389e-05 4.07535098e-02 4.04304937e-02\n",
      " 2.97491420e-02 9.99594759e-03 1.26061086e-02 4.35503425e-05\n",
      " 3.66212353e-02 4.46302183e-05 4.15812768e-02 2.30188929e-02\n",
      " 8.57253835e-05 0.00000000e+00 1.23360664e-01 2.42817551e-02\n",
      " 5.11642173e-02 1.04583679e-02 6.27922863e-02 2.73051038e-02\n",
      " 6.19402453e-02 0.00000000e+00 4.80235368e-02 2.28844453e-02\n",
      " 2.51859054e-02 6.06261231e-02 1.20199800e-01 3.44062895e-02\n",
      " 6.22067228e-02 5.03074676e-02 6.16928153e-02 2.70462036e-02\n",
      " 2.04275828e-02 4.27252874e-02 1.25805721e-01 3.05357207e-05\n",
      " 7.62229711e-02 4.24950719e-02 1.66370291e-02 5.02907634e-02\n",
      " 0.00000000e+00 4.20047231e-02 1.60495132e-01 8.33927840e-02\n",
      " 9.42904409e-03 2.52951086e-02 1.18946638e-02 8.04750714e-03\n",
      " 4.74821702e-02 6.19422691e-03 2.57580057e-02 3.81347574e-02\n",
      " 5.80493584e-02 6.19239945e-05 6.40208647e-02 3.27727087e-02\n",
      " 4.02558558e-02 4.33507282e-03 8.99712089e-03 2.19405703e-02\n",
      " 6.31420314e-02]\n",
      "9.087921\n",
      "Comparing Result: [6.18767552e-03 7.24596856e-03 5.19300775e-05 4.35671490e-03\n",
      " 4.22787219e-02 1.48834046e-02 3.42566371e-02 4.64029617e-05\n",
      " 8.62932429e-05 1.09270761e-04 1.95991335e-04 1.65856667e-02\n",
      " 5.30923204e-03 7.25791650e-03 5.36873995e-05 1.36478487e-02\n",
      " 1.50543228e-02 2.38653214e-04 2.38653214e-04 8.58292542e-03\n",
      " 4.88511905e-05 1.00754893e-04 5.59402688e-05 1.66705530e-02\n",
      " 1.72124710e-02 2.14326152e-04 1.80545758e-04 4.51821543e-05\n",
      " 4.24285245e-05 9.52611584e-03 5.74414479e-03 6.38966885e-05\n",
      " 5.51803596e-03 1.41711980e-02 6.94974791e-03 5.63347945e-03\n",
      " 1.06973602e-02 6.56710981e-05 5.27211341e-05 1.31265791e-02\n",
      " 4.64913771e-02 9.80954283e-05 6.59400001e-02 8.83015528e-05\n",
      " 5.60000553e-05 9.27184802e-03 1.06446081e-04 7.25050736e-03\n",
      " 3.81097561e-05 8.18269420e-03 4.76110317e-02 1.13236327e-02\n",
      " 7.64504820e-03 9.94765386e-03 6.25422763e-05 9.19437589e-05\n",
      " 1.54136745e-02 5.01020364e-02 4.92559895e-02 5.68744035e-05\n",
      " 4.72069951e-03 8.02424829e-03 6.88319607e-03 1.43984682e-04\n",
      " 5.39112203e-02 9.07901954e-03 6.64876727e-03 6.58245897e-03\n",
      " 8.91262200e-03 7.01168756e-05 1.14013422e-02 7.29977764e-05\n",
      " 5.32397207e-05 5.70057819e-05 9.63343401e-03 1.21597173e-02\n",
      " 0.00000000e+00 6.16535693e-02 1.08675951e-04 5.94292433e-05\n",
      " 8.98142680e-05 9.69360772e-05 2.08713546e-01 2.54582856e-02\n",
      " 5.58306565e-05 2.79742986e-01 1.78019211e-04 1.43480804e-02\n",
      " 1.37805750e-04 6.82080071e-03 1.45236384e-02 1.78019211e-04\n",
      " 0.00000000e+00 3.17959161e-03 1.11471247e-02 5.95894016e-05\n",
      " 1.20460177e-02 3.49570508e-03 9.69099128e-05 1.43840201e-02\n",
      " 2.27758344e-02 9.55798823e-05 6.31792063e-05 4.47819803e-05\n",
      " 5.32997401e-05 5.90603449e-05 0.00000000e+00 5.24499810e-05\n",
      " 4.96667708e-05 8.56249314e-03 5.42580802e-03 0.00000000e+00\n",
      " 9.14161187e-03 1.20186299e-01 1.72590949e-02 6.99019874e-05\n",
      " 7.54857538e-05 9.23171826e-03 9.73239003e-05 1.09700346e-02\n",
      " 1.42475648e-04 1.53389788e-04 7.28012202e-03 5.57788229e-03\n",
      " 8.37396830e-02 2.30207741e-02 7.04550231e-03 4.60177034e-05\n",
      " 8.57240427e-03 2.76700407e-01 4.94571941e-05 8.86057896e-05\n",
      " 9.42196790e-03 5.52119734e-03 6.34336538e-05 4.87820692e-02\n",
      " 1.14208078e-02 8.04547220e-03 7.21096512e-05 9.88370375e-05\n",
      " 7.25809296e-05 6.80146040e-03 9.51743405e-03 1.21742807e-04\n",
      " 4.31201115e-05 1.57239251e-02 1.15330024e-02 1.96803540e-01\n",
      " 1.29656885e-02 6.92261674e-05 5.97852122e-05 1.15077849e-02\n",
      " 1.39312735e-02 5.81404939e-02 9.82515267e-05 8.57002524e-05\n",
      " 1.07618961e-02 1.02584483e-04 7.50922784e-03 4.00441289e-02\n",
      " 3.07355039e-02 8.02265058e-05 9.36630741e-03 7.21681118e-02\n",
      " 5.42017697e-05 1.61920954e-02 9.81543493e-03 6.39616192e-05\n",
      " 7.14409910e-03 1.81324966e-02 9.13090631e-03 5.58121782e-03\n",
      " 1.35414870e-02 2.86412891e-03 0.00000000e+00 6.09614872e-05\n",
      " 7.05191540e-03 8.61825049e-03 4.98977955e-03 1.30207278e-04\n",
      " 6.88572079e-02 6.63611991e-03 7.34695001e-03 1.05032548e-02\n",
      " 5.42861735e-03 7.41573604e-05 5.50316200e-02 9.08020884e-03\n",
      " 1.08195031e-02 5.04243835e-05 4.28086933e-05 1.33940037e-02\n",
      " 5.69013973e-05 6.26158799e-05 0.00000000e+00 4.64987315e-05\n",
      " 4.97727795e-03 1.91077758e-02 0.00000000e+00 8.78548902e-03\n",
      " 1.14272152e-04 5.24500138e-05 8.28385167e-03 7.35359918e-03\n",
      " 1.57340328e-04 1.14493752e-02 0.00000000e+00 4.10874782e-05\n",
      " 0.00000000e+00 8.08549012e-05 4.58455039e-03 0.00000000e+00\n",
      " 1.24000087e-02 7.04100076e-03 5.15126267e-05 1.96983889e-02\n",
      " 6.00208296e-05 6.52981398e-05 7.46910507e-03 4.56487287e-05\n",
      " 1.27246632e-04 0.00000000e+00 7.15172719e-05 1.17561920e-02\n",
      " 7.03609621e-05 8.23384058e-03 8.47557373e-03 1.10007459e-02\n",
      " 9.13230982e-03 0.00000000e+00 6.99378084e-03 9.26538705e-05\n",
      " 7.07067875e-03 8.61291119e-05 8.77821076e-05 8.77590384e-03\n",
      " 7.06708670e-05 1.47470026e-04 1.04848035e-02 1.12360547e-04\n",
      " 7.84602016e-05 7.99062473e-05 1.28835579e-02 1.12890042e-02\n",
      " 8.56163824e-05 1.39475029e-04 1.62382200e-02 1.48869396e-04\n",
      " 0.00000000e+00 1.79345720e-04 3.15578002e-03 5.20719495e-03\n",
      " 5.35748154e-03 6.20649225e-05 9.99174491e-02 4.24913168e-02\n",
      " 2.40482739e-03 6.29457281e-05 2.44981293e-05 7.27679653e-05\n",
      " 6.41006138e-03 5.66187991e-05 4.14034538e-03 6.14987221e-05\n",
      " 5.96717364e-05 5.55781387e-02 7.19520758e-05 1.03874700e-02\n",
      " 8.10404588e-03 6.38697902e-03 8.26712791e-03 6.99327290e-02\n",
      " 1.38425641e-02 5.95826968e-05 5.55048743e-03 3.16316052e-03\n",
      " 8.26562100e-05 4.82759578e-03 4.63112630e-03 7.74710730e-04\n",
      " 5.47342785e-02 7.94913806e-03 1.16745214e-04 5.75349113e-05\n",
      " 4.91821011e-05 2.38653214e-04 7.87362829e-03 2.14326152e-04\n",
      " 4.96807043e-05 1.21201774e-04 7.19689706e-05 1.38414940e-02\n",
      " 6.60349760e-05 2.38653214e-04 4.99102534e-05 2.14326152e-04\n",
      " 1.11077027e-02 6.72840606e-03 1.95991335e-04 3.71485839e-05\n",
      " 8.22222978e-03 1.42222663e-04 4.50724037e-05 5.14846142e-05\n",
      " 8.19434863e-05 1.95991335e-04 1.10321492e-02 2.14326152e-04\n",
      " 4.32241336e-03 5.96739628e-05 0.00000000e+00 1.49133336e-02\n",
      " 7.77629204e-03 5.50314217e-05 6.46067783e-02 0.00000000e+00\n",
      " 1.49411466e-02 1.53051708e-02 9.07738227e-03 5.31054502e-05\n",
      " 2.60332637e-02 2.46045471e-04 7.81432827e-05 2.46045471e-04\n",
      " 1.23418213e-04 4.80694603e-03 5.43515016e-05 1.57889854e-02\n",
      " 1.00057507e-02 1.41775832e-04 7.27368679e-05 9.93350404e-05\n",
      " 4.92453435e-03 6.70312220e-05 0.00000000e+00 6.65047672e-03\n",
      " 5.73292746e-05 6.20389869e-03 3.73066147e-03 6.40701764e-05\n",
      " 1.51930358e-02 6.96482093e-05 5.29523706e-03 4.35475372e-02\n",
      " 8.78033787e-03 4.87523563e-02 7.06285500e-05 3.49196908e-03\n",
      " 1.41342148e-01 6.72374014e-03 4.73942533e-02 9.80712357e-05\n",
      " 5.14687235e-05 4.49472154e-03 3.50113399e-02 6.03548287e-05\n",
      " 1.03666261e-02 5.10682613e-02 7.99378380e-03 3.55439559e-02\n",
      " 9.83919390e-03 1.49306599e-02 1.19380922e-04 0.00000000e+00\n",
      " 0.00000000e+00 9.35530104e-03 2.97346542e-05 7.02303788e-03\n",
      " 5.95709123e-03 1.17743611e-02 4.56172602e-05 8.85080621e-02\n",
      " 5.93935549e-02 5.70563227e-02 3.55622992e-02 6.57431781e-02\n",
      " 1.02606798e-02 1.19973784e-02 0.00000000e+00 0.00000000e+00\n",
      " 0.00000000e+00 8.64111353e-05 9.37693767e-05 4.27807029e-03\n",
      " 8.62428496e-05 7.26537255e-05 1.15662981e-04 3.09376302e-03\n",
      " 9.46145083e-05 2.35949527e-04 5.51816520e-05 1.35930561e-04\n",
      " 7.89332949e-03 1.08626802e-02 4.50797779e-05 5.13899140e-02\n",
      " 1.67577341e-02 4.24957580e-05 3.20321597e-05 1.04187064e-04\n",
      " 5.30505776e-02 7.20514799e-05 4.72542815e-05 9.94416606e-03\n",
      " 6.17586682e-03 1.26695093e-02 1.22982394e-02 1.25669787e-04\n",
      " 5.90114323e-05 1.05370684e-02 6.05345303e-05 2.02796116e-04\n",
      " 4.72024803e-05 9.07915179e-03 6.12649787e-03 6.88018929e-03\n",
      " 4.34530375e-05 6.30122796e-03 9.11157185e-05 1.11393221e-02\n",
      " 1.10357348e-02 4.69337574e-05 1.21136717e-02 1.16340257e-02\n",
      " 3.20700201e-05 9.25591029e-03 1.26407860e-04 9.44391068e-05\n",
      " 5.58191650e-02 4.13491689e-02 1.08399581e-04 1.35822613e-02\n",
      " 1.23270908e-02 9.54700634e-03 7.01104663e-03 4.98383120e-02\n",
      " 1.25153800e-02 1.71557590e-02 8.62784963e-03 1.39859476e-04\n",
      " 1.14798837e-04 1.29399123e-04 9.14773627e-05 0.00000000e+00\n",
      " 1.00182770e-04 1.51311345e-02 9.16911010e-03 9.33023170e-03\n",
      " 8.39212909e-03 8.44671857e-03 6.96920650e-03 5.78173567e-05\n",
      " 1.42039610e-02 6.42288942e-05 6.19935850e-03 1.40295997e-02\n",
      " 6.49289740e-03 3.87825891e-02 6.66320993e-05 8.67931917e-03\n",
      " 4.41835225e-02 3.16018559e-04 0.00000000e+00 9.86018131e-05\n",
      " 8.56591359e-05 0.00000000e+00 1.55082249e-04 7.37749870e-05\n",
      " 7.98212277e-05 9.41697217e-05 8.29428827e-05 7.42954947e-03\n",
      " 7.59768518e-05 5.55615723e-02 5.69383008e-03 7.33485649e-05\n",
      " 4.73455220e-05 5.86697497e-05 1.63866971e-02 7.60558905e-05\n",
      " 5.96480891e-02 7.92620052e-03 1.29195154e-02 5.02624130e-03\n",
      " 5.26335686e-02 1.48237944e-02 6.25474058e-05 6.03457261e-03\n",
      " 4.50917101e-03 9.72933508e-03 7.40121759e-05 1.85305476e-02\n",
      " 8.88588838e-03 1.58304367e-02 1.98262036e-02 8.63306131e-03\n",
      " 5.84150839e-05 2.11116057e-02 5.85095584e-03 5.99800982e-03\n",
      " 6.18538834e-05 8.63126386e-03 6.46056287e-05 8.07437114e-03\n",
      " 5.05785174e-05 9.57089663e-02 9.02418687e-05 5.29975441e-05\n",
      " 4.75964285e-02 4.43626940e-02 1.06089013e-02 4.33262065e-02\n",
      " 1.52748059e-02 9.10659786e-03 1.24950981e-04 5.41594112e-03\n",
      " 7.16180913e-03 8.07714742e-03 7.61968622e-05 7.30600059e-02\n",
      " 7.09674277e-05 9.70131950e-05 4.92562613e-05 1.57949194e-01\n",
      " 0.00000000e+00 8.19926336e-03 6.47133887e-02 6.89254887e-03\n",
      " 9.85782128e-03 1.05507420e-02 4.58137438e-05 1.98255889e-02\n",
      " 8.02605646e-05 1.43559771e-02 9.33030713e-03 1.08592452e-04\n",
      " 2.48021632e-02 6.89798326e-05 7.92423263e-03 1.43037857e-02\n",
      " 1.02401580e-04 1.02263063e-01 3.13805952e-03 6.20084174e-05\n",
      " 1.03201746e-04 1.09715518e-02 7.96300080e-03 9.26960073e-03\n",
      " 5.68167819e-03 1.11729918e-04 8.19899506e-05 6.34411583e-03\n",
      " 1.29039716e-02 1.48555104e-04 1.09623739e-04 0.00000000e+00\n",
      " 0.00000000e+00 1.50487496e-04 1.16542134e-04 1.94054574e-01\n",
      " 8.53372589e-02 1.20850252e-02 6.85148127e-03 6.35346587e-05\n",
      " 4.39811386e-02 1.33376140e-02 1.02171572e-02 8.21820647e-02\n",
      " 1.42233409e-02 6.61739195e-03 4.93163355e-02 1.03672184e-02\n",
      " 1.20587431e-01 4.36103903e-03 0.00000000e+00 0.00000000e+00\n",
      " 8.27492549e-05 7.67574925e-03 4.08019172e-03 1.82052441e-02\n",
      " 5.15920765e-05 1.18621722e-01 8.44195858e-03 4.85549401e-03\n",
      " 1.12974923e-02 1.64872352e-02 1.38772586e-02 6.03129528e-03\n",
      " 4.21376619e-03 8.23500007e-03 4.89137284e-02 5.78756770e-03\n",
      " 1.34345695e-01 0.00000000e+00 9.42303054e-03 9.01707244e-05\n",
      " 7.64546450e-03 9.25771706e-03 1.95013388e-04 3.73760872e-02\n",
      " 0.00000000e+00 1.18111977e-02 9.81555131e-05 6.82032928e-02\n",
      " 1.48813560e-04 5.24678780e-03 6.35844335e-05 6.33626524e-03\n",
      " 6.10321076e-05 1.36310179e-02 8.56563449e-03 8.79185245e-05\n",
      " 8.28822958e-05 8.16268548e-02 0.00000000e+00 7.04059566e-05\n",
      " 8.49904679e-03 5.35901301e-02 8.98685539e-05 5.95345050e-02\n",
      " 6.67049643e-03 1.01235388e-02 0.00000000e+00 6.87953725e-05\n",
      " 5.97227590e-05 1.33119349e-04 8.58720450e-05 6.86933100e-03\n",
      " 7.44916397e-05 8.87134593e-05 7.07788568e-05 7.77124878e-05\n",
      " 1.14048795e-04 7.96394452e-05 1.46015752e-02 5.76391394e-05\n",
      " 5.55426121e-01 0.00000000e+00 9.06880572e-03 5.44780924e-05\n",
      " 6.22057632e-05 6.44158991e-03 1.58437004e-04 4.34535359e-05\n",
      " 8.34555467e-05 0.00000000e+00 8.69360473e-03 1.14701390e-01\n",
      " 8.91962089e-03 1.03334016e-04 4.52448092e-02 3.56966164e-03\n",
      " 1.57731660e-02 1.81377400e-02 6.93397876e-03 2.21126825e-02\n",
      " 1.08041484e-02 4.89191370e-05 6.76808180e-03 6.34177448e-03\n",
      " 5.32269733e-05 7.49842802e-05 7.40103860e-05 9.16746818e-03\n",
      " 0.00000000e+00 1.22322701e-04 8.32336227e-05 1.96948298e-04\n",
      " 9.16476565e-05 1.38459895e-02 1.15612784e-04 9.10371076e-03\n",
      " 7.12150056e-03 9.51310992e-03 1.78505797e-02 1.04820970e-02\n",
      " 7.25453068e-03 1.10498964e-04 6.27574991e-05 1.75682064e-02\n",
      " 6.49708323e-03 5.72042663e-05 7.98489273e-05 9.37905535e-03\n",
      " 1.11416681e-04]\n"
     ]
    }
   ],
   "source": [
    "compare_text(X_train_joint, X_train_100[3])\n",
    "compare_text(X_train_joint, X_train_100[2])\n",
    "compare_text(X_train_joint, X_train_100[1])\n",
    "compare_text(X_train_joint, X_train_100[0])\n",
    "compare_text(X_train_joint, total_diff)"
   ]
  },
  {
   "cell_type": "markdown",
   "metadata": {},
   "source": [
    "# Gensim tut\n",
    "https://www.machinelearningplus.com/nlp/gensim-tutorial/"
   ]
  },
  {
   "cell_type": "code",
   "execution_count": 24,
   "metadata": {},
   "outputs": [],
   "source": [
    "import gensim\n",
    "from gensim import corpora\n",
    "from pprint import pprint\n",
    "\n",
    "# How to create a dictionary from a list of sentences?\n",
    "documents = [\"The Saudis are preparing a report that will acknowledge that\", \n",
    "             \"Saudi journalist Jamal Khashoggi's death was the result of an\", \n",
    "             \"interrogation that went wrong, one that was intended to lead\", \n",
    "             \"to his abduction from Turkey, according to two sources.\"]\n",
    "\n",
    "documents_2 = [\"One source says the report will likely conclude that\", \n",
    "                \"the operation was carried out without clearance and\", \n",
    "                \"transparency and that those involved will be held\", \n",
    "                \"responsible. One of the sources acknowledged that the\", \n",
    "                \"report is still being prepared and cautioned that\", \n",
    "                \"things could change.\"]\n",
    "\n",
    "# Tokenize(split) the sentences into words\n",
    "texts = [[text for text in doc.split()] for doc in documents]"
   ]
  },
  {
   "cell_type": "code",
   "execution_count": 25,
   "metadata": {},
   "outputs": [
    {
     "name": "stdout",
     "output_type": "stream",
     "text": [
      "[['The', 'Saudis', 'are', 'preparing', 'a', 'report', 'that', 'will', 'acknowledge', 'that'], ['Saudi', 'journalist', 'Jamal', \"Khashoggi's\", 'death', 'was', 'the', 'result', 'of', 'an'], ['interrogation', 'that', 'went', 'wrong,', 'one', 'that', 'was', 'intended', 'to', 'lead'], ['to', 'his', 'abduction', 'from', 'Turkey,', 'according', 'to', 'two', 'sources.']]\n"
     ]
    }
   ],
   "source": [
    "print(texts)"
   ]
  },
  {
   "cell_type": "code",
   "execution_count": 26,
   "metadata": {},
   "outputs": [
    {
     "name": "stdout",
     "output_type": "stream",
     "text": [
      "['The', 'Saudis', 'are', 'preparing', 'a', 'report', 'that', 'will', 'acknowledge', 'that']\n",
      "['Saudi', 'journalist', 'Jamal', \"Khashoggi's\", 'death', 'was', 'the', 'result', 'of', 'an']\n",
      "['interrogation', 'that', 'went', 'wrong,', 'one', 'that', 'was', 'intended', 'to', 'lead']\n",
      "['to', 'his', 'abduction', 'from', 'Turkey,', 'according', 'to', 'two', 'sources.']\n"
     ]
    }
   ],
   "source": [
    "for i in texts:\n",
    "    print(i)"
   ]
  },
  {
   "cell_type": "code",
   "execution_count": 27,
   "metadata": {},
   "outputs": [
    {
     "name": "stdout",
     "output_type": "stream",
     "text": [
      "{'Saudis': 0, 'The': 1, 'a': 2, 'acknowledge': 3, 'are': 4, 'preparing': 5, 'report': 6, 'that': 7, 'will': 8, 'Jamal': 9, \"Khashoggi's\": 10, 'Saudi': 11, 'an': 12, 'death': 13, 'journalist': 14, 'of': 15, 'result': 16, 'the': 17, 'was': 18, 'intended': 19, 'interrogation': 20, 'lead': 21, 'one': 22, 'to': 23, 'went': 24, 'wrong,': 25, 'Turkey,': 26, 'abduction': 27, 'according': 28, 'from': 29, 'his': 30, 'sources.': 31, 'two': 32}\n"
     ]
    }
   ],
   "source": [
    "# Create dictionary\n",
    "dictionary = corpora.Dictionary(texts)\n",
    "\n",
    "# Get information about the dictionary\n",
    "print(dictionary.token2id)"
   ]
  },
  {
   "cell_type": "code",
   "execution_count": 28,
   "metadata": {},
   "outputs": [
    {
     "name": "stdout",
     "output_type": "stream",
     "text": [
      "[[(0, 1), (1, 1), (2, 1), (3, 1), (4, 1)], [(4, 4)]]\n"
     ]
    }
   ],
   "source": [
    "from gensim.utils import simple_preprocess\n",
    "from smart_open import smart_open\n",
    "import os\n",
    "\n",
    "# List with 2 sentences\n",
    "my_docs = [\"Who let the dogs out?\",\n",
    "           \"Who? Who? Who? Who?\"]\n",
    "\n",
    "# Tokenize the docs\n",
    "tokenized_list = [simple_preprocess(doc) for doc in my_docs]\n",
    "\n",
    "# Create the Corpus\n",
    "mydict = corpora.Dictionary()\n",
    "mycorpus = [mydict.doc2bow(doc, allow_update=True) for doc in tokenized_list]\n",
    "pprint(mycorpus)"
   ]
  },
  {
   "cell_type": "code",
   "execution_count": 29,
   "metadata": {},
   "outputs": [
    {
     "data": {
      "text/plain": [
       "[['who', 'let', 'the', 'dogs', 'out'], ['who', 'who', 'who', 'who']]"
      ]
     },
     "execution_count": 29,
     "metadata": {},
     "output_type": "execute_result"
    }
   ],
   "source": [
    "tokenized_list"
   ]
  },
  {
   "cell_type": "markdown",
   "metadata": {},
   "source": [
    "# Compare sentences"
   ]
  },
  {
   "cell_type": "code",
   "execution_count": 30,
   "metadata": {},
   "outputs": [
    {
     "data": {
      "text/plain": [
       "'4.1.2'"
      ]
     },
     "execution_count": 30,
     "metadata": {},
     "output_type": "execute_result"
    }
   ],
   "source": [
    "gensim.__version__"
   ]
  },
  {
   "cell_type": "code",
   "execution_count": 31,
   "metadata": {},
   "outputs": [],
   "source": [
    "X_train_100 = list(X_train[:100])"
   ]
  },
  {
   "cell_type": "code",
   "execution_count": 32,
   "metadata": {},
   "outputs": [],
   "source": [
    "# one big string\n",
    "df = pd.DataFrame(X_train_100)\n",
    "X_train_joint = ' '.join(df[0].astype(str))"
   ]
  },
  {
   "cell_type": "code",
   "execution_count": 33,
   "metadata": {},
   "outputs": [
    {
     "name": "stdout",
     "output_type": "stream",
     "text": [
      "['i', 'me', 'my', 'myself', 'we', 'our', 'ours', 'ourselves', 'you', \"you're\", \"you've\", \"you'll\", \"you'd\", 'your', 'yours', 'yourself', 'yourselves', 'he', 'him', 'his', 'himself', 'she', \"she's\", 'her', 'hers', 'herself', 'it', \"it's\", 'its', 'itself', 'they', 'them', 'their', 'theirs', 'themselves', 'what', 'which', 'who', 'whom', 'this', 'that', \"that'll\", 'these', 'those', 'am', 'is', 'are', 'was', 'were', 'be', 'been', 'being', 'have', 'has', 'had', 'having', 'do', 'does', 'did', 'doing', 'a', 'an', 'the', 'and', 'but', 'if', 'or', 'because', 'as', 'until', 'while', 'of', 'at', 'by', 'for', 'with', 'about', 'against', 'between', 'into', 'through', 'during', 'before', 'after', 'above', 'below', 'to', 'from', 'up', 'down', 'in', 'out', 'on', 'off', 'over', 'under', 'again', 'further', 'then', 'once', 'here', 'there', 'when', 'where', 'why', 'how', 'all', 'any', 'both', 'each', 'few', 'more', 'most', 'other', 'some', 'such', 'no', 'nor', 'not', 'only', 'own', 'same', 'so', 'than', 'too', 'very', 's', 't', 'can', 'will', 'just', 'don', \"don't\", 'should', \"should've\", 'now', 'd', 'll', 'm', 'o', 're', 've', 'y', 'ain', 'aren', \"aren't\", 'couldn', \"couldn't\", 'didn', \"didn't\", 'doesn', \"doesn't\", 'hadn', \"hadn't\", 'hasn', \"hasn't\", 'haven', \"haven't\", 'isn', \"isn't\", 'ma', 'mightn', \"mightn't\", 'mustn', \"mustn't\", 'needn', \"needn't\", 'shan', \"shan't\", 'shouldn', \"shouldn't\", 'wasn', \"wasn't\", 'weren', \"weren't\", 'won', \"won't\", 'wouldn', \"wouldn't\"]\n"
     ]
    },
    {
     "name": "stderr",
     "output_type": "stream",
     "text": [
      "[nltk_data] Downloading package stopwords to\n",
      "[nltk_data]     /home/sabrina/nltk_data...\n",
      "[nltk_data]   Package stopwords is already up-to-date!\n"
     ]
    }
   ],
   "source": [
    "nltk.download('stopwords')\n",
    "from nltk.corpus import stopwords\n",
    "print(stopwords.words('english'))"
   ]
  },
  {
   "cell_type": "code",
   "execution_count": 34,
   "metadata": {},
   "outputs": [],
   "source": [
    "def tokenize(string):\n",
    "    '''\n",
    "    Input: A string, can contain multiple sentences.\n",
    "    Output: A list of lists where each sublist is a sentence and the strings in it are the tokenised words.\n",
    "    '''\n",
    "    # list of strings\n",
    "    sentences = sent_tokenize(string)\n",
    "    # sentences = string.lower()\n",
    "\n",
    "    # list of lists, words as tokens for corpus 1\n",
    "    tokens = [[word.lower() for word in word_tokenize(text)] for text in sentences]\n",
    "    # tokens = [word_tokenize(sentences)]\n",
    "\n",
    "    return tokens"
   ]
  },
  {
   "cell_type": "code",
   "execution_count": 35,
   "metadata": {},
   "outputs": [
    {
     "name": "stdout",
     "output_type": "stream",
     "text": [
      "[['hmmmm', ',', 'what', 'was', 'i', 'thinking', 'i', 'bought', 'this', 'for', 'my', 'psp', 'so', 'that', 'if', 'i', 'was', 'traveling', 'with', 'the', 'kids', 'they', 'could', 'play', 'it', '(', 'as', 'opposed', 'to', 'their', 'leapster', ')', '.'], ['well', 'it', 'is', 'too', 'difficult', 'for', 'them', ',', 'and', 'for', 'me', 'as', 'an', 'adult', 'it', 'is', 'my', 'last', 'choice', '.'], ['for', 'a', '8-12', 'year', 'old', ',', 'it', 'is', 'probably', 'good', ',', 'i', 'just', 'ca', \"n't\", 'rate', 'it', 'high', 'for', 'myself', 'or', 'my', 'kids', '.']]\n",
      "\n",
      "tokens len = num. of sentences in string = 3\n"
     ]
    }
   ],
   "source": [
    "tokens = tokenize(X_train_100[0])\n",
    "print(tokens)\n",
    "print('\\ntokens len = num. of sentences in string =', len(tokens))"
   ]
  },
  {
   "cell_type": "code",
   "execution_count": 36,
   "metadata": {},
   "outputs": [],
   "source": [
    "dictionary = gensim.corpora.Dictionary(tokens)\n",
    "# dictionary.token2id"
   ]
  },
  {
   "cell_type": "code",
   "execution_count": 37,
   "metadata": {},
   "outputs": [],
   "source": [
    "corpus = [dictionary.doc2bow(token) for token in tokens]\n",
    "# corpus\n",
    "# (0, 1) means the word with id=0 appears once in the 1st sentence."
   ]
  },
  {
   "cell_type": "code",
   "execution_count": 38,
   "metadata": {},
   "outputs": [],
   "source": [
    "# # word frequency in corpus\n",
    "# for doc in corpus:\n",
    "#     print([[dictionary[id], freq] for id, freq in doc])"
   ]
  },
  {
   "cell_type": "code",
   "execution_count": 39,
   "metadata": {},
   "outputs": [],
   "source": [
    "tf_idf = gensim.models.TfidfModel(corpus)\n",
    "# used tfid to weight down frequent words\n",
    "\n",
    "# # print if you want to see what it looks like\n",
    "# for doc in tf_idf[corpus]:\n",
    "#     print([[dictionary[id], np.around(freq, decimals=2)] for id, freq in doc])"
   ]
  },
  {
   "cell_type": "markdown",
   "metadata": {},
   "source": [
    "The class similarities.MatrixSimilarity is only appropriate when the whole set of vectors fits into memory. For example, a corpus of one million documents would require 2GB of RAM in a 256-dimensional LSI space, when used with this class.\n",
    "\n",
    "Without 2GB of free RAM, you would need to use the similarities.Similarity class. This class operates in fixed memory, by splitting the index across multiple files on disk, called shards. It uses similarities.MatrixSimilarity and similarities.SparseMatrixSimilarity internally, so it is still fast, although slightly more complex.\n",
    "\n",
    "From gensim docs: https://radimrehurek.com/gensim/auto_examples/core/run_similarity_queries.html"
   ]
  },
  {
   "cell_type": "code",
   "execution_count": 40,
   "metadata": {},
   "outputs": [
    {
     "name": "stdout",
     "output_type": "stream",
     "text": [
      "Similarity index with 3 documents in 0 shards (stored under workdir/)\n",
      "<class 'gensim.similarities.docsim.Similarity'>\n"
     ]
    }
   ],
   "source": [
    "sims = gensim.similarities.Similarity('workdir/', tf_idf[corpus], num_features=len(dictionary))\n",
    "print(sims)\n",
    "print(type(sims))"
   ]
  },
  {
   "cell_type": "code",
   "execution_count": 41,
   "metadata": {},
   "outputs": [],
   "source": [
    "def make_dict(tokens):\n",
    "    '''\n",
    "    Input: A list of lists where each sublist is a sentence and the strings in it are the tokenised words.\n",
    "    Output: returns indexed similarities\n",
    "    '''\n",
    "    dictionary = gensim.corpora.Dictionary(tokens)\n",
    "    corpus = [dictionary.doc2bow(token) for token in tokens]\n",
    "    tf_idf = gensim.models.TfidfModel(corpus)\n",
    "    sims = gensim.similarities.Similarity('workdir/', tf_idf[corpus], num_features=len(dictionary))\n",
    "    print(sims)\n",
    "    return sims"
   ]
  },
  {
   "cell_type": "markdown",
   "metadata": {},
   "source": [
    "How to query using gensim: https://stackoverflow.com/questions/51287590/how-to-use-gensim-similarities-similarity-to-find-similarity-between-two-sentenc"
   ]
  },
  {
   "cell_type": "code",
   "execution_count": 46,
   "metadata": {},
   "outputs": [],
   "source": [
    "def query_sim(string):\n",
    "    query = [w.lower() for w in word_tokenize(string)] # tokenise into strings\n",
    "    # print(query)\n",
    "    query_bow = dictionary.doc2bow(query) # bag of words for string being queried\n",
    "    query_tf_idf = tf_idf[query_bow] # ??? \n",
    "    \n",
    "    # get similarity scores between given string and indexes text\n",
    "    sim_score =  sims[query_tf_idf]\n",
    "    # print(len(sim_score), sim_score)\n",
    "\n",
    "    # return the avarage sim between the queried string and all sentences in the indexed text - in the case review(s)\n",
    "    return sum(sim_score) / len(sim_score)"
   ]
  },
  {
   "cell_type": "code",
   "execution_count": 47,
   "metadata": {},
   "outputs": [
    {
     "data": {
      "text/plain": [
       "(0.12309919794400533, 0.16177424291769663)"
      ]
     },
     "execution_count": 47,
     "metadata": {},
     "output_type": "execute_result"
    }
   ],
   "source": [
    "query_sim('Nature is good for your mental health.'), query_sim('My house is really small and this vacuum cleaner is perfect for it! Has enough power to pick up debris and clean carpets.')"
   ]
  },
  {
   "cell_type": "code",
   "execution_count": 48,
   "metadata": {},
   "outputs": [],
   "source": [
    "sim_list = [] # similarities between each review and the full corpus\n",
    "for i in range(len(X_train_100)):\n",
    "    sim_list.append(round(query_sim(X_train_100[i]),3))"
   ]
  },
  {
   "cell_type": "code",
   "execution_count": 49,
   "metadata": {},
   "outputs": [
    {
     "data": {
      "image/png": "[encoded data removed]",
      "text/plain": [
       "<Figure size 360x360 with 1 Axes>"
      ]
     },
     "metadata": {
      "needs_background": "light"
     },
     "output_type": "display_data"
    }
   ],
   "source": [
    "sns.displot(sim_list, kind='kde');"
   ]
  },
  {
   "cell_type": "markdown",
   "metadata": {},
   "source": [
    "# Functions test"
   ]
  },
  {
   "cell_type": "code",
   "execution_count": 50,
   "metadata": {},
   "outputs": [],
   "source": [
    "import gensim\n",
    "from nltk.tokenize import word_tokenize, sent_tokenize\n",
    "\n",
    "def tokenize(string):\n",
    "    '''\n",
    "    Input: A string, can contain multiple sentences.\n",
    "    Output: A list of lists where each sublist is a sentence and the strings in it are the tokenised words.\n",
    "    '''\n",
    "    # list of strings\n",
    "    sentences = sent_tokenize(string)\n",
    "    # sentences = string.lower()\n",
    "\n",
    "    # list of lists, words as tokens for corpus 1\n",
    "    tokens = [[word.lower() for word in word_tokenize(text)] for text in sentences]\n",
    "    # tokens = [word_tokenize(sentences)]\n",
    "\n",
    "    return tokens\n",
    "\n",
    "def make_dict(tokens):\n",
    "    '''\n",
    "    Input: A list of lists where each sublist is a sentence and the strings in it are the tokenised words.\n",
    "    Output: returns indexed similarities\n",
    "    '''\n",
    "    dictionary = gensim.corpora.Dictionary(tokens)\n",
    "    corpus = [dictionary.doc2bow(token) for token in tokens]\n",
    "    tf_idf = gensim.models.TfidfModel(corpus)\n",
    "    sims = gensim.similarities.Similarity('workdir/', tf_idf[corpus], num_features=len(dictionary))\n",
    "    print(sims)\n",
    "    return dictionary, tf_idf, sims\n",
    "\n",
    "\n",
    "def compare(string_index, string_query):\n",
    "    tokens = tokenize(string_index)\n",
    "    dictionary, tf_idf, sims = make_dict(tokens)\n",
    "\n",
    "    query = [w.lower() for w in word_tokenize(string_query)] # tokenise into strings\n",
    "    # print(query)\n",
    "    query_bow = dictionary.doc2bow(query) # bag of words for string being queried\n",
    "    query_tf_idf = tf_idf[query_bow] # ??? \n",
    "    \n",
    "    # get similarity scores between given string and indexes text\n",
    "    sim_score =  sims[query_tf_idf]\n",
    "    # print(len(sim_score), sim_score)\n",
    "\n",
    "    # return the avarage sim between the queried string and all sentences in the indexed text - in the case review(s)\n",
    "    return sum(sim_score) / len(sim_score)"
   ]
  },
  {
   "cell_type": "code",
   "execution_count": 61,
   "metadata": {},
   "outputs": [
    {
     "name": "stdout",
     "output_type": "stream",
     "text": [
      "Similarity index with 1 documents in 0 shards (stored under workdir/)\n"
     ]
    },
    {
     "data": {
      "text/plain": [
       "0.0"
      ]
     },
     "execution_count": 61,
     "metadata": {},
     "output_type": "execute_result"
    }
   ],
   "source": [
    "X_train_100 = list(X_train[:100])\n",
    "\n",
    "docs = [\n",
    "    'Nature is good for your mental health.', \n",
    "    'My house is really small and this vacuum cleaner is perfect for it! Has enough power to pick up debris and clean carpets.'\n",
    "]\n",
    "\n",
    "compare(docs[0], docs[1])"
   ]
  },
  {
   "cell_type": "code",
   "execution_count": 62,
   "metadata": {},
   "outputs": [
    {
     "data": {
      "text/plain": [
       "(\"hmmmm, what was I thinking I bought this for my PSP so that if I was traveling with the kids they could play it (as opposed to their leapster).  Well it is too difficult for them, and for me as an adult it is my last choice.  For a 8-12 year old, it is probably good, I just can't rate it high for myself or my kids.\",\n",
       " \"the best video game ever if you don't have this game\\nyou can stop call yourself a PC gamer\\nbecause you're not\\n\\nRainbow Six Vegas 2\\nit's not only a good game\\nbut is better of battlefield 3 and 4\\nespecially in co op mode\\nI buy Rainbow Six Vegas 2 yesterday and I play for 8hr 39mins\\n\\n*graphic 5 stars\\n*co op mode 5 stars\\n*gameplay 5 stars\\n*interface 5 stars\\n*sound 5 stars\\n*connectivity 5 stars\\n\\nyou can't go wrong with Rainbow Six Vegas 2\\noh PS rainbow six Vegas 2 run just fine with windows 7 64bit\")"
      ]
     },
     "execution_count": 62,
     "metadata": {},
     "output_type": "execute_result"
    }
   ],
   "source": [
    "X_train_100[0], X_train_100[1]"
   ]
  },
  {
   "cell_type": "code",
   "execution_count": 63,
   "metadata": {},
   "outputs": [
    {
     "name": "stdout",
     "output_type": "stream",
     "text": [
      "Similarity index with 3 documents in 0 shards (stored under workdir/)\n"
     ]
    },
    {
     "data": {
      "text/plain": [
       "0.27693048616250354"
      ]
     },
     "execution_count": 63,
     "metadata": {},
     "output_type": "execute_result"
    }
   ],
   "source": [
    "compare(X_train_100[0], X_train_100[1])"
   ]
  },
  {
   "cell_type": "code",
   "execution_count": 64,
   "metadata": {},
   "outputs": [
    {
     "data": {
      "text/plain": [
       "('My house is really small and this vacuum cleaner is perfect for it! Has enough power to pick up debris and clean carpets.',\n",
       " \"the best video game ever if you don't have this game\\nyou can stop call yourself a PC gamer\\nbecause you're not\\n\\nRainbow Six Vegas 2\\nit's not only a good game\\nbut is better of battlefield 3 and 4\\nespecially in co op mode\\nI buy Rainbow Six Vegas 2 yesterday and I play for 8hr 39mins\\n\\n*graphic 5 stars\\n*co op mode 5 stars\\n*gameplay 5 stars\\n*interface 5 stars\\n*sound 5 stars\\n*connectivity 5 stars\\n\\nyou can't go wrong with Rainbow Six Vegas 2\\noh PS rainbow six Vegas 2 run just fine with windows 7 64bit\")"
      ]
     },
     "execution_count": 64,
     "metadata": {},
     "output_type": "execute_result"
    }
   ],
   "source": [
    "docs[1], X_train_100[1]"
   ]
  },
  {
   "cell_type": "code",
   "execution_count": 65,
   "metadata": {},
   "outputs": [
    {
     "name": "stdout",
     "output_type": "stream",
     "text": [
      "Similarity index with 2 documents in 0 shards (stored under workdir/)\n"
     ]
    },
    {
     "data": {
      "text/plain": [
       "0.322748601436615"
      ]
     },
     "execution_count": 65,
     "metadata": {},
     "output_type": "execute_result"
    }
   ],
   "source": [
    "compare(docs[1], X_train_100[1])\n"
   ]
  },
  {
   "cell_type": "code",
   "execution_count": 70,
   "metadata": {},
   "outputs": [
    {
     "name": "stdout",
     "output_type": "stream",
     "text": [
      "Similarity index with 2 documents in 0 shards (stored under workdir/)\n"
     ]
    },
    {
     "data": {
      "text/plain": [
       "0.4999999701976776"
      ]
     },
     "execution_count": 70,
     "metadata": {},
     "output_type": "execute_result"
    }
   ],
   "source": [
    "compare('The best thing ever. The best .', 'The best thing ever. The best .')"
   ]
  }
 ],
 "metadata": {
  "interpreter": {
   "hash": "62a3362af9fb780a0eb03402584da787fc1a1b0aa4d8f94c680e96f1c63d9193"
  },
  "kernelspec": {
   "display_name": "Python 3.9.7 64-bit",
   "language": "python",
   "name": "python3"
  },
  "language_info": {
   "codemirror_mode": {
    "name": "ipython",
    "version": 3
   },
   "file_extension": ".py",
   "mimetype": "text/x-python",
   "name": "python",
   "nbconvert_exporter": "python",
   "pygments_lexer": "ipython3",
   "version": "3.9.7"
  },
  "orig_nbformat": 4
 },
 "nbformat": 4,
 "nbformat_minor": 2
}
