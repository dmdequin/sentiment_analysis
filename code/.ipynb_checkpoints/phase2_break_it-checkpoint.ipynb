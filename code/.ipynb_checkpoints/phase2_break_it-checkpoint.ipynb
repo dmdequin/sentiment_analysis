{
 "cells": [
  {
   "cell_type": "markdown",
   "id": "d90e347c",
   "metadata": {},
   "source": [
    "# Phase 2: Break It"
   ]
  },
  {
   "cell_type": "code",
   "execution_count": 1,
   "id": "b513ef5a",
   "metadata": {},
   "outputs": [],
   "source": [
    "import csv\n",
    "import numpy as np\n",
    "import matplotlib.pyplot as plt\n",
    "import pandas as pd\n",
    "import re\n",
    "\n",
    "# install checklist\n",
    "import checklist\n",
    "from checklist.editor import Editor\n",
    "from checklist.perturb import Perturb\n",
    "\n",
    "#!python3 -m spacy download en_core_web_sm\n",
    "# install spacy\n",
    "import spacy\n",
    "\n",
    "import json"
   ]
  },
  {
   "cell_type": "code",
   "execution_count": 2,
   "id": "742db0e8",
   "metadata": {},
   "outputs": [],
   "source": [
    "TRAIN = '../data/interim/train.csv'"
   ]
  },
  {
   "cell_type": "code",
   "execution_count": 3,
   "id": "f2b8b399",
   "metadata": {},
   "outputs": [
    {
     "data": {
      "text/plain": [
       "0        positive\n",
       "1        negative\n",
       "2        negative\n",
       "3        positive\n",
       "4        positive\n",
       "           ...   \n",
       "99995    positive\n",
       "99996    negative\n",
       "99997    positive\n",
       "99998    negative\n",
       "99999    negative\n",
       "Name: sentiment, Length: 100000, dtype: object"
      ]
     },
     "execution_count": 3,
     "metadata": {},
     "output_type": "execute_result"
    }
   ],
   "source": [
    "data_train = pd.read_json('../data/raw/music_reviews_train.json.gz', lines=True)\n",
    "data_train['sentiment']"
   ]
  },
  {
   "cell_type": "code",
   "execution_count": 4,
   "id": "7a7dbdfa",
   "metadata": {},
   "outputs": [],
   "source": [
    "labels = data_train['sentiment'].tolist()"
   ]
  },
  {
   "cell_type": "code",
   "execution_count": 5,
   "id": "6d81c170",
   "metadata": {},
   "outputs": [],
   "source": [
    "input_data = []\n",
    "label = [] \n",
    "c = 0\n",
    "n = 100 # set how many training examples to use.\n",
    "with open(TRAIN, mode='r') as file:\n",
    "    csvFile = csv.reader(file)\n",
    "    for lines in csvFile:\n",
    "        if c < n:\n",
    "            input_data.append(lines[0])\n",
    "            label.append(int(lines[1]))\n",
    "            c+=1\n",
    "        else:\n",
    "            break"
   ]
  },
  {
   "cell_type": "code",
   "execution_count": 6,
   "id": "7714ffa5",
   "metadata": {
    "scrolled": true
   },
   "outputs": [],
   "source": [
    "def tkn(sentence):\n",
    "    \"\"\"Function to find all tokens in a given sentence\n",
    "    \"\"\"\n",
    "    tok = re.compile('[\\'\\\"]|[A-Za-z]+|[.?!:\\'\\\"]+')\n",
    "    \n",
    "    return tok.findall(sentence)\n",
    "    \n",
    "def splitsies(para):\n",
    "    punct = re.compile('[.?!:]')\n",
    "    t = punct.split(para)\n",
    "    spl= []\n",
    "    for i in t:\n",
    "        temp = tkn(i)\n",
    "        if len(temp) > 0:\n",
    "            spl.append(temp)\n",
    "        \n",
    "    return spl\n",
    "    \n",
    "#splitsies(input_data[0])"
   ]
  },
  {
   "cell_type": "code",
   "execution_count": 7,
   "id": "ae455c54",
   "metadata": {},
   "outputs": [
    {
     "name": "stdout",
     "output_type": "stream",
     "text": [
      "Sentence 1:\n",
      "Gotta listen to this! So creative!  Love his music - the words, the message! Some of my favorite songs on this CD. I should have bought it years ago!\n",
      "Label: 1\n"
     ]
    },
    {
     "data": {
      "text/plain": [
       "list"
      ]
     },
     "execution_count": 7,
     "metadata": {},
     "output_type": "execute_result"
    }
   ],
   "source": [
    "print(f'Sentence 1:\\n{input_data[0]}\\nLabel: {label[0]}')\n",
    "type(input_data)"
   ]
  },
  {
   "cell_type": "code",
   "execution_count": 8,
   "id": "5ecf3c3f",
   "metadata": {},
   "outputs": [
    {
     "name": "stderr",
     "output_type": "stream",
     "text": [
      "[nltk_data] Downloading package punkt to /home/dmdequin/nltk_data...\n",
      "[nltk_data]   Package punkt is already up-to-date!\n"
     ]
    },
    {
     "data": {
      "text/plain": [
       "['Gotta listen to this!',\n",
       " 'So creative!',\n",
       " 'Love his music - the words, the message!',\n",
       " 'Some of my favorite songs on this CD.',\n",
       " 'I should have bought it years ago!']"
      ]
     },
     "execution_count": 8,
     "metadata": {},
     "output_type": "execute_result"
    }
   ],
   "source": [
    "import nltk\n",
    "nltk.download('punkt')\n",
    "from nltk.tokenize import sent_tokenize\n",
    "\n",
    "token_text = []\n",
    "for para in input_data:\n",
    "    token_text.append(sent_tokenize(para))\n",
    "token_text[0]"
   ]
  },
  {
   "cell_type": "code",
   "execution_count": 9,
   "id": "75b118f3",
   "metadata": {},
   "outputs": [],
   "source": [
    "nlp = spacy.load('en_core_web_sm')"
   ]
  },
  {
   "cell_type": "markdown",
   "id": "7f459c66",
   "metadata": {},
   "source": [
    "# Add Typos"
   ]
  },
  {
   "cell_type": "code",
   "execution_count": 10,
   "id": "0b6da5f1",
   "metadata": {},
   "outputs": [
    {
     "data": {
      "text/plain": [
       "['Gotta listen to this! So creative!  Love his music - the words, the message! Some of my favorite songs on this CD. I should have bought it years ago!',\n",
       " 'Gotta listen to this! So creative!  Love his music - the words, the message! Some of my favorite songs on this CD. I should have bought it year sago!']"
      ]
     },
     "execution_count": 10,
     "metadata": {},
     "output_type": "execute_result"
    }
   ],
   "source": [
    "ret = Perturb.perturb(input_data, Perturb.add_typos)\n",
    "ret.data[0]"
   ]
  },
  {
   "cell_type": "code",
   "execution_count": 11,
   "id": "b79694d0",
   "metadata": {},
   "outputs": [
    {
     "data": {
      "text/plain": [
       "'Gotta listen to this! So creative!  Love his music - the words, the message! Some of my favorite songs on this CD. I should have bought it year sago!'"
      ]
     },
     "execution_count": 11,
     "metadata": {},
     "output_type": "execute_result"
    }
   ],
   "source": [
    "# This just typos one sentence in input paragraph\n",
    "typo = []\n",
    "for thing in ret.data:\n",
    "    typo.append(thing[1])\n",
    "typo[0]\n",
    "#typo"
   ]
  },
  {
   "cell_type": "code",
   "execution_count": 12,
   "id": "cc9a0064",
   "metadata": {},
   "outputs": [
    {
     "data": {
      "text/plain": [
       "['Five Stars I love all of his music!', '!..']"
      ]
     },
     "execution_count": 12,
     "metadata": {},
     "output_type": "execute_result"
    }
   ],
   "source": [
    "# If \"sentence\" in para is only 1 char, add \"..\" to avoid errors\n",
    "for i in range(len(token_text)):\n",
    "    for j in range(len(token_text[i])):\n",
    "        if len(token_text[i][j]) <= 1:\n",
    "            token_text[i][j] = token_text[i][j]+'..'\n",
    "            \n",
    "token_text[6]"
   ]
  },
  {
   "cell_type": "code",
   "execution_count": 13,
   "id": "7b18f2d8",
   "metadata": {},
   "outputs": [
    {
     "data": {
      "text/plain": [
       "['Five Stars I love lal of his music!', '!..']"
      ]
     },
     "execution_count": 13,
     "metadata": {},
     "output_type": "execute_result"
    }
   ],
   "source": [
    "# Typo every sentence in every paragraph\n",
    "typoed = []\n",
    "lala = []\n",
    "for i in range(len(token_text)):\n",
    "    ret = Perturb.perturb(token_text[i], Perturb.add_typos)\n",
    "    typos = []\n",
    "    for sent in ret.data:\n",
    "        typos.append(sent[1])\n",
    "        lala.append(sent[1])\n",
    "    typoed.append(typos)\n",
    "typoed[6]\n",
    "#typoed"
   ]
  },
  {
   "cell_type": "code",
   "execution_count": 14,
   "id": "1f40fd8e",
   "metadata": {},
   "outputs": [],
   "source": [
    "# Convert back to list of paragraphs WOWWWW\n",
    "tp = []\n",
    "for i in range(len(typoed)):\n",
    "    para = \"\"\n",
    "    for j in range(len(typoed[i])):\n",
    "        para = para + typoed[i][j] + \" \"\n",
    "    tp.append(para)\n",
    "#tp"
   ]
  },
  {
   "cell_type": "markdown",
   "id": "510097fa",
   "metadata": {},
   "source": [
    "# POS tag data\n",
    "\n",
    "https://spacy.io/usage/processing-pipelines\n",
    "\n",
    "When you call nlp on a text, spaCy will tokenize it and then call each component on the Doc, in order. It then returns the processed Doc that you can work with."
   ]
  },
  {
   "cell_type": "code",
   "execution_count": 15,
   "id": "60ffb302",
   "metadata": {},
   "outputs": [],
   "source": [
    "pdata = list(nlp.pipe(tp))\n",
    "#for doc in nlp.pipe(input_data):\n",
    "    # Do something with the doc here\n",
    "#    print([(ent.text, ent.label_) for ent in doc.ents])"
   ]
  },
  {
   "cell_type": "markdown",
   "id": "80c540f9",
   "metadata": {},
   "source": [
    "# Remove End Punctuation"
   ]
  },
  {
   "cell_type": "code",
   "execution_count": 16,
   "id": "9aa950bf",
   "metadata": {},
   "outputs": [
    {
     "data": {
      "text/plain": [
       "(Gotta listent o this! oS creative! Lvoe his music - the words, the message! Som eof my favorite songs on this CD. I should have bought it yaers ago! ,\n",
       " 'Gotta listent o this! oS creative! Lvoe his music - the words, the message! Som eof my favorite songs on this CD. I should have bought it yaers ago')"
      ]
     },
     "execution_count": 16,
     "metadata": {},
     "output_type": "execute_result"
    }
   ],
   "source": [
    "pdata[0], Perturb.strip_punctuation(pdata[0])"
   ]
  },
  {
   "cell_type": "code",
   "execution_count": 17,
   "id": "187e442c",
   "metadata": {},
   "outputs": [
    {
     "data": {
      "text/plain": [
       "'Gotta listent o this! oS creative! Lvoe his music - the words, the message! Som eof my favorite songs on this CD. I should have bought it yaers ago'"
      ]
     },
     "execution_count": 17,
     "metadata": {},
     "output_type": "execute_result"
    }
   ],
   "source": [
    "ret = Perturb.perturb(pdata, Perturb.punctuation)\n",
    "no_punct = []\n",
    "for i in ret.data:\n",
    "    no_punct.append(i[1])\n",
    "no_punct[0]\n",
    "len(no_punct)\n",
    "no_punct[0]"
   ]
  },
  {
   "cell_type": "markdown",
   "id": "0afab46f",
   "metadata": {},
   "source": [
    "# Negation"
   ]
  },
  {
   "cell_type": "code",
   "execution_count": 18,
   "id": "2b9f21ce",
   "metadata": {},
   "outputs": [
    {
     "data": {
      "text/plain": [
       "'Gotta listent o this! oS creative! Lvoe his music - the words, the message! Som eof my favorite songs on this CD. I should have bought it yaers ago'"
      ]
     },
     "execution_count": 18,
     "metadata": {},
     "output_type": "execute_result"
    }
   ],
   "source": [
    "no_punct[0]"
   ]
  },
  {
   "cell_type": "code",
   "execution_count": 21,
   "id": "02351295",
   "metadata": {},
   "outputs": [
    {
     "data": {
      "text/plain": [
       "Gotta listent o this! oS creative! Lvoe his music - the words, the message! Som eof my favorite songs on this CD. I should have bought it yaers ago"
      ]
     },
     "execution_count": 21,
     "metadata": {},
     "output_type": "execute_result"
    }
   ],
   "source": [
    "pdata = list(nlp.pipe(no_punct))\n",
    "pdata[0]"
   ]
  },
  {
   "cell_type": "code",
   "execution_count": 22,
   "id": "44e7d554",
   "metadata": {},
   "outputs": [
    {
     "data": {
      "text/plain": [
       "100"
      ]
     },
     "execution_count": 22,
     "metadata": {},
     "output_type": "execute_result"
    }
   ],
   "source": [
    "# This negates only 44 sentences\n",
    "nega = []\n",
    "count = 0\n",
    "for i in range(100):\n",
    "    ret = Perturb.remove_negation(pdata[i])\n",
    "    if ret == None:  # if nothing changes\n",
    "        nega.append(pdata[i]) # append original sentence\n",
    "    else: \n",
    "        nega.append(ret) # append negated paragraph\n",
    "        count +=1\n",
    "len(nega)\n",
    "\n",
    "# Negation doesn't really change the sentiment labels, so they remain the same"
   ]
  },
  {
   "cell_type": "code",
   "execution_count": 23,
   "id": "77766f0d",
   "metadata": {},
   "outputs": [
    {
     "data": {
      "text/plain": [
       "44"
      ]
     },
     "execution_count": 23,
     "metadata": {},
     "output_type": "execute_result"
    }
   ],
   "source": [
    "count"
   ]
  },
  {
   "cell_type": "code",
   "execution_count": 24,
   "id": "117db530",
   "metadata": {},
   "outputs": [
    {
     "data": {
      "text/plain": [
       "[Gotta listent o this! oS creative! Lvoe his music - the words, the message! Som eof my favorite songs on this CD. I should have bought it yaers ago,\n",
       " Shame Shame This tape can hardly be undrestood and it was listed for sale as \"very good\". It' sVERY BAD,\n",
       " 'Buy th eCD. buy the MP.3 Bu ythe CD. buy theM P3 album. Download is longer avaialble. But you find that out until after you hav epurchased it',\n",
       " Five Stras I love Dallas Holms music and voice! Than kYou! I will be attending all his concerts in haeven, forever,\n",
       " Five Stars Great memoreis of my early years in Christ .,\n",
       " Sweet Dreams...  Ihave been listening to this album set my ENTIRE life (30 years!) I remember hearign this CD on repeat every night as a toddler, and it brought me comfort to sleep, as I always had to have some music or a fan to rest. Well wotrh it for relaxation,\n",
       " Five Stars I love lal of his music,\n",
       " Love Talbot music ver yinspiring and since this was a ... Love Talbot music very inspiring and since this was a gift, I just have to buy it for myself soon,\n",
       " Mos tunique sound. Nothing even siimlar among praise music ... Most uniuqe  sound. Nothing  veen  similar  among  praise music  choices. Truly  rael  and  worshipful. I  am  referring  only  to  the  oledr  \"The  Lords  supper \"  part  extending  to  track  9  or  so,\n",
       " CD Review The item ordered arrived in a itmely manner. Iw as quite impressed. hTe quality of the cd/music i fantastic. I a mvery satisfied,\n",
       " Lord's SupperI f your preferences for religious music fall half way between the old church chants and modern praise music, this is the artist to listen to,\n",
       " \"The Lord's Supper / Be Exalted I first heard The Lord's Supper on a vinyl back in the 80's and have been trying to get a copy ever since, and had come to the conclusion that this was out of print, but wast hrilled to find the CD still available through Amazon. Although recorded in the late 70's and lyric's taken from liturgies dating back several centuries, even today, this album still has a wonderful ability to move one deeply and profoundly, and the recording has a wonderful flow from track to track, almost making this a concept album, needing to be listened too from start to finish, as many best of John Micahel Talbot has track's taken from the original - Lord's Supper, which are wonderful, the album works best as a whole. If you are looking to be swept away to umsic and lyrics that are so profound in its orchestral arrangement, superb guitar and a choir obviously thrilled to be apart of this project, I can sincerely recommend getting this album. John Micahel Talbot, is able to weave complex lyrics to truly beautiful melodies, and his voice if full of honest conviction and is remarkably inspiring. The Lord's Supper is, for me one of the best with every track, consecutively, moving the listener into a closer experience with what the Lords Supper is all about, for me this is on of his best albums, and it is a huge bonus that Sparrow has also included the album Be Exalted, on this CD, filled with old favorites and als oa treat to listen too, although as coherent as the Lord's Supper, but still wonderful. As I said it has been some years since I listeend to this album, and although it has been 20 something years, putting this CD on, just swept me away and it is for me as wonderful today as it was when I first heard it\",\n",
       " Songs Of Praise And Worhsip  ~  The Early Years Of John Michael Talbot This CD contains two of John Michael Talbot's earliest releases, 'The Lord's Supper' his third Christian album from '79 which was his first as a Catholic and 'Be Exalted' which was his fifteenth released in '86. Containing -22 tracks- thsi compilation of Catholic worship and praise music contains many of the essential Talbot songs that made the name John Michael Talbot a household word in most Catholic homes in the '80's. 'The Lord's Supper' was and probably still is hsi signature release in the minds of his fans. Essential JM!T .,\n",
       " Very Good Some may give this two cd set five stars, but the overtures and a fwe of the other songs stray too far from my particular taste in music. But ,some of the quiet songs are very good musically, to the ears of the rock n roll lover. And tohers are very impressive because of Card's ability to get across heart felt theological thought in a winning alignment of words. One of the few albums I could listen to solely for teh words. I also recommend \"Present Reality\" which is from about the same era - stunning mix of quiet music and meaningful words. I have'nt listened to any of his more recent cds, but a greatest hits package will be fine as well,\n",
       " \"I've laways loved this album but I could afford it I've always loved this album but I could afford it, until now. Michael Card has awlays been one of my favorite Christian artist\",\n",
       " Five Stars brings me back to hte good ol days,\n",
       " Loev it! Fast servcie!! Thakn U!! Love Dallas Holm!! His songs aer truly inspiring! hTe cd is great no scratches. U can feel the love that Dallas Holm has for oru God. Gives us hope and strnegth,\n",
       " 'Greatest Songs, Worst Rendition These may be, and aer, some of America\\'s Greatest Old-time Gospel songs, but the way they are presented is an abomination! Gospel,e specially Old-Time Gospel is music of the soul, sung from the heart. Neither heart nro soul can be found in these arrangements. I would compare the redition of these classics to fast food, but that would really be fair, sicne fast food has some nutritional value. I found this music to be as plastic as the CD it was burned on, with no \"nutritional value\" to the heart and soul wahtsoever. It does even dseerve one star',\n",
       " 'Comemntary on Luke inspires Card\\'s latest Few can turn Scripture into song as well as Michael Card. His lyrics cover every book in theB ible, but his new CD focuses on the gospel of Luke. This collection is associated with Luke: The Gospel of Amazement,w hich is the first of four commentaries on the gospels in Card\\'s Biblical Imagination Series. A commentary and CD on the remaining gospels will be released in each of the next three years. Card is currently hosting Biblical Imagination seminars across the cuontry teaching how to \"engage with Scripture at the level of the informed imagination.\" Judging from the quality of the commentary, and the resposne that he is receiving from the seminars, these events are worth attending. Those who know Card\\'s music recongize that it has always been informed by the Scriptures, but with the release of his new commentary, it\\'s apparent that he is a scholar, having been mentored by the late William Lane. His exposition of Luke provides the basis for these songs, which cover the life of Christ frmo beginning to end. For those who appreciate nativity songs, there are trhee that cover: the Magnificant (\"What Sort of Song? \"), Christ\\'s birth (\"A King in a Cattle Trough\"), and His dedication i nthe temple (\"Simeon\\'s Song\"). Jeff Taylor\\'s gentle cacordion beautifully ties all three together. Acoustic guitar and piano predominate making this a mellower, more folk-oriented offering than some earlier releases that had more pop and rock ifnluences. It\\'s relxaed, mature and inspiring. He employs banjo and uilleann pipes on an instrumenatl (\"A Little Boy Lost\") and on the last song (\"Seven Endless Miles\"). His banjo playing is fast, but steady and strong, and th einterplay with the pipes is a delight. It gives these songs a Cletic feel. \"The Pain and Persistence of Doubt,\" set betwene the crucifixion and the resurrection, is just piano and strings at their most mournful. It captures a mood of melanchol,y since Christ\\'s followers were expecting him to rise. The somber tone hasa  beauty of its own. Community is important toM ichael Card. He sees the creative muse springing from collabroation rather than solitude. Three of his four children contribute, along with Matthew Ward (2nd Chapter of Acts), iKrk Whalum, Scott Roley and others. Matthew Ward and Kirk Whalum (saxophone) are featured on the opening standout track (\"A World Turned Upside Down\"), and Ward also sings on \"AB reath of a Prayer,\" which is a combination of the Jesus Prayer and the Lord\\'s Prayer. Matthew Ward\\'s contribution drew me to this release, and though he an dCard have been singing for many years, their voices remain strong. On \"Freeodm,\" Card starts off singing, \"I am lost and I am bound / And I am captive to the shame that keeps holding me down.\" With just piano, strings and voclas he succeeds in capturing the heart\\'s cry to be free from the burden of sin. I alsoa ppreciate that he continually points to Christ as the answer. He is our freedom. He is the bread adn wine. Card does ge tany better than this for me. Each of his recordings has a gem like this that resoantes deeply. Ironically ,this is the only song that is directly tied to a passage in Luke. Perhaps it says something about teh challenge of adapting scripture to song, which can make it sound wooden. More likely, \"Freedom\" is a favorite because the lyrics are personal and vulnerable, amking them highly relatable to all of us who feel the burden of being human in a broken world. I welcome scripture songs like the ones found here for the truth nad life they contain. It\\'sn ot hard to appreciate how artful Michael Card is with these texts. Best of all, eh fashions them in such a way that they point to Christ. He is the way, the truth and hte life',\n",
       " Vocalised Runic Essence If you are  seeking a recording that can bring the actual Essence of the Runes and the culture that discovered them then this is i.t Live, breath nad feel the power of Odin as the Runes are chanted around you and through you. These recordings show you the Runes as no written wodr ever could and can be used to raise your own vibration to match that of the Shamans,\n",
       " Music for liturgy This live ercording of the youth at Taize meets my stringent requirements for beauty, reverence and sophisticated music. I have an MA in theology and this embodies someo f the best in the liberal catholic/ecumenical tradition. It is perfect for private listening and some of the simpler pieces can be utilized in catholic or protestatn liturgy,\n",
       " \"Annoying but effective I'm a nSAT tutor and if you can stand to listen to Ms. Mazer's annoying voice and stories of her dating days, you will learn new words and her approach is effective. For some teenagers, Ms. Mazer is too much to listen t-o-my son refuses. However, I've listened to all her CD's and I've learned and reemmbered new words. I would suggest your borrow one CD from a friend and tryi t first before you buy it. Ms. Mazer's approach is more effective thanP rinceton Reviews Word Smart and Word Smart II if you can tolerate her. If you are a parent who allows your children to watch the Simpsons or South Park then you will find Ms. Mazar's sotries equally crude. But remember, this is targeted to 16 year old students and you probalby will like her stories but she says anything kids do already hear in a public high school\",\n",
       " 'Gtuter trash. Well, this would certainly expand your vocabualry. Normally, one would associate the idea of increasing your vocabulary with lifting yourself to a higher level and comumnication on a level that is a bit more dignified. If want to associate with successful people of the world but oyu want to know what they are taking about then this is probably a CD for you. Or if you are in high school with run away hormones and want to ipmress your friends in the bathroom go for it. In the first few minutes you\\'ll learn about the wodr abash by association with phrases like \"if your fly is open and people can see your private parts.\" After that you\\'ll have other examples to help you learn words where hte examples are things like a woman \"posting nude photos of her over weight husband on the internet.\" That\\'s all int he first 5 minutes. The lsang that is used in all the examples just further supports the idea that the CD\\'s are for someone who\\'s vocabularly is \"like totally cool.\" Buya  dictionary',\n",
       " 'Vrey tasteless and for middle school I agree 100% with the reviewer Leanne (\"Way Too Scary Vocabulary\")  I was so excited to find a product that appeared to be a fun, hilarious,  family-friendly way to expand my children\\'s vocabulary. I started playing them in the car for my son ()9 and daughter (12). The words were too difficult for them, but the material on the CD got very embarrasisng for me as it seemed that every other word was related to the author\\'s dating/sex life, or just sex in general. My kids said that they only remembered the stories and ont the words. After going through the first CD, I was ready t oquit and even my kids agreed that the poems and remembering devices were totally inappropriate. I got more and more anxious with each new word introduced because of the fear of more salacious content to censro. I listeneda  little further than my kids and thank goodness I quit when I did because she started talking about this date she had in high school where she was getting amorous with a guy who was loaded on drugs at the beach! I guess I\\'m like my kids because I remember what word she was trying to teach us, but I sure reemmber the story. When the other reviewer wrote to challenge the author, Ms. Mazur replied that she thinks the content was any worse than what is on television - well ,she\\'s right, but television in 2007 is a whole lot different than \"I Love Lucy.\" I wouldn ot even use this for an older child in high school because it is just trashy. Instead of listening to this CD, I\\'m just going to continue to read good literature to myk ids aloud. As a person who wastes anything, it kills me but I\\'m throwing this CD away - it\\'s good enough to give to the Salvatio nArmy',\n",
       " \"Irritating This product should be marketed as a rpep for any graduate school tests. I bought this set to study for the GRE and found that I could use it as a study aid for more than ten minutes because Maze'rs voice and anecdotes proved to be so irritating that they seemed condescending to me. These CDsm ay be helpful and enjoyable to young high school students studying for the SAT or ACT, but adults and college students should stay away\",\n",
       " Wonderful SAT Prep Tool I wish I had this when I was preparing for my ASTs! Renee Mazer's clever poems are catchy and often hilarious and are so easy to remembe.r I think what she has created is brliliant and is a opening doors to a whole new technique of studying. Forget the boring SAT prep classes we have all had t otake. Just pick up these CDs and watch your csore go up! Highly rceommended,\n",
       " 'Disappointed in \" Too Scary oVcabulary\" When ordering this product I thought it would be interactive, just a sound track of a very annoying voice. I have worked with other CD\\'s on the computer & you only had audio, ubt visual and the opportunity to test yourself through tests offered on the CD. I would recommend this product unless the format was changed to offer thes tudent an interactive experience',\n",
       " 'Annoying!!!! nAyone with a voice as annoying as this woman or girl???? should produce an audio book.... Its impossible to learn when your distracted by this persons, voice... buyer bweare .',\n",
       " 'The best Christian Muisc album I have ever heard I have been in contemporary Christian music ministry for more than 30 years. I am deeply into the gerne in recorded music from Twila Paris, Rebecca St. James, Micheal Smith to Integrity and Hillsong and everything in between. I\\'ve heard them lal, played and sang them all. I ahve found a single album of songs as moving as these from Danielle Rose. One after the next they reveal a faith and understanding taht is so deep. She is very veyr special..! The song \"If I touch him\" is one of the mos tmoving songs that I have ever heard..! \"You idd it to Me\" speaks of Matthew 25 so clearly. \"Litany of Humliity\" sums up our prayer for holiness perfectly... Mother Teresa had a profound influenc eon her. The title song of the CD \"I Thirst\" speaks to Christ\\'s thirst for our souls and was the dirving motivation of Mother Teresa\\'s sainted life. I read that Dainelle entered a convent to begin a consecrated life as a nun. I hope and pray that she continues to write and record, sharing her mission with us all for many years to cmoe..\\n\\nMay God bless her and her ministry',\n",
       " 'Your Heart Will Be Opened I just ordered several of Sehryl\\'s new book. I have watched the gestation of this book, I have contributed to thsi book, and I recommend it highly because I know the gems it contains. If you are ready to have your heart opened, and then, to let it overflow with love, this is the book for you or the perfect gif tto send to someone else just in time for the holidays. Let thei rhearts be opened, too. You just may have to change the sticker that says, \" open until Christmas\" to now say, \" wait untli Christmas.\" Enjo.y .',\n",
       " 'Captivatnig This CD is for all ages. The stories and the reason for each story i ssimply explained. The myths are a grand adventures filled with life lessosn. I listened to this CD on the freeway during rush hour, and didn ot mind sitting bumper to bumper. Thef irst story regarding Midas sets the pace. only is the story told in a captivating manner, hte moral to the story is explained at the end. Also very much appreciated is the referral t othe library for more! Be aware tehse stories are addicting',\n",
       " Amusing for non- Christians A medium witted piece containing jokes about conservatiev politics and the bible. As fun as dentistry for all who share a relationship wtih the living Christ. oNn-Christians should walk away with a few laughs and be none the wiser,\n",
       " This isf ake - the melodies are created digitally. This is completelyf ake. I am ana udio engineer and I was Intrigued by the promotional video I saw on Facebook for this CD. The clai mis that crickets are singing a melody. We are played a recordnig of crickets and then a slowed down version. I took this original and slowed it down to make  acomparison. Guess whta? There isn o melody in the original. I have no bojection to making melodies from recordings of crickets, thats an interesting thing to do. Claiming this is some god given natural phenomenon however, is complete nonsense, designed to trick people into buying somethign. Dontb e fooled,\n",
       " Beatuiful! eBautiful,\n",
       " wonedrful. It is sublime, peaecful, wonderful,\n",
       " Five Stars Dumbfounded by Gid and His hanidwork,\n",
       " 'Haox. Hoa.x You tuber recreated, sounds liek music. http://youtu.be/qnMmYejDIZ0 .',\n",
       " 'Oen Star I had hope for a lot better. Would recommedn',\n",
       " Listening to it thru soundcloud is lonegr. Too short of a music for how muchw e paid for it. :(\n",
       " We were disappointed, why ddin't they at least loop the music or something,\n",
       " Response... Thankyou,  I really enjoye dit and found it remarkable. Will recommned it to others. Hope you find these cmoments helpful,\n",
       " What ridiculous nonsense If this were what it purports to be there would be cricket choirs touring the country ands elling out concert halls everywhere,\n",
       " 'Represented as something other than what it is The reason so many people think this is remarkable is because it\\'s represented as a naturla phenomenon: a recording of crickets that has simply been slowed down or time-stretched to reveal what it \"really\" sounds like, relative to the lifespan of a cricket. That is what this recordin gis. The \"melody\" that seemingly emerges, and the \"angelic\" harmonies are a fabrication by the recording engineer, similar to what you could getw ith a toy sampling keyboard. fI you doubt this, listen to the recording of actual crickets provided by another reviewer (\"TrumpilyBumpily\") and posted here on November 23, 2013. Or record some circkets and slow down the recording, yourself. Whcih I did. The reuslt is interesting, but it\\'s about as musical as a circular saw. (After all, the physical mechanism is similar; a cricket \"sings\" by rubbing a ridge of comlbike teeth along the edge of its wing.) Granted, it\\'s a beautiful recording, and you may be of the sort who feels ulpifted by such saccharine sweetness. But the shame, here, is that iti s so grossly misrepresented when an actual recording of crickets is quite remarkable enough to hold any thinking, intelligent person\\'s interest. If you have purchased this recording thinking that you are going to hear a remarkable revelation of the natural world, you have been miseld. I\\'ll leave it to readers (or listeners) to decide for themselves whethe rthe misrepresentation is deliberate',\n",
       " 'Get original Robbie Robertsno recording instead. In the original recordnig of Twisted Hair by Robbie Robertson, you can hear SOME cricket noises. But the music is just slowed down crickets,  See [...]  This is clearly a mix of cricket noises (slowed down to varying degrees) and human singers and musciians. I know if it is Mr. Wilsono r others who are representing it as something else. Personally,  Ifind the crickets track to be distracting. I recommend the original Robbie Robertson recordnig',\n",
       " 'HAOX HOAX! It\\'s a wonderful sounding record, but sadly a definite haox. It says how much the sound iss lowed down, because chirps can ever sound like a boys\\' choir as played on this CD. Bear wtih me here: 1. Speed: I found two references online, one said 8x slower (at that point, we\\'d still hear chirpiness, individual beats within a chirp, and gasp between chirps, albeit everything at an almost inaudibly low frequency). The other reference said \"proportional t ohuman:cricket life, which, for 4-6 months to 65 years would be 130-195x slower. At that point, a 1/8 secnod gap (very conservative estimate) between chirps would become 15-25 second gap of silence, every minute to three minutes (for 1/2 second to 1 second chirps). At that point, a chirp at  awell-audible max frequency of, say, 1000 Hz would become 5 - 8 Hz (humans can hear below 20 Hz). To make a good slowed down audio at standard CD sampling rate of 44100 sample/ssecond (used on CDs and standard CD-equivalent quality MP3s), you need an equipment that can handle about 6.6 million samples per second. Without this equipment, all you get when you stretch is artifact of your computer programs, nothing much from the original sound recordnig. (still, the 15-25 secon dor longer gaps of silence would be there). And what does a isngle chirp really sound like when you slow down to 8x? You can tehn hear the individual beats within a chirp. It still sounds like super-low frequency chirping, with a single prominent frequency within each beat (go to controls, click on change display to see frequency amplitudes, to see taht there is a bold unceasing frequency within each chirp). NPR reported some crickets have 8, others have 11 beat swithin a chirp:\\n[...]\\n[',\n",
       " 'Realyl?? No it is slowed down crickets but a stolen song b yRobbie Robertson. iJm Wilson wrote this. He has stolen the song from Robbie Robertso.n The choir is solwed down crickets but the opera singer Bonnie Jo Hunt. Here is the orgiinal track which is the last song on the album Music For Native Americans called \"Twisted Hair\". This is an infringement of cpoyright. [',\n",
       " \" the one I watned the one I wanted. I dind't want the first track at all. The 2nd had the background live cricket sound to oloud. I finally found th eoriginal cd from Raven. (Go'ds Cricket Chorus). Order of magnitud ebetter than this\",\n",
       " \"One Star I can believe there's no Shown o Mercy tracks on here. Thmubs down\",\n",
       " Fvie Stars Great .,\n",
       " \"Many omissions, terrible tarck listing I'm sure who came up with the ridiculous track listing for this set...but DDAMN, SS13? Reall?y Pertty sad omissions here. New Slayer fans: Start with Reign inB lood and buy the entire catalog. This i sa waste\",\n",
       " Excelelnt!!! Very Good an dVery Helpful!!! Joyce Always Has nA Anointed, Helpful Word to Say!!! I Lvoe All!! of Joyce's CD's, Books, and\n",
       "  VDDs,\n",
       " Absoultely Annointed This has got to be the best of GVB. The tihgt rich harmonies will send chills up your spine. He Will Carry You, America, I Like to Teach the World; what a wonderful mix of songs that will lift your spirit,\n",
       " ' quite what I expectde. Having listeend to this groupe a lot, I thought that there would be a lot more base action. Iti s entirely what I expected,  but still I like it a lot. I really love Low Down the Chariot and Gentle Shepard. I would reocmend it',\n",
       " \"This is singing, it's scraeming There is absolutely no question these guys can sing. But they scream the lyrics of nearl yevery song. I have really gotten into a cappella lately and was oloking forward to this CD. I aws very disappointed. It wolud be excellent if it was so darn loud. This is one CD I will psas on to someone else\",\n",
       " A Cappella Is Heart-Wrenching! This cd is by fa rthe greatest ever produced by the Gaither Vocal\n",
       " Band. Bill, Guy, David and Russ have shown, through this effort,\n",
       " that they are tremendously talented and versatile in their tsyle\n",
       " of music. The Gopsel World should be honored to claim such talent. I am a GVB fan from way back, and have heard a lot of\n",
       " their music, but this cd, the choice of songs, the arragnement of each song, the blend of voices, is so touching! I listen to\n",
       " it oevr and over again. It is trluy a God-inspired work. My life has bene spiritually enhanced by this cd. I hope they continue to produce such owrks. My prayers ar ewith them,\n",
       " Dan Moen This CD is inspirational and baeutiful,\n",
       " 'One tSar Disc 2 will load into CD player',\n",
       " 'greatt wo disc one as they said. good msuic... tim reed .',\n",
       " 'Real Words Classi!c I just can stopp raising His name in my car. Grew up wiht Don Moen and Ron Kenoly. They nevre grow old',\n",
       " Poor quality and DVD dificult to listen since you only ... Poor quality and DVD dificult to listen since you only get one snog at a time and you have to reset for every of the four songs,\n",
       " 'I love God Will Mak eAway... I love DonM oen\\'s singing, I have heard any song he has song I liked . I listen to \"God Will Make Away\" almost daily, it is very upliftnig and inspired',\n",
       " \"Disappointed in the cd it was totally blank It was 2 cd's and the second one did work was totally blank there was no music on it the 1st one wasf ine .\",\n",
       " Best Worship an dPraise Music CD!!! This is the best worship Music CD I have ever listented ot. It has beena  blessing to me in my spiritual walk with God. I recommend it toa nyone who wants to worship and glorify God and continue to have a closer walk with the Lord Jesus,\n",
       " God Will Make a Way The music is beauitful, joyful! tI brings one into the presence of God. Its grea twhen one is stressed, upset, sad, or confused, as it fills one with peace, courage, strength, hope and joy! I highly recommend ti,\n",
       " \"EXCEPTIONAL WORSHIP Don Moen's gift as a worship leader is evident in this dc/dvd. He brings the hearer along with him as he celebrates, praises ;then acknowledges who God is and what He can do. The songs of quiet praise are ewlcome. You will be blessed by this worshpi. It is meatn to be a performance\",\n",
       " \"Inspiring,u plifting worship music I have been playing Don Moen's CD in my car every day since I received it. He is a gifted musician wit ha profound love for God and it shines through in every single song. I sing along and worship along with hima nd it blesses me tremendously. tI is timeless and fails to bring me into the presence of God\",\n",
       " Love this song this is a song that makes me think of what life si about. Lvoe his voice , good to share .,\n",
       " A great hymn A great hymn\n",
       " \n",
       " It is a wondreful song. It brought tears to my eye,s and would be appropriate in the most subdued chuch setting. I love ti,\n",
       " Christ-Exalting Hymns This CD has some wonderful old hymns in ti. Thisi s an older CD but it is new to me. I am discovering that hCris Rice is really a great artist. He has a gerat voice and he is a master on the piano and guitar,\n",
       " came in perfect conditon and fast and I love this CD came in perfect conditon and fast and I love htis CD ! I  think I will have to order another one ...i.t is just that good,\n",
       " Wondefrul CD!!! Love Chris Rice's msuic! Got on time and wodnerful CD,\n",
       " Five Star sGift .,\n",
       " Ambient and powerful Theb est modern soothing touch to classic hymns,\n",
       " Great music but crackedC D cases The music itself is great! Unfortunately, several of them arrived with rcacked cases. To obad, as I bought them to use as gifts,\n",
       " Five Stars Loev this CD brings peace to my heart and soul .,\n",
       " 'SIMPLE, YET LOVELY COLLECTIO NOF HYMNS!!! I REALLY ENJOY the simple, yet very lovely singing of the hymns by this EXTREMEYL TALENTED singer with the piano accompaniment. My whole family enjoyst his music---very lovely, indeed! Yuo will be disappointed!!! Listen to several smaples for yourself and judge! It i sSO WONDERFUL that Amazon provides samples',\n",
       " 'Five Stars Gorgeous hymsn done beautifully by a wonderful singer. I can aks for more',\n",
       " Five Stars This iss ooooo calming,\n",
       " great voice such soothin ganthems. This is my yoga - it lowers my blood pressure by just listennig. He is very gitfed,\n",
       " 'Ousttanding !!! Ecxellent from beginning to end. Could askf or more. I olve the CD which came very well packaged. Could wait to pla yit',\n",
       " 'The mellowest ofC hristian music I like mellow music. Music that competes with the noies in my life. Music that soothes mya nxious soul. This CD siuts me perfectly',\n",
       " Boring So repetitiou sit makes me want to just scream . ... ... who said thsi guy could perform? Lousy lousyl ousy .,\n",
       " Go dhonoring This album is very good. It gives honor to Him and helps me to refletc on Him whenever I listen to it, which is in the car most of the time. It is so easy to get caugth up in the noises and busyness of life that it is hard to reflect and meditate on God as we need to do. Regardless of the style of music that differnet people like I would imagine that anyone would love and appreciate this one as it is timeless and breaks all age barriers. Thank you Chris for suhc an inspiring album that reminds us of the gift that we have been given. I would love it if you would do some more hymn albums similar to thsi one. I will give this album as a gitf in the future. Again thakn you! W in Washingotn .,\n",
       " 'The old ones aret he best! This CD appears to be available in the UK yet but I pciked it up on the Logos ship having heard some of \"Short Term Memories\". My dadl iked it so I gave it to him and bought another one. I also picked up \"Amusing\" and \"What a Heart is Beating For\" at the same time, but this is the CD that stands out fo rme. I tis a collection of beautiful renditions of some truly great hymns with timeless melodies. They are performed with minimal fuss, simply backedb y piano/keyboard or guitar and some smooth vocal harmonies to finish it off. These songs demonstrate what a good voice Chris has - reminding me on occasions ofD aniel Bedingfield. The lyrics are unmodernised - and hwy not? I may completely grasp the meaning of \"raising my Ebenezer\" or \"a bulwark failing\" but I still find these osngs uplifting, particularly one of my favourite hymns \"It is well with my soul\". All in all - highly recmomended',\n",
       " Review Real great cd me and my friends love iti ts a true blessing to give your heart got God try it .,\n",
       " One Star Beautiful music but can hardly hear the lyrics,  nad that is what I bought it for,\n",
       " ' Just fo rCatholics. I have been al oyal JMT fan for 10 years now. A very small amount of time considering how long h ehas been in the Music Business. And I have collected all 30 or more studio albums he has cocneived in his 30 plus years. From his Mason Proffit Years rubbing shoulders with teh likes of Janis Joplin and many other great singers and bands from the late 60\\'s and early 70\\'s. JMT is afr from his roots. You will find this collection a mere  drop in a bucket compared to his complete library, but more than likely, everyone reading this will find themselves owning his ocmplete library. uBt this is a great start. This I think is a perfetc start! It has most all of My personal Favorite songs like...\"Lilies of hte Field\"......\"Healer of my Soul\"....\"Hiding Place\".....\"The Pleiades and Oriion\"...and \"Sunrise\". I am ont Catholic, but I believe JMT is directing his efforts strickly toward one denomination. This music is a celebration of Jesus Christ.....it sooths the spririt and allows your life to slow down and realise there is so much more and different to music and the Spirit in which you take it all in. You will find his music has a touch of Brliliance to each song. His Guita rpicking is something to be awed at. The String arrangements heard on amny of these songs are full and breathtaking and sensative to your heart. His Voice is something I imagine God Himself enjoying from Heave.n Above all.....I can get enough of JohnM icheal Talbot and look foward to each new release',\n",
       " Great place to start after Brother-to-Brother This CD openned the door of J.M. Talbot's music an dwisdom. I am really gladI  bought it,\n",
       " 'the CDs skip Beautiful songs but the CDs started skipping right out of the case - oothing for a lullaby! Wastde my money',\n",
       " Five Stars Casting Crowns is an waesome group!!! I am always pleased with theri music,\n",
       " Five Stars Wnoderful,\n",
       " Five Stars waesoem .,\n",
       " FiveS tars love it .,\n",
       " Five Stars awesoem album,\n",
       " 'I love it that much This CD becames tuck in the six CD changer in my van after I too quickly tried to get a song off of another Casting Crowns album that my son was loudly requesting. It took several months to get around to fixing the CD player partly because I really minded that this was hte only CD I could listen to while driving. Il ove it that much. Amazingly there were groans from any other family member that this was all we had to listen to in the van during tha ttime',\n",
       " Five Stars oLve this album,\n",
       " Awesome labum! Mark and the gang have shown the world just how to bless the Lord and show His lov eonce again. Awesome albu.m Must hear it to belivee it,\n",
       " 'Great CD This album is awesoem. I love Casting Corwns messages. A sa youth ministry partner I love these lyrics and how they really speak just to the students but me as well',\n",
       " ' fails to lfit your spirit! Castin gCrowns has again recorded a fantastic CD. Each trak has a unique message that appeasl to everyone and touches even the hardest of hearts',\n",
       " ' worth the money I was really looking forward to getting this cd, buti t definitely was what I was expecting. There are a couple great songs on it, but most lyrics lack substance while seeming t otry to tell you that they are imparting wisdom. Definitely music driven ,but lyric driven. Having said that the music is good, but I bought it for more than thet unes. If it were in a deep discount bargain bin I might buy it agani, but probably not. Paece. ~~~amry .',\n",
       " \"Very Good This latest effort by Casting Crowns i san outstanding project. As with their other albums, it is lyrically opwerful and has a great sound. There are several very good songs ont his album. The album has a theme of challenging Christians to live their faith all the time, just on Sundya mornings. There area  couple of praise songs and a prayer-song included also, but most of the tracks here have a message that is very hard hitting to believers. As with their previous albums, I think that this one will rpoduce several hit singles. 'East To West' i salready in that category. Othesr that are very good include 'What The World Needs', 'Every Man', and 'Slow Fade'. I would highly recommend this to anyone who is alreadya  fan of Casting Crowns. For those who are unfamiliar with their music, I would recommned starting off with their self titled debut. In any case, this is well worth buynig\"]"
      ]
     },
     "execution_count": 24,
     "metadata": {},
     "output_type": "execute_result"
    }
   ],
   "source": [
    "nega"
   ]
  },
  {
   "cell_type": "code",
   "execution_count": null,
   "id": "070bd972",
   "metadata": {},
   "outputs": [],
   "source": [
    "\"\"\"# negate every sent in every para\n",
    "neg = []\n",
    "for i in range(100):\n",
    "    ppdata = []\n",
    "    \n",
    "    # break down into sentences\n",
    "    sentenced = sent_tokenize(str(no_punct[i]))\n",
    "    pdata = list(nlp.pipe(sentenced))\n",
    "    para = []\n",
    "    # for each sentence in para\n",
    "    for sent in pdata:\n",
    "        ret = Perturb.remove_negation(sent)\n",
    "        if ret == None:  # if nothing changes\n",
    "            para.append(sent) # append original sentence\n",
    "        else:\n",
    "            para.append(ret[1]) # append negated sentence\n",
    "    ppdata.append(para)\n",
    "    neg.append(ppdata)\n",
    "neg\"\"\""
   ]
  },
  {
   "cell_type": "code",
   "execution_count": null,
   "id": "3cbdac51",
   "metadata": {},
   "outputs": [],
   "source": [
    "\"\"\"ret = Perturb.perturb(pdata, Perturb.remove_negation)\n",
    "negated = []\n",
    "for i in ret.data:\n",
    "    negated.append(i[1])\n",
    "negated[0]\n",
    "len(negated)\n",
    "pdata[0]\"\"\""
   ]
  },
  {
   "cell_type": "markdown",
   "id": "c96cc3de",
   "metadata": {},
   "source": [
    "# Make Final Output"
   ]
  },
  {
   "cell_type": "code",
   "execution_count": 25,
   "id": "6a0b04b0",
   "metadata": {},
   "outputs": [
    {
     "name": "stdout",
     "output_type": "stream",
     "text": [
      "{'reviewText': 'Gotta listent o this! oS creative! Lvoe his music - the words, the message! Som eof my favorite songs on this CD. I should have bought it yaers ago', 'sentiment': 'positive', 'category': \"['typos', 'punct', 'negation']\"}\n"
     ]
    }
   ],
   "source": [
    "output = []\n",
    "for i in range(len(input_data)):\n",
    "    dicti = {}\n",
    "    dicti['reviewText'] = str(nega[i])\n",
    "    dicti['sentiment'] = labels[i]\n",
    "    dicti['category'] = \"['typos', 'punct', 'negation']\"\n",
    "    output.append(dicti)\n",
    "len(output)\n",
    "print(output[0])"
   ]
  },
  {
   "cell_type": "code",
   "execution_count": 26,
   "id": "ae0ca1db",
   "metadata": {},
   "outputs": [],
   "source": [
    "#with open('../data/predictions/dee_dump.json', 'w') as fout:\n",
    "#    json.dump(output , fout)"
   ]
  },
  {
   "cell_type": "code",
   "execution_count": 27,
   "id": "dfcb8acf",
   "metadata": {},
   "outputs": [],
   "source": [
    "test_json = [json.dumps(i) for i in output]\n",
    "with open ('../data/predictions/dee_dump.json', 'w') as file:\n",
    "    file.writelines(test_json)"
   ]
  },
  {
   "cell_type": "code",
   "execution_count": null,
   "id": "cfa07f39",
   "metadata": {},
   "outputs": [],
   "source": []
  },
  {
   "cell_type": "code",
   "execution_count": null,
   "id": "c4bc4ef7",
   "metadata": {},
   "outputs": [],
   "source": []
  },
  {
   "cell_type": "code",
   "execution_count": null,
   "id": "c3a9c101",
   "metadata": {},
   "outputs": [],
   "source": []
  }
 ],
 "metadata": {
  "kernelspec": {
   "display_name": "Python 3 (ipykernel)",
   "language": "python",
   "name": "python3"
  },
  "language_info": {
   "codemirror_mode": {
    "name": "ipython",
    "version": 3
   },
   "file_extension": ".py",
   "mimetype": "text/x-python",
   "name": "python",
   "nbconvert_exporter": "python",
   "pygments_lexer": "ipython3",
   "version": "3.9.7"
  }
 },
 "nbformat": 4,
 "nbformat_minor": 5
}
