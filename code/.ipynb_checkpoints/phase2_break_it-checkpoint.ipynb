{
 "cells": [
  {
   "cell_type": "markdown",
   "id": "d90e347c",
   "metadata": {},
   "source": [
    "# Phase 2: Break It"
   ]
  },
  {
   "cell_type": "code",
   "execution_count": 1,
   "id": "b513ef5a",
   "metadata": {},
   "outputs": [],
   "source": [
    "import csv\n",
    "import numpy as np\n",
    "import matplotlib.pyplot as plt\n",
    "import pandas as pd"
   ]
  },
  {
   "cell_type": "code",
   "execution_count": 2,
   "id": "742db0e8",
   "metadata": {},
   "outputs": [],
   "source": [
    "TRAIN = '../data/interim/train.csv'"
   ]
  },
  {
   "cell_type": "code",
   "execution_count": 36,
   "id": "6d81c170",
   "metadata": {},
   "outputs": [],
   "source": [
    "input_data = []\n",
    "label = []\n",
    "with open(TRAIN, mode='r') as file:\n",
    "    csvFile = csv.reader(file)\n",
    "    for lines in csvFile:\n",
    "        input_data.append(lines[0])\n",
    "        label.append(int(lines[1]))\n",
    "        \n",
    "input_data = input_data[0:100]\n",
    "label = label[0:100]"
   ]
  },
  {
   "cell_type": "code",
   "execution_count": 63,
   "id": "7714ffa5",
   "metadata": {},
   "outputs": [
    {
     "data": {
      "text/plain": [
       "['Gotta listen to this! So creative!  Love his music - the words, the message! Some of my favorite songs on this CD. I should have bought it years ago!',\n",
       " 'Shame Shame This tape can hardly be understood and it was listed for sale as \"very good\".  It\\'s VERY BAD.']"
      ]
     },
     "execution_count": 63,
     "metadata": {},
     "output_type": "execute_result"
    }
   ],
   "source": [
    "input_data[0:2]"
   ]
  },
  {
   "cell_type": "code",
   "execution_count": 37,
   "id": "ae455c54",
   "metadata": {},
   "outputs": [
    {
     "name": "stdout",
     "output_type": "stream",
     "text": [
      "Sentence 1:\n",
      "Gotta listen to this! So creative!  Love his music - the words, the message! Some of my favorite songs on this CD. I should have bought it years ago!\n",
      "Label: 1\n"
     ]
    },
    {
     "data": {
      "text/plain": [
       "list"
      ]
     },
     "execution_count": 37,
     "metadata": {},
     "output_type": "execute_result"
    }
   ],
   "source": [
    "print(f'Sentence 1:\\n{input_data[0]}\\nLabel: {label[0]}')\n",
    "type(input_data)"
   ]
  },
  {
   "cell_type": "code",
   "execution_count": 38,
   "id": "1660d974",
   "metadata": {},
   "outputs": [],
   "source": [
    "#conda install checklist\n",
    "import checklist\n",
    "from checklist.editor import Editor\n",
    "from checklist.perturb import Perturb"
   ]
  },
  {
   "cell_type": "code",
   "execution_count": 39,
   "id": "75b118f3",
   "metadata": {},
   "outputs": [],
   "source": [
    "#python3 -m spacy download en_core_web_sm\n",
    "#conda install spacy\n",
    "import spacy\n",
    "nlp = spacy.load('en_core_web_sm')"
   ]
  },
  {
   "cell_type": "markdown",
   "id": "510097fa",
   "metadata": {},
   "source": [
    "# POS tag data\n",
    "\n",
    "https://spacy.io/usage/processing-pipelines\n",
    "\n",
    "When you call nlp on a text, spaCy will tokenize it and then call each component on the Doc, in order. It then returns the processed Doc that you can work with."
   ]
  },
  {
   "cell_type": "code",
   "execution_count": 60,
   "id": "60ffb302",
   "metadata": {},
   "outputs": [],
   "source": [
    "pdata = list(nlp.pipe(input_data))\n",
    "#for doc in nlp.pipe(input_data):\n",
    "    # Do something with the doc here\n",
    "#    print([(ent.text, ent.label_) for ent in doc.ents])"
   ]
  },
  {
   "cell_type": "markdown",
   "id": "80c540f9",
   "metadata": {},
   "source": [
    "# Remove End Punctuation"
   ]
  },
  {
   "cell_type": "code",
   "execution_count": 41,
   "id": "9aa950bf",
   "metadata": {},
   "outputs": [
    {
     "data": {
      "text/plain": [
       "(Gotta listen to this! So creative!  Love his music - the words, the message! Some of my favorite songs on this CD. I should have bought it years ago!,\n",
       " 'Gotta listen to this! So creative!  Love his music - the words, the message! Some of my favorite songs on this CD. I should have bought it years ago')"
      ]
     },
     "execution_count": 41,
     "metadata": {},
     "output_type": "execute_result"
    }
   ],
   "source": [
    "pdata[0], Perturb.strip_punctuation(pdata[0])"
   ]
  },
  {
   "cell_type": "code",
   "execution_count": 69,
   "id": "187e442c",
   "metadata": {},
   "outputs": [
    {
     "data": {
      "text/plain": [
       "[['Gotta listen to this! So creative!  Love his music - the words, the message! Some of my favorite songs on this CD. I should have bought it years ago!',\n",
       "  'Gotta listen to this! So creative!  Love his music - the words, the message! Some of my favorite songs on this CD. I should have bought it years ago',\n",
       "  'Gotta listen to this! So creative!  Love his music - the words, the message! Some of my favorite songs on this CD. I should have bought it years ago.'],\n",
       " ['Shame Shame This tape can hardly be understood and it was listed for sale as \"very good\".  It\\'s VERY BAD.',\n",
       "  'Shame Shame This tape can hardly be understood and it was listed for sale as \"very good\".  It\\'s VERY BAD']]"
      ]
     },
     "execution_count": 69,
     "metadata": {},
     "output_type": "execute_result"
    }
   ],
   "source": [
    "ret = Perturb.perturb(pdata, Perturb.punctuation)\n",
    "ret.data[0:2]"
   ]
  },
  {
   "cell_type": "markdown",
   "id": "7f459c66",
   "metadata": {},
   "source": [
    "# Add Typos"
   ]
  },
  {
   "cell_type": "code",
   "execution_count": 53,
   "id": "bc10ef83",
   "metadata": {},
   "outputs": [
    {
     "data": {
      "text/plain": [
       "('Gotta listen to this! So creative!  Love his music - the words, the message! Some of my favorite songs on this CD. I should have bought it years ago!',\n",
       " 'Gotta listen to this! So creative!  Love ihs music - the words, the message! Some of my favorite songs on this CD. I should have bought it years ago!')"
      ]
     },
     "execution_count": 53,
     "metadata": {},
     "output_type": "execute_result"
    }
   ],
   "source": [
    "input_data[0], Perturb.add_typos(input_data[0])"
   ]
  },
  {
   "cell_type": "code",
   "execution_count": 73,
   "id": "0b6da5f1",
   "metadata": {},
   "outputs": [
    {
     "data": {
      "text/plain": [
       "[['Greatest Songs, Worst Rendition These may be, and are, some of America\\'s Greatest Old-time Gospel songs, but the way they are presented is an abomination!  Gospel, especially Old-Time Gospel is music of the soul, sung from the heart.  Neither heart nor soul can be found in these arrangements.  I would compare the redition of these classics to fast food, but that wouldn\\'t really be fair, since fast food has some nutritional value. I found this music to be as plastic as the CD it was burned on, with no \"nutritional value\" to the heart and soul whatsoever.\\n\\nIt doesn\\'t even deserve one star.',\n",
       "  'Greatest Songs, Worst eRndition These may be, and are, some of America\\'s Greatest Old-time Gospel songs, but the way they are presented is an abomination!  Gospel, especially Old-Time Gospel is music of the soul, sung from the heart.  Neither heart nor soul can be found in these arrangements.  I would compare the redition of these classics to fast food, but that wouldn\\'t really be fair, since fast food has some nutritional value. I found this music to be as plastic as the CD it was burned on, with no \"nutritional value\" to the heart and soul whatsoever.\\n\\nIt doesn\\'t even deserve one star.']]"
      ]
     },
     "execution_count": 73,
     "metadata": {},
     "output_type": "execute_result"
    }
   ],
   "source": [
    "ret = Perturb.perturb(input_data, Perturb.add_typos, nsamples=1)\n",
    "ret.data"
   ]
  },
  {
   "cell_type": "markdown",
   "id": "0afab46f",
   "metadata": {},
   "source": [
    "# Negation"
   ]
  },
  {
   "cell_type": "code",
   "execution_count": 80,
   "id": "3cbdac51",
   "metadata": {},
   "outputs": [
    {
     "data": {
      "text/plain": [
       "[\"Buy the CD.  Do not buy the MP3. Buy the CD.  Do not buy the MP3 album.  Download is no longer available.  But you don't find that out until after you have purchased it.\",\n",
       " 'Buy the CD.   buy the MP3. Buy the CD.   buy the MP3 album.  Download is longer available.  But you find that out until after you have purchased it.']"
      ]
     },
     "execution_count": 80,
     "metadata": {},
     "output_type": "execute_result"
    }
   ],
   "source": [
    "ret = Perturb.perturb(pdata, Perturb.remove_negation)\n",
    "ret.data[0]"
   ]
  },
  {
   "cell_type": "code",
   "execution_count": null,
   "id": "dfcb8acf",
   "metadata": {},
   "outputs": [],
   "source": []
  },
  {
   "cell_type": "code",
   "execution_count": null,
   "id": "cfa07f39",
   "metadata": {},
   "outputs": [],
   "source": []
  },
  {
   "cell_type": "code",
   "execution_count": null,
   "id": "c4bc4ef7",
   "metadata": {},
   "outputs": [],
   "source": []
  },
  {
   "cell_type": "code",
   "execution_count": null,
   "id": "c3a9c101",
   "metadata": {},
   "outputs": [],
   "source": []
  }
 ],
 "metadata": {
  "kernelspec": {
   "display_name": "Python 3 (ipykernel)",
   "language": "python",
   "name": "python3"
  },
  "language_info": {
   "codemirror_mode": {
    "name": "ipython",
    "version": 3
   },
   "file_extension": ".py",
   "mimetype": "text/x-python",
   "name": "python",
   "nbconvert_exporter": "python",
   "pygments_lexer": "ipython3",
   "version": "3.9.7"
  }
 },
 "nbformat": 4,
 "nbformat_minor": 5
}
