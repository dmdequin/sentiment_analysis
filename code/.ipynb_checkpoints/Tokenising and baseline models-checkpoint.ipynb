{
 "cells": [
  {
   "cell_type": "markdown",
   "id": "f8a105f6",
   "metadata": {},
   "source": [
    "# Imports"
   ]
  },
  {
   "cell_type": "code",
   "execution_count": 1,
   "id": "f7b379ef",
   "metadata": {},
   "outputs": [],
   "source": [
    "import csv\n",
    "import re\n",
    "import numpy as np\n",
    "import matplotlib.pyplot as plt\n",
    "import torch.nn.functional as F\n",
    "\n",
    "import pickle\n",
    "from datetime import datetime"
   ]
  },
  {
   "cell_type": "code",
   "execution_count": 2,
   "id": "d9438dcd",
   "metadata": {},
   "outputs": [
    {
     "name": "stdout",
     "output_type": "stream",
     "text": [
      "_19042022_092746\n"
     ]
    }
   ],
   "source": [
    "now = datetime.now()\n",
    "current_time = now.strftime(\"_%d%m%Y_%H%M%S\")\n",
    "print(current_time)"
   ]
  },
  {
   "cell_type": "markdown",
   "id": "992ff764",
   "metadata": {},
   "source": [
    "# Constants"
   ]
  },
  {
   "cell_type": "code",
   "execution_count": 3,
   "id": "e6981440",
   "metadata": {},
   "outputs": [],
   "source": [
    "TRAIN = '../data/interim/train.csv'\n",
    "DEV   = '../data/interim/dev.csv'\n",
    "TEST  = '../data/interim/test.csv'\n",
    "SEW = '../data/interim/sew.csv'\n",
    "GAMES = '../data/interim/games.csv'"
   ]
  },
  {
   "cell_type": "markdown",
   "id": "56a12e91",
   "metadata": {},
   "source": [
    "# Functions"
   ]
  },
  {
   "cell_type": "code",
   "execution_count": 4,
   "id": "b0a97f46",
   "metadata": {},
   "outputs": [],
   "source": [
    "def loader(PATH):\n",
    "    with open(PATH, mode ='r')as file:\n",
    "        csvFile = csv.reader(file)\n",
    "        text = []\n",
    "        for lines in csvFile:\n",
    "            text.append(lines)\n",
    "    return text\n",
    "\n",
    "\n",
    "def splitter(L):\n",
    "    X = []\n",
    "    y = []\n",
    "    for i in L:\n",
    "        X.append(i[0])\n",
    "        y.append(int(i[1]))\n",
    "        \n",
    "    return X, y"
   ]
  },
  {
   "cell_type": "code",
   "execution_count": 6,
   "id": "ebe51fe0",
   "metadata": {},
   "outputs": [
    {
     "data": {
      "text/plain": [
       "'def tknzr(sentence):\\n    Function to find all tokens in a given sentence\\n    \\n    tok = re.compile(\\'[\\'\"]|[A-Za-z]+|[.?!:\\'\"]+\\')\\n    \\n    return tok.findall(sentence)'"
      ]
     },
     "execution_count": 6,
     "metadata": {},
     "output_type": "execute_result"
    }
   ],
   "source": [
    "\"\"\"def tknzr(sentence):\n",
    "    Function to find all tokens in a given sentence\n",
    "    \n",
    "    tok = re.compile('[\\'\\\"]|[A-Za-z]+|[.?!:\\'\\\"]+')\n",
    "    \n",
    "    return tok.findall(sentence)\"\"\""
   ]
  },
  {
   "cell_type": "markdown",
   "id": "ee794c10",
   "metadata": {},
   "source": [
    "# Check for GPU"
   ]
  },
  {
   "cell_type": "code",
   "execution_count": 5,
   "id": "4120bc4d",
   "metadata": {},
   "outputs": [
    {
     "name": "stdout",
     "output_type": "stream",
     "text": [
      "No GPU available, using the CPU instead.\n"
     ]
    }
   ],
   "source": [
    "import torch\n",
    "\n",
    "if torch.cuda.is_available():       \n",
    "    device = torch.device(\"cuda\")\n",
    "    print(f'There are {torch.cuda.device_count()} GPU(s) available.')\n",
    "    print('Device name:', torch.cuda.get_device_name(0))\n",
    "\n",
    "else:\n",
    "    print('No GPU available, using the CPU instead.')\n",
    "    device = torch.device(\"cpu\")"
   ]
  },
  {
   "cell_type": "markdown",
   "id": "f140634c",
   "metadata": {},
   "source": [
    "# Set Seed"
   ]
  },
  {
   "cell_type": "code",
   "execution_count": 6,
   "id": "bf9ceb42",
   "metadata": {},
   "outputs": [],
   "source": [
    "def set_seed(seed_value=42):\n",
    "    \"\"\"Set seed for reproducibility.\n",
    "    \"\"\"\n",
    "    random.seed(seed_value)\n",
    "    np.random.seed(seed_value)\n",
    "    torch.manual_seed(seed_value)\n",
    "    torch.cuda.manual_seed_all(seed_value)"
   ]
  },
  {
   "cell_type": "markdown",
   "id": "06495b8f",
   "metadata": {},
   "source": [
    "# Load Data"
   ]
  },
  {
   "cell_type": "code",
   "execution_count": 7,
   "id": "43eb346d",
   "metadata": {},
   "outputs": [],
   "source": [
    "train_data = loader(TRAIN) # Training\n",
    "dev_data = loader(DEV)     # Validation\n",
    "X_test = loader(TEST)      # Test\n",
    "sew_data = loader(SEW)     # Sewing Reviews\n",
    "games_data = loader(GAMES) # Games Reviews  "
   ]
  },
  {
   "cell_type": "code",
   "execution_count": 8,
   "id": "22c526e0",
   "metadata": {},
   "outputs": [
    {
     "data": {
      "text/plain": [
       "(100000, 10000, 10000, 494485, 497577)"
      ]
     },
     "execution_count": 8,
     "metadata": {},
     "output_type": "execute_result"
    }
   ],
   "source": [
    "len(train_data), len(dev_data), len(X_test), len(sew_data), len(games_data)"
   ]
  },
  {
   "cell_type": "code",
   "execution_count": 9,
   "id": "d21637de",
   "metadata": {},
   "outputs": [],
   "source": [
    "# Fix X_test so that it is a single list of strings\n",
    "test = []\n",
    "for i in range(len(X_test)):\n",
    "    #print(str(X_test[i][0]))\n",
    "    test.append(str(X_test[i][0]))\n",
    "X_test = test"
   ]
  },
  {
   "cell_type": "code",
   "execution_count": 10,
   "id": "37260ff0",
   "metadata": {},
   "outputs": [],
   "source": [
    "# Uncomment to select a subset of the data\n",
    "#train_data = train_data[0:100] \n",
    "#dev_data = dev_data[0:100]\n",
    "#X_test = X_test[0:50]"
   ]
  },
  {
   "cell_type": "markdown",
   "id": "15ad3020",
   "metadata": {},
   "source": [
    "# Tokenize"
   ]
  },
  {
   "cell_type": "code",
   "execution_count": 13,
   "id": "ea7ecd0c",
   "metadata": {},
   "outputs": [],
   "source": [
    "X_train, y_train = splitter(train_data)\n",
    "X_dev, y_dev = splitter(dev_data)\n",
    "X_sew, y_sew = splitter(sew_data)\n",
    "X_games, y_games = splitter(games_data)"
   ]
  },
  {
   "cell_type": "code",
   "execution_count": 17,
   "id": "8e915d54",
   "metadata": {},
   "outputs": [],
   "source": [
    "# hand-made tokenization\n",
    "#print(tknzr(X_train[0]))"
   ]
  },
  {
   "cell_type": "code",
   "execution_count": 18,
   "id": "89f2a253",
   "metadata": {},
   "outputs": [
    {
     "data": {
      "text/plain": [
       "\"X_train_tokens = []\\nfor sentence in X_train:\\n    temp = tknzr(sentence)\\n    if len(temp) > 0:\\n        if len(temp) > 500:\\n            X_train_tokens.append(temp[0:500])\\n        else: X_train_tokens.append(temp)\\n    else: X_train_tokens.append('NULL')\\nprint(len(X_train_tokens))\""
      ]
     },
     "execution_count": 18,
     "metadata": {},
     "output_type": "execute_result"
    }
   ],
   "source": [
    "\"\"\"X_train_tokens = []\n",
    "for sentence in X_train:\n",
    "    temp = tknzr(sentence)\n",
    "    if len(temp) > 0:\n",
    "        if len(temp) > 500:\n",
    "            X_train_tokens.append(temp[0:500])\n",
    "        else: X_train_tokens.append(temp)\n",
    "    else: X_train_tokens.append('NULL')\n",
    "print(len(X_train_tokens))\"\"\""
   ]
  },
  {
   "cell_type": "code",
   "execution_count": 14,
   "id": "647f43bc",
   "metadata": {},
   "outputs": [
    {
     "data": {
      "text/plain": [
       "('Four Stars Contains some interesting stitches.', 4)"
      ]
     },
     "execution_count": 14,
     "metadata": {},
     "output_type": "execute_result"
    }
   ],
   "source": [
    "X_sew[0], y_sew[0]"
   ]
  },
  {
   "cell_type": "code",
   "execution_count": 20,
   "id": "5124a21d",
   "metadata": {},
   "outputs": [
    {
     "data": {
      "text/plain": [
       "\"for x in X_train_tokens:\\n    if len(x) == 0 or len(x) > 500:\\n        print(x)\\n        \\nfor i in X_train_tokens:\\n    if i == []:\\n        print('!!!')\""
      ]
     },
     "execution_count": 20,
     "metadata": {},
     "output_type": "execute_result"
    }
   ],
   "source": [
    "\"\"\"for x in X_train_tokens:\n",
    "    if len(x) == 0 or len(x) > 500:\n",
    "        print(x)\n",
    "        \n",
    "for i in X_train_tokens:\n",
    "    if i == []:\n",
    "        print('!!!')\"\"\"      "
   ]
  },
  {
   "cell_type": "code",
   "execution_count": 21,
   "id": "fbf56264",
   "metadata": {},
   "outputs": [
    {
     "data": {
      "text/plain": [
       "'X_dev_tokens = []\\nfor sentence in X_dev:\\n    X_dev_tokens.append(tknzr(sentence))\\nprint(len(X_dev_tokens))'"
      ]
     },
     "execution_count": 21,
     "metadata": {},
     "output_type": "execute_result"
    }
   ],
   "source": [
    "\"\"\"X_dev_tokens = []\n",
    "for sentence in X_dev:\n",
    "    X_dev_tokens.append(tknzr(sentence))\n",
    "print(len(X_dev_tokens))\"\"\""
   ]
  },
  {
   "cell_type": "code",
   "execution_count": 22,
   "id": "b4ac281c",
   "metadata": {},
   "outputs": [
    {
     "data": {
      "text/plain": [
       "'X_test_tokens = []\\nfor sentence in X_test:\\n    X_test_tokens.append(tknzr(str(sentence)))\\nprint(len(X_test_tokens))'"
      ]
     },
     "execution_count": 22,
     "metadata": {},
     "output_type": "execute_result"
    }
   ],
   "source": [
    "\"\"\"X_test_tokens = []\n",
    "for sentence in X_test:\n",
    "    X_test_tokens.append(tknzr(str(sentence)))\n",
    "print(len(X_test_tokens))\"\"\""
   ]
  },
  {
   "cell_type": "code",
   "execution_count": 24,
   "id": "e25e321d",
   "metadata": {},
   "outputs": [],
   "source": [
    "from transformers import BertTokenizer\n",
    "\n",
    "# Load the BERT tokenizer\n",
    "tokenizer = BertTokenizer.from_pretrained('bert-base-uncased', do_lower_case=True)\n",
    "\n",
    "# Create a function to tokenize a set of texts\n",
    "def preprocessing_for_bert(data):\n",
    "    \"\"\"Perform required preprocessing steps for pretrained BERT.\n",
    "    @param    data (np.array): Array of texts to be processed.\n",
    "    @return   input_ids (torch.Tensor): Tensor of token ids to be fed to a model.\n",
    "    @return   attention_masks (torch.Tensor): Tensor of indices specifying which\n",
    "                  tokens should be attended to by the model.\n",
    "    \"\"\"\n",
    "    # Create empty lists to store outputs\n",
    "    input_ids = []\n",
    "    attention_masks = []\n",
    "\n",
    "    # For every sentence...\n",
    "    for sent in data:\n",
    "        # `encode_plus` will:\n",
    "        #    (1) Tokenize the sentence\n",
    "        #    (2) Add the `[CLS]` and `[SEP]` token to the start and end\n",
    "        #    (3) Truncate/Pad sentence to max length\n",
    "        #    (4) Map tokens to their IDs\n",
    "        #    (5) Create attention mask\n",
    "        #    (6) Return a dictionary of outputs\n",
    "        encoded_sent = tokenizer.encode_plus(\n",
    "            text=sent,  # Preprocess sentence\n",
    "            add_special_tokens=True,      # Add `[CLS]` and `[SEP]`\n",
    "            max_length=MAX_LEN,           # Max length to truncate/pad\n",
    "            padding='max_length',         # Pad sentence to max length\n",
    "            #return_tensors='pt',         # Return PyTorch tensor\n",
    "            return_attention_mask=True,   # Return attention mask\n",
    "            truncation = True\n",
    "            )\n",
    "        \n",
    "        # Add the outputs to the lists\n",
    "        input_ids.append(encoded_sent.get('input_ids'))\n",
    "        attention_masks.append(encoded_sent.get('attention_mask'))\n",
    "\n",
    "    # Convert lists to tensors\n",
    "    input_ids = torch.tensor(input_ids)\n",
    "    attention_masks = torch.tensor(attention_masks)\n",
    "\n",
    "    return input_ids, attention_masks"
   ]
  },
  {
   "cell_type": "code",
   "execution_count": 25,
   "id": "48b06be8",
   "metadata": {},
   "outputs": [
    {
     "name": "stderr",
     "output_type": "stream",
     "text": [
      "Token indices sequence length is longer than the specified maximum sequence length for this model (832 > 512). Running this sequence through the model will result in indexing errors\n"
     ]
    },
    {
     "name": "stdout",
     "output_type": "stream",
     "text": [
      "[[101, 10657, 4952, 2000, 2023, 999, 2061, 5541, 999, 2293, 2010, 2189, 1011, 1996, 2616, 1010, 1996, 4471, 999, 2070, 1997, 2026, 5440, 2774, 2006, 2023, 3729, 1012, 1045, 2323, 2031, 4149, 2009, 2086, 3283, 999, 102], [101, 9467, 9467, 2023, 6823, 2064, 6684, 2022, 5319, 1998, 2009, 2001, 3205, 2005, 5096, 2004, 1000, 2200, 2204, 1000, 1012, 2009, 1005, 1055, 2200, 2919, 1012, 102]]\n"
     ]
    }
   ],
   "source": [
    "# Encode our concatenated data\n",
    "encoded_ = [tokenizer.encode(sent, add_special_tokens=True) for sent in X_train]\n",
    "print(encoded_[0:2])"
   ]
  },
  {
   "cell_type": "code",
   "execution_count": 26,
   "id": "65aebe4a",
   "metadata": {},
   "outputs": [
    {
     "name": "stdout",
     "output_type": "stream",
     "text": [
      "832\n"
     ]
    }
   ],
   "source": [
    "l = 0\n",
    "for sent in encoded_:\n",
    "    if len(sent) > l:\n",
    "        l = len(sent)\n",
    "        \n",
    "print(l)"
   ]
  },
  {
   "cell_type": "code",
   "execution_count": 27,
   "id": "c67030d9",
   "metadata": {},
   "outputs": [
    {
     "name": "stdout",
     "output_type": "stream",
     "text": [
      "Original:  Gotta listen to this! So creative!  Love his music - the words, the message! Some of my favorite songs on this CD. I should have bought it years ago!\n",
      "Token IDs:  tensor([[  101, 10657,  4952,  ...,     0,     0,     0],\n",
      "        [  101,  9467,  9467,  ...,     0,     0,     0]])\n",
      "Tokenizing data...\n",
      "F'ing Done!!\n"
     ]
    }
   ],
   "source": [
    "# Specify `MAX_LEN`\n",
    "MAX_LEN = 512\n",
    "\n",
    "# Print sentence 0 and its encoded token ids\n",
    "token_ids = preprocessing_for_bert(X_train[0:2])\n",
    "print('Original: ', X_train[0])\n",
    "print('Token IDs: ', token_ids[0])\n",
    "\n",
    "\n",
    "# Run function `preprocessing_for_bert` on the train set and the validation set\n",
    "print('Tokenizing data...')\n",
    "train_inputs, train_masks = preprocessing_for_bert(X_train)\n",
    "val_inputs, val_masks = preprocessing_for_bert(X_dev)\n",
    "print('F\\'ing Done!!')"
   ]
  },
  {
   "cell_type": "code",
   "execution_count": 28,
   "id": "fb63408d",
   "metadata": {},
   "outputs": [
    {
     "data": {
      "text/plain": [
       "512"
      ]
     },
     "execution_count": 28,
     "metadata": {},
     "output_type": "execute_result"
    }
   ],
   "source": [
    "len(train_inputs[0])"
   ]
  },
  {
   "cell_type": "code",
   "execution_count": 29,
   "id": "3e555c3b",
   "metadata": {},
   "outputs": [],
   "source": [
    "from torch.utils.data import TensorDataset, DataLoader, RandomSampler, SequentialSampler\n",
    "\n",
    "# Convert other data types to torch.Tensor\n",
    "train_labels = torch.tensor(y_train)\n",
    "val_labels = torch.tensor(y_dev)\n",
    "\n",
    "# For fine-tuning BERT, the authors recommend a batch size of 16 or 32.\n",
    "batch_size = 2\n",
    "\n",
    "# Create the DataLoader for our training set\n",
    "train_data = TensorDataset(train_inputs, train_masks, train_labels)\n",
    "train_sampler = RandomSampler(train_data)\n",
    "train_dataloader = DataLoader(train_data, sampler=train_sampler, batch_size=batch_size)\n",
    "\n",
    "# Create the DataLoader for our validation set\n",
    "val_data = TensorDataset(val_inputs, val_masks, val_labels)\n",
    "val_sampler = SequentialSampler(val_data)\n",
    "val_dataloader = DataLoader(val_data, sampler=val_sampler, batch_size=batch_size)"
   ]
  },
  {
   "cell_type": "markdown",
   "id": "714fafd2",
   "metadata": {},
   "source": [
    "# Train Model"
   ]
  },
  {
   "cell_type": "code",
   "execution_count": 30,
   "id": "792aed66",
   "metadata": {},
   "outputs": [
    {
     "name": "stdout",
     "output_type": "stream",
     "text": [
      "CPU times: user 31.2 ms, sys: 0 ns, total: 31.2 ms\n",
      "Wall time: 61.4 ms\n"
     ]
    }
   ],
   "source": [
    "%%time\n",
    "import torch\n",
    "import torch.nn as nn\n",
    "from transformers import BertModel\n",
    "\n",
    "# Create the BertClassfier class\n",
    "class BertClassifier(nn.Module):\n",
    "    \"\"\"Bert Model for Classification Tasks.\n",
    "    \"\"\"\n",
    "    def __init__(self, freeze_bert=False):\n",
    "        \"\"\"\n",
    "        @param    bert: a BertModel object\n",
    "        @param    classifier: a torch.nn.Module classifier\n",
    "        @param    freeze_bert (bool): Set `False` to fine-tune the BERT model\n",
    "        \"\"\"\n",
    "        super(BertClassifier, self).__init__()\n",
    "        # Specify hidden size of BERT, hidden size of our classifier, and number of labels\n",
    "        D_in, H, D_out = 768, 50, 2\n",
    "\n",
    "        # Instantiate BERT model\n",
    "        self.bert = BertModel.from_pretrained('bert-base-uncased')\n",
    "\n",
    "        # Instantiate an one-layer feed-forward classifier\n",
    "        self.classifier = nn.Sequential(\n",
    "            nn.Linear(D_in, H),\n",
    "            nn.ReLU(),\n",
    "            #nn.Dropout(0.5),\n",
    "            nn.Linear(H, D_out)\n",
    "        )\n",
    "\n",
    "        # Freeze the BERT model\n",
    "        if freeze_bert:\n",
    "            for param in self.bert.parameters():\n",
    "                param.requires_grad = False\n",
    "        \n",
    "    def forward(self, input_ids, attention_mask):\n",
    "        \"\"\"\n",
    "        Feed input to BERT and the classifier to compute logits.\n",
    "        @param    input_ids (torch.Tensor): an input tensor with shape (batch_size, max_length)\n",
    "        @param    attention_mask (torch.Tensor): a tensor that hold attention mask\n",
    "                      information with shape (batch_size, max_length)\n",
    "        @return   logits (torch.Tensor): an output tensor with shape (batch_size, num_labels)\n",
    "        \"\"\"\n",
    "        # Feed input to BERT\n",
    "        outputs = self.bert(input_ids=input_ids,\n",
    "                            attention_mask=attention_mask)\n",
    "        \n",
    "        # Extract the last hidden state of the token `[CLS]` for classification task\n",
    "        last_hidden_state_cls = outputs[0][:, 0, :]\n",
    "\n",
    "        # Feed input to classifier to compute logits\n",
    "        logits = self.classifier(last_hidden_state_cls)\n",
    "\n",
    "        return logits"
   ]
  },
  {
   "cell_type": "markdown",
   "id": "5c8a605a",
   "metadata": {},
   "source": [
    "# Optimizer"
   ]
  },
  {
   "cell_type": "code",
   "execution_count": 31,
   "id": "dc2f3336",
   "metadata": {},
   "outputs": [],
   "source": [
    "from transformers import AdamW, get_linear_schedule_with_warmup\n",
    "#from torch.optim import AdamW\n",
    "\n",
    "def initialize_model(epochs=4):\n",
    "    \"\"\"Initialize the Bert Classifier, the optimizer and the learning rate scheduler.\n",
    "    \"\"\"\n",
    "    # Instantiate Bert Classifier\n",
    "    bert_classifier = BertClassifier(freeze_bert=False)\n",
    "\n",
    "    # Tell PyTorch to run the model on GPU\n",
    "    bert_classifier.to(device)\n",
    "\n",
    "    # Create the optimizer\n",
    "    optimizer = AdamW(bert_classifier.parameters(),\n",
    "                      lr=5e-5,    # Default learning rate\n",
    "                      eps=1e-8    # Default epsilon value\n",
    "                      )\n",
    "\n",
    "    # Total number of training steps\n",
    "    total_steps = len(train_dataloader) * epochs\n",
    "\n",
    "    # Set up the learning rate scheduler\n",
    "    scheduler = get_linear_schedule_with_warmup(optimizer,\n",
    "                                                num_warmup_steps=0, # Default value\n",
    "                                                num_training_steps=total_steps)\n",
    "    return bert_classifier, optimizer, scheduler"
   ]
  },
  {
   "cell_type": "code",
   "execution_count": 32,
   "id": "492644e0",
   "metadata": {},
   "outputs": [],
   "source": [
    "import random\n",
    "import time\n",
    "\n",
    "# Specify loss function\n",
    "loss_fn = nn.CrossEntropyLoss()\n",
    "\n",
    "def train(model, train_dataloader, val_dataloader=None, epochs=4, evaluation=False):\n",
    "    \"\"\"Train the BertClassifier model.\n",
    "    \"\"\"\n",
    "    # Start training loop\n",
    "    print(\"Start training...\\n\")\n",
    "    for epoch_i in range(epochs):\n",
    "        # =======================================\n",
    "        #               Training\n",
    "        # =======================================\n",
    "        # Print the header of the result table\n",
    "        print(f\"{'Epoch':^7} | {'Batch':^7} | {'Train Loss':^12} | {'Val Loss':^10} | {'Val Acc':^9} | {'Elapsed':^9}\")\n",
    "\n",
    "        # Measure the elapsed time of each epoch\n",
    "        t0_epoch, t0_batch = time.time(), time.time()\n",
    "\n",
    "        # Reset tracking variables at the beginning of each epoch\n",
    "        total_loss, batch_loss, batch_counts = 0, 0, 0\n",
    "\n",
    "        # Put the model into the training mode\n",
    "        model.train()\n",
    "\n",
    "        # For each batch of training data...\n",
    "        for step, batch in enumerate(train_dataloader):\n",
    "            batch_counts +=1\n",
    "            # Load batch to GPU\n",
    "            b_input_ids, b_attn_mask, b_labels = tuple(t.to(device) for t in batch)\n",
    "\n",
    "            # Zero out any previously calculated gradients\n",
    "            model.zero_grad()\n",
    "\n",
    "            # Perform a forward pass. This will return logits.\n",
    "            logits = model(b_input_ids, b_attn_mask)\n",
    "\n",
    "            # Compute loss and accumulate the loss values\n",
    "            loss = loss_fn(logits, b_labels)\n",
    "            batch_loss += loss.item()\n",
    "            total_loss += loss.item()\n",
    "\n",
    "            # Perform a backward pass to calculate gradients\n",
    "            loss.backward()\n",
    "\n",
    "            # Clip the norm of the gradients to 1.0 to prevent \"exploding gradients\"\n",
    "            torch.nn.utils.clip_grad_norm_(model.parameters(), 1.0)\n",
    "\n",
    "            # Update parameters and the learning rate\n",
    "            optimizer.step()\n",
    "            scheduler.step()\n",
    "\n",
    "            # Print the loss values and time elapsed for every 20 batches\n",
    "            if (step % 20 == 0 and step != 0) or (step == len(train_dataloader) - 1):\n",
    "                # Calculate time elapsed for 20 batches\n",
    "                time_elapsed = time.time() - t0_batch\n",
    "\n",
    "                # Print training results\n",
    "                print(f\"{epoch_i + 1:^7} | {step:^7} | {batch_loss / batch_counts:^12.6f} | {'-':^10} | {'-':^9} | {time_elapsed:^9.2f}\")\n",
    "\n",
    "                # Reset batch tracking variables\n",
    "                batch_loss, batch_counts = 0, 0\n",
    "                t0_batch = time.time()\n",
    "\n",
    "        # Calculate the average loss over the entire training data\n",
    "        avg_train_loss = total_loss / len(train_dataloader)\n",
    "\n",
    "        # =======================================\n",
    "        #               Evaluation\n",
    "        # =======================================\n",
    "        if evaluation == True:\n",
    "            # After the completion of each training epoch, measure the model's performance\n",
    "            # on our validation set.\n",
    "            val_loss, val_accuracy = evaluate(model, val_dataloader)\n",
    "\n",
    "            # Print performance over the entire training data\n",
    "            time_elapsed = time.time() - t0_epoch\n",
    "            \n",
    "            print(f\"{epoch_i + 1:^7} | {'-':^7} | {avg_train_loss:^12.6f} | {val_loss:^10.6f} | {val_accuracy:^9.2f} | {time_elapsed:^9.2f}\")\n",
    "    \n",
    "    print(\"Training complete!\")\n",
    "\n",
    "\n",
    "def evaluate(model, val_dataloader):\n",
    "    \"\"\"After the completion of each training epoch, measure the model's performance\n",
    "    on our validation set.\n",
    "    \"\"\"\n",
    "    # Put the model into evaluation mode. Dropout layers are disabled during test time.\n",
    "    model.eval()\n",
    "\n",
    "    # Tracking variables\n",
    "    val_accuracy = []\n",
    "    val_loss = []\n",
    "\n",
    "    # For each batch in our validation set...\n",
    "    for batch in val_dataloader:\n",
    "        # Load batch to GPU\n",
    "        b_input_ids, b_attn_mask, b_labels = tuple(t.to(device) for t in batch)\n",
    "\n",
    "        # Compute logits\n",
    "        with torch.no_grad():\n",
    "            logits = model(b_input_ids, b_attn_mask)\n",
    "\n",
    "        # Compute loss\n",
    "        loss = loss_fn(logits, b_labels)\n",
    "        val_loss.append(loss.item())\n",
    "\n",
    "        # Get the predictions\n",
    "        preds = torch.argmax(logits, dim=1).flatten()\n",
    "\n",
    "        # Calculate the accuracy rate\n",
    "        accuracy = (preds == b_labels).cpu().numpy().mean() * 100\n",
    "        val_accuracy.append(accuracy)\n",
    "\n",
    "    # Compute the average accuracy and loss over the validation set.\n",
    "    val_loss = np.mean(val_loss)\n",
    "    val_accuracy = np.mean(val_accuracy)\n",
    "\n",
    "    return val_loss, val_accuracy"
   ]
  },
  {
   "cell_type": "markdown",
   "id": "5ca4cb85",
   "metadata": {},
   "source": [
    "# Start Training"
   ]
  },
  {
   "cell_type": "code",
   "execution_count": 33,
   "id": "13544696",
   "metadata": {
    "scrolled": false
   },
   "outputs": [
    {
     "name": "stderr",
     "output_type": "stream",
     "text": [
      "Some weights of the model checkpoint at bert-base-uncased were not used when initializing BertModel: ['cls.predictions.transform.dense.bias', 'cls.predictions.transform.LayerNorm.weight', 'cls.seq_relationship.weight', 'cls.predictions.bias', 'cls.seq_relationship.bias', 'cls.predictions.decoder.weight', 'cls.predictions.transform.dense.weight', 'cls.predictions.transform.LayerNorm.bias']\n",
      "- This IS expected if you are initializing BertModel from the checkpoint of a model trained on another task or with another architecture (e.g. initializing a BertForSequenceClassification model from a BertForPreTraining model).\n",
      "- This IS NOT expected if you are initializing BertModel from the checkpoint of a model that you expect to be exactly identical (initializing a BertForSequenceClassification model from a BertForSequenceClassification model).\n",
      "/home/dmdequin/miniconda3/envs/uni/lib/python3.9/site-packages/transformers/optimization.py:306: FutureWarning: This implementation of AdamW is deprecated and will be removed in a future version. Use thePyTorch implementation torch.optim.AdamW instead, or set `no_deprecation_warning=True` to disable this warning\n",
      "  warnings.warn(\n"
     ]
    },
    {
     "name": "stdout",
     "output_type": "stream",
     "text": [
      "Start training...\n",
      "\n",
      " Epoch  |  Batch  |  Train Loss  |  Val Loss  |  Val Acc  |  Elapsed \n",
      "   1    |   20    |   0.607196   |     -      |     -     |  277.48  \n",
      "   1    |   40    |   0.440101   |     -      |     -     |  271.02  \n",
      "   1    |   49    |   0.110919   |     -      |     -     |   84.02  \n",
      "   1    |    -    |   0.451028   |  0.764688  |   76.00   |  665.13  \n",
      " Epoch  |  Batch  |  Train Loss  |  Val Loss  |  Val Acc  |  Elapsed \n",
      "   2    |   20    |   0.176443   |     -      |     -     |  225.61  \n",
      "   2    |   40    |   0.027981   |     -      |     -     |  269.96  \n",
      "   2    |   49    |   0.214170   |     -      |     -     |   91.05  \n",
      "   2    |    -    |   0.123849   |  0.542892  |   78.00   |  616.63  \n",
      "Training complete!\n",
      "CPU times: user 42min, sys: 27min 23s, total: 1h 9min 24s\n",
      "Wall time: 21min 24s\n"
     ]
    }
   ],
   "source": [
    "%%time\n",
    "set_seed(42)    # Set seed for reproducibility\n",
    "bert_classifier, optimizer, scheduler = initialize_model(epochs=2)\n",
    "train(bert_classifier, train_dataloader, val_dataloader, epochs=2, evaluation=True)"
   ]
  },
  {
   "cell_type": "markdown",
   "id": "7945586e",
   "metadata": {},
   "source": [
    "# Save model"
   ]
  },
  {
   "cell_type": "code",
   "execution_count": 34,
   "id": "ea574235",
   "metadata": {},
   "outputs": [],
   "source": [
    "# save model\n",
    "model = bert_classifier\n",
    "#pickle.dump(model, open('model' + current_time + '.pkl', 'wb'))"
   ]
  },
  {
   "cell_type": "code",
   "execution_count": 35,
   "id": "5667eaad",
   "metadata": {},
   "outputs": [],
   "source": [
    "# load the model\n",
    "#model = pickle.load(open('model' + current_time + '.pkl', 'rb'))"
   ]
  },
  {
   "cell_type": "markdown",
   "id": "6f676fb6",
   "metadata": {},
   "source": [
    "# Run Preprocessing on test data"
   ]
  },
  {
   "cell_type": "code",
   "execution_count": 36,
   "id": "f4f9d65a",
   "metadata": {},
   "outputs": [
    {
     "data": {
      "text/plain": [
       "str"
      ]
     },
     "execution_count": 36,
     "metadata": {},
     "output_type": "execute_result"
    }
   ],
   "source": [
    "type(X_dev[0])"
   ]
  },
  {
   "cell_type": "code",
   "execution_count": 37,
   "id": "a5159116",
   "metadata": {},
   "outputs": [
    {
     "data": {
      "text/plain": [
       "str"
      ]
     },
     "execution_count": 37,
     "metadata": {},
     "output_type": "execute_result"
    }
   ],
   "source": [
    "type(X_test[0])"
   ]
  },
  {
   "cell_type": "code",
   "execution_count": 38,
   "id": "a1d600e2",
   "metadata": {},
   "outputs": [],
   "source": [
    "# Run `preprocessing_for_bert` on the test set\n",
    "test_inputs, test_masks = preprocessing_for_bert(X_test)\n",
    "\n",
    "# Create the DataLoader for our test set\n",
    "test_dataset = TensorDataset(test_inputs, test_masks)\n",
    "test_sampler = SequentialSampler(test_dataset)\n",
    "test_dataloader = DataLoader(test_dataset, sampler=test_sampler, batch_size=batch_size)"
   ]
  },
  {
   "cell_type": "code",
   "execution_count": 39,
   "id": "6189151c",
   "metadata": {},
   "outputs": [],
   "source": [
    "def bert_predict(model, test_dataloader):\n",
    "    \"\"\"Perform a forward pass on the trained BERT model to predict probabilities\n",
    "    on the test set.\n",
    "    \"\"\"\n",
    "    # Put the model into evaluation mode. Dropout layers are disabled during testing.\n",
    "    model.eval()\n",
    "\n",
    "    all_logits = []\n",
    "\n",
    "    # For each batch in our test set...\n",
    "    for batch in test_dataloader:\n",
    "        # Load batch to GPU\n",
    "        b_input_ids, b_attn_mask = tuple(t.to(device) for t in batch)[:2]\n",
    "\n",
    "        # Compute logits\n",
    "        with torch.no_grad():\n",
    "            logits = model(b_input_ids, b_attn_mask)\n",
    "        all_logits.append(logits)\n",
    "    \n",
    "    # Concatenate logits from each batch\n",
    "    all_logits = torch.cat(all_logits, dim=0)\n",
    "\n",
    "    # Apply softmax to calculate probabilities\n",
    "    probs = F.softmax(all_logits, dim=1).cpu().numpy()\n",
    "\n",
    "    return probs"
   ]
  },
  {
   "cell_type": "code",
   "execution_count": 40,
   "id": "71748c0f",
   "metadata": {},
   "outputs": [],
   "source": [
    "from sklearn.metrics import accuracy_score, roc_curve, auc\n",
    "\n",
    "def evaluate_roc(probs, y_true):\n",
    "    \"\"\"\n",
    "    - Print AUC and accuracy on the test set\n",
    "    - Plot ROC\n",
    "    @params    probs (np.array): an array of predicted probabilities with shape (len(y_true), 2)\n",
    "    @params    y_true (np.array): an array of the true values with shape (len(y_true),)\n",
    "    \"\"\"\n",
    "    preds = probs[:, 1]\n",
    "    fpr, tpr, threshold = roc_curve(y_true, preds)\n",
    "    roc_auc = auc(fpr, tpr)\n",
    "    print(f'AUC: {roc_auc:.4f}')\n",
    "       \n",
    "    # Get accuracy over the test set\n",
    "    y_pred = np.where(preds >= 0.5, 1, 0)\n",
    "    accuracy = accuracy_score(y_true, y_pred)\n",
    "    print(f'Accuracy: {accuracy*100:.2f}%')\n",
    "    \n",
    "    # Plot ROC AUC\n",
    "    plt.title('Receiver Operating Characteristic')\n",
    "    plt.plot(fpr, tpr, 'b', label = 'AUC = %0.2f' % roc_auc)\n",
    "    plt.legend(loc = 'lower right')\n",
    "    plt.plot([0, 1], [0, 1],'r--')\n",
    "    plt.xlim([0, 1])\n",
    "    plt.ylim([0, 1])\n",
    "    plt.ylabel('True Positive Rate')\n",
    "    plt.xlabel('False Positive Rate')\n",
    "    plt.show()"
   ]
  },
  {
   "cell_type": "markdown",
   "id": "b4bdcf25",
   "metadata": {},
   "source": [
    "# Predict Test data"
   ]
  },
  {
   "cell_type": "code",
   "execution_count": 41,
   "id": "f2f1db9b",
   "metadata": {},
   "outputs": [
    {
     "name": "stdout",
     "output_type": "stream",
     "text": [
      "CPU times: user 2min 30s, sys: 7.28 s, total: 2min 37s\n",
      "Wall time: 27.2 s\n"
     ]
    }
   ],
   "source": [
    "%%time\n",
    "# Compute predicted probabilities on the validation set\n",
    "probs = bert_predict(model, val_dataloader)"
   ]
  },
  {
   "cell_type": "code",
   "execution_count": 42,
   "id": "8237f9e1",
   "metadata": {},
   "outputs": [],
   "source": [
    "#probs"
   ]
  },
  {
   "cell_type": "code",
   "execution_count": 43,
   "id": "6acb3e14",
   "metadata": {},
   "outputs": [
    {
     "name": "stdout",
     "output_type": "stream",
     "text": [
      "Number of reviews predicted positive:  28\n",
      "Accuracy: 84.0%\n"
     ]
    }
   ],
   "source": [
    "# Get predictions from the probabilities\n",
    "threshold = 0.77\n",
    "preds = np.where(probs[:, 1] > threshold, 1, 0)\n",
    "\n",
    "# Number of tweets predicted non-negative\n",
    "print(\"Number of reviews predicted positive: \", preds.sum())\n",
    "\n",
    "print(f'Accuracy: {round(100 * sum(preds==y_dev)/len(y_dev), 2)}%')"
   ]
  },
  {
   "cell_type": "code",
   "execution_count": 44,
   "id": "0d22919b",
   "metadata": {},
   "outputs": [
    {
     "name": "stdout",
     "output_type": "stream",
     "text": [
      "AUC: 0.8860\n",
      "Accuracy: 78.00%\n"
     ]
    },
    {
     "data": {
      "image/png": "[encoded data removed]",
      "text/plain": [
       "<Figure size 432x288 with 1 Axes>"
      ]
     },
     "metadata": {
      "needs_background": "light"
     },
     "output_type": "display_data"
    }
   ],
   "source": [
    "# Evaluate the Bert classifier\n",
    "evaluate_roc(probs, y_dev)"
   ]
  },
  {
   "cell_type": "code",
   "execution_count": null,
   "id": "6ebfb072",
   "metadata": {},
   "outputs": [],
   "source": [
    "%%time\n",
    "# Compute predicted probabilities on the test set\n",
    "probs = bert_predict(model, test_dataloader)"
   ]
  },
  {
   "cell_type": "code",
   "execution_count": null,
   "id": "93b1f0f4",
   "metadata": {},
   "outputs": [
    {
     "data": {
      "text/plain": [
       "10000"
      ]
     },
     "execution_count": 46,
     "metadata": {},
     "output_type": "execute_result"
    }
   ],
   "source": [
    "len(probs)"
   ]
  },
  {
   "cell_type": "code",
   "execution_count": 47,
   "id": "b8384e4a",
   "metadata": {},
   "outputs": [
    {
     "name": "stdout",
     "output_type": "stream",
     "text": [
      "Number of reviews predicted positive:  5594\n"
     ]
    }
   ],
   "source": [
    "# Get predictions from the probabilities\n",
    "threshold = 0.77\n",
    "preds = np.where(probs[:, 1] > threshold, 1, 0)\n",
    "\n",
    "# Number of tweets predicted non-negative\n",
    "print(\"Number of reviews predicted positive: \", preds.sum())"
   ]
  },
  {
   "cell_type": "code",
   "execution_count": 49,
   "id": "50dc4d61",
   "metadata": {},
   "outputs": [],
   "source": [
    "preds\n",
    "\n",
    "y_hat = []\n",
    "\n",
    "for i in preds:\n",
    "    if i:\n",
    "        y_hat.append('positive')\n",
    "    else: y_hat.append('negative')\n",
    "\n",
    "#y_hat[0:50]"
   ]
  },
  {
   "cell_type": "code",
   "execution_count": 50,
   "id": "f22669c4",
   "metadata": {
    "scrolled": false
   },
   "outputs": [
    {
     "data": {
      "text/plain": [
       "[('negative',\n",
       "  \"He Ain't Heavy He's My Brother. Excellent Music CD, It was  number 1 hit in the UK, originally it was a fund raiser for the  family's of 96 Liverpool FC fans who died in a tragic stadium accident.  After 20 years the original court decision was reversed and the family's will get compensation from the British Government.\"),\n",
       " ('positive', 'Five Stars Wonderful, soulful.'),\n",
       " ('negative', 'One Star Wrong selection'),\n",
       " ('positive',\n",
       "  \"I am moved deeply every time I hear it as ... I am moved deeply every time I hear it as I remember it was the background music to Sullivan Ballou's letter to his wife Sarah.\"),\n",
       " ('positive',\n",
       "  \"Beautiful tribute to the Hillsborough victims The stars who lined up to make this single and the wonderful remake of a classic song makes this tune a must have in your collection. It's going to make a classic another memorable treasure.\"),\n",
       " ('positive',\n",
       "  \"A good tune for a good cause This all-star recording is very faithful to the Hollies' hit, with some fresh touches - like Paul McCartney's hot guitar solo. Highly recommended musically, and proceeds go to a fund for the families of the Hillsborough disaster.\"),\n",
       " ('positive', 'Wow Really catchy song.  Who are these guys?'),\n",
       " ('negative',\n",
       "  'Avoid this re-release. No stereo...or duophonic Both discs are in mono. Avoid this re-release.'),\n",
       " ('negative',\n",
       "  'The cover of this 2 Cd is a lie. ... The cover of this 2 Cd is a lie. THERE IS NOT STEREO RECORDING.When you read the booklet it says false/fake stereo. AVOID!!!'),\n",
       " ('negative',\n",
       "  'Not True Stereo...?  Not even Duophonic !  (2 mono CD\\'s !) What a letdown and ripoff, not to mention an incredible screw-up...\\nAdvertised and labelled as the mono and stereo versions,\\nand admitted to being the mono and duophonic versions in the liner notes,\\nthe actual discs hold 2 slightly different sounding masters of the album in MONO.\\nThe 2nd disc, which is supposed to be the Capitol Duophonic (Fake Stereo) version of the album\\nis actually also in pure mono, just like disc 1.\\nI own the duophonic vinyl album, and as most fans know,\\nthere is a noticeable difference in sound,\\nand definite R/L channel seperation using EQ and/or out of sync phasing,\\ndepending on what year the mix was made by Capitol angineers.\\nThere is no Stereo master of this album, which is why Capitol did not include it\\nin the excellent 2012 \"mono & stereo\" reissues of the Beach Boys catalog.\\nLooked like this would bring fans the unique duophonic version of the debut album,\\nbut nope - they blew it. Avoid this one completely.'),\n",
       " ('negative',\n",
       "  \"Not True Stereo I thought that this would be a remix of the original tapes to produce a true stereo version of these recordings. It is not, In fact the liner notes admit as much. No point in getting this if you bought the Capitol release of this album  in the 1990's.\\nI wasted my money buying this.\\n\\nHowever, if you've never owned this album and you are a true fan that must have all the albums  then its a fine addition to your any Beach Boy collection. It's their first release and music wise is not as great an album as later releases. For any true fan though it is essential as a benchmark to chart their growth as a group.\"),\n",
       " ('negative',\n",
       "  \"It is much better than this one I have another recording from the same author on Audible but that one won't play continuously. It is much better than this one.\"),\n",
       " ('negative', 'Awful!! Terrible! Both albums arrived broken!!'),\n",
       " ('positive',\n",
       "  \"Great Song I connect with this song.  I knew the people it was written about.  Its a very heart felt honest song.  Well written and well performed, just like all of Billy's music.\"),\n",
       " ('negative', 'One Star This is the worst thing ever made.'),\n",
       " ('negative',\n",
       "  'New cover, same WRONG SONGS. Link Wray deserves better than this. I\\'m giving it ONE STAR because Amazon won\\'t let me leave ZERO.\\n\\nA new Link Wray record?  Nope.  It has a fancy cover though.\\n\\nSee reviews of these other mp3 Link Wray records.  This music has all been released before, but this one does it with a twist...\\n\\nLike the other Link Wray mp3 downloads, instead of correctly listing the song titles, they actually CHANGE the song names! The alternate take of \"Commanche\" becomes \"Commanche Two\".  The alternate take of \"Lillian\" becomes \"Lillian My Sun\".  An honest mistake or an attempt to get someone to download a \"new\" unreleased Link song? Draw your own conclusion.\\n\\nA cheap attempt to make a few bucks off Links\\' name. He deserves better than this effort.\\n\\nPut your hard earned money to better use. Go to the original source. Pick up the far superior Link Wray \"Slinky!\" CD set on Sundazed.'),\n",
       " ('negative',\n",
       "  \"Absolute puke Believe me, it's not what you're expecting. Don't waste your money on this pile of puke. Thankfully I didn't purchase this on physical media or I'd be even more upset\"),\n",
       " ('positive',\n",
       "  'this was awesome This music was amazing on so many levels-  the artistry was phenominal,  the point made was profound (and yes,  there was really deep thinking behind this music,  actually)  the connection with our history was so poiniant it brought tears to my eyes.  very rarely have i heard music so well done.'),\n",
       " ('negative',\n",
       "  \"Its my Sly song of the summer winter 1994 :)was played Its okay-Its okay-That might cause bad humor-Its okay-that's what I have to search always for I mean watch on it. But Known Techno is Techno\"),\n",
       " ('positive',\n",
       "  'One Of My Favorites I have always loved this song. This rendition is beautifully composed. I could listen to it over and over. A truly lovely tune.')]"
      ]
     },
     "execution_count": 50,
     "metadata": {},
     "output_type": "execute_result"
    }
   ],
   "source": [
    "a= 5000\n",
    "b= a + 20\n",
    "[i for i in zip(y_hat[a:b], X_test[a:b])]"
   ]
  },
  {
   "cell_type": "code",
   "execution_count": 52,
   "id": "d9f2d31a",
   "metadata": {},
   "outputs": [
    {
     "data": {
      "text/html": [
       "<div>\n",
       "<style scoped>\n",
       "    .dataframe tbody tr th:only-of-type {\n",
       "        vertical-align: middle;\n",
       "    }\n",
       "\n",
       "    .dataframe tbody tr th {\n",
       "        vertical-align: top;\n",
       "    }\n",
       "\n",
       "    .dataframe thead th {\n",
       "        text-align: right;\n",
       "    }\n",
       "</style>\n",
       "<table border=\"1\" class=\"dataframe\">\n",
       "  <thead>\n",
       "    <tr style=\"text-align: right;\">\n",
       "      <th></th>\n",
       "      <th>verified</th>\n",
       "      <th>reviewTime</th>\n",
       "      <th>reviewerID</th>\n",
       "      <th>asin</th>\n",
       "      <th>reviewText</th>\n",
       "      <th>summary</th>\n",
       "      <th>unixReviewTime</th>\n",
       "      <th>sentiment</th>\n",
       "      <th>id</th>\n",
       "      <th>style</th>\n",
       "      <th>vote</th>\n",
       "      <th>image</th>\n",
       "    </tr>\n",
       "  </thead>\n",
       "  <tbody>\n",
       "    <tr>\n",
       "      <th>0</th>\n",
       "      <td>True</td>\n",
       "      <td>10 24, 2017</td>\n",
       "      <td>A2HAJB8L9NVYTZ</td>\n",
       "      <td>B007Y1AMHE</td>\n",
       "      <td>ok</td>\n",
       "      <td>ok</td>\n",
       "      <td>1508803200</td>\n",
       "      <td>negative</td>\n",
       "      <td>0</td>\n",
       "      <td>NaN</td>\n",
       "      <td>NaN</td>\n",
       "      <td>NaN</td>\n",
       "    </tr>\n",
       "    <tr>\n",
       "      <th>1</th>\n",
       "      <td>True</td>\n",
       "      <td>04 8, 2015</td>\n",
       "      <td>AD78RH9JWBDEU</td>\n",
       "      <td>B007Y1AMHE</td>\n",
       "      <td>Its awesome</td>\n",
       "      <td>love it</td>\n",
       "      <td>1428451200</td>\n",
       "      <td>positive</td>\n",
       "      <td>1</td>\n",
       "      <td>NaN</td>\n",
       "      <td>NaN</td>\n",
       "      <td>NaN</td>\n",
       "    </tr>\n",
       "  </tbody>\n",
       "</table>\n",
       "</div>"
      ],
      "text/plain": [
       "   verified   reviewTime      reviewerID        asin   reviewText  summary  \\\n",
       "0      True  10 24, 2017  A2HAJB8L9NVYTZ  B007Y1AMHE           ok       ok   \n",
       "1      True   04 8, 2015   AD78RH9JWBDEU  B007Y1AMHE  Its awesome  love it   \n",
       "\n",
       "   unixReviewTime sentiment  id style  vote image  \n",
       "0      1508803200  negative   0   NaN   NaN   NaN  \n",
       "1      1428451200  positive   1   NaN   NaN   NaN  "
      ]
     },
     "execution_count": 52,
     "metadata": {},
     "output_type": "execute_result"
    }
   ],
   "source": [
    "import pandas as pd\n",
    "\n",
    "test_pred = pd.read_json( '../data/raw/music_reviews_test_masked.json.gz', lines=True)\n",
    "test_pred = test_pred#[0:50]\n",
    "\n",
    "test_pred['sentiment'] = y_hat\n",
    "\n",
    "test_pred.head(2)"
   ]
  },
  {
   "cell_type": "code",
   "execution_count": 53,
   "id": "884c1027",
   "metadata": {},
   "outputs": [],
   "source": [
    "test_pred.to_json('../data/predictions/music_reviews_test'+current_time+'.json', orient='records')"
   ]
  },
  {
   "cell_type": "code",
   "execution_count": null,
   "id": "d2b7a1c4",
   "metadata": {},
   "outputs": [],
   "source": []
  },
  {
   "cell_type": "code",
   "execution_count": null,
   "id": "04a38f42",
   "metadata": {},
   "outputs": [],
   "source": []
  },
  {
   "cell_type": "code",
   "execution_count": null,
   "id": "7a0ff183",
   "metadata": {},
   "outputs": [],
   "source": []
  }
 ],
 "metadata": {
  "kernelspec": {
   "display_name": "Python 3 (ipykernel)",
   "language": "python",
   "name": "python3"
  },
  "language_info": {
   "codemirror_mode": {
    "name": "ipython",
    "version": 3
   },
   "file_extension": ".py",
   "mimetype": "text/x-python",
   "name": "python",
   "nbconvert_exporter": "python",
   "pygments_lexer": "ipython3",
   "version": "3.9.7"
  }
 },
 "nbformat": 4,
 "nbformat_minor": 5
}
