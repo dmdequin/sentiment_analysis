{
 "cells": [
  {
   "cell_type": "markdown",
   "id": "8339cd7e",
   "metadata": {},
   "source": [
    "# Imports"
   ]
  },
  {
   "cell_type": "code",
   "execution_count": null,
   "id": "662d3b37",
   "metadata": {},
   "outputs": [],
   "source": [
    "import pandas as pd"
   ]
  },
  {
   "cell_type": "markdown",
   "id": "69061397",
   "metadata": {},
   "source": [
    "# Constants"
   ]
  },
  {
   "cell_type": "code",
   "execution_count": null,
   "id": "252b9891",
   "metadata": {},
   "outputs": [],
   "source": [
    "FILE_1 = 'games_train'  \n",
    "FILE_2 = 'sew_train'"
   ]
  },
  {
   "cell_type": "markdown",
   "id": "806fadb3",
   "metadata": {},
   "source": [
    "# Read in Games Training Set"
   ]
  },
  {
   "cell_type": "code",
   "execution_count": null,
   "id": "ddee601e",
   "metadata": {},
   "outputs": [],
   "source": [
    "game_train = pd.read_csv('../data/interim/'+FILE_1+'.csv', dtype='string')\n",
    "game_train.head(2)\n",
    "#game_train['label'].astype(str)"
   ]
  },
  {
   "cell_type": "markdown",
   "id": "561c5df0",
   "metadata": {},
   "source": [
    "# Take a random sample"
   ]
  },
  {
   "cell_type": "markdown",
   "id": "36679055",
   "metadata": {},
   "source": [
    "## balanced"
   ]
  },
  {
   "cell_type": "code",
   "execution_count": null,
   "id": "a61d97bc",
   "metadata": {},
   "outputs": [],
   "source": [
    "g_rand_even_00010 = game_train.groupby('label').apply(lambda x: x.sample(n=5, random_state=42))\n",
    "g_rand_even_00100 = game_train.groupby('label').apply(lambda x: x.sample(n=50, random_state=42))\n",
    "g_rand_even_01000 = game_train.groupby('label').apply(lambda x: x.sample(n=500, random_state=42))\n",
    "g_rand_even_10000 = game_train.groupby('label').apply(lambda x: x.sample(n=5000, random_state=42))"
   ]
  },
  {
   "cell_type": "markdown",
   "id": "7f48819a",
   "metadata": {},
   "source": [
    "## unbalanced"
   ]
  },
  {
   "cell_type": "code",
   "execution_count": null,
   "id": "2d2fc2ce",
   "metadata": {},
   "outputs": [],
   "source": [
    "g_rand_00010 = game_train.sample(n=10, random_state=42).reset_index()\n",
    "g_rand_00100 = game_train.sample(n=100, random_state=42).reset_index()\n",
    "g_rand_01000 = game_train.sample(n=1000, random_state=42).reset_index()\n",
    "g_rand_10000 = game_train.sample(n=10000, random_state=42).reset_index()"
   ]
  },
  {
   "cell_type": "code",
   "execution_count": null,
   "id": "e4c5858f",
   "metadata": {},
   "outputs": [],
   "source": [
    "g_rand_even_00010"
   ]
  },
  {
   "cell_type": "markdown",
   "id": "7f79026b",
   "metadata": {},
   "source": [
    "# Check Distributions"
   ]
  },
  {
   "cell_type": "markdown",
   "id": "0260201b",
   "metadata": {},
   "source": [
    "### Games unbalanced"
   ]
  },
  {
   "cell_type": "code",
   "execution_count": null,
   "id": "f15119dc",
   "metadata": {},
   "outputs": [],
   "source": [
    "games_rand = [g_rand_00010, g_rand_00100, g_rand_01000, g_rand_10000]\n",
    "games_rand_names = ['g_rand_00010', 'g_rand_00100', 'g_rand_01000', 'g_rand_10000']"
   ]
  },
  {
   "cell_type": "code",
   "execution_count": null,
   "id": "a23d8b08",
   "metadata": {},
   "outputs": [],
   "source": [
    "for i in range(len(games_rand)):\n",
    "    corp_len = len(games_rand[i])\n",
    "    name = games_rand_names[i]\n",
    "    pos = 0\n",
    "    neg = 0\n",
    "    for j in range(corp_len):\n",
    "        if games_rand[i]['label'][j] == '1':\n",
    "            pos +=1\n",
    "        else:\n",
    "            neg +=1\n",
    "    print(f\"For Dataset {name}\\nCount Positive: {pos}\\nCount Negative: {neg}\\nRatio: {round(pos/corp_len*100,2)}% Positive\\n\")"
   ]
  },
  {
   "cell_type": "markdown",
   "id": "59256d7f",
   "metadata": {},
   "source": [
    "### Games Balanced"
   ]
  },
  {
   "cell_type": "code",
   "execution_count": null,
   "id": "5caee9c8",
   "metadata": {},
   "outputs": [],
   "source": [
    "games_rand_even = [g_rand_even_00010, g_rand_even_00100, g_rand_even_01000, g_rand_even_10000]\n",
    "games_rand__even_names = ['g_rand_even_00010', 'g_rand_even_00100', 'g_rand_even_01000', 'g_rand_even_10000']"
   ]
  },
  {
   "cell_type": "code",
   "execution_count": null,
   "id": "b54e5c56",
   "metadata": {},
   "outputs": [],
   "source": [
    "for i in range(len(games_rand_even)):\n",
    "    corp_len = len(games_rand_even[i])\n",
    "    name = games_rand__even_names[i]\n",
    "    pos = 0\n",
    "    neg = 0\n",
    "    for j in range(corp_len):\n",
    "        if games_rand_even[i]['label'][j] == '1':\n",
    "            pos +=1\n",
    "        else:\n",
    "            neg +=1\n",
    "    print(f\"For Dataset {name}\\nCount Positive: {pos}\\nCount Negative: {neg}\\nRatio: {round(pos/corp_len*100,2)}% Positive\\n\")"
   ]
  },
  {
   "cell_type": "markdown",
   "id": "a427767b",
   "metadata": {},
   "source": [
    "# Save to csv"
   ]
  },
  {
   "cell_type": "code",
   "execution_count": null,
   "id": "31a54637",
   "metadata": {},
   "outputs": [],
   "source": [
    "g_rand_even_00010.to_csv('../data/random/games_even_00010.csv', index=False, header=False)\n",
    "g_rand_even_00100.to_csv('../data/random/games_even_00100.csv', index=False, header=False)\n",
    "g_rand_even_01000.to_csv('../data/random/games_even_01000.csv', index=False, header=False)\n",
    "g_rand_even_10000.to_csv('../data/random/games_even_10000.csv', index=False, header=False)"
   ]
  },
  {
   "cell_type": "code",
   "execution_count": null,
   "id": "df2757f9",
   "metadata": {},
   "outputs": [],
   "source": [
    "g_rand_00010.to_csv('../data/random/games_00010.csv', index=False, header=False)\n",
    "g_rand_00100.to_csv('../data/random/games_00100.csv', index=False, header=False)\n",
    "g_rand_01000.to_csv('../data/random/games_01000.csv', index=False, header=False)\n",
    "g_rand_10000.to_csv('../data/random/games_10000.csv', index=False, header=False)"
   ]
  },
  {
   "cell_type": "code",
   "execution_count": null,
   "id": "55818995",
   "metadata": {},
   "outputs": [],
   "source": []
  },
  {
   "cell_type": "code",
   "execution_count": null,
   "id": "20e1fdbf",
   "metadata": {},
   "outputs": [],
   "source": []
  },
  {
   "cell_type": "markdown",
   "id": "ed86449f",
   "metadata": {},
   "source": [
    "# Read Sew Data Set"
   ]
  },
  {
   "cell_type": "code",
   "execution_count": null,
   "id": "231e252d",
   "metadata": {},
   "outputs": [],
   "source": [
    "sew_train = pd.read_csv('../data/interim/'+FILE_2+'.csv', dtype='string')\n",
    "sew_train.head(2)"
   ]
  },
  {
   "cell_type": "markdown",
   "id": "7b2a61f2",
   "metadata": {},
   "source": [
    "# Take a Sample"
   ]
  },
  {
   "cell_type": "markdown",
   "id": "d87ac377",
   "metadata": {},
   "source": [
    "## balanced"
   ]
  },
  {
   "cell_type": "code",
   "execution_count": null,
   "id": "6b4b12fc",
   "metadata": {},
   "outputs": [],
   "source": [
    "s_rand_even_00010 = sew_train.groupby('label').apply(lambda x: x.sample(n=5, random_state=42))\n",
    "s_rand_even_00100 = sew_train.groupby('label').apply(lambda x: x.sample(n=50, random_state=42))\n",
    "s_rand_even_01000 = sew_train.groupby('label').apply(lambda x: x.sample(n=500, random_state=42))\n",
    "s_rand_even_10000 = sew_train.groupby('label').apply(lambda x: x.sample(n=5000, random_state=42))"
   ]
  },
  {
   "cell_type": "markdown",
   "id": "104a1729",
   "metadata": {},
   "source": [
    "## unbalanced"
   ]
  },
  {
   "cell_type": "code",
   "execution_count": null,
   "id": "b962e55e",
   "metadata": {},
   "outputs": [],
   "source": [
    "s_rand_00010 = sew_train.sample(n=10, random_state=42).reset_index()\n",
    "s_rand_00100 = sew_train.sample(n=100, random_state=42).reset_index()\n",
    "s_rand_01000 = sew_train.sample(n=1000, random_state=42).reset_index()\n",
    "s_rand_10000 = sew_train.sample(n=10000, random_state=42).reset_index()"
   ]
  },
  {
   "cell_type": "markdown",
   "id": "9a3c941b",
   "metadata": {},
   "source": [
    "# Check Distributions"
   ]
  },
  {
   "cell_type": "markdown",
   "id": "a7b9af73",
   "metadata": {},
   "source": [
    "### Sew unbalanced"
   ]
  },
  {
   "cell_type": "code",
   "execution_count": null,
   "id": "b897a2ed",
   "metadata": {},
   "outputs": [],
   "source": [
    "sew_rand = [s_rand_00010, s_rand_00100, s_rand_01000, s_rand_10000]\n",
    "sew_rand_names = ['s_rand_00010', 's_rand_00100', 's_rand_01000', 's_rand_10000']"
   ]
  },
  {
   "cell_type": "code",
   "execution_count": null,
   "id": "3ec9292a",
   "metadata": {},
   "outputs": [],
   "source": [
    "for i in range(len(sew_rand)):\n",
    "    corp_len = len(sew_rand[i])\n",
    "    name = sew_rand_names[i]\n",
    "    pos = 0\n",
    "    neg = 0\n",
    "    for j in range(corp_len):\n",
    "        if sew_rand[i]['label'][j] == '1':\n",
    "            pos +=1\n",
    "        else:\n",
    "            neg +=1\n",
    "    print(f\"For Dataset {name}\\nCount Positive: {pos}\\nCount Negative: {neg}\\nRatio: {round(pos/corp_len*100,2)}% Positive\\n\")"
   ]
  },
  {
   "cell_type": "markdown",
   "id": "a6b7e75e",
   "metadata": {},
   "source": [
    "### Sew balanced"
   ]
  },
  {
   "cell_type": "code",
   "execution_count": null,
   "id": "d6a3ab7c",
   "metadata": {},
   "outputs": [],
   "source": [
    "sew_rand_even = [s_rand_even_00010, s_rand_even_00100, s_rand_even_01000, s_rand_even_10000]\n",
    "sew_rand__even_names = ['s_rand_even_00010', 's_rand_even_00100', 's_rand_even_01000', 's_rand_even_10000']"
   ]
  },
  {
   "cell_type": "code",
   "execution_count": null,
   "id": "92a5d6e9",
   "metadata": {},
   "outputs": [],
   "source": [
    "for i in range(len(sew_rand_even)):\n",
    "    corp_len = len(sew_rand_even[i])\n",
    "    name = sew_rand__even_names[i]\n",
    "    pos = 0\n",
    "    neg = 0\n",
    "    for j in range(corp_len):\n",
    "        if sew_rand_even[i]['label'][j] == '1':\n",
    "            pos +=1\n",
    "        else:\n",
    "            neg +=1\n",
    "    print(f\"For Dataset {name}\\nCount Positive: {pos}\\nCount Negative: {neg}\\nRatio: {round(pos/corp_len*100,2)}% Positive\\n\")"
   ]
  },
  {
   "cell_type": "markdown",
   "id": "c427ac38",
   "metadata": {},
   "source": [
    "# Save to CSV"
   ]
  },
  {
   "cell_type": "code",
   "execution_count": null,
   "id": "bb68be56",
   "metadata": {},
   "outputs": [],
   "source": [
    "s_rand_00010.to_csv('../data/random/sew_00010.csv', index=False, header=False)\n",
    "s_rand_00100.to_csv('../data/random/sew_00100.csv', index=False, header=False)\n",
    "s_rand_01000.to_csv('../data/random/sew_01000.csv', index=False, header=False)\n",
    "s_rand_10000.to_csv('../data/random/sew_10000.csv', index=False, header=False)"
   ]
  },
  {
   "cell_type": "code",
   "execution_count": null,
   "id": "84a5a0d2",
   "metadata": {},
   "outputs": [],
   "source": [
    "s_rand_even_00010.to_csv('../data/random/sew_even_00010.csv', index=False, header=False)\n",
    "s_rand_even_00100.to_csv('../data/random/sew_even_00100.csv', index=False, header=False)\n",
    "s_rand_even_01000.to_csv('../data/random/sew_even_01000.csv', index=False, header=False)\n",
    "s_rand_even_10000.to_csv('../data/random/sew_even_10000.csv', index=False, header=False)"
   ]
  },
  {
   "cell_type": "code",
   "execution_count": null,
   "id": "95709099",
   "metadata": {},
   "outputs": [],
   "source": []
  },
  {
   "cell_type": "code",
   "execution_count": null,
   "id": "be551beb",
   "metadata": {},
   "outputs": [],
   "source": []
  }
 ],
 "metadata": {
  "kernelspec": {
   "display_name": "Python 3 (ipykernel)",
   "language": "python",
   "name": "python3"
  },
  "language_info": {
   "codemirror_mode": {
    "name": "ipython",
    "version": 3
   },
   "file_extension": ".py",
   "mimetype": "text/x-python",
   "name": "python",
   "nbconvert_exporter": "python",
   "pygments_lexer": "ipython3",
   "version": "3.9.12"
  }
 },
 "nbformat": 4,
 "nbformat_minor": 5
}
