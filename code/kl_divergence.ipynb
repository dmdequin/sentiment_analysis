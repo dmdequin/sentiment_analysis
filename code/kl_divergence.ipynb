{
 "cells": [
  {
   "cell_type": "code",
   "execution_count": 1,
   "id": "d2b10fdf",
   "metadata": {},
   "outputs": [],
   "source": [
    "import json\n",
    "import csv\n",
    "import re\n",
    "import sys\n",
    "import pandas as pd\n",
    "import numpy as np\n",
    "import heapq\n",
    "import gensim\n",
    "from nltk.tokenize import word_tokenize\n",
    "from sklearn.feature_extraction.text import TfidfVectorizer\n",
    "from nltk.tokenize import word_tokenize\n",
    "from nltk.corpus import stopwords\n",
    "import seaborn as sns\n",
    "import string\n",
    "\n",
    "# Functions\n",
    "def csv_loader(PATH):\n",
    "    text = pd.read_csv(PATH, names=['review','sentiment']) \n",
    "    return text\n",
    "\n",
    "FILE_1 = 'music_dev'  # name of interim csv file. For example: # games_train\n",
    "FILE_2 = 'games_val'  # name of comparison interim csv file. For example: # sew_train\n",
    "FILE_NAME = 'games'\n",
    "N_DIS = 100   # number of dissimilar embeddings to select\n",
    "# python3 cosine.py 'music_dev' 'sew_val' 'sew' 2"
   ]
  },
  {
   "cell_type": "code",
   "execution_count": 70,
   "id": "a054829e",
   "metadata": {},
   "outputs": [
    {
     "data": {
      "text/plain": [
       "(1000, 1000)"
      ]
     },
     "execution_count": 70,
     "metadata": {},
     "output_type": "execute_result"
    }
   ],
   "source": [
    "# Load Interim CSV file and split into X and y\n",
    "data_1 = csv_loader('../data/interim/' + FILE_1 + '.csv')\n",
    "X_1, y_1 = data_1[['review']], data_1[['sentiment']]\n",
    "X_1 = X_1[0:1000]\n",
    "\n",
    "# Load Interim CSV file and split into X and y\n",
    "data_2 = csv_loader('../data/interim/' + FILE_2 + '.csv')\n",
    "X_2, y_2 = data_2[['review']], data_2[['sentiment']]\n",
    "X_2 = X_2[0:1000]\n",
    "len(X_1), len(X_2)"
   ]
  },
  {
   "cell_type": "code",
   "execution_count": 71,
   "id": "e884da41",
   "metadata": {},
   "outputs": [
    {
     "data": {
      "text/plain": [
       "6629"
      ]
     },
     "execution_count": 71,
     "metadata": {},
     "output_type": "execute_result"
    }
   ],
   "source": [
    "stop_words = list(stopwords.words('english'))+list(string.punctuation)\n",
    "#punct = list(string.punctuation)\n",
    "\n",
    "# Tokenize each review and lowercase everything\n",
    "corp_1 = []\n",
    "for i in range(len(X_1)): \n",
    "    row = X_1.iloc[i]['review']\n",
    "    token_review = word_tokenize(row)\n",
    "    filtered = [corp_1.append(w.lower()) for w in token_review if not w.lower() in stop_words]\n",
    "all_words = list(set(corp_1))\n",
    "\n",
    "len(all_words)"
   ]
  },
  {
   "cell_type": "code",
   "execution_count": 72,
   "id": "661f7867",
   "metadata": {},
   "outputs": [
    {
     "data": {
      "text/plain": [
       "14017"
      ]
     },
     "execution_count": 72,
     "metadata": {},
     "output_type": "execute_result"
    }
   ],
   "source": [
    "corp_2 = []\n",
    "for i in range(1,len(X_2)): \n",
    "    row = X_2.iloc[i]['review']\n",
    "    token_review = word_tokenize(row)\n",
    "    filtered = [corp_2.append(w.lower()) for w in token_review if not w.lower() in stop_words]\n",
    "\n",
    "all_words = all_words + corp_2\n",
    "all_words = list(set(all_words))\n",
    "len(all_words)"
   ]
  },
  {
   "cell_type": "code",
   "execution_count": 73,
   "id": "bd13cfb4",
   "metadata": {},
   "outputs": [],
   "source": [
    "# Dictionary of word to index\n",
    "word_to_idx = {}\n",
    "idx_to_word = {}\n",
    "\n",
    "# size of corpses\n",
    "count_corp1 = len(corp_1)\n",
    "count_corp2 = len(corp_2)\n",
    "\n",
    "# Initialize Dictionaries for both corpus\n",
    "dict_1 = {}\n",
    "for i in range(len(all_words)):\n",
    "    word_to_idx[all_words[i]] = i\n",
    "    idx_to_word[i] = all_words[i]\n",
    "    dict_1[word_to_idx[all_words[i]]] = 0.01\n",
    "    \n",
    "dict_2 = {}\n",
    "for i in all_words:\n",
    "    dict_2[word_to_idx[i]] = 0.01\n",
    "\n",
    "# get word count for corpus 1\n",
    "for i in corp_1:\n",
    "    dict_1[word_to_idx[i]] += 1\n",
    "\n",
    "# get word count for corpus 2\n",
    "for i in corp_2:\n",
    "    dict_2[word_to_idx[i]] += 1"
   ]
  },
  {
   "cell_type": "code",
   "execution_count": 74,
   "id": "60df2063",
   "metadata": {
    "scrolled": false
   },
   "outputs": [],
   "source": [
    "# get word probabilites for corp 1\n",
    "corp1_prob = {}\n",
    "for k,v in dict_1.items():\n",
    "    prob = v/count_corp1    \n",
    "    corp1_prob[k] = prob\n",
    "prob1_list = list(corp1_prob.values())\n",
    "\n",
    "# get word probabilites for corp 2\n",
    "corp2_prob = {}\n",
    "for k,v in dict_2.items():\n",
    "    prob2 = v/count_corp2\n",
    "    corp2_prob[k] = prob2\n",
    "prob2_list = list(corp2_prob.values())"
   ]
  },
  {
   "cell_type": "code",
   "execution_count": 75,
   "id": "2c86d316",
   "metadata": {},
   "outputs": [],
   "source": [
    "def kl_divergence(a, b):\n",
    "    sums = 0\n",
    "    for i in range(len(a)):\n",
    "        if b[i]!=0.01:\n",
    "            sums += a[i] * np.log(a[i]/b[i])\n",
    "    return sums"
   ]
  },
  {
   "cell_type": "code",
   "execution_count": 76,
   "id": "844809be",
   "metadata": {},
   "outputs": [
    {
     "data": {
      "text/plain": [
       "2.0467392029913025"
      ]
     },
     "execution_count": 76,
     "metadata": {},
     "output_type": "execute_result"
    }
   ],
   "source": [
    "kl_divergence(prob1_list, prob2_list)"
   ]
  },
  {
   "cell_type": "code",
   "execution_count": 8,
   "id": "cfc1ed64",
   "metadata": {},
   "outputs": [
    {
     "data": {
      "text/plain": [
       "'game'"
      ]
     },
     "execution_count": 8,
     "metadata": {},
     "output_type": "execute_result"
    }
   ],
   "source": [
    "max_value = max(dict_2.values())  # maximum value\n",
    "max_keys = [k for k, v in dict_2.items() if v == max_value]\n",
    "idx_to_word[max_keys[0]]"
   ]
  },
  {
   "cell_type": "code",
   "execution_count": 81,
   "id": "ada45513",
   "metadata": {},
   "outputs": [
    {
     "data": {
      "image/png": "[encoded data removed]",
      "text/plain": [
       "<Figure size 432x288 with 1 Axes>"
      ]
     },
     "metadata": {
      "needs_background": "light"
     },
     "output_type": "display_data"
    }
   ],
   "source": [
    "# word probabilities\n",
    "sns.lineplot(x=list(corp1_prob.keys()),y=corp1_prob.values())\n",
    "sns.lineplot(x=list(corp2_prob.keys()),y=corp2_prob.values(), alpha=.7);"
   ]
  },
  {
   "cell_type": "code",
   "execution_count": 87,
   "id": "9f3e06bd",
   "metadata": {},
   "outputs": [
    {
     "data": {
      "image/png": "[encoded data removed]",
      "text/plain": [
       "<Figure size 432x288 with 1 Axes>"
      ]
     },
     "metadata": {
      "needs_background": "light"
     },
     "output_type": "display_data"
    }
   ],
   "source": [
    "# word frequencies\n",
    "sns.lineplot(x=list(dict_1.keys()),y=dict_1.values())\n",
    "sns.lineplot(x=list(dict_2.keys()),y=dict_2.values(), alpha=.7);"
   ]
  },
  {
   "cell_type": "code",
   "execution_count": null,
   "id": "9e83c53a",
   "metadata": {},
   "outputs": [],
   "source": []
  },
  {
   "cell_type": "code",
   "execution_count": 34,
   "id": "e33ff25b",
   "metadata": {},
   "outputs": [],
   "source": []
  },
  {
   "cell_type": "code",
   "execution_count": 35,
   "id": "3649679d",
   "metadata": {},
   "outputs": [],
   "source": []
  },
  {
   "cell_type": "code",
   "execution_count": 10,
   "id": "7db9eda8",
   "metadata": {},
   "outputs": [],
   "source": []
  },
  {
   "cell_type": "code",
   "execution_count": 12,
   "id": "424f9f18",
   "metadata": {},
   "outputs": [],
   "source": []
  },
  {
   "cell_type": "code",
   "execution_count": 21,
   "id": "6457c6f8",
   "metadata": {},
   "outputs": [],
   "source": []
  },
  {
   "cell_type": "markdown",
   "id": "dc1510a1",
   "metadata": {},
   "source": [
    "# Checking out similarity scores"
   ]
  },
  {
   "cell_type": "code",
   "execution_count": 42,
   "id": "6c092282",
   "metadata": {},
   "outputs": [
    {
     "data": {
      "text/html": [
       "<div>\n",
       "<style scoped>\n",
       "    .dataframe tbody tr th:only-of-type {\n",
       "        vertical-align: middle;\n",
       "    }\n",
       "\n",
       "    .dataframe tbody tr th {\n",
       "        vertical-align: top;\n",
       "    }\n",
       "\n",
       "    .dataframe thead th {\n",
       "        text-align: right;\n",
       "    }\n",
       "</style>\n",
       "<table border=\"1\" class=\"dataframe\">\n",
       "  <thead>\n",
       "    <tr style=\"text-align: right;\">\n",
       "      <th></th>\n",
       "      <th>satisfecho satisfecho</th>\n",
       "      <th>1</th>\n",
       "      <th>0.0</th>\n",
       "      <th>18957</th>\n",
       "    </tr>\n",
       "  </thead>\n",
       "  <tbody>\n",
       "    <tr>\n",
       "      <th>10</th>\n",
       "      <td>A A</td>\n",
       "      <td>1</td>\n",
       "      <td>0.000000e+00</td>\n",
       "      <td>214729</td>\n",
       "    </tr>\n",
       "    <tr>\n",
       "      <th>11</th>\n",
       "      <td>clickclickclickclickclickclickclickclickclickc...</td>\n",
       "      <td>1</td>\n",
       "      <td>0.000000e+00</td>\n",
       "      <td>224545</td>\n",
       "    </tr>\n",
       "    <tr>\n",
       "      <th>12</th>\n",
       "      <td>Compralo Compralo</td>\n",
       "      <td>1</td>\n",
       "      <td>0.000000e+00</td>\n",
       "      <td>242056</td>\n",
       "    </tr>\n",
       "    <tr>\n",
       "      <th>13</th>\n",
       "      <td>fino encantado</td>\n",
       "      <td>1</td>\n",
       "      <td>0.000000e+00</td>\n",
       "      <td>253205</td>\n",
       "    </tr>\n",
       "    <tr>\n",
       "      <th>14</th>\n",
       "      <td>A A</td>\n",
       "      <td>1</td>\n",
       "      <td>0.000000e+00</td>\n",
       "      <td>256005</td>\n",
       "    </tr>\n",
       "    <tr>\n",
       "      <th>15</th>\n",
       "      <td>a a</td>\n",
       "      <td>1</td>\n",
       "      <td>0.000000e+00</td>\n",
       "      <td>311973</td>\n",
       "    </tr>\n",
       "    <tr>\n",
       "      <th>16</th>\n",
       "      <td>HOYLE NAAAAH</td>\n",
       "      <td>0</td>\n",
       "      <td>0.000000e+00</td>\n",
       "      <td>328496</td>\n",
       "    </tr>\n",
       "    <tr>\n",
       "      <th>17</th>\n",
       "      <td>a a</td>\n",
       "      <td>1</td>\n",
       "      <td>0.000000e+00</td>\n",
       "      <td>335989</td>\n",
       "    </tr>\n",
       "    <tr>\n",
       "      <th>18</th>\n",
       "      <td>KINOPIO KINOPIO</td>\n",
       "      <td>1</td>\n",
       "      <td>0.000000e+00</td>\n",
       "      <td>340999</td>\n",
       "    </tr>\n",
       "    <tr>\n",
       "      <th>19</th>\n",
       "      <td>Tr4sh Not Melee</td>\n",
       "      <td>0</td>\n",
       "      <td>6.305768e-07</td>\n",
       "      <td>43936</td>\n",
       "    </tr>\n",
       "  </tbody>\n",
       "</table>\n",
       "</div>"
      ],
      "text/plain": [
       "                                satisfecho satisfecho  1           0.0   18957\n",
       "10                                                A A  1  0.000000e+00  214729\n",
       "11  clickclickclickclickclickclickclickclickclickc...  1  0.000000e+00  224545\n",
       "12                                  Compralo Compralo  1  0.000000e+00  242056\n",
       "13                                     fino encantado  1  0.000000e+00  253205\n",
       "14                                                A A  1  0.000000e+00  256005\n",
       "15                                                a a  1  0.000000e+00  311973\n",
       "16                                       HOYLE NAAAAH  0  0.000000e+00  328496\n",
       "17                                                a a  1  0.000000e+00  335989\n",
       "18                                    KINOPIO KINOPIO  1  0.000000e+00  340999\n",
       "19                                    Tr4sh Not Melee  0  6.305768e-07   43936"
      ]
     },
     "execution_count": 42,
     "metadata": {},
     "output_type": "execute_result"
    }
   ],
   "source": [
    "csvs = pd.read_csv('../data/dissimilar/games10000.csv')\n",
    "csvs[10:20]"
   ]
  },
  {
   "cell_type": "code",
   "execution_count": 43,
   "id": "ae70c0ed",
   "metadata": {},
   "outputs": [],
   "source": [
    "what = pd.read_csv('../data/interim/games_train.csv')\n"
   ]
  },
  {
   "cell_type": "code",
   "execution_count": 49,
   "id": "dc0ba22d",
   "metadata": {},
   "outputs": [
    {
     "data": {
      "text/html": [
       "<div>\n",
       "<style scoped>\n",
       "    .dataframe tbody tr th:only-of-type {\n",
       "        vertical-align: middle;\n",
       "    }\n",
       "\n",
       "    .dataframe tbody tr th {\n",
       "        vertical-align: top;\n",
       "    }\n",
       "\n",
       "    .dataframe thead th {\n",
       "        text-align: right;\n",
       "    }\n",
       "</style>\n",
       "<table border=\"1\" class=\"dataframe\">\n",
       "  <thead>\n",
       "    <tr style=\"text-align: right;\">\n",
       "      <th></th>\n",
       "      <th>review</th>\n",
       "      <th>label</th>\n",
       "    </tr>\n",
       "  </thead>\n",
       "  <tbody>\n",
       "    <tr>\n",
       "      <th>59010</th>\n",
       "      <td>a a</td>\n",
       "      <td>1</td>\n",
       "    </tr>\n",
       "  </tbody>\n",
       "</table>\n",
       "</div>"
      ],
      "text/plain": [
       "      review  label\n",
       "59010    a a      1"
      ]
     },
     "execution_count": 49,
     "metadata": {},
     "output_type": "execute_result"
    }
   ],
   "source": [
    "what[59010:59011]"
   ]
  },
  {
   "cell_type": "code",
   "execution_count": null,
   "id": "d63f9208",
   "metadata": {},
   "outputs": [],
   "source": []
  },
  {
   "cell_type": "code",
   "execution_count": null,
   "id": "3f6f7a69",
   "metadata": {},
   "outputs": [],
   "source": []
  },
  {
   "cell_type": "markdown",
   "id": "87ab516c",
   "metadata": {},
   "source": [
    "# Old Stuff"
   ]
  },
  {
   "cell_type": "code",
   "execution_count": 4,
   "id": "9d3ab1aa",
   "metadata": {},
   "outputs": [
    {
     "data": {
      "text/plain": [
       "['Great sticking product Use this often.  Great sticking product.  Glad I purchased it.',\n",
       " \"Very good, and the mask is good enough and perceivable ... Very good, and the mask is good enough and perceivable (it's pale green).  I wish the container had a stick attached to the cap, for convenience.  Generally I go get a couple of toothpicks to help me spread the goo around.  You could use an old brush that you have no further use for.\"]"
      ]
     },
     "execution_count": 4,
     "metadata": {},
     "output_type": "execute_result"
    }
   ],
   "source": [
    "# \n",
    "corp_1 = []\n",
    "for i in range(5): \n",
    "    row = X_1.iloc[i]['review']\n",
    "    corp_1.append(row)\n",
    "    \n",
    "# \n",
    "corp_2 = []\n",
    "for i in range(3): \n",
    "    row = X_2.iloc[i]['review']\n",
    "    corp_2.append(row)\n",
    "corp_2 = corp_2[1:]\n",
    "corp_2"
   ]
  },
  {
   "cell_type": "code",
   "execution_count": 21,
   "id": "0302df5c",
   "metadata": {},
   "outputs": [
    {
     "data": {
      "text/plain": [
       "TfidfVectorizer(stop_words='english')"
      ]
     },
     "execution_count": 21,
     "metadata": {},
     "output_type": "execute_result"
    }
   ],
   "source": [
    "count_vectorizer = TfidfVectorizer(stop_words='english')"
   ]
  },
  {
   "cell_type": "code",
   "execution_count": 23,
   "id": "fd55a121",
   "metadata": {},
   "outputs": [
    {
     "data": {
      "text/html": [
       "<div>\n",
       "<style scoped>\n",
       "    .dataframe tbody tr th:only-of-type {\n",
       "        vertical-align: middle;\n",
       "    }\n",
       "\n",
       "    .dataframe tbody tr th {\n",
       "        vertical-align: top;\n",
       "    }\n",
       "\n",
       "    .dataframe thead th {\n",
       "        text-align: right;\n",
       "    }\n",
       "</style>\n",
       "<table border=\"1\" class=\"dataframe\">\n",
       "  <thead>\n",
       "    <tr style=\"text-align: right;\">\n",
       "      <th></th>\n",
       "      <th>abe</th>\n",
       "      <th>acquainted</th>\n",
       "      <th>address</th>\n",
       "      <th>amazing</th>\n",
       "      <th>asleep</th>\n",
       "      <th>awesome</th>\n",
       "      <th>bc</th>\n",
       "      <th>big</th>\n",
       "      <th>boring</th>\n",
       "      <th>bought</th>\n",
       "      <th>...</th>\n",
       "      <th>unfortunately</th>\n",
       "      <th>unintelligible</th>\n",
       "      <th>uplifting</th>\n",
       "      <th>vinyl</th>\n",
       "      <th>visits</th>\n",
       "      <th>won</th>\n",
       "      <th>worked</th>\n",
       "      <th>world</th>\n",
       "      <th>worst</th>\n",
       "      <th>young</th>\n",
       "    </tr>\n",
       "  </thead>\n",
       "  <tbody>\n",
       "    <tr>\n",
       "      <th>0</th>\n",
       "      <td>0.000000</td>\n",
       "      <td>0.000000</td>\n",
       "      <td>0.000000</td>\n",
       "      <td>0.000000</td>\n",
       "      <td>0.327465</td>\n",
       "      <td>0.000000</td>\n",
       "      <td>0.000000</td>\n",
       "      <td>0.000000</td>\n",
       "      <td>0.000000</td>\n",
       "      <td>0.132098</td>\n",
       "      <td>...</td>\n",
       "      <td>0.000000</td>\n",
       "      <td>0.000000</td>\n",
       "      <td>0.000000</td>\n",
       "      <td>0.000000</td>\n",
       "      <td>0.163733</td>\n",
       "      <td>0.000000</td>\n",
       "      <td>0.163733</td>\n",
       "      <td>0.000000</td>\n",
       "      <td>0.000000</td>\n",
       "      <td>0.000000</td>\n",
       "    </tr>\n",
       "    <tr>\n",
       "      <th>1</th>\n",
       "      <td>0.000000</td>\n",
       "      <td>0.188982</td>\n",
       "      <td>0.000000</td>\n",
       "      <td>0.000000</td>\n",
       "      <td>0.000000</td>\n",
       "      <td>0.000000</td>\n",
       "      <td>0.000000</td>\n",
       "      <td>0.000000</td>\n",
       "      <td>0.188982</td>\n",
       "      <td>0.000000</td>\n",
       "      <td>...</td>\n",
       "      <td>0.188982</td>\n",
       "      <td>0.188982</td>\n",
       "      <td>0.000000</td>\n",
       "      <td>0.000000</td>\n",
       "      <td>0.000000</td>\n",
       "      <td>0.000000</td>\n",
       "      <td>0.000000</td>\n",
       "      <td>0.000000</td>\n",
       "      <td>0.000000</td>\n",
       "      <td>0.188982</td>\n",
       "    </tr>\n",
       "    <tr>\n",
       "      <th>2</th>\n",
       "      <td>0.000000</td>\n",
       "      <td>0.000000</td>\n",
       "      <td>0.000000</td>\n",
       "      <td>0.000000</td>\n",
       "      <td>0.000000</td>\n",
       "      <td>0.000000</td>\n",
       "      <td>0.000000</td>\n",
       "      <td>0.000000</td>\n",
       "      <td>0.000000</td>\n",
       "      <td>0.000000</td>\n",
       "      <td>...</td>\n",
       "      <td>0.000000</td>\n",
       "      <td>0.000000</td>\n",
       "      <td>0.000000</td>\n",
       "      <td>0.000000</td>\n",
       "      <td>0.000000</td>\n",
       "      <td>0.000000</td>\n",
       "      <td>0.000000</td>\n",
       "      <td>0.000000</td>\n",
       "      <td>0.000000</td>\n",
       "      <td>0.000000</td>\n",
       "    </tr>\n",
       "    <tr>\n",
       "      <th>3</th>\n",
       "      <td>0.000000</td>\n",
       "      <td>0.000000</td>\n",
       "      <td>0.000000</td>\n",
       "      <td>0.183646</td>\n",
       "      <td>0.000000</td>\n",
       "      <td>0.183646</td>\n",
       "      <td>0.000000</td>\n",
       "      <td>0.183646</td>\n",
       "      <td>0.000000</td>\n",
       "      <td>0.000000</td>\n",
       "      <td>...</td>\n",
       "      <td>0.000000</td>\n",
       "      <td>0.000000</td>\n",
       "      <td>0.183646</td>\n",
       "      <td>0.000000</td>\n",
       "      <td>0.000000</td>\n",
       "      <td>0.000000</td>\n",
       "      <td>0.000000</td>\n",
       "      <td>0.000000</td>\n",
       "      <td>0.000000</td>\n",
       "      <td>0.000000</td>\n",
       "    </tr>\n",
       "    <tr>\n",
       "      <th>4</th>\n",
       "      <td>0.155691</td>\n",
       "      <td>0.000000</td>\n",
       "      <td>0.311382</td>\n",
       "      <td>0.000000</td>\n",
       "      <td>0.000000</td>\n",
       "      <td>0.000000</td>\n",
       "      <td>0.155691</td>\n",
       "      <td>0.000000</td>\n",
       "      <td>0.000000</td>\n",
       "      <td>0.125611</td>\n",
       "      <td>...</td>\n",
       "      <td>0.000000</td>\n",
       "      <td>0.000000</td>\n",
       "      <td>0.000000</td>\n",
       "      <td>0.155691</td>\n",
       "      <td>0.000000</td>\n",
       "      <td>0.155691</td>\n",
       "      <td>0.000000</td>\n",
       "      <td>0.155691</td>\n",
       "      <td>0.155691</td>\n",
       "      <td>0.000000</td>\n",
       "    </tr>\n",
       "  </tbody>\n",
       "</table>\n",
       "<p>5 rows × 108 columns</p>\n",
       "</div>"
      ],
      "text/plain": [
       "        abe  acquainted   address   amazing    asleep   awesome        bc  \\\n",
       "0  0.000000    0.000000  0.000000  0.000000  0.327465  0.000000  0.000000   \n",
       "1  0.000000    0.188982  0.000000  0.000000  0.000000  0.000000  0.000000   \n",
       "2  0.000000    0.000000  0.000000  0.000000  0.000000  0.000000  0.000000   \n",
       "3  0.000000    0.000000  0.000000  0.183646  0.000000  0.183646  0.000000   \n",
       "4  0.155691    0.000000  0.311382  0.000000  0.000000  0.000000  0.155691   \n",
       "\n",
       "        big    boring    bought  ...  unfortunately  unintelligible  \\\n",
       "0  0.000000  0.000000  0.132098  ...       0.000000        0.000000   \n",
       "1  0.000000  0.188982  0.000000  ...       0.188982        0.188982   \n",
       "2  0.000000  0.000000  0.000000  ...       0.000000        0.000000   \n",
       "3  0.183646  0.000000  0.000000  ...       0.000000        0.000000   \n",
       "4  0.000000  0.000000  0.125611  ...       0.000000        0.000000   \n",
       "\n",
       "   uplifting     vinyl    visits       won    worked     world     worst  \\\n",
       "0   0.000000  0.000000  0.163733  0.000000  0.163733  0.000000  0.000000   \n",
       "1   0.000000  0.000000  0.000000  0.000000  0.000000  0.000000  0.000000   \n",
       "2   0.000000  0.000000  0.000000  0.000000  0.000000  0.000000  0.000000   \n",
       "3   0.183646  0.000000  0.000000  0.000000  0.000000  0.000000  0.000000   \n",
       "4   0.000000  0.155691  0.000000  0.155691  0.000000  0.155691  0.155691   \n",
       "\n",
       "      young  \n",
       "0  0.000000  \n",
       "1  0.188982  \n",
       "2  0.000000  \n",
       "3  0.000000  \n",
       "4  0.000000  \n",
       "\n",
       "[5 rows x 108 columns]"
      ]
     },
     "execution_count": 23,
     "metadata": {},
     "output_type": "execute_result"
    }
   ],
   "source": [
    "sparse_matrix_1 = count_vectorizer.fit_transform(corp_1)\n",
    "\n",
    "# OPTIONAL: Convert Sparse Matrix to Pandas Dataframe if you want to see the word frequencies.\n",
    "doc_term_matrix_1 = sparse_matrix_1.todense()\n",
    "df_1 = pd.DataFrame(doc_term_matrix_1, \n",
    "                  columns=count_vectorizer.get_feature_names_out())\n",
    "df_1"
   ]
  },
  {
   "cell_type": "code",
   "execution_count": 14,
   "id": "45729922",
   "metadata": {},
   "outputs": [
    {
     "data": {
      "text/html": [
       "<div>\n",
       "<style scoped>\n",
       "    .dataframe tbody tr th:only-of-type {\n",
       "        vertical-align: middle;\n",
       "    }\n",
       "\n",
       "    .dataframe tbody tr th {\n",
       "        vertical-align: top;\n",
       "    }\n",
       "\n",
       "    .dataframe thead th {\n",
       "        text-align: right;\n",
       "    }\n",
       "</style>\n",
       "<table border=\"1\" class=\"dataframe\">\n",
       "  <thead>\n",
       "    <tr style=\"text-align: right;\">\n",
       "      <th></th>\n",
       "      <th>12</th>\n",
       "      <th>12ml</th>\n",
       "      <th>24</th>\n",
       "      <th>artistic</th>\n",
       "      <th>aware</th>\n",
       "      <th>bit</th>\n",
       "      <th>bought</th>\n",
       "      <th>boxes</th>\n",
       "      <th>case</th>\n",
       "      <th>cedar</th>\n",
       "      <th>...</th>\n",
       "      <th>qty</th>\n",
       "      <th>ranges</th>\n",
       "      <th>run</th>\n",
       "      <th>set</th>\n",
       "      <th>single</th>\n",
       "      <th>small</th>\n",
       "      <th>stars</th>\n",
       "      <th>time</th>\n",
       "      <th>using</th>\n",
       "      <th>work</th>\n",
       "    </tr>\n",
       "  </thead>\n",
       "  <tbody>\n",
       "    <tr>\n",
       "      <th>0</th>\n",
       "      <td>0.000000</td>\n",
       "      <td>0.000000</td>\n",
       "      <td>0.000000</td>\n",
       "      <td>0.000000</td>\n",
       "      <td>0.000000</td>\n",
       "      <td>0.5</td>\n",
       "      <td>0.000000</td>\n",
       "      <td>0.000000</td>\n",
       "      <td>0.000000</td>\n",
       "      <td>0.000000</td>\n",
       "      <td>...</td>\n",
       "      <td>0.000000</td>\n",
       "      <td>0.000000</td>\n",
       "      <td>0.000000</td>\n",
       "      <td>0.000000</td>\n",
       "      <td>0.000000</td>\n",
       "      <td>0.000000</td>\n",
       "      <td>0.5</td>\n",
       "      <td>0.000000</td>\n",
       "      <td>0.000000</td>\n",
       "      <td>0.000000</td>\n",
       "    </tr>\n",
       "    <tr>\n",
       "      <th>1</th>\n",
       "      <td>0.116248</td>\n",
       "      <td>0.116248</td>\n",
       "      <td>0.116248</td>\n",
       "      <td>0.116248</td>\n",
       "      <td>0.116248</td>\n",
       "      <td>0.0</td>\n",
       "      <td>0.116248</td>\n",
       "      <td>0.116248</td>\n",
       "      <td>0.116248</td>\n",
       "      <td>0.116248</td>\n",
       "      <td>...</td>\n",
       "      <td>0.116248</td>\n",
       "      <td>0.116248</td>\n",
       "      <td>0.116248</td>\n",
       "      <td>0.697486</td>\n",
       "      <td>0.116248</td>\n",
       "      <td>0.232495</td>\n",
       "      <td>0.0</td>\n",
       "      <td>0.232495</td>\n",
       "      <td>0.116248</td>\n",
       "      <td>0.116248</td>\n",
       "    </tr>\n",
       "  </tbody>\n",
       "</table>\n",
       "<p>2 rows × 34 columns</p>\n",
       "</div>"
      ],
      "text/plain": [
       "         12      12ml        24  artistic     aware  bit    bought     boxes  \\\n",
       "0  0.000000  0.000000  0.000000  0.000000  0.000000  0.5  0.000000  0.000000   \n",
       "1  0.116248  0.116248  0.116248  0.116248  0.116248  0.0  0.116248  0.116248   \n",
       "\n",
       "       case     cedar  ...       qty    ranges       run       set    single  \\\n",
       "0  0.000000  0.000000  ...  0.000000  0.000000  0.000000  0.000000  0.000000   \n",
       "1  0.116248  0.116248  ...  0.116248  0.116248  0.116248  0.697486  0.116248   \n",
       "\n",
       "      small  stars      time     using      work  \n",
       "0  0.000000    0.5  0.000000  0.000000  0.000000  \n",
       "1  0.232495    0.0  0.232495  0.116248  0.116248  \n",
       "\n",
       "[2 rows x 34 columns]"
      ]
     },
     "execution_count": 14,
     "metadata": {},
     "output_type": "execute_result"
    }
   ],
   "source": [
    "sparse_matrix_2 = count_vectorizer.fit_transform(corp_2)\n",
    "\n",
    "# OPTIONAL: Convert Sparse Matrix to Pandas Dataframe if you want to see the word frequencies.\n",
    "doc_term_matrix_2 = sparse_matrix_2.todense()\n",
    "df_2 = pd.DataFrame(doc_term_matrix_2, \n",
    "                  columns=count_vectorizer.get_feature_names_out())\n",
    "df_2"
   ]
  },
  {
   "cell_type": "code",
   "execution_count": 16,
   "id": "6fe2a7e9",
   "metadata": {},
   "outputs": [
    {
     "ename": "ValueError",
     "evalue": "Incompatible dimension for X and Y matrices: X.shape[1] == 108 while Y.shape[1] == 34",
     "output_type": "error",
     "traceback": [
      "\u001b[0;31m---------------------------------------------------------------------------\u001b[0m",
      "\u001b[0;31mValueError\u001b[0m                                Traceback (most recent call last)",
      "Input \u001b[0;32mIn [16]\u001b[0m, in \u001b[0;36m<cell line: 3>\u001b[0;34m()\u001b[0m\n\u001b[1;32m      1\u001b[0m \u001b[38;5;66;03m# Compute Cosine Similarity\u001b[39;00m\n\u001b[1;32m      2\u001b[0m \u001b[38;5;28;01mfrom\u001b[39;00m \u001b[38;5;21;01msklearn\u001b[39;00m\u001b[38;5;21;01m.\u001b[39;00m\u001b[38;5;21;01mmetrics\u001b[39;00m\u001b[38;5;21;01m.\u001b[39;00m\u001b[38;5;21;01mpairwise\u001b[39;00m \u001b[38;5;28;01mimport\u001b[39;00m cosine_similarity\n\u001b[0;32m----> 3\u001b[0m \u001b[38;5;28mprint\u001b[39m(\u001b[43mcosine_similarity\u001b[49m\u001b[43m(\u001b[49m\u001b[43mdf_1\u001b[49m\u001b[43m,\u001b[49m\u001b[43m \u001b[49m\u001b[43mdf_2\u001b[49m\u001b[43m)\u001b[49m)\n",
      "File \u001b[0;32m~/miniconda3/envs/uni/lib/python3.9/site-packages/sklearn/metrics/pairwise.py:1251\u001b[0m, in \u001b[0;36mcosine_similarity\u001b[0;34m(X, Y, dense_output)\u001b[0m\n\u001b[1;32m   1217\u001b[0m \u001b[38;5;124;03m\"\"\"Compute cosine similarity between samples in X and Y.\u001b[39;00m\n\u001b[1;32m   1218\u001b[0m \n\u001b[1;32m   1219\u001b[0m \u001b[38;5;124;03mCosine similarity, or the cosine kernel, computes similarity as the\u001b[39;00m\n\u001b[0;32m   (...)\u001b[0m\n\u001b[1;32m   1247\u001b[0m \u001b[38;5;124;03mkernel matrix : ndarray of shape (n_samples_X, n_samples_Y)\u001b[39;00m\n\u001b[1;32m   1248\u001b[0m \u001b[38;5;124;03m\"\"\"\u001b[39;00m\n\u001b[1;32m   1249\u001b[0m \u001b[38;5;66;03m# to avoid recursive import\u001b[39;00m\n\u001b[0;32m-> 1251\u001b[0m X, Y \u001b[38;5;241m=\u001b[39m \u001b[43mcheck_pairwise_arrays\u001b[49m\u001b[43m(\u001b[49m\u001b[43mX\u001b[49m\u001b[43m,\u001b[49m\u001b[43m \u001b[49m\u001b[43mY\u001b[49m\u001b[43m)\u001b[49m\n\u001b[1;32m   1253\u001b[0m X_normalized \u001b[38;5;241m=\u001b[39m normalize(X, copy\u001b[38;5;241m=\u001b[39m\u001b[38;5;28;01mTrue\u001b[39;00m)\n\u001b[1;32m   1254\u001b[0m \u001b[38;5;28;01mif\u001b[39;00m X \u001b[38;5;129;01mis\u001b[39;00m Y:\n",
      "File \u001b[0;32m~/miniconda3/envs/uni/lib/python3.9/site-packages/sklearn/metrics/pairwise.py:181\u001b[0m, in \u001b[0;36mcheck_pairwise_arrays\u001b[0;34m(X, Y, precomputed, dtype, accept_sparse, force_all_finite, copy)\u001b[0m\n\u001b[1;32m    175\u001b[0m         \u001b[38;5;28;01mraise\u001b[39;00m \u001b[38;5;167;01mValueError\u001b[39;00m(\n\u001b[1;32m    176\u001b[0m             \u001b[38;5;124m\"\u001b[39m\u001b[38;5;124mPrecomputed metric requires shape \u001b[39m\u001b[38;5;124m\"\u001b[39m\n\u001b[1;32m    177\u001b[0m             \u001b[38;5;124m\"\u001b[39m\u001b[38;5;124m(n_queries, n_indexed). Got (\u001b[39m\u001b[38;5;132;01m%d\u001b[39;00m\u001b[38;5;124m, \u001b[39m\u001b[38;5;132;01m%d\u001b[39;00m\u001b[38;5;124m) \u001b[39m\u001b[38;5;124m\"\u001b[39m\n\u001b[1;32m    178\u001b[0m             \u001b[38;5;124m\"\u001b[39m\u001b[38;5;124mfor \u001b[39m\u001b[38;5;132;01m%d\u001b[39;00m\u001b[38;5;124m indexed.\u001b[39m\u001b[38;5;124m\"\u001b[39m \u001b[38;5;241m%\u001b[39m (X\u001b[38;5;241m.\u001b[39mshape[\u001b[38;5;241m0\u001b[39m], X\u001b[38;5;241m.\u001b[39mshape[\u001b[38;5;241m1\u001b[39m], Y\u001b[38;5;241m.\u001b[39mshape[\u001b[38;5;241m0\u001b[39m])\n\u001b[1;32m    179\u001b[0m         )\n\u001b[1;32m    180\u001b[0m \u001b[38;5;28;01melif\u001b[39;00m X\u001b[38;5;241m.\u001b[39mshape[\u001b[38;5;241m1\u001b[39m] \u001b[38;5;241m!=\u001b[39m Y\u001b[38;5;241m.\u001b[39mshape[\u001b[38;5;241m1\u001b[39m]:\n\u001b[0;32m--> 181\u001b[0m     \u001b[38;5;28;01mraise\u001b[39;00m \u001b[38;5;167;01mValueError\u001b[39;00m(\n\u001b[1;32m    182\u001b[0m         \u001b[38;5;124m\"\u001b[39m\u001b[38;5;124mIncompatible dimension for X and Y matrices: \u001b[39m\u001b[38;5;124m\"\u001b[39m\n\u001b[1;32m    183\u001b[0m         \u001b[38;5;124m\"\u001b[39m\u001b[38;5;124mX.shape[1] == \u001b[39m\u001b[38;5;132;01m%d\u001b[39;00m\u001b[38;5;124m while Y.shape[1] == \u001b[39m\u001b[38;5;132;01m%d\u001b[39;00m\u001b[38;5;124m\"\u001b[39m \u001b[38;5;241m%\u001b[39m (X\u001b[38;5;241m.\u001b[39mshape[\u001b[38;5;241m1\u001b[39m], Y\u001b[38;5;241m.\u001b[39mshape[\u001b[38;5;241m1\u001b[39m])\n\u001b[1;32m    184\u001b[0m     )\n\u001b[1;32m    186\u001b[0m \u001b[38;5;28;01mreturn\u001b[39;00m X, Y\n",
      "\u001b[0;31mValueError\u001b[0m: Incompatible dimension for X and Y matrices: X.shape[1] == 108 while Y.shape[1] == 34"
     ]
    }
   ],
   "source": [
    "# Compute Cosine Similarity\n",
    "from sklearn.metrics.pairwise import cosine_similarity\n",
    "print(cosine_similarity(df_1, df_2))"
   ]
  },
  {
   "cell_type": "code",
   "execution_count": null,
   "id": "63786fe2",
   "metadata": {},
   "outputs": [],
   "source": []
  }
 ],
 "metadata": {
  "kernelspec": {
   "display_name": "Python 3 (ipykernel)",
   "language": "python",
   "name": "python3"
  },
  "language_info": {
   "codemirror_mode": {
    "name": "ipython",
    "version": 3
   },
   "file_extension": ".py",
   "mimetype": "text/x-python",
   "name": "python",
   "nbconvert_exporter": "python",
   "pygments_lexer": "ipython3",
   "version": "3.9.12"
  }
 },
 "nbformat": 4,
 "nbformat_minor": 5
}
