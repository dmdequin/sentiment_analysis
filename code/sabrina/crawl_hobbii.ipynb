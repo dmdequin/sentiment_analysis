{
 "cells": [
  {
   "cell_type": "code",
   "execution_count": 3,
   "metadata": {},
   "outputs": [],
   "source": [
    "from bs4 import BeautifulSoup\n",
    "import requests\n",
    "import re\n",
    "  \n",
    "def getHTMLdocument(url):\n",
    "    response = requests.get(url)\n",
    "    return response.text\n",
    "\n",
    "url_to_scrape = \"https://hobbii.com/rainbow-cotton-8-4/\"\n",
    "  \n",
    "# create document\n",
    "html_doc = getHTMLdocument(url_to_scrape)\n",
    "soup = BeautifulSoup(html_doc, 'html.parser')\n",
    "\n",
    "# print(soup.prettify())\n",
    "\n",
    "# soup.div\n",
    "# soup.div['class']\n",
    "\n",
    "soup.find_all(itemprop=\"reviewBody\")"
   ]
  }
 ],
 "metadata": {
  "interpreter": {
   "hash": "45d78ff8e39f9cb4612f96e0a0daed02b89d297fe7734681d306e9497b71623e"
  },
  "kernelspec": {
   "display_name": "Python 3.9.7 ('torch')",
   "language": "python",
   "name": "python3"
  },
  "language_info": {
   "codemirror_mode": {
    "name": "ipython",
    "version": 3
   },
   "file_extension": ".py",
   "mimetype": "text/x-python",
   "name": "python",
   "nbconvert_exporter": "python",
   "pygments_lexer": "ipython3",
   "version": "3.9.7"
  },
  "orig_nbformat": 4
 },
 "nbformat": 4,
 "nbformat_minor": 2
}
