{
 "cells": [
  {
   "cell_type": "markdown",
   "id": "f8a105f6",
   "metadata": {},
   "source": [
    "# Imports"
   ]
  },
  {
   "cell_type": "code",
   "execution_count": 1,
   "id": "f7b379ef",
   "metadata": {},
   "outputs": [],
   "source": [
    "import gzip\n",
    "import json\n",
    "import csv\n",
    "import re"
   ]
  },
  {
   "cell_type": "markdown",
   "id": "992ff764",
   "metadata": {},
   "source": [
    "# Constants"
   ]
  },
  {
   "cell_type": "code",
   "execution_count": 2,
   "id": "e6981440",
   "metadata": {},
   "outputs": [],
   "source": [
    "TRAIN = '../data/raw/music_reviews_train.json.gz'\n",
    "DEV   = '../data/raw/music_reviews_dev.json.gz'\n",
    "TEST  = '../data/raw/music_reviews_test_masked.json.gz'\n",
    "HARD_12 = '../data/raw/group12.json.gz'\n",
    "HARD = '../data/raw/phase2_testData-masked.json.gz'\n",
    "SEW = '../data/raw/Arts_Crafts_and_Sewing.json.gz'\n",
    "GAMES = '../data/raw/Video_Games.json.gz'"
   ]
  },
  {
   "cell_type": "markdown",
   "id": "56a12e91",
   "metadata": {},
   "source": [
    "# Functions"
   ]
  },
  {
   "cell_type": "code",
   "execution_count": 51,
   "id": "beb8ba59",
   "metadata": {},
   "outputs": [],
   "source": [
    "review_keys = set(['image', 'vote'])\n",
    "\n",
    "def loader(PATH):\n",
    "    review_list = []\n",
    "    for line in gzip.open(PATH):\n",
    "        review_data = json.loads(line)\n",
    "        temp = {'image': 0, # set image binary to 0\n",
    "                'reviewText' : '<NULL>',\n",
    "                'summary' : '<NULL>',\n",
    "                'style' : '<NULL>',\n",
    "                'vote' : 0} # set votes to zero, will be overwritten if there are upvotes\n",
    "        for key in review_data:\n",
    "            if key == 'image':\n",
    "                temp[key] = 1 # if there is an image present, set the binary to 1\n",
    "            else:\n",
    "                if key == 'sentiment':\n",
    "                    if review_data[key] == 'positive':\n",
    "                        temp[key] = 1\n",
    "                    elif review_data[key] == 'negative': \n",
    "                        temp[key] = 0                    \n",
    "                else:\n",
    "                    review_keys.update([key])\n",
    "                    temp[key] =  str(review_data[key])\n",
    "        review_list.append(temp)\n",
    "    return review_list\n",
    "\n",
    "#######################################################################\n",
    "\n",
    "def set_making(data, test = False):\n",
    "    \"\"\"Function to separate data into X and y.\n",
    "    Input: \n",
    "    - A list of dictionaries of music reviews. \n",
    "    - Each item in the list is a dictionary for an individual review.\n",
    "    Output:\n",
    "    - X: a list of concatenated summary and text of movie reviews.\n",
    "    - y: a list of corresponding sentiment labels.\n",
    "    \"\"\"\n",
    "    X = []\n",
    "    y = []\n",
    "    \n",
    "    for i in data:\n",
    "        X.append(i['summary'] + ' ' +i['reviewText'])\n",
    "        if test == False and 'sentiment' in i:\n",
    "            y.append(i['sentiment'])\n",
    "        elif test == False and 'overall' in i:\n",
    "            rating = float(i['overall'])\n",
    "            y.append(int(rating))\n",
    "    \n",
    "    if test:\n",
    "        return X\n",
    "    else: return X, y\n"
   ]
  },
  {
   "cell_type": "markdown",
   "id": "06495b8f",
   "metadata": {},
   "source": [
    "# Load Data"
   ]
  },
  {
   "cell_type": "code",
   "execution_count": 4,
   "id": "43eb346d",
   "metadata": {},
   "outputs": [],
   "source": [
    "train_data = loader(TRAIN) # Training\n",
    "dev_data = loader(DEV)     # Validation\n",
    "test_data = loader(TEST)   # Test"
   ]
  },
  {
   "cell_type": "code",
   "execution_count": 5,
   "id": "9928595e",
   "metadata": {
    "scrolled": true
   },
   "outputs": [],
   "source": [
    "hard_12 = loader(HARD_12)   # Our Hard Cases\n",
    "hard = loader(HARD)   # Hard Cases"
   ]
  },
  {
   "cell_type": "code",
   "execution_count": 6,
   "id": "51ad0054",
   "metadata": {},
   "outputs": [],
   "source": [
    "sew = loader(SEW) # Sewing Reviews\n",
    "games = loader(GAMES) # Video Game reviews"
   ]
  },
  {
   "cell_type": "code",
   "execution_count": 7,
   "id": "22c526e0",
   "metadata": {},
   "outputs": [
    {
     "data": {
      "text/plain": [
       "(100000, 10000, 10000, 700, 3591, 494485, 497577)"
      ]
     },
     "execution_count": 7,
     "metadata": {},
     "output_type": "execute_result"
    }
   ],
   "source": [
    "len(train_data), len(dev_data), len(test_data), len(hard_12), len(hard), len(sew), len(games)"
   ]
  },
  {
   "cell_type": "code",
   "execution_count": 8,
   "id": "77cccce8",
   "metadata": {},
   "outputs": [
    {
     "name": "stdout",
     "output_type": "stream",
     "text": [
      "Done\n",
      "240000\n",
      "{'Unnamed: 0': 30000, 'category': 30000, 'level_0': 30000, 'group': 30000, 'reviewerName': 30000, 'catagory': 30000, 'index': 30000, 'overall': 30000}\n"
     ]
    }
   ],
   "source": [
    "missing = {}\n",
    "count = 0\n",
    "\n",
    "for i in test_data + test_data + dev_data:\n",
    "    temp = i.keys()\n",
    "    for r in review_keys:\n",
    "        if r not in temp:\n",
    "            count += 1\n",
    "            if r in missing.keys():\n",
    "                missing[r] += 1\n",
    "            else: missing[r] = 1\n",
    "print('Done')\n",
    "print(count)\n",
    "print(missing)"
   ]
  },
  {
   "cell_type": "code",
   "execution_count": 9,
   "id": "366ce5bf",
   "metadata": {},
   "outputs": [
    {
     "data": {
      "text/plain": [
       "3"
      ]
     },
     "execution_count": 9,
     "metadata": {},
     "output_type": "execute_result"
    }
   ],
   "source": [
    "# Checking for missing text or summary\n",
    "count = 0\n",
    "for dp in train_data:\n",
    "    if dp['reviewText'] == '<NULL>' and dp['summary'] == '<NULL>':\n",
    "        #print(dp)\n",
    "        count += 1\n",
    "        \n",
    "(count)"
   ]
  },
  {
   "cell_type": "code",
   "execution_count": 10,
   "id": "292316f6",
   "metadata": {},
   "outputs": [
    {
     "data": {
      "text/plain": [
       "100000"
      ]
     },
     "execution_count": 10,
     "metadata": {},
     "output_type": "execute_result"
    }
   ],
   "source": [
    "# Adding up review counts, sanity check\n",
    "99918 + 51 + 28 + 3 # r&s, r&!s, s&!r, !r&!s"
   ]
  },
  {
   "cell_type": "code",
   "execution_count": 11,
   "id": "6c2034ba",
   "metadata": {},
   "outputs": [
    {
     "data": {
      "text/plain": [
       "99.918"
      ]
     },
     "execution_count": 11,
     "metadata": {},
     "output_type": "execute_result"
    }
   ],
   "source": [
    "# Percentage of reviews after removing those with missing reviewText and/or summary\n",
    "99918/1000"
   ]
  },
  {
   "cell_type": "code",
   "execution_count": 16,
   "id": "d8772b24",
   "metadata": {},
   "outputs": [
    {
     "data": {
      "text/plain": [
       "[{'image': 0,\n",
       "  'reviewText': 'So creative!  Love his music - the words, the message! Some of my favorite songs on this CD. I should have bought it years ago!',\n",
       "  'summary': 'Gotta listen to this!',\n",
       "  'style': \"{'Format:': ' Audio CD'}\",\n",
       "  'vote': 0,\n",
       "  'verified': 'True',\n",
       "  'reviewTime': '09 11, 2013',\n",
       "  'reviewerID': 'AC2PL52NKPL29',\n",
       "  'asin': '0001388703',\n",
       "  'unixReviewTime': '1378857600',\n",
       "  'sentiment': 1,\n",
       "  'id': '0'}]"
      ]
     },
     "execution_count": 16,
     "metadata": {},
     "output_type": "execute_result"
    }
   ],
   "source": [
    "train_data[0:1]"
   ]
  },
  {
   "cell_type": "code",
   "execution_count": 53,
   "id": "43df6ec8",
   "metadata": {},
   "outputs": [
    {
     "data": {
      "text/plain": [
       "4"
      ]
     },
     "execution_count": 53,
     "metadata": {},
     "output_type": "execute_result"
    }
   ],
   "source": [
    "int(float(sew[0]['overall']))"
   ]
  },
  {
   "cell_type": "markdown",
   "id": "5242ef81",
   "metadata": {},
   "source": [
    "# Make datasets"
   ]
  },
  {
   "cell_type": "code",
   "execution_count": 28,
   "id": "0cda2959",
   "metadata": {},
   "outputs": [
    {
     "data": {
      "text/plain": [
       "(100000, 100000)"
      ]
     },
     "execution_count": 28,
     "metadata": {},
     "output_type": "execute_result"
    }
   ],
   "source": [
    "X_train, y_train = set_making(train_data)\n",
    "\n",
    "len(X_train), len(y_train)"
   ]
  },
  {
   "cell_type": "code",
   "execution_count": 29,
   "id": "3ce46c09",
   "metadata": {},
   "outputs": [
    {
     "data": {
      "text/plain": [
       "(10000, 10000)"
      ]
     },
     "execution_count": 29,
     "metadata": {},
     "output_type": "execute_result"
    }
   ],
   "source": [
    "X_dev, y_dev = set_making(dev_data)\n",
    "\n",
    "len(X_dev), len(y_dev)"
   ]
  },
  {
   "cell_type": "code",
   "execution_count": 36,
   "id": "8fa48775",
   "metadata": {},
   "outputs": [
    {
     "data": {
      "text/plain": [
       "10000"
      ]
     },
     "execution_count": 36,
     "metadata": {},
     "output_type": "execute_result"
    }
   ],
   "source": [
    "X_test = set_making(test_data, test = True)\n",
    "\n",
    "len(X_test)"
   ]
  },
  {
   "cell_type": "code",
   "execution_count": 31,
   "id": "b27fe93e",
   "metadata": {},
   "outputs": [
    {
     "data": {
      "text/plain": [
       "700"
      ]
     },
     "execution_count": 31,
     "metadata": {},
     "output_type": "execute_result"
    }
   ],
   "source": [
    "X_hard_12 = set_making(hard_12, test = True)\n",
    "len(X_hard_12)"
   ]
  },
  {
   "cell_type": "code",
   "execution_count": 32,
   "id": "337da3ee",
   "metadata": {},
   "outputs": [
    {
     "data": {
      "text/plain": [
       "3591"
      ]
     },
     "execution_count": 32,
     "metadata": {},
     "output_type": "execute_result"
    }
   ],
   "source": [
    "X_hard = set_making(hard, test = True)\n",
    "len(X_hard)"
   ]
  },
  {
   "cell_type": "code",
   "execution_count": 54,
   "id": "3632c06e",
   "metadata": {},
   "outputs": [
    {
     "data": {
      "text/plain": [
       "494485"
      ]
     },
     "execution_count": 54,
     "metadata": {},
     "output_type": "execute_result"
    }
   ],
   "source": [
    "X_sew, y_sew = set_making(sew)\n",
    "len(X_sew)"
   ]
  },
  {
   "cell_type": "code",
   "execution_count": 56,
   "id": "48c6779b",
   "metadata": {},
   "outputs": [
    {
     "data": {
      "text/plain": [
       "497577"
      ]
     },
     "execution_count": 56,
     "metadata": {},
     "output_type": "execute_result"
    }
   ],
   "source": [
    "X_games, y_games = set_making(games)\n",
    "len(X_games)"
   ]
  },
  {
   "cell_type": "markdown",
   "id": "ab486f25",
   "metadata": {},
   "source": [
    "# Save datasets to csv files"
   ]
  },
  {
   "cell_type": "code",
   "execution_count": 13,
   "id": "04efb585",
   "metadata": {},
   "outputs": [],
   "source": [
    "with open('../data/interim/train.csv', 'w') as csvfile: \n",
    "    # creating a csv dict writer object \n",
    "    writer = csv.writer(csvfile) \n",
    "        \n",
    "    # writing data rows \n",
    "    writer.writerows((x for x in zip(X_train, y_train))) "
   ]
  },
  {
   "cell_type": "code",
   "execution_count": 14,
   "id": "edca86b7",
   "metadata": {},
   "outputs": [],
   "source": [
    "with open('../data/interim/dev.csv', 'w') as csvfile: \n",
    "    # creating a csv dict writer object \n",
    "    writer = csv.writer(csvfile) \n",
    "\n",
    "    # writing data rows \n",
    "    writer.writerows((x for x in zip(X_dev, y_dev))) "
   ]
  },
  {
   "cell_type": "code",
   "execution_count": 15,
   "id": "7e1bf7c9",
   "metadata": {},
   "outputs": [],
   "source": [
    "with open('../data/interim/test.csv', 'w') as csvfile: \n",
    "    # creating a csv dict writer object \n",
    "    writer = csv.writer(csvfile) \n",
    "    \n",
    "    # writing data rows \n",
    "    writer.writerows(([x] for x in X_test)) "
   ]
  },
  {
   "cell_type": "code",
   "execution_count": 48,
   "id": "619994f2",
   "metadata": {},
   "outputs": [],
   "source": [
    "with open('../data/interim/hard_12.csv', 'w') as csvfile: \n",
    "    # creating a csv dict writer object \n",
    "    writer = csv.writer(csvfile) \n",
    "    \n",
    "    # writing data rows \n",
    "    writer.writerows(([x] for x in X_hard_12)) "
   ]
  },
  {
   "cell_type": "code",
   "execution_count": 49,
   "id": "b01a4834",
   "metadata": {},
   "outputs": [],
   "source": [
    "with open('../data/interim/hard.csv', 'w') as csvfile: \n",
    "    # creating a csv dict writer object \n",
    "    writer = csv.writer(csvfile) \n",
    "    \n",
    "    # writing data rows \n",
    "    writer.writerows(([x] for x in X_hard)) "
   ]
  },
  {
   "cell_type": "code",
   "execution_count": 57,
   "id": "0369c86f",
   "metadata": {},
   "outputs": [],
   "source": [
    "with open('../data/interim/sew.csv', 'w') as csvfile: \n",
    "    # creating a csv dict writer object \n",
    "    writer = csv.writer(csvfile) \n",
    "        \n",
    "    # writing data rows \n",
    "    writer.writerows((x for x in zip(X_sew, y_sew))) "
   ]
  },
  {
   "cell_type": "code",
   "execution_count": 58,
   "id": "3db5709f",
   "metadata": {},
   "outputs": [],
   "source": [
    "with open('../data/interim/games.csv', 'w') as csvfile: \n",
    "    # creating a csv dict writer object \n",
    "    writer = csv.writer(csvfile) \n",
    "        \n",
    "    # writing data rows \n",
    "    writer.writerows((x for x in zip(X_games, y_games))) "
   ]
  },
  {
   "cell_type": "code",
   "execution_count": null,
   "id": "e78646c9",
   "metadata": {},
   "outputs": [],
   "source": []
  }
 ],
 "metadata": {
  "kernelspec": {
   "display_name": "Python 3 (ipykernel)",
   "language": "python",
   "name": "python3"
  },
  "language_info": {
   "codemirror_mode": {
    "name": "ipython",
    "version": 3
   },
   "file_extension": ".py",
   "mimetype": "text/x-python",
   "name": "python",
   "nbconvert_exporter": "python",
   "pygments_lexer": "ipython3",
   "version": "3.9.7"
  }
 },
 "nbformat": 4,
 "nbformat_minor": 5
}
