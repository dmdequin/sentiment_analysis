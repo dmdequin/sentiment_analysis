{
 "cells": [
  {
   "cell_type": "markdown",
   "id": "ecbe4dbd",
   "metadata": {},
   "source": [
    "# Imports"
   ]
  },
  {
   "cell_type": "code",
   "execution_count": 1,
   "id": "f7b379ef",
   "metadata": {},
   "outputs": [],
   "source": [
    "import gzip\n",
    "import json"
   ]
  },
  {
   "cell_type": "markdown",
   "id": "f320ec9d",
   "metadata": {},
   "source": [
    "# Constants"
   ]
  },
  {
   "cell_type": "code",
   "execution_count": 2,
   "id": "e6981440",
   "metadata": {},
   "outputs": [],
   "source": [
    "TRAIN = '../raw/data/music_reviews_train.json.gz'\n",
    "DEV   = '../raw/data/music_reviews_dev.json.gz'\n",
    "TEST  = '../raw/data/music_reviews_test_masked.json.gz'"
   ]
  },
  {
   "cell_type": "markdown",
   "id": "43f307b0",
   "metadata": {},
   "source": [
    "# Functions"
   ]
  },
  {
   "cell_type": "code",
   "execution_count": 3,
   "id": "beb8ba59",
   "metadata": {},
   "outputs": [],
   "source": [
    "review_keys = set(['image', 'vote'])\n",
    "\n",
    "def loader(PATH):\n",
    "    review_list = []\n",
    "    for line in gzip.open(PATH):\n",
    "        review_data = json.loads(line)\n",
    "        temp = {'image': 0, # set image binary to 0\n",
    "                'reviewText' : '<NULL>',\n",
    "                'summary' : '<NULL>',\n",
    "                'style' : '<NULL>',\n",
    "                'vote' : 0} # set votes to zero, will be overwritten if there are upvotes\n",
    "        for key in review_data:\n",
    "            if key == 'image':\n",
    "                temp[key] = 1 # if there is an image present, set the binary to 1\n",
    "            else:\n",
    "                if key == 'sentiment':\n",
    "                    if review_data[key] == 'positive':\n",
    "                        temp[key] = 1\n",
    "                    elif review_data[key] == 'negative': \n",
    "                        temp[key] = 0                    \n",
    "                else:\n",
    "                    review_keys.update([key])\n",
    "                    temp[key] =  str(review_data[key])\n",
    "        review_list.append(temp)\n",
    "    return review_list\n",
    "\n",
    "train_data = loader(TRAIN) # Training\n",
    "dev_data = loader(DEV)     # Validation\n",
    "test_data = loader(TEST)   # Test"
   ]
  },
  {
   "cell_type": "code",
   "execution_count": 4,
   "id": "22c526e0",
   "metadata": {},
   "outputs": [
    {
     "data": {
      "text/plain": [
       "(100000, 10000, 10000)"
      ]
     },
     "execution_count": 4,
     "metadata": {},
     "output_type": "execute_result"
    }
   ],
   "source": [
    "len(train_data), len(dev_data), len(test_data)"
   ]
  },
  {
   "cell_type": "code",
   "execution_count": 5,
   "id": "77cccce8",
   "metadata": {},
   "outputs": [
    {
     "name": "stdout",
     "output_type": "stream",
     "text": [
      "Done\n",
      "0\n",
      "{}\n"
     ]
    }
   ],
   "source": [
    "missing = {}\n",
    "count = 0\n",
    "\n",
    "for i in test_data + test_data + dev_data:\n",
    "    temp = i.keys()\n",
    "    for r in review_keys:\n",
    "        if r not in temp:\n",
    "            count += 1\n",
    "            if r in missing.keys():\n",
    "                missing[r] += 1\n",
    "            else: missing[r] = 1\n",
    "print('Done')\n",
    "print(count)\n",
    "print(missing)"
   ]
  },
  {
   "cell_type": "code",
   "execution_count": 6,
   "id": "366ce5bf",
   "metadata": {},
   "outputs": [
    {
     "data": {
      "text/plain": [
       "3"
      ]
     },
     "execution_count": 6,
     "metadata": {},
     "output_type": "execute_result"
    }
   ],
   "source": [
    "count = 0\n",
    "for dp in train_data:\n",
    "    if dp['reviewText'] == '<NULL>' and dp['summary'] == '<NULL>':\n",
    "        #print(dp)\n",
    "        count += 1\n",
    "        \n",
    "(count)"
   ]
  },
  {
   "cell_type": "code",
   "execution_count": 7,
   "id": "292316f6",
   "metadata": {},
   "outputs": [
    {
     "data": {
      "text/plain": [
       "100000"
      ]
     },
     "execution_count": 7,
     "metadata": {},
     "output_type": "execute_result"
    }
   ],
   "source": [
    "99918 + 51 + 28 + 3 # r&s, r&!s, s&!r, !r&!s"
   ]
  },
  {
   "cell_type": "code",
   "execution_count": 8,
   "id": "6c2034ba",
   "metadata": {},
   "outputs": [
    {
     "data": {
      "text/plain": [
       "99.918"
      ]
     },
     "execution_count": 8,
     "metadata": {},
     "output_type": "execute_result"
    }
   ],
   "source": [
    "99918/1000"
   ]
  },
  {
   "cell_type": "code",
   "execution_count": 9,
   "id": "0cda2959",
   "metadata": {},
   "outputs": [
    {
     "data": {
      "text/plain": [
       "(100000, 100000)"
      ]
     },
     "execution_count": 9,
     "metadata": {},
     "output_type": "execute_result"
    }
   ],
   "source": [
    "def set_making(data, test = False):\n",
    "    \n",
    "    X = []\n",
    "    y = []\n",
    "    \n",
    "    for i in data:\n",
    "        X.append(i['summary'] + ' <SEP> ' +i['reviewText'])\n",
    "        if test == False:\n",
    "            y.append(i['sentiment'])\n",
    "    \n",
    "    if test:\n",
    "        return X\n",
    "    else: return X, y\n",
    "    \n",
    "X_train, y_train = set_making(train_data)\n",
    "\n",
    "len(X_train), len(y_train)"
   ]
  },
  {
   "cell_type": "code",
   "execution_count": 10,
   "id": "3ce46c09",
   "metadata": {},
   "outputs": [
    {
     "data": {
      "text/plain": [
       "(10000, 10000)"
      ]
     },
     "execution_count": 10,
     "metadata": {},
     "output_type": "execute_result"
    }
   ],
   "source": [
    "X_dev, y_dev = set_making(dev_data)\n",
    "\n",
    "len(X_dev), len(y_dev)"
   ]
  },
  {
   "cell_type": "code",
   "execution_count": 11,
   "id": "8fa48775",
   "metadata": {},
   "outputs": [
    {
     "data": {
      "text/plain": [
       "10000"
      ]
     },
     "execution_count": 11,
     "metadata": {},
     "output_type": "execute_result"
    }
   ],
   "source": [
    "X_test = set_making(test_data, test = True)\n",
    "\n",
    "len(X_test)"
   ]
  },
  {
   "cell_type": "code",
   "execution_count": 12,
   "id": "04efb585",
   "metadata": {},
   "outputs": [],
   "source": [
    "import csv\n",
    "\n",
    "with open('../interim/data/train.csv', 'w') as csvfile: \n",
    "    # creating a csv dict writer object \n",
    "    writer = csv.writer(csvfile) \n",
    "\n",
    "        \n",
    "    # writing data rows \n",
    "    writer.writerows((x for x in zip(X_train, y_train))) "
   ]
  },
  {
   "cell_type": "code",
   "execution_count": 13,
   "id": "edca86b7",
   "metadata": {},
   "outputs": [],
   "source": [
    "with open('../interim/data/dev.csv', 'w') as csvfile: \n",
    "    # creating a csv dict writer object \n",
    "    writer = csv.writer(csvfile) \n",
    "\n",
    "    # writing data rows \n",
    "    writer.writerows((x for x in zip(X_dev, y_dev))) "
   ]
  },
  {
   "cell_type": "code",
   "execution_count": 14,
   "id": "7e1bf7c9",
   "metadata": {},
   "outputs": [],
   "source": [
    "with open('../interim/data/test.csv', 'w') as csvfile: \n",
    "    # creating a csv dict writer object \n",
    "    writer = csv.writer(csvfile) \n",
    "    \n",
    "    # writing data rows \n",
    "    writer.writerows(([x] for x in X_test)) "
   ]
  },
  {
   "cell_type": "code",
   "execution_count": null,
   "id": "8d483aed",
   "metadata": {},
   "outputs": [],
   "source": []
  }
 ],
 "metadata": {
  "kernelspec": {
   "display_name": "Python 3 (ipykernel)",
   "language": "python",
   "name": "python3"
  },
  "language_info": {
   "codemirror_mode": {
    "name": "ipython",
    "version": 3
   },
   "file_extension": ".py",
   "mimetype": "text/x-python",
   "name": "python",
   "nbconvert_exporter": "python",
   "pygments_lexer": "ipython3",
   "version": "3.9.7"
  }
 },
 "nbformat": 4,
 "nbformat_minor": 5
}
