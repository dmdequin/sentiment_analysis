{
 "cells": [
  {
   "cell_type": "markdown",
   "metadata": {},
   "source": [
    "# SYP project\n",
    "\n",
    "Sentiment analysis.\n",
    "\n",
    "## Phase 1: Baseline for Sentiment classification\n",
    "Classify weather music reviews are positive or negative."
   ]
  },
  {
   "cell_type": "markdown",
   "metadata": {},
   "source": [
    "### Imports"
   ]
  },
  {
   "cell_type": "code",
   "execution_count": 4,
   "metadata": {},
   "outputs": [],
   "source": [
    "import pandas as pd"
   ]
  },
  {
   "cell_type": "markdown",
   "metadata": {},
   "source": [
    "### Read in files"
   ]
  },
  {
   "cell_type": "code",
   "execution_count": null,
   "metadata": {},
   "outputs": [],
   "source": [
    "# https://www.delftstack.com/howto/linux/unzip-gz-file-linux/\n",
    "\n",
    "!gzip -d -k music_reviews_dev.json.gz\n",
    "!gzip -d -k music_reviews_train.json.gz\n",
    "!gzip -d -k music_reviews_test_masked.json.gz \n",
    " "
   ]
  },
  {
   "cell_type": "code",
   "execution_count": 8,
   "metadata": {},
   "outputs": [],
   "source": [
    "# fixing trailing data error https://www.statology.org/valueerror-trailing-data/\n",
    "\n",
    "data_train = pd.read_json('../data/raw/music_reviews_train.json', lines=True)\n",
    "data_dev = pd.read_json('../data/raw/music_reviews_dev.json', lines=True)\n",
    "data_test_masked = pd.read_json('../data/raw/music_reviews_test_masked.json', lines=True)"
   ]
  },
  {
   "cell_type": "markdown",
   "metadata": {},
   "source": [
    "### EDA\n",
    "#### Training data"
   ]
  },
  {
   "cell_type": "code",
   "execution_count": 18,
   "metadata": {},
   "outputs": [
    {
     "data": {
      "text/plain": [
       "verified              0\n",
       "reviewTime            0\n",
       "reviewerID            0\n",
       "asin                  0\n",
       "style             14113\n",
       "reviewText           54\n",
       "summary              31\n",
       "unixReviewTime        0\n",
       "sentiment             0\n",
       "id                    0\n",
       "vote              83795\n",
       "image             99644\n",
       "dtype: int64"
      ]
     },
     "execution_count": 18,
     "metadata": {},
     "output_type": "execute_result"
    }
   ],
   "source": [
    "data_train.isnull().sum()"
   ]
  },
  {
   "cell_type": "code",
   "execution_count": 13,
   "metadata": {},
   "outputs": [
    {
     "data": {
      "text/plain": [
       "positive    60783\n",
       "negative    39217\n",
       "Name: sentiment, dtype: int64"
      ]
     },
     "execution_count": 13,
     "metadata": {},
     "output_type": "execute_result"
    }
   ],
   "source": [
    "data_train['sentiment'].value_counts()"
   ]
  },
  {
   "cell_type": "code",
   "execution_count": 12,
   "metadata": {},
   "outputs": [
    {
     "data": {
      "text/html": [
       "<div>\n",
       "<style scoped>\n",
       "    .dataframe tbody tr th:only-of-type {\n",
       "        vertical-align: middle;\n",
       "    }\n",
       "\n",
       "    .dataframe tbody tr th {\n",
       "        vertical-align: top;\n",
       "    }\n",
       "\n",
       "    .dataframe thead th {\n",
       "        text-align: right;\n",
       "    }\n",
       "</style>\n",
       "<table border=\"1\" class=\"dataframe\">\n",
       "  <thead>\n",
       "    <tr style=\"text-align: right;\">\n",
       "      <th></th>\n",
       "      <th>verified</th>\n",
       "      <th>reviewTime</th>\n",
       "      <th>reviewerID</th>\n",
       "      <th>asin</th>\n",
       "      <th>style</th>\n",
       "      <th>reviewText</th>\n",
       "      <th>summary</th>\n",
       "      <th>unixReviewTime</th>\n",
       "      <th>sentiment</th>\n",
       "      <th>id</th>\n",
       "      <th>vote</th>\n",
       "      <th>image</th>\n",
       "    </tr>\n",
       "  </thead>\n",
       "  <tbody>\n",
       "    <tr>\n",
       "      <th>0</th>\n",
       "      <td>True</td>\n",
       "      <td>09 11, 2013</td>\n",
       "      <td>AC2PL52NKPL29</td>\n",
       "      <td>0001388703</td>\n",
       "      <td>{'Format:': ' Audio CD'}</td>\n",
       "      <td>So creative!  Love his music - the words, the ...</td>\n",
       "      <td>Gotta listen to this!</td>\n",
       "      <td>1378857600</td>\n",
       "      <td>positive</td>\n",
       "      <td>0</td>\n",
       "      <td>NaN</td>\n",
       "      <td>NaN</td>\n",
       "    </tr>\n",
       "    <tr>\n",
       "      <th>1</th>\n",
       "      <td>False</td>\n",
       "      <td>05 14, 2009</td>\n",
       "      <td>A3NVGWKHLULDHR</td>\n",
       "      <td>0001388703</td>\n",
       "      <td>{'Format:': ' Audio Cassette'}</td>\n",
       "      <td>This tape can hardly be understood and it was ...</td>\n",
       "      <td>Shame Shame</td>\n",
       "      <td>1242259200</td>\n",
       "      <td>negative</td>\n",
       "      <td>1</td>\n",
       "      <td>NaN</td>\n",
       "      <td>NaN</td>\n",
       "    </tr>\n",
       "    <tr>\n",
       "      <th>2</th>\n",
       "      <td>True</td>\n",
       "      <td>05 15, 2015</td>\n",
       "      <td>AZ3T21W6CW0MW</td>\n",
       "      <td>0001388703</td>\n",
       "      <td>{'Format:': ' MP3 Music'}</td>\n",
       "      <td>Buy the CD.  Do not buy the MP3 album.  Downlo...</td>\n",
       "      <td>Buy the CD.  Do not buy the MP3.</td>\n",
       "      <td>1431648000</td>\n",
       "      <td>negative</td>\n",
       "      <td>2</td>\n",
       "      <td>NaN</td>\n",
       "      <td>NaN</td>\n",
       "    </tr>\n",
       "  </tbody>\n",
       "</table>\n",
       "</div>"
      ],
      "text/plain": [
       "   verified   reviewTime      reviewerID        asin  \\\n",
       "0      True  09 11, 2013   AC2PL52NKPL29  0001388703   \n",
       "1     False  05 14, 2009  A3NVGWKHLULDHR  0001388703   \n",
       "2      True  05 15, 2015   AZ3T21W6CW0MW  0001388703   \n",
       "\n",
       "                            style  \\\n",
       "0        {'Format:': ' Audio CD'}   \n",
       "1  {'Format:': ' Audio Cassette'}   \n",
       "2       {'Format:': ' MP3 Music'}   \n",
       "\n",
       "                                          reviewText  \\\n",
       "0  So creative!  Love his music - the words, the ...   \n",
       "1  This tape can hardly be understood and it was ...   \n",
       "2  Buy the CD.  Do not buy the MP3 album.  Downlo...   \n",
       "\n",
       "                            summary  unixReviewTime sentiment  id  vote image  \n",
       "0             Gotta listen to this!      1378857600  positive   0   NaN   NaN  \n",
       "1                       Shame Shame      1242259200  negative   1   NaN   NaN  \n",
       "2  Buy the CD.  Do not buy the MP3.      1431648000  negative   2   NaN   NaN  "
      ]
     },
     "execution_count": 12,
     "metadata": {},
     "output_type": "execute_result"
    }
   ],
   "source": [
    "data_train.head(3)"
   ]
  },
  {
   "cell_type": "code",
   "execution_count": 44,
   "metadata": {},
   "outputs": [],
   "source": [
    "from sklearn.feature_extraction.text import TfidfVectorizer\n",
    "\n",
    "corpus = data_train['reviewText'].fillna('na')\n"
   ]
  },
  {
   "cell_type": "code",
   "execution_count": 47,
   "metadata": {},
   "outputs": [
    {
     "name": "stdout",
     "output_type": "stream",
     "text": [
      "(100000, 70882)\n"
     ]
    }
   ],
   "source": [
    "vectorizer = TfidfVectorizer()\n",
    "corpus_vec = vectorizer.fit_transform(corpus)"
   ]
  },
  {
   "cell_type": "code",
   "execution_count": 51,
   "metadata": {},
   "outputs": [
    {
     "data": {
      "text/plain": [
       "array(['00', '000', '0000', ..., 'zzzzzzzzzzzzzzzz',\n",
       "       'zzzzzzzzzzzzzzzzzzzzzz',\n",
       "       'zzzzzzzzzzzzzzzzzzzzzzzzzzzzzzzzzzzzzzzzzzzzzzzzzzzzzzzzzzzzzzzzzzzzzzzz'],\n",
       "      dtype=object)"
      ]
     },
     "execution_count": 51,
     "metadata": {},
     "output_type": "execute_result"
    }
   ],
   "source": [
    "vectorizer.get_feature_names_out()\n",
    "\n",
    "\n",
    "# print(corpus_vec.shape)"
   ]
  },
  {
   "cell_type": "code",
   "execution_count": null,
   "metadata": {},
   "outputs": [],
   "source": []
  }
 ],
 "metadata": {
  "interpreter": {
   "hash": "62a3362af9fb780a0eb03402584da787fc1a1b0aa4d8f94c680e96f1c63d9193"
  },
  "kernelspec": {
   "display_name": "Python 3.9.7 ('uni')",
   "language": "python",
   "name": "python3"
  },
  "language_info": {
   "codemirror_mode": {
    "name": "ipython",
    "version": 3
   },
   "file_extension": ".py",
   "mimetype": "text/x-python",
   "name": "python",
   "nbconvert_exporter": "python",
   "pygments_lexer": "ipython3",
   "version": "3.9.7"
  },
  "orig_nbformat": 4
 },
 "nbformat": 4,
 "nbformat_minor": 2
}
