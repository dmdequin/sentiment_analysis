{
 "cells": [
  {
   "cell_type": "markdown",
   "id": "1fed3f1e",
   "metadata": {},
   "source": [
    "# Phase 2: Break It"
   ]
  },
  {
   "cell_type": "code",
   "execution_count": 1,
   "id": "73b98c74",
   "metadata": {},
   "outputs": [],
   "source": [
    "import csv\n",
    "import numpy as np\n",
    "import matplotlib.pyplot as plt\n",
    "import pandas as pd"
   ]
  },
  {
   "cell_type": "code",
   "execution_count": 2,
   "id": "0196f852",
   "metadata": {},
   "outputs": [],
   "source": [
    "TRAIN = '../data/interim/train.csv'"
   ]
  },
  {
   "cell_type": "code",
   "execution_count": 3,
   "id": "b75cbce0",
   "metadata": {},
   "outputs": [],
   "source": [
    "input_data = []\n",
    "label = []\n",
    "with open(TRAIN, mode='r') as file:\n",
    "    csvFile = csv.reader(file)\n",
    "    for lines in csvFile:\n",
    "        input_data.append(lines[0])\n",
    "        label.append(int(lines[1]))"
   ]
  },
  {
   "cell_type": "code",
   "execution_count": 4,
   "id": "8f92c49f",
   "metadata": {},
   "outputs": [
    {
     "name": "stdout",
     "output_type": "stream",
     "text": [
      "Sentence 1:\n",
      "Gotta listen to this! So creative!  Love his music - the words, the message! Some of my favorite songs on this CD. I should have bought it years ago!\n",
      "Label: 1\n"
     ]
    }
   ],
   "source": [
    "print(f'Sentence 1:\\n{input_data[0]}\\nLabel: {label[0]}')"
   ]
  },
  {
   "cell_type": "code",
   "execution_count": 5,
   "id": "fc6dc14d",
   "metadata": {},
   "outputs": [],
   "source": [
    "#conda install checklist\n",
    "import checklist\n",
    "from checklist.editor import Editor\n",
    "from checklist.perturb import Perturb"
   ]
  },
  {
   "cell_type": "code",
   "execution_count": 8,
   "id": "1464dcf1",
   "metadata": {},
   "outputs": [],
   "source": [
    "#python3 -m spacy download en_core_web_sm\n",
    "#conda install spacy\n",
    "import spacy\n",
    "nlp = spacy.load('en_core_web_sm')"
   ]
  },
  {
   "cell_type": "code",
   "execution_count": 13,
   "id": "b5fe550a",
   "metadata": {},
   "outputs": [],
   "source": [
    "pdata = list(nlp.pipe(input_data[0:10]))"
   ]
  },
  {
   "cell_type": "code",
   "execution_count": 14,
   "id": "2dabf881",
   "metadata": {},
   "outputs": [
    {
     "data": {
      "text/plain": [
       "(Gotta listen to this! So creative!  Love his music - the words, the message! Some of my favorite songs on this CD. I should have bought it years ago!,\n",
       " 'Gotta listen to this! So creative!  Love his music - the words, the message! Some of my favorite songs on this CD. I should have bought it years ago')"
      ]
     },
     "execution_count": 14,
     "metadata": {},
     "output_type": "execute_result"
    }
   ],
   "source": [
    "pdata[0], Perturb.strip_punctuation(pdata[0])"
   ]
  },
  {
   "cell_type": "code",
   "execution_count": null,
   "id": "90cbf723",
   "metadata": {},
   "outputs": [],
   "source": []
  },
  {
   "cell_type": "code",
   "execution_count": null,
   "id": "84ec8692",
   "metadata": {},
   "outputs": [],
   "source": []
  },
  {
   "cell_type": "code",
   "execution_count": null,
   "id": "54fe7052",
   "metadata": {},
   "outputs": [],
   "source": []
  },
  {
   "cell_type": "code",
   "execution_count": null,
   "id": "5f1454e2",
   "metadata": {},
   "outputs": [],
   "source": [
    "#data_train = pd.read_json('../data/raw/music_reviews_train.json.gz', lines=True)\n",
    "#input_text = data_train['reviewText']"
   ]
  },
  {
   "cell_type": "code",
   "execution_count": null,
   "id": "ec8f69b8",
   "metadata": {},
   "outputs": [],
   "source": [
    "#input_text[0]"
   ]
  },
  {
   "cell_type": "code",
   "execution_count": null,
   "id": "72142131",
   "metadata": {},
   "outputs": [],
   "source": [
    "#labels = data_train['sentiment']\n",
    "#labels[0]"
   ]
  },
  {
   "cell_type": "code",
   "execution_count": null,
   "id": "0d353c95",
   "metadata": {},
   "outputs": [],
   "source": []
  }
 ],
 "metadata": {
  "kernelspec": {
   "display_name": "Python 3 (ipykernel)",
   "language": "python",
   "name": "python3"
  },
  "language_info": {
   "codemirror_mode": {
    "name": "ipython",
    "version": 3
   },
   "file_extension": ".py",
   "mimetype": "text/x-python",
   "name": "python",
   "nbconvert_exporter": "python",
   "pygments_lexer": "ipython3",
   "version": "3.9.7"
  }
 },
 "nbformat": 4,
 "nbformat_minor": 5
}
