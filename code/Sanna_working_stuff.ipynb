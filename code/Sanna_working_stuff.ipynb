{
 "cells": [
  {
   "cell_type": "code",
   "execution_count": 9,
   "id": "f7b379ef",
   "metadata": {},
   "outputs": [],
   "source": [
    "PATH = '../data/opener_en-dev.conll'"
   ]
  },
  {
   "cell_type": "code",
   "execution_count": 12,
   "id": "22c526e0",
   "metadata": {},
   "outputs": [
    {
     "data": {
      "text/plain": [
       "1"
      ]
     },
     "execution_count": 12,
     "metadata": {},
     "output_type": "execute_result"
    }
   ],
   "source": [
    "wds = []\n",
    "with open(PATH, 'r') as f:\n",
    "    wds.append(f.readline())\n",
    "    \n",
    "len(wds)"
   ]
  },
  {
   "cell_type": "code",
   "execution_count": null,
   "id": "77cccce8",
   "metadata": {},
   "outputs": [],
   "source": []
  }
 ],
 "metadata": {
  "kernelspec": {
   "display_name": "Python 3 (ipykernel)",
   "language": "python",
   "name": "python3"
  },
  "language_info": {
   "codemirror_mode": {
    "name": "ipython",
    "version": 3
   },
   "file_extension": ".py",
   "mimetype": "text/x-python",
   "name": "python",
   "nbconvert_exporter": "python",
   "pygments_lexer": "ipython3",
   "version": "3.8.10"
  }
 },
 "nbformat": 4,
 "nbformat_minor": 5
}
