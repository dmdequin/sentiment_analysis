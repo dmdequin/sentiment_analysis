{
 "cells": [
  {
   "cell_type": "markdown",
   "id": "d90e347c",
   "metadata": {},
   "source": [
    "# Phase 2: Break It"
   ]
  },
  {
   "cell_type": "code",
   "execution_count": 1,
   "id": "b513ef5a",
   "metadata": {},
   "outputs": [],
   "source": [
    "import csv\n",
    "import numpy as np\n",
    "import matplotlib.pyplot as plt\n",
    "import pandas as pd\n",
    "import re\n",
    "\n",
    "# install checklist\n",
    "import checklist\n",
    "from checklist.editor import Editor\n",
    "from checklist.perturb import Perturb\n",
    "\n",
    "#!python3 -m spacy download en_core_web_sm\n",
    "# install spacy\n",
    "import spacy\n",
    "\n",
    "import json"
   ]
  },
  {
   "cell_type": "code",
   "execution_count": 2,
   "id": "742db0e8",
   "metadata": {},
   "outputs": [],
   "source": [
    "TRAIN = '../data/interim/train.csv'"
   ]
  },
  {
   "cell_type": "code",
   "execution_count": 3,
   "id": "f2b8b399",
   "metadata": {},
   "outputs": [
    {
     "data": {
      "text/plain": [
       "0        positive\n",
       "1        negative\n",
       "2        negative\n",
       "3        positive\n",
       "4        positive\n",
       "           ...   \n",
       "99995    positive\n",
       "99996    negative\n",
       "99997    positive\n",
       "99998    negative\n",
       "99999    negative\n",
       "Name: sentiment, Length: 100000, dtype: object"
      ]
     },
     "execution_count": 3,
     "metadata": {},
     "output_type": "execute_result"
    }
   ],
   "source": [
    "data_train = pd.read_json('../data/raw/music_reviews_train.json.gz', lines=True)\n",
    "data_train['sentiment']"
   ]
  },
  {
   "cell_type": "code",
   "execution_count": 4,
   "id": "7a7dbdfa",
   "metadata": {},
   "outputs": [],
   "source": [
    "labels = data_train['sentiment'].tolist()"
   ]
  },
  {
   "cell_type": "code",
   "execution_count": 5,
   "id": "6d81c170",
   "metadata": {},
   "outputs": [],
   "source": [
    "input_data = []\n",
    "label = [] \n",
    "c = 0\n",
    "n = 100 # set how many training examples to use.\n",
    "with open(TRAIN, mode='r') as file:\n",
    "    csvFile = csv.reader(file)\n",
    "    for lines in csvFile:\n",
    "        if c < n:\n",
    "            input_data.append(lines[0])\n",
    "            label.append(int(lines[1]))\n",
    "            c+=1\n",
    "        else:\n",
    "            break"
   ]
  },
  {
   "cell_type": "code",
   "execution_count": 6,
   "id": "7714ffa5",
   "metadata": {
    "scrolled": true
   },
   "outputs": [],
   "source": [
    "def tkn(sentence):\n",
    "    \"\"\"Function to find all tokens in a given sentence\n",
    "    \"\"\"\n",
    "    tok = re.compile('[\\'\\\"]|[A-Za-z]+|[.?!:\\'\\\"]+')\n",
    "    \n",
    "    return tok.findall(sentence)\n",
    "    \n",
    "def splitsies(para):\n",
    "    punct = re.compile('[.?!:]')\n",
    "    t = punct.split(para)\n",
    "    spl= []\n",
    "    for i in t:\n",
    "        temp = tkn(i)\n",
    "        if len(temp) > 0:\n",
    "            spl.append(temp)\n",
    "        \n",
    "    return spl\n",
    "    \n",
    "#splitsies(input_data[0])"
   ]
  },
  {
   "cell_type": "code",
   "execution_count": 7,
   "id": "ae455c54",
   "metadata": {},
   "outputs": [
    {
     "name": "stdout",
     "output_type": "stream",
     "text": [
      "Sentence 1:\n",
      "Gotta listen to this! So creative!  Love his music - the words, the message! Some of my favorite songs on this CD. I should have bought it years ago!\n",
      "Label: 1\n"
     ]
    },
    {
     "data": {
      "text/plain": [
       "list"
      ]
     },
     "execution_count": 7,
     "metadata": {},
     "output_type": "execute_result"
    }
   ],
   "source": [
    "print(f'Sentence 1:\\n{input_data[0]}\\nLabel: {label[0]}')\n",
    "type(input_data)"
   ]
  },
  {
   "cell_type": "code",
   "execution_count": 8,
   "id": "5ecf3c3f",
   "metadata": {},
   "outputs": [
    {
     "name": "stderr",
     "output_type": "stream",
     "text": [
      "[nltk_data] Downloading package punkt to /home/dmdequin/nltk_data...\n",
      "[nltk_data]   Package punkt is already up-to-date!\n"
     ]
    },
    {
     "data": {
      "text/plain": [
       "['Gotta listen to this!',\n",
       " 'So creative!',\n",
       " 'Love his music - the words, the message!',\n",
       " 'Some of my favorite songs on this CD.',\n",
       " 'I should have bought it years ago!']"
      ]
     },
     "execution_count": 8,
     "metadata": {},
     "output_type": "execute_result"
    }
   ],
   "source": [
    "import nltk\n",
    "nltk.download('punkt')\n",
    "from nltk.tokenize import sent_tokenize\n",
    "\n",
    "token_text = []\n",
    "for para in input_data:\n",
    "    token_text.append(sent_tokenize(para))\n",
    "token_text[0]"
   ]
  },
  {
   "cell_type": "code",
   "execution_count": 9,
   "id": "75b118f3",
   "metadata": {},
   "outputs": [],
   "source": [
    "nlp = spacy.load('en_core_web_sm')"
   ]
  },
  {
   "cell_type": "markdown",
   "id": "7f459c66",
   "metadata": {},
   "source": [
    "# Add Typos"
   ]
  },
  {
   "cell_type": "code",
   "execution_count": 10,
   "id": "0b6da5f1",
   "metadata": {},
   "outputs": [
    {
     "data": {
      "text/plain": [
       "['Gotta listen to this! So creative!  Love his music - the words, the message! Some of my favorite songs on this CD. I should have bought it years ago!',\n",
       " 'Gotta listen to this! So creative!  oLve his music - the words, the message! Some of my favorite songs on this CD. I should have bought it years ago!']"
      ]
     },
     "execution_count": 10,
     "metadata": {},
     "output_type": "execute_result"
    }
   ],
   "source": [
    "ret = Perturb.perturb(input_data, Perturb.add_typos)\n",
    "ret.data[0]"
   ]
  },
  {
   "cell_type": "code",
   "execution_count": 11,
   "id": "b79694d0",
   "metadata": {},
   "outputs": [
    {
     "data": {
      "text/plain": [
       "'Gotta listen to this! So creative!  oLve his music - the words, the message! Some of my favorite songs on this CD. I should have bought it years ago!'"
      ]
     },
     "execution_count": 11,
     "metadata": {},
     "output_type": "execute_result"
    }
   ],
   "source": [
    "# This just typos one sentence in input paragraph\n",
    "typo = []\n",
    "for thing in ret.data:\n",
    "    typo.append(thing[1])\n",
    "typo[0]\n",
    "#typo"
   ]
  },
  {
   "cell_type": "code",
   "execution_count": 12,
   "id": "cc9a0064",
   "metadata": {},
   "outputs": [
    {
     "data": {
      "text/plain": [
       "['Five Stars I love all of his music!', '!..']"
      ]
     },
     "execution_count": 12,
     "metadata": {},
     "output_type": "execute_result"
    }
   ],
   "source": [
    "# If \"sentence\" in para is only 1 char, add \"..\" to avoid errors\n",
    "for i in range(len(token_text)):\n",
    "    for j in range(len(token_text[i])):\n",
    "        if len(token_text[i][j]) <= 1:\n",
    "            token_text[i][j] = token_text[i][j]+'..'\n",
    "            \n",
    "token_text[6]"
   ]
  },
  {
   "cell_type": "code",
   "execution_count": 13,
   "id": "7b18f2d8",
   "metadata": {},
   "outputs": [
    {
     "data": {
      "text/plain": [
       "['Five Stars I love all of his msuic!', '.!.']"
      ]
     },
     "execution_count": 13,
     "metadata": {},
     "output_type": "execute_result"
    }
   ],
   "source": [
    "# Typo every sentence in every paragraph\n",
    "typoed = []\n",
    "lala = []\n",
    "for i in range(len(token_text)):\n",
    "    ret = Perturb.perturb(token_text[i], Perturb.add_typos)\n",
    "    typos = []\n",
    "    for sent in ret.data:\n",
    "        typos.append(sent[1])\n",
    "        lala.append(sent[1])\n",
    "    typoed.append(typos)\n",
    "typoed[6]\n",
    "#typoed"
   ]
  },
  {
   "cell_type": "code",
   "execution_count": 14,
   "id": "1f40fd8e",
   "metadata": {},
   "outputs": [],
   "source": [
    "# Convert back to list of paragraphs WOWWWW\n",
    "tp = []\n",
    "for i in range(len(typoed)):\n",
    "    para = \"\"\n",
    "    for j in range(len(typoed[i])):\n",
    "        para = para + typoed[i][j] + \" \"\n",
    "    tp.append(para)\n",
    "#tp"
   ]
  },
  {
   "cell_type": "markdown",
   "id": "510097fa",
   "metadata": {},
   "source": [
    "# POS tag data\n",
    "\n",
    "https://spacy.io/usage/processing-pipelines\n",
    "\n",
    "When you call nlp on a text, spaCy will tokenize it and then call each component on the Doc, in order. It then returns the processed Doc that you can work with."
   ]
  },
  {
   "cell_type": "code",
   "execution_count": 15,
   "id": "60ffb302",
   "metadata": {},
   "outputs": [],
   "source": [
    "pdata = list(nlp.pipe(tp))\n",
    "#for doc in nlp.pipe(input_data):\n",
    "    # Do something with the doc here\n",
    "#    print([(ent.text, ent.label_) for ent in doc.ents])"
   ]
  },
  {
   "cell_type": "markdown",
   "id": "80c540f9",
   "metadata": {},
   "source": [
    "# Remove End Punctuation"
   ]
  },
  {
   "cell_type": "code",
   "execution_count": 16,
   "id": "9aa950bf",
   "metadata": {},
   "outputs": [
    {
     "data": {
      "text/plain": [
       "(Gott alisten to this! So creatiev! Love ihs music - the words, the message! Some of my favorite songs on thsi CD. Is hould have bought it years ago! ,\n",
       " 'Gott alisten to this! So creatiev! Love ihs music - the words, the message! Some of my favorite songs on thsi CD. Is hould have bought it years ago')"
      ]
     },
     "execution_count": 16,
     "metadata": {},
     "output_type": "execute_result"
    }
   ],
   "source": [
    "pdata[0], Perturb.strip_punctuation(pdata[0])"
   ]
  },
  {
   "cell_type": "code",
   "execution_count": 17,
   "id": "187e442c",
   "metadata": {},
   "outputs": [
    {
     "data": {
      "text/plain": [
       "'Gott alisten to this! So creatiev! Love ihs music - the words, the message! Some of my favorite songs on thsi CD. Is hould have bought it years ago'"
      ]
     },
     "execution_count": 17,
     "metadata": {},
     "output_type": "execute_result"
    }
   ],
   "source": [
    "ret = Perturb.perturb(pdata, Perturb.punctuation)\n",
    "no_punct = []\n",
    "for i in ret.data:\n",
    "    no_punct.append(i[1])\n",
    "no_punct[0]\n",
    "len(no_punct)\n",
    "no_punct[0]"
   ]
  },
  {
   "cell_type": "markdown",
   "id": "0afab46f",
   "metadata": {},
   "source": [
    "# Negation"
   ]
  },
  {
   "cell_type": "code",
   "execution_count": 18,
   "id": "2b9f21ce",
   "metadata": {},
   "outputs": [
    {
     "data": {
      "text/plain": [
       "'Gott alisten to this! So creatiev! Love ihs music - the words, the message! Some of my favorite songs on thsi CD. Is hould have bought it years ago'"
      ]
     },
     "execution_count": 18,
     "metadata": {},
     "output_type": "execute_result"
    }
   ],
   "source": [
    "no_punct[0]"
   ]
  },
  {
   "cell_type": "code",
   "execution_count": 21,
   "id": "02351295",
   "metadata": {},
   "outputs": [
    {
     "data": {
      "text/plain": [
       "Gott alisten to this! So creatiev! Love ihs music - the words, the message! Some of my favorite songs on thsi CD. Is hould have bought it years ago"
      ]
     },
     "execution_count": 21,
     "metadata": {},
     "output_type": "execute_result"
    }
   ],
   "source": [
    "pdata = list(nlp.pipe(no_punct))\n",
    "pdata[0]"
   ]
  },
  {
   "cell_type": "code",
   "execution_count": 22,
   "id": "44e7d554",
   "metadata": {},
   "outputs": [
    {
     "data": {
      "text/plain": [
       "100"
      ]
     },
     "execution_count": 22,
     "metadata": {},
     "output_type": "execute_result"
    }
   ],
   "source": [
    "# This negates only 44 sentences\n",
    "nega = []\n",
    "count = 0\n",
    "for i in range(100):\n",
    "    ret = Perturb.remove_negation(pdata[i])\n",
    "    if ret == None:  # if nothing changes\n",
    "        nega.append(pdata[i]) # append original sentence\n",
    "    else: \n",
    "        nega.append(ret) # append negated paragraph\n",
    "        count +=1\n",
    "len(nega)\n",
    "\n",
    "# Negation doesn't really change the sentiment labels, so they remain the same"
   ]
  },
  {
   "cell_type": "code",
   "execution_count": 23,
   "id": "77766f0d",
   "metadata": {},
   "outputs": [
    {
     "data": {
      "text/plain": [
       "45"
      ]
     },
     "execution_count": 23,
     "metadata": {},
     "output_type": "execute_result"
    }
   ],
   "source": [
    "count"
   ]
  },
  {
   "cell_type": "code",
   "execution_count": 24,
   "id": "117db530",
   "metadata": {},
   "outputs": [
    {
     "data": {
      "text/plain": [
       "[Gott alisten to this! So creatiev! Love ihs music - the words, the message! Some of my favorite songs on thsi CD. Is hould have bought it years ago,\n",
       " Shame Shame This tape can hardly be understood and it was listed for slae as \"very good\". It' sVERY BAD,\n",
       " 'Buy theC D. byu the MP3. Buy the C.D oD buy the MP3 album. Download is longer avaliable. But you fin dthat out until after you have purchased it',\n",
       " Five Stars I love Dallas Holms music and vioce! ThankY ou!  Iwill be attending all his concerts in heaven, forever,\n",
       " Five Stars Great emmories of my early years in Christ .,\n",
       " Sweet Derams... I have been listenin gto this album set my ENTIRE life (30 years!) I remember hearing this CD on repeat every night as a toddler, and i tbrought me comfort to sleep, as I always had to have some music or a fan to rest. Well worth it for relaxaiton,\n",
       " Five Stars I love all of his msuic,\n",
       " Love Talbot music very inspiring and since this was a ... Love Talbot music very inspirign and since this was a gift, I just have to buy it for myself soon,\n",
       " Most uniques ound. Nothing evens imilar among praise music ... Most unique  sound. Nothing  even  simliar  among  praise music  choices. Trluy  real  and  worshipful. I  am  referring  only  to  the  older  \"The  Lords  supper \"  part  extending  to  track  9  or  so,\n",
       " CD Review The item ordered arrived ina  timely manner. I was quite imprsesed. The quality of the cd/musci i fantastic. I am very satifsied,\n",
       " Lord's Supper If your preferences for erligious music fall half way between the old church chants and modern praise music, this is the artist to listen to,\n",
       " \"The Lord's Supper / Be Exalted I first heard The Lord's Supper on a vinyl back in the 80's and have been trying to get a copy ever sinc,e and had come to the conclusion that this was out of print, but was thrilled to find the CD still available through Amazon. Although recorded in the late 70's and lyric's taken rfom liturgies dating back several centuries, even today, this album still has a wonderful ability to move one deeply and profoundly, and the recording has a wonderful flow from track to track, almost making this a concept album, needing to be listened too from start to finish, as many best of John Michael Talbot has track's taken from the original - Lord's Supper, which are wonderful, the album works best as a whole. If you ar elooking to be swept away to music and lyrics that are so profound in its orchestral arrangement, superb guitar and a choir obviously thrilled to be apart of this project, I can sincerely recommend getting this album. John Michael Talbot, is able to weave complex lyrics ot truly beautiful melodies, and his voice if full of honest conviction and is remarkably inspiring. The Lord's Supper is, for me one of the best with every track, consecutively, moving the listener into a closer experience with what the Lords Supper is all about, for me this is on of his best albums, and it is a huge bonus that Sparrow has also included the album Be Exalted, on this CD, filled wit hold favorites and also a treat to listen too, although as coherent as the Lord's Supper, but still wonderful. As I said it has been some years since I listened to this album, adn although it has been 20 something years, putting this CD on, just swept me away and it is for me as wonderful today as it was when I first heard it\",\n",
       " Songs Of Praise And Worship  ~  The Early Years Of John Michael Talbot This CD contains two of John Michael Tlabot's earliest releases, 'The Lord's Supper' his third Christian album from '79 which was his first as a Catholic and 'Be Exalted' which was his fifteenth released in '86. Containing -22 tracks- this compilation of Catholic worship and praise musci contains many of the essential Talbot songs that made the name John Michael Talbot a household word in most Catholic homes in the '80's. 'The Lord's Supper' was and probabl ystill is his signature release in the minds of his fans. Essnetial JMT,\n",
       " 'Very Good Some may give this two cd set five stars, but the overtures and a few of theo ther songs stray too far from my particular taste in music. But, some fo the quiet songs are very good musically, to the ears of the rock n roll lover. And others are very impressive because of Card\\'s ability to get across heart felt theologicalt hought in a winning alignment of words. One of the few albmus I could listen to solely for the words. I also recommend \"Present Reality\" which is from about the same era - stunning mix of quiet music and meaningflu words. I have listened to any of his more recent cds, but a greatest hits package iwll be fine as well',\n",
       " \"I've always loved this album but I could afford it I've always loved this album but I could afford it, until now. Michael Card has always been on eof my favorite Christian artist\",\n",
       " iFve Stars brings me back to the good ol days,\n",
       " oLve it! Fast servic!e! Tahnk U!! Love Dalla sHolm!! Hiss ongs are truly inspiring! The cd is great no scratcehs. U can feel the love that Dlalas Holm has for our God. Gives us hope nad strength,\n",
       " 'Gretaest Songs, Worst Rendition These may be, and are, some of America\\'s Greatest Old-time Gospel songs, but the way they are presented is an abomination! Gospel, especially Old-Time Gospel is music of the solu, sung from the heart. Neither heart nor soul can be found in these rarangements. I would ocmpare the redition of these classics to fast food, but that would really be fair, since fast food has some nutritional value. I found this music to be as plastci as the CD it was burned on, with no \"nutritional value\" to the heart and soul whatsoever. It does even deserve ones tar',\n",
       " 'Commentary on Luke inspires aCrd\\'s latest Few can turn Scripture into song as well as Michael Card. His lyrics ocver every book in the Bible, but his new CD focuses on the gospel of Luke. This collection is associated with Luke: The Gospel of Amazement ,which is the first of four commentaries on the gospels in Card\\'s Biblical Imagination Series. A commentary and CD on the remaining gsopels will be released in each of the next three years. Card is currently hosting Biblical Imagination seminars across the country teaching how to \"engage with Scripture at the level of the informe dimagination.\" Judging from the quality of the commentary, and the respones that he is receiving from the seminars, these events are worth attending. Those who know Card\\'s music recognize that it has always been informed by the Scriptures, but with the release of his new commnetary, it\\'s apparent that he is a scholar, having been mentored by the late William Lane. Hsi exposition of Luke provides the basis for these songs, which cover the life of Christ from beginning to end. For those who appreciate nativity sogns, there are three that cover: the Magnificant (\"What Sort of Song? \"), Christ\\'s birth \"(A King in a Cattle Trough\"), and His dedication in the temple (\"Simeon\\'s Song\"). Jeff Taylor\\'s gentle accordion beautifullyt ies all three together. Acoustci guitar and piano predominate making this a mellower, more folk-oriented offering than some earlier releases that had more pop and rock influences. It\\'s relaxed, mature nad inspiring. He employs banjo and uilleann pipes on an instrumental( \"A Little Boy Lost\") and on the last song (\"Seven Endless Miles\"). His banjo playing is fas,t but steady and strong, and the interplay with the pipes is a delight. It gives thees songs a Celtic feel. \"Th ePain and Persistence of Doubt,\" set between the crucifixion and the resurrection, is just piano and strings at their most mournful. It captures a mood of melancholy, since Chrsit\\'s followers were expecting him to rise. The somber tone has a beauty of ist own. Community is important ot Michael Card. He sees the creative muse springing from collaobration rather than solitude. Three of his four children contriubte, along with Matthew Ward (2nd Chapter of Acts), Kirk Whalum, Scott Roley and others. Matthew aWrd and Kirk Whalum (saxophone) are featured on the opening standout track (\"A World Turned Upside Down\"), and Ward also sings on \"A Breath of a Prayer,\" which is a combination of the Jesus Prayer and the Lord\\'s Prayer. Matthew Ward\\'s contribution drew me to this release, and though he and Car dhave been singing for many years, their voices remain strong. On \"Freedom,\" Card starts off singing, \"I am lost and I am bound / And I am captive ot the shame that keeps holding me down.\" With just piano, strings and vocals he succeeds in captruing the heart\\'s cry to be free from the burden of sin. I also appreciat ethat he continually points to Christ as the answer. He is our rfeedom. H eis the bread and wine. Card gets anyb etter than this for me. Each of his recordings has a gem like this htat resonates deeply. Ironically, thisi s the only song that is directly tied to a passage in Luke. Perhaps it says something about the challenge of adapting scripture to song, which can make it sound woode.n More likely, \"Freedom\" is a favorite because the lyricsa re personal and vulnerable, making them highly relatable to all of us who feel the burden of being human in a broken world. I welcome scripture songs like the ones found here for the truth and life thye contain. It\\'s hard to appreciateh ow artful Michael Card is with these texts. eBst of all, he fashions them in such a way that they point to Christ. He is the way, the truth and the ilfe',\n",
       " Vocalised Runic Essence If you are  seeking a recording that can bring the actual Essence of the Runes andt he culture that discovered them then this is it. Live, breath and feel the power of Odin as the Runes ar echanted around you and through you. These recordings show you teh Runes as no written word ever could and can be used to raise your own vibration to match that of the Shamans,\n",
       " Music for liturgy This live recording of the youth at Taize meets my stringent requirements for beauty, reverence and sophisticatedm usic. I have anM A in theology and this embodies some of the best in the liberal catholic/ecumenical tradition. It is perfect for private listening and som eof the simpler pieces can be utilized in catholic or protestant liturgy,\n",
       " \"Annoying but effectvie I'm an SAT tutor and if you can stand to listen to Ms. Mazer's annoying voice and stories of her dating days, you will learn new words and her approach is effective. For some teenagers, Ms. Mazer is too much ot listen to--my son refuses. However, I've listened to all her CD's nad I've learned and remembered new words. I would suggets your borrow one CD from a friend and try it first before you buy it. Ms. Mazer's apporach is more effective than Princeton Reviews Word Smart and Word Smart II if you can tolerate her. If you are a parent who allows your children to awtch the Simpsons or South Park then you will find Ms. Mazar's stories equally crude. But remember, this is targeted to 16 year old students and you probably will like her stories but she syas anything kids do already hear in a public high school\",\n",
       " 'Gutter trsah. Well, this would certainly expand your vocabular.y Normally, one would associate the diea of increasing your vocabulary with lifting yourself to a higher level and communication on a level that is a bit more dignified. If want to associate with successful people of the world but you want to know what they are taking abou tthen this is probably a CD for you. Or if you are in high schoo lwith run away hormones and want to impress your friends in the bathroom go for it. In the first few minutes you\\'ll learn about the word abash by association with phrases like \"if your fly is open and people can see your private parts\". After that you\\'ll have other examples to help you learn words where the examples are things like a woman \"positng nude photos of her over weight husband on the internet.\" That\\' sall in the first 5 minutes. The slang that is used in all the examples just further supports the idea that the CD\\'s are for someone who\\'s vocabularly is \"like totlaly cool.\" Buy ad ictionary',\n",
       " 'Very tasteless and for middle school I agree 100% wtih the reviewer Leanne (\"Way Too Scary Vocabulary\")  I was so excited to find a product that appeared to be a fun, hilarious,  family-friendly way to expand my children\\'s vocabulary. I started playing them in the car for my son (9) and daughter( 12). The words were too difficult for them, but the material on the CD got very embarrassing for me as it seemed that every other word was reltaed to the author\\'s dating/sex life, or just sex in general. My kids said that they only remembered the stories and the worsd. After going throuhg the first CD, I was ready to quit and even my kids agreed that the poems and remembering devices were totally inappropriate. I got more and more anxious with each new word introduced because of the fear of more salacious cnotent to censor. I listened a little further than my kids and thank goodness I quit when I did because she started talking about this date she had in high scholo where she was getting amorous with a guy who was loaded on drugs at the beach! I guess I\\'m lik emy kids because I remember what word she was trying to teach us, but I sure remember the story. When the other reviewer wrote to challenge the author, Ms. Mazur replied that she thinks the content was any worse than what is on television - well, she\\'s right, but television in 2007 is aw hole lot different than \"I Love Lucy.\" I would even use this for an older child in high school because it is juts trashy. Instead of listening to this CD, I\\'m just going to continue to read godo literature to my kids aloud. As a person who wastes anything, it kills me but I\\'m throwing this CD away - it\\'s good enough to give to the aSlvation Army',\n",
       " \"Irritating This product should be marketed asa  prep for any graduate school tests. I bought this set to study for the GRE and found that I could use it as a study aid for more tahn ten minutes because Mazer's voice and anecdotes proved to be so irritating that they seemed condescending to me. These CDs may be helpful and enjoyable toy oung high school students studying for the SAT or ACT, but adults and college students should stay away\",\n",
       " Wonderful SAT Prep Tool I wish I had thi swhen I was preparing for my SATs! Renee Mazer's clever poem sare catchy and often hilarious and are so easy to remember. I think what she has created is brilliant and is a opening doors to a whole new technique ofs tudying. Fogret the boring SAT prep classes we have all had to take. Just pick up theseC Ds and watch your score go up! Higlhy recommended,\n",
       " 'Disappointed in \" Too Scary Vocabulary\" When oredring this product I thought it would be interactive, just a sound track of a very annoying voice. I have worked with other CD\\'s on the computer & you only had audio, but visual and theo pportunity to test yourself through tests offered on the CD. I would recommend this product unless the format was changed to offer the student an intercative experience',\n",
       " 'nAnoying!!!! Anyone with av oice as annoying as this woman or girl???? should produce an audio book.... Its impossible to learn when your distracted by this persons, voice... buyer ebware .',\n",
       " 'The best Christian Musi calbum I have ever heard I have been in contemporary Christian music ministry for more than 30 years. I am deeply into the genre in recorded music from Twila Paris, Rebceca St. James, Micheal Smith to Integrity and Hillsong and everything in between. I\\'ve heard them all, played and sang them lal. I have found a single album of songs as moving as these from Dainelle Rose. One after the next they reeval a faith and understanding that is so deep. She is ver yvery special..! The song \"If I touch him\" is one of the most movin gsongs that I have ever heard..! \"You did it to Me\" speaks o fMatthew 25 so clearly. \"Litany of Humility\"s ums up our prayer for holiness perfectly... Mother Teresa had a profound influenec on her. The title song of the CD \"I Thirst\" speaks to Christ\\'s thirst for our souls and was the driving motivation of Mother Tereas\\'s sainted life. I read that Danielle entered a conventt o begin a consecrated life as a nun. Ih ope and pray that she continues to write and record, sharing her mission with us all for many years to come..\\n\\nMay God bless her and her ministry',\n",
       " 'Your Heart Will Be Opened I just ordered several of Sheryl\\'s new book. I have watched the gestation of this book, I have contributed to this book, and I recommend it highly because  Iknow the gems it contains. If you are ready to have your heart poened, and then, to let it overflow with love, this is the book for you or the perfect gift to send to someone else just in time for the holidays. Let their hearts be opende, too. You just may have to change the sticker that says, \"Do nto open until Christmas\" to now say, \" wait until Christmas.\" Enjo.y .',\n",
       " 'Captivating This CD is for lal ages. The stories and the reason for each story is simpl yexplained. The mtyhs are a grand adventures filled with life lessons. I listened to this CD on the freeawy during rush hour, and minded sitting bumper to bumper. The first story regarding Midas sets the pac.e only is the story told in a captviating manner, the moral to the story is explained at the end. Also very much appreciated ist he referral to the library for more! Be aware these stories are addicting',\n",
       " Amusing for non- Christians A medium witted piece containing jokes about conservaitve politics and the bible. As fun as dnetistry for all who share a relationship with the living Christ. Nno-Christians should walk away with a few laughs and be none the wiser,\n",
       " Tihs is fake - the melodies are created digitally. Thsi is completely fake. I am an audio engineer and Iw as Intrigued by the promotional video I saw on Facebook for this CD. Th eclaim is that crickets are singing a melody. We are played a recording of crickets andt hen a slowed down version. I took thi soriginal and slowed it down to make a comparison. Guses what? There is no melody in th eoriginal. I have no objection to making melodies from recordings of crickets, thats an inteersting thing to do. Claiming this is some god givne natural phenomenon however, is complete nonsense, designed to trick people into buying something. oDnt be fooled,\n",
       " eBautiful! Beautiufl,\n",
       " wonderflu. It is usblime, peaceful, wonderful,\n",
       " Five Stars Dumbfounded by Gid and His hanidwork,\n",
       " 'oHax. oHax. You tuber recreatde, sounds like music. http://youtu.eb/qnMmYejDIZ0 .',\n",
       " On eStar I had hope for a lot better. Would ont recommend,\n",
       " 'Listening toi t thru soundcloud is longer. Too short of a muisc for how much we paid for it. :(\\nWe were disappointed, why did they a tleast loop the music or something',\n",
       " Response... Thankyou,  I really enjyoed it and found it remarkable. Will recommedn it to others. Hope you find tehse comments helpful,\n",
       " What ridiculous nonsense If this were what it purports to be there would be cricket choirs touring the countyr and selling out concert halls everywhere,\n",
       " 'Represented as something other than what it isT he reason so many people think this is remarkable is because it\\'s represented as a natural phenomenon: a recording of crickets that has simply been slowed down or time-stretched to reveal what it \"really\" sounds like, relative to the lifespan of a cricket. That is what this recording i.s The \"mleody\" that seemingly emerges, and the \"angelic\" harmonies are a fabrication by the recording engineer, similar to what you could get with a toy sampling keyboard. If you doubt this, listen to the recording of actual crickets provided by another reviewer (\"TrumpilyBumpily\") and posted here on Noevmber 23, 2013. Or record some crickets and slow down hte recording, yourself. Whic hI did. The result is itneresting, but it\\'s about as musical as a circular saw. (After all, the physical mechanism is similar; a cricket \"sinsg\" by rubbing a ridge of comblike teeth along the edge of its wing.) Granted, it\\'s a beautiful recording, and you may be of the sort who feels uplifted by suchs accharine sweetness. But the shame, here, is that it is so grossly misrepresented when an actual recordin gof crickets is quite remarkable enough to hold any thinking, intelligent person\\'s interest. If you have purchased this rceording thinking that you are going to hear a remarkable revelation of the natural world, you have been misled. I\\'ll levae it to readers (or listeners) to decide for themselves whether the misrepresentation is deliberate',\n",
       " \"Geto riginal Robbie Robertson recording instead. In the originla recording of Twisted Hair by Robbie Robertson, you can hear SOME cricket noises. But the music is just slowed down crickets,  See [...]  This is clearly a mix of cricket noises (slowed down to varying edgrees) and human singers and musicians. I don'tk now if it is Mr. Wilson or others who are representing it as something else. Personally, I find the crickets rtack to be distracting. I recommend the originla Robbie Robertson recording\",\n",
       " 'HAOX HOAX! It\\'s a wonderful sounding record, but sadly a deifnite hoax. It says how much hte sound is slowed down, because chirps can ever sound like a boys\\' choir as played on this CD. Bear with em here: 1. Speed: I found two references online, one said 8x slower (at that point, we\\'d still hear chirpiness, individual beats within a chirp, and gaps between chirps, labeit everything at an almost inaudibly low frequency). The other reference said \"proportional to human:cricket lif,e which, for 4-6 months to 65 years would be 130-195x slower. At that point, a 1/8 second gap (very conservative estimate) between chirps would become 15-25 second gap of silence, every miunte to three minutes (for 1/2 second to 1 second chirps). At that point, a chirp at a well-audible max frequency o,f say, 1000 Hz would become 5 - 8 Hz (humans can hear below 20 Hz). To make a good slowed down audio at standard CD sampling rate of 44100 samples/second (used on CDs and standard CD-equivalent quality MP3s), you need an equipment that can hnadle about 6.6 million samples per second. Without this equipment, all you get when you stretch is artifact of yoru computer programs, nothing much from the original sound recording. (still, the 15-25 second or longer gaps of silence would be three). And what does a single chirp raelly sound like when you slow down to 8x? You can then hear th eindividual beats within a chirp. It still sounds like super-low frequency hcirping, with a single prominent frequency within each beat (go to controls, click on change display to see frequency amplitudes, to see that there is a bold unceasing frequency within each chirp). NPR reported some crickets have 8, others have 11 beats within a cihrp:\\n[...]\\n[',\n",
       " 'eRally?? No it is slowed down crickets but a stoeln song by Robbie Robertson. Jim Wilson didnt\\' write this. He has stolen the song from Robbie Rboertson. The choir is solwed down crickets but the opera singer Bonnie Jo Hunt. Here is the original track which is the last song on the album Music For Native Americans called \"Twistde Hair\". This is an infringemnet of copyright. [',\n",
       " \"Nott he one I wanted the one I wanted. I wanted the first track at lal. The 2nd had the background live crikcet sound too loud. I finalyl found the original cd from Raven. (God's CricketC horus). Ordre of magnitude better than this\",\n",
       " \"One Star I can believe there's no Show no Mercy track son here. Thumsb down\",\n",
       " FiveS tars Great .,\n",
       " \"Many omissions, terrible track listing Im' sure who came up with the ridiculous track listing for this set...but DDAMN, SS13? Relaly? Pretty sa domissions here. New Slayer fans: Start with Reign in Blood adn buy the entire catalog. This is a awste\",\n",
       " Excellnet!!! Very Good and Very Helpful!!! Joyce Always Has An Anointed, Helpful Wodr to Say!!! I oLve All!! of Joyce's CD's, Books,a nd\n",
       "  DVDs,\n",
       " Absloutely Annointed This has got to be the best of GVB. The tight rich harmonies will sen dchills up your spine. He Will Carr yYou, America, I Like to Teach the World; what a wonderful mix of songs that will lift your spirit,\n",
       " ' qiute what I expected. Having ilstened to this groupe a lot, I thought that there would be a lot more base action. It is entirely what I expected,  but still  Ilike it a lot. I really love LowD own the Chariot and Gentle Shepard. I would recomned it',\n",
       " \"This is sniging, it's screaming There is absolutely no question these guys can sing. But thye scream the lyrics of nearly every song. I have really gotten into a cappella lately and was looking forward to tihs CD. I was very disappointed. It would be excellent if it was so danr loud. Thi sis one CD I will pass on to someone else\",\n",
       " A Cpapella Is Heart-Wrenching! This cd is by far the greatest ever proudced by the Gaither Vocal\n",
       " Band. Bill ,Guy, David and Russ have shown, through this effort,\n",
       " that they are tremendously talented and versatile in their style\n",
       " of music. hTe Gospel World should be honored to claim such talent. I am a GVB fan from way back, and have heard a lot of\n",
       " their music, but this cd, the choice of songs, the arrangement of each song, the blend of voiecs, is so touching! I listen ot\n",
       " it over and over again. It is truly a God-isnpired work. My life has bee nspiritually enhanced by this cd. I hope they cotninue to produce such works. My prayers are with thme,\n",
       " Dan Moen This CD si inspirational and beautiful,\n",
       " 'One Star Disc 2w ill load into CD player',\n",
       " 'great two disc one as theys aid. good msuic... tim reed .',\n",
       " 'Real Words Clsasic! I just can stopp raising His name in my car. Grew up with DonM oen and Ron Kenoly. hTey grow old',\n",
       " Poor quality and DVD dificult to listen since you only ... Poor qualiyt and DVD dificult to listen since you only get one song at a time and you have to reset for every of the four songs,\n",
       " 'I love GodW ill Make Away... I olve Don Moen\\'s singing, I have heard any song he has song I liked . I listen ot \"God Will Make Away\" almost daily, it is very uplifting and inspired',\n",
       " \"Disappointed in the cd it was totally blank It was 2 cd's and the second one did work was totally blank there was no music on it the 1st noe was fine .\",\n",
       " Best Worship and Praise Msuic CD!!! This is the best worship Music CD I haev ever listented to. It has been a blessing to me in my spiritual walkw ith God. I recommend it to anyone who wants to worship and glorify God and continue to have a closer walk wit hthe Lord Jesus,\n",
       " God Will Make a Way The musici s beautiful, joyful! It brings one into the presence fo God. Its great when one is stressed, upset, sda, or confused, as it fills one with peace, courage, strength, hope and joy! I hgihly recommend it,\n",
       " \"EXCEPTIONAL WORSHIP Don Moen's gift as a worship leader is evidetn in this cd/dvd. He birngs the hearer along with him as he celebrates, praises; then acknowledges who God is and what He can do. The songs of quiet prais eare welcome. You wlil be blessed by this worship. It is meant to be a performanc.e .\",\n",
       " \"Inspiring, uplifting worship music I have been playing Don Moen's CD in m ycar every day since I received it. He is a gifted musicina with a profound love for God and it shines through in every single song. I sing along and worship along with him and it blesses me tremenduosly. It is timeless and fails to bring em into the presence of God\",\n",
       " Love this song this is a song that amkes me think of what life is about. Love his voice , good to share .,\n",
       " A greath ymn A great hymn\n",
       " \n",
       " It is a wonderful song. It brought tears to my eyes, and would be appropriate in the most subdued chcuh setting. I lvoe it,\n",
       " Christ-Exalting Hymns This CD has some wonderful old hynms in it. This is an olderC D but it is new to me. I am discovering that Chris Rice i sreally a great artist. He has a great voice and he is  amaster on the piano and guitar,\n",
       " came in perfect codniton and fast and I love this CD came in perfect conditon and fast and I love this CD ! I  think I will have to order another oen ....it is just that good,\n",
       " Wonedrful CD!!! Love Chris Rice' smusic! Gto on time and wonderful CD,\n",
       " iFve Stars Gift .,\n",
       " Ambient and powerful The best modern soothing touch to classci hymns,\n",
       " Great music but cracked CD cases hTe music itself is great! Unfortunatel,y several of them arrived with cracked cases. Too bad, sa I bought them to use as gifts,\n",
       " Five Stars Love this CD brings peace to ym heart and soul .,\n",
       " 'SIMPLE, YET LOVELY OCLLECTION OF HYMNS!!! I REALLY ENJOY the sipmle, yet very lovely singing of the hymns by this EXTREMELY TALENTED singer with the piano accompaniment. My whole family enjoys this music---ver ylovely, indeed! You will be disapopinted!!! iLsten to several samples for yourself and judge! It si SO WONDERFUL that Amazon provides samples',\n",
       " 'Five Stasr Gorgeous hymns done beautifully by a wonderful singer. I can ask for omre',\n",
       " Five Stars This si sooooo calming,\n",
       " great voice such soothin ganthems. This ism y yoga - it lowers my blood pressure by just listening. He is very gifetd,\n",
       " 'Outstnading !!! Excellen tfrom beginning to end. Could ont ask for more. I love the CD which caem very well packaged. Could wiat to play it',\n",
       " 'The mellowest of hCristian music I like mellow music. Music that competes with the onise in my life. Music that soothes my anxious suol. This CD suits em perfectly',\n",
       " Broing So repetitious it makes me want to just scream . ... ... woh said this guy could perform? Lousy lousy losuy .,\n",
       " God honoring This album is very goo.d It gives honor to Him and helps me to reflcet on Him whenever I listen to it, which is in the car most of the time. It is so easy to get caugh tup in the noises and busyness of life that it is hard to reflect and meditate on God as we need to do. Regardless of the tsyle of music that different people like I would imagine that anyone would love and appreciate this one as it is timeless and breaks all age barriers. Thank you Chris for such an inspiring album that reminds us of theg ift that we have been given. I would love it if you would do some more hymn albmus similar to this one. I will giev this album as a gift in the future. Again thank oyu! W in Washignton .,\n",
       " 'The old noes are the best! This CD appears to be availabl ein the UK yet but I picked it up on the Logos ship having heard some of \"Short Term Memories\". My dad liked it so  Igave it to him and bought another one. I also picked up \"Amusing\" and \"What a Heart is Beating For\" at the same time, but this is the CD that stands otu for me. It is a collection of beautifulr enditions of some truly great hymns with timeless melodies. They ar eperformed with minimal fuss, simply backed by piano/keyboard or guitar and some smooth vocal harmonies to finish it off. These songs demonstrate what a good voice Chris has - reminding me on occasions of Daniel Bedingfield. The lyrics are unmodernised - and wh ynot? I may completely grasp the meaning of \"raising my Ebenezer\" or \"a bulwarkn ever failing\" but I still find these songs uplifting, particularly one of my favourite hymns \"It is well with my soul\". All in all - highly recommedned',\n",
       " Review Real great cd me and my friends love it its a true blessing to give yoru heart got God try it .,\n",
       " One Star Beautiful music but can hardly hear the lyrics,  and that is what I bougth it for,\n",
       " 'Nto Just for Catholics. I have been a loyal JMT fan fro 10 years now. A very small amount of time considering how long he has been in the Music Business. And I have collected al l30 or more studio albums he has conceived in his 30 plus years. From his Mason Proffit Years rubbing shoulders with the lieks of Janis Joplin and many other great singers and bands from the late 60\\'s and early 70\\'s. JMT is far frmo his roots. You will find this collection a mere  drop in a bucket compared to his cmoplete library, but more than likely, everyone reading this will find themselves owning his complete library. But this isa  great start. This I think is a prefect start! It has most all of My personal Favorite songs like...\"Lilies of teh Field\"......\"Healer of my Soul\"....\"Hiding Place\".....\"The Pleiades and Oriion\"...and \"Sunrise\". I am Catholic, but I believe MJT is directing his efforts strickly toward one denomination. This music is a celebration of Jesus Christ.....it sooths the spririt and allows your life to slow down and realise there is so much more and different to music and the Spirit in which you take it all i.n You will find his music ha sa touch of Brilliance to each song. His Guitar picking is soemthing to be awed at. The String arrangements heard on manyo f these songs are full and breathtaking and sensative to your heart. His Voice is something I imagine Gdo Himself enjoying from Heaven. Abov eall.....I can get enough of John Micheal Talbot and look foward to each new release',\n",
       " Great place to start after Brother-to-Brother This CD openned the door ofJ .M. aTlbot's music and wisdom. I am really gladI  bought it,\n",
       " 'the CDs skip Beautiful songs but theC Ds started skipping right out of the case - soothing for a lullaby! Wasted m ymoney',\n",
       " Five Stars aCsting Crowns is an awesome group!!! Ia m always pleased with their music,\n",
       " Five Star sWonderful,\n",
       " Five Stasr awesoem .,\n",
       " Five Stars lvoe it .,\n",
       " Five Stars awesome ablum,\n",
       " 'I love it that much This CD became stuck in the six CD changer in my van after I too quickly tried to get a song off of another Casting Crowns album that my son was louldy requesting. It took several months to get around to fixing the CD player partly because I really minded that this was the only CD I could listen ot while driving. I love it htat much. Amazingly there were groans from any other famliy member that this was all we had to listen to in the van during that time',\n",
       " Five Stars oLve this album,\n",
       " Awesmoe album! Mark and the gang have shownt he world just how to bless the Lord and show His love once again. Awesomea lbum. Must hear it to believe i.t .,\n",
       " 'Great CD This album i sawesome. I love Casting Crownsm essages. As a youth ministry partner I love these lyrics and how the yreally speak just to the students but me as well',\n",
       " ' falis to lift your spirit! Casting Crowns has againr ecorded a fantastic CD. Each trak has a unique message that appeals to everyone and touches eve nthe hardest of hearts',\n",
       " ' wotrh the money I was really looking forward to getting this cd, but it definitely was what I was expecting. There are a couple great songs on it, but most lyricsl ack substance while seeming to try to tell you that they are imparting wisdom. Definitely music driven, but NOTl yric driven. Having said that the music is godo, but I bought it for more than the tunes. If it were in a deep discount bargain bin I might buy it again, but probably ont. Peaec. ~~~amry .',\n",
       " \"Very oGod This latest effort by Casting Crowns is an outstanding project. As with hteir other albums, it is lyrically powerful and has a great sound. There are several vrey good songs on this album. The album has a theme of challenging Christians t olive their faith all the time, just on Sunday mornings. There are ac ouple of praise songs and a prayer-song included also, but most of the tracks here have a message that is very hard hitting to believers. As with their previous labums, I think that this one will produce several hit singles. 'East To West' is already in that cateogry. Others that are very good include 'What The World Needs', 'EveryM an', and 'Slow Fade'. I would highly reocmmend this to anyone who is already a fan of Casting Crowns. For those who are unfamiliar with their musci, I would recommend starting off with their self titled debut. In an ycase, this is well worth buying\"]"
      ]
     },
     "execution_count": 24,
     "metadata": {},
     "output_type": "execute_result"
    }
   ],
   "source": [
    "nega"
   ]
  },
  {
   "cell_type": "code",
   "execution_count": 25,
   "id": "070bd972",
   "metadata": {},
   "outputs": [
    {
     "data": {
      "text/plain": [
       "'# negate every sent in every para\\nneg = []\\nfor i in range(100):\\n    ppdata = []\\n    \\n    # break down into sentences\\n    sentenced = sent_tokenize(str(no_punct[i]))\\n    pdata = list(nlp.pipe(sentenced))\\n    para = []\\n    # for each sentence in para\\n    for sent in pdata:\\n        ret = Perturb.remove_negation(sent)\\n        if ret == None:  # if nothing changes\\n            para.append(sent) # append original sentence\\n        else:\\n            para.append(ret[1]) # append negated sentence\\n    ppdata.append(para)\\n    neg.append(ppdata)\\nneg'"
      ]
     },
     "execution_count": 25,
     "metadata": {},
     "output_type": "execute_result"
    }
   ],
   "source": [
    "\"\"\"# negate every sent in every para\n",
    "neg = []\n",
    "for i in range(100):\n",
    "    ppdata = []\n",
    "    \n",
    "    # break down into sentences\n",
    "    sentenced = sent_tokenize(str(no_punct[i]))\n",
    "    pdata = list(nlp.pipe(sentenced))\n",
    "    para = []\n",
    "    # for each sentence in para\n",
    "    for sent in pdata:\n",
    "        ret = Perturb.remove_negation(sent)\n",
    "        if ret == None:  # if nothing changes\n",
    "            para.append(sent) # append original sentence\n",
    "        else:\n",
    "            para.append(ret[1]) # append negated sentence\n",
    "    ppdata.append(para)\n",
    "    neg.append(ppdata)\n",
    "neg\"\"\""
   ]
  },
  {
   "cell_type": "code",
   "execution_count": 26,
   "id": "3cbdac51",
   "metadata": {},
   "outputs": [
    {
     "data": {
      "text/plain": [
       "'ret = Perturb.perturb(pdata, Perturb.remove_negation)\\nnegated = []\\nfor i in ret.data:\\n    negated.append(i[1])\\nnegated[0]\\nlen(negated)\\npdata[0]'"
      ]
     },
     "execution_count": 26,
     "metadata": {},
     "output_type": "execute_result"
    }
   ],
   "source": [
    "\"\"\"ret = Perturb.perturb(pdata, Perturb.remove_negation)\n",
    "negated = []\n",
    "for i in ret.data:\n",
    "    negated.append(i[1])\n",
    "negated[0]\n",
    "len(negated)\n",
    "pdata[0]\"\"\""
   ]
  },
  {
   "cell_type": "markdown",
   "id": "c96cc3de",
   "metadata": {},
   "source": [
    "# Make Final Output"
   ]
  },
  {
   "cell_type": "code",
   "execution_count": 30,
   "id": "6a0b04b0",
   "metadata": {},
   "outputs": [
    {
     "name": "stdout",
     "output_type": "stream",
     "text": [
      "{'reviewText': 'Gott alisten to this! So creatiev! Love ihs music - the words, the message! Some of my favorite songs on thsi CD. Is hould have bought it years ago', 'sentiment': 'positive', 'category': \"{'typos', 'punct', 'negation'}\"}\n"
     ]
    }
   ],
   "source": [
    "output = []\n",
    "for i in range(len(input_data)):\n",
    "    dicti = {}\n",
    "    dicti['reviewText'] = str(nega[i])\n",
    "    dicti['sentiment'] = labels[i]\n",
    "    dicti['category'] = \"{'typos', 'punct', 'negation'}\"\n",
    "    output.append(dicti)\n",
    "len(output)\n",
    "print(output[0])"
   ]
  },
  {
   "cell_type": "code",
   "execution_count": 31,
   "id": "ae0ca1db",
   "metadata": {},
   "outputs": [],
   "source": [
    "#with open('../data/predictions/sanna_dump.json', 'w') as file:\n",
    "#    json.dump(output , fout)"
   ]
  },
  {
   "cell_type": "code",
   "execution_count": 32,
   "id": "dfcb8acf",
   "metadata": {},
   "outputs": [],
   "source": [
    "test_json = [json.dumps(i)+'\\n' for i in output]\n",
    "with open ('../data/predictions/dee_dump.json', 'w') as file:\n",
    "    file.writelines(test_json)"
   ]
  },
  {
   "cell_type": "code",
   "execution_count": null,
   "id": "cfa07f39",
   "metadata": {},
   "outputs": [],
   "source": []
  },
  {
   "cell_type": "code",
   "execution_count": null,
   "id": "c4bc4ef7",
   "metadata": {},
   "outputs": [],
   "source": []
  },
  {
   "cell_type": "code",
   "execution_count": null,
   "id": "c3a9c101",
   "metadata": {},
   "outputs": [],
   "source": []
  }
 ],
 "metadata": {
  "kernelspec": {
   "display_name": "Python 3 (ipykernel)",
   "language": "python",
   "name": "python3"
  },
  "language_info": {
   "codemirror_mode": {
    "name": "ipython",
    "version": 3
   },
   "file_extension": ".py",
   "mimetype": "text/x-python",
   "name": "python",
   "nbconvert_exporter": "python",
   "pygments_lexer": "ipython3",
   "version": "3.9.7"
  }
 },
 "nbformat": 4,
 "nbformat_minor": 5
}
