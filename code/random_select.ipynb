{
 "cells": [
  {
   "cell_type": "markdown",
   "id": "8339cd7e",
   "metadata": {},
   "source": [
    "# Imports"
   ]
  },
  {
   "cell_type": "code",
   "execution_count": 1,
   "id": "662d3b37",
   "metadata": {},
   "outputs": [],
   "source": [
    "import pandas as pd"
   ]
  },
  {
   "cell_type": "markdown",
   "id": "69061397",
   "metadata": {},
   "source": [
    "# Constants"
   ]
  },
  {
   "cell_type": "code",
   "execution_count": 2,
   "id": "252b9891",
   "metadata": {},
   "outputs": [],
   "source": [
    "FILE_1 = 'games_train'  \n",
    "FILE_2 = 'sew_train'"
   ]
  },
  {
   "cell_type": "markdown",
   "id": "806fadb3",
   "metadata": {},
   "source": [
    "# Read in Games Training Set"
   ]
  },
  {
   "cell_type": "code",
   "execution_count": 3,
   "id": "ddee601e",
   "metadata": {},
   "outputs": [
    {
     "data": {
      "text/html": [
       "<div>\n",
       "<style scoped>\n",
       "    .dataframe tbody tr th:only-of-type {\n",
       "        vertical-align: middle;\n",
       "    }\n",
       "\n",
       "    .dataframe tbody tr th {\n",
       "        vertical-align: top;\n",
       "    }\n",
       "\n",
       "    .dataframe thead th {\n",
       "        text-align: right;\n",
       "    }\n",
       "</style>\n",
       "<table border=\"1\" class=\"dataframe\">\n",
       "  <thead>\n",
       "    <tr style=\"text-align: right;\">\n",
       "      <th></th>\n",
       "      <th>text</th>\n",
       "      <th>label</th>\n",
       "    </tr>\n",
       "  </thead>\n",
       "  <tbody>\n",
       "    <tr>\n",
       "      <th>0</th>\n",
       "      <td>Five Stars Great Game</td>\n",
       "      <td>1</td>\n",
       "    </tr>\n",
       "    <tr>\n",
       "      <th>1</th>\n",
       "      <td>Five Stars Great conditions!!</td>\n",
       "      <td>1</td>\n",
       "    </tr>\n",
       "  </tbody>\n",
       "</table>\n",
       "</div>"
      ],
      "text/plain": [
       "                            text label\n",
       "0          Five Stars Great Game     1\n",
       "1  Five Stars Great conditions!!     1"
      ]
     },
     "execution_count": 3,
     "metadata": {},
     "output_type": "execute_result"
    }
   ],
   "source": [
    "game_train = pd.read_csv('../data/interim/'+FILE_1+'.csv', dtype='string', header=None)\n",
    "game_train.columns = ['text', 'label']\n",
    "game_train.head(2)\n",
    "#game_train['label'].astype(str)"
   ]
  },
  {
   "cell_type": "markdown",
   "id": "561c5df0",
   "metadata": {},
   "source": [
    "# Take a random sample"
   ]
  },
  {
   "cell_type": "markdown",
   "id": "36679055",
   "metadata": {},
   "source": [
    "## balanced"
   ]
  },
  {
   "cell_type": "code",
   "execution_count": 4,
   "id": "a61d97bc",
   "metadata": {},
   "outputs": [],
   "source": [
    "# Random Even Shuffled\n",
    "g_re_00010 = game_train.groupby('label').apply(lambda x: x.sample(n=5, random_state=42)).sample(frac=1)\n",
    "g_re_00100 = game_train.groupby('label').apply(lambda x: x.sample(n=50, random_state=42)).sample(frac=1)\n",
    "g_re_01000 = game_train.groupby('label').apply(lambda x: x.sample(n=500, random_state=42)).sample(frac=1)\n",
    "g_re_10000 = game_train.groupby('label').apply(lambda x: x.sample(n=5000, random_state=42)).sample(frac=1)"
   ]
  },
  {
   "cell_type": "code",
   "execution_count": 5,
   "id": "e4c5858f",
   "metadata": {},
   "outputs": [
    {
     "data": {
      "text/html": [
       "<div>\n",
       "<style scoped>\n",
       "    .dataframe tbody tr th:only-of-type {\n",
       "        vertical-align: middle;\n",
       "    }\n",
       "\n",
       "    .dataframe tbody tr th {\n",
       "        vertical-align: top;\n",
       "    }\n",
       "\n",
       "    .dataframe thead th {\n",
       "        text-align: right;\n",
       "    }\n",
       "</style>\n",
       "<table border=\"1\" class=\"dataframe\">\n",
       "  <thead>\n",
       "    <tr style=\"text-align: right;\">\n",
       "      <th></th>\n",
       "      <th></th>\n",
       "      <th>text</th>\n",
       "      <th>label</th>\n",
       "    </tr>\n",
       "    <tr>\n",
       "      <th>label</th>\n",
       "      <th></th>\n",
       "      <th></th>\n",
       "      <th></th>\n",
       "    </tr>\n",
       "  </thead>\n",
       "  <tbody>\n",
       "    <tr>\n",
       "      <th rowspan=\"2\" valign=\"top\">0</th>\n",
       "      <th>276170</th>\n",
       "      <td>Wanted to like it..... I wanted so badly to li...</td>\n",
       "      <td>0</td>\n",
       "    </tr>\n",
       "    <tr>\n",
       "      <th>78051</th>\n",
       "      <td>Marvel to the Rescue? I'm not big on comic boo...</td>\n",
       "      <td>0</td>\n",
       "    </tr>\n",
       "    <tr>\n",
       "      <th rowspan=\"2\" valign=\"top\">1</th>\n",
       "      <th>159528</th>\n",
       "      <td>You know what your getting. Good fun and some ...</td>\n",
       "      <td>1</td>\n",
       "    </tr>\n",
       "    <tr>\n",
       "      <th>336851</th>\n",
       "      <td>Graphically superior, but lacks support from W...</td>\n",
       "      <td>1</td>\n",
       "    </tr>\n",
       "    <tr>\n",
       "      <th rowspan=\"3\" valign=\"top\">0</th>\n",
       "      <th>112412</th>\n",
       "      <td>Don't buy it. I cannot believe how worse this ...</td>\n",
       "      <td>0</td>\n",
       "    </tr>\n",
       "    <tr>\n",
       "      <th>316664</th>\n",
       "      <td>is impossible to create a good looking player ...</td>\n",
       "      <td>0</td>\n",
       "    </tr>\n",
       "    <tr>\n",
       "      <th>199704</th>\n",
       "      <td>The last Super Nintendo game This is a very un...</td>\n",
       "      <td>0</td>\n",
       "    </tr>\n",
       "    <tr>\n",
       "      <th rowspan=\"3\" valign=\"top\">1</th>\n",
       "      <th>161222</th>\n",
       "      <td>Sad to see so many down grades on PS3, but it ...</td>\n",
       "      <td>1</td>\n",
       "    </tr>\n",
       "    <tr>\n",
       "      <th>178221</th>\n",
       "      <td>disappointed in the fan response I am quite di...</td>\n",
       "      <td>1</td>\n",
       "    </tr>\n",
       "    <tr>\n",
       "      <th>165715</th>\n",
       "      <td>Five Stars Nice and VERY long so the husband c...</td>\n",
       "      <td>1</td>\n",
       "    </tr>\n",
       "  </tbody>\n",
       "</table>\n",
       "</div>"
      ],
      "text/plain": [
       "                                                           text label\n",
       "label                                                                \n",
       "0     276170  Wanted to like it..... I wanted so badly to li...     0\n",
       "      78051   Marvel to the Rescue? I'm not big on comic boo...     0\n",
       "1     159528  You know what your getting. Good fun and some ...     1\n",
       "      336851  Graphically superior, but lacks support from W...     1\n",
       "0     112412  Don't buy it. I cannot believe how worse this ...     0\n",
       "      316664  is impossible to create a good looking player ...     0\n",
       "      199704  The last Super Nintendo game This is a very un...     0\n",
       "1     161222  Sad to see so many down grades on PS3, but it ...     1\n",
       "      178221  disappointed in the fan response I am quite di...     1\n",
       "      165715  Five Stars Nice and VERY long so the husband c...     1"
      ]
     },
     "execution_count": 5,
     "metadata": {},
     "output_type": "execute_result"
    }
   ],
   "source": [
    "g_re_00010"
   ]
  },
  {
   "cell_type": "markdown",
   "id": "7f48819a",
   "metadata": {},
   "source": [
    "## unbalanced"
   ]
  },
  {
   "cell_type": "code",
   "execution_count": 6,
   "id": "2d2fc2ce",
   "metadata": {},
   "outputs": [],
   "source": [
    "# Random\n",
    "g_ra_00010 = game_train.sample(n=10, random_state=42).reset_index(drop=True)\n",
    "g_ra_00100 = game_train.sample(n=100, random_state=42).reset_index(drop=True)\n",
    "g_ra_01000 = game_train.sample(n=1000, random_state=42).reset_index(drop=True)\n",
    "g_ra_10000 = game_train.sample(n=10000, random_state=42).reset_index(drop=True)"
   ]
  },
  {
   "cell_type": "code",
   "execution_count": 7,
   "id": "c89d3fb2",
   "metadata": {},
   "outputs": [
    {
     "data": {
      "text/html": [
       "<div>\n",
       "<style scoped>\n",
       "    .dataframe tbody tr th:only-of-type {\n",
       "        vertical-align: middle;\n",
       "    }\n",
       "\n",
       "    .dataframe tbody tr th {\n",
       "        vertical-align: top;\n",
       "    }\n",
       "\n",
       "    .dataframe thead th {\n",
       "        text-align: right;\n",
       "    }\n",
       "</style>\n",
       "<table border=\"1\" class=\"dataframe\">\n",
       "  <thead>\n",
       "    <tr style=\"text-align: right;\">\n",
       "      <th></th>\n",
       "      <th>text</th>\n",
       "      <th>label</th>\n",
       "    </tr>\n",
       "  </thead>\n",
       "  <tbody>\n",
       "    <tr>\n",
       "      <th>0</th>\n",
       "      <td>Great game Pretty fun, however i'm more a GoW ...</td>\n",
       "      <td>1</td>\n",
       "    </tr>\n",
       "    <tr>\n",
       "      <th>1</th>\n",
       "      <td>Five Stars A great disc, you can keep using it...</td>\n",
       "      <td>1</td>\n",
       "    </tr>\n",
       "    <tr>\n",
       "      <th>2</th>\n",
       "      <td>Five Stars Game is in great condition thanks.</td>\n",
       "      <td>1</td>\n",
       "    </tr>\n",
       "    <tr>\n",
       "      <th>3</th>\n",
       "      <td>Five Stars perfect product</td>\n",
       "      <td>1</td>\n",
       "    </tr>\n",
       "    <tr>\n",
       "      <th>4</th>\n",
       "      <td>Rocking out This game is classic.  The disk wo...</td>\n",
       "      <td>1</td>\n",
       "    </tr>\n",
       "    <tr>\n",
       "      <th>5</th>\n",
       "      <td>17-in-1 Bundle Pack For Nintendo DS Lite I bou...</td>\n",
       "      <td>1</td>\n",
       "    </tr>\n",
       "    <tr>\n",
       "      <th>6</th>\n",
       "      <td>Moving in a new direction The Good: Fantastic ...</td>\n",
       "      <td>1</td>\n",
       "    </tr>\n",
       "    <tr>\n",
       "      <th>7</th>\n",
       "      <td>A perfect gaming companion for your PC  Brief ...</td>\n",
       "      <td>1</td>\n",
       "    </tr>\n",
       "    <tr>\n",
       "      <th>8</th>\n",
       "      <td>Five Stars really good game, not my favorite z...</td>\n",
       "      <td>1</td>\n",
       "    </tr>\n",
       "    <tr>\n",
       "      <th>9</th>\n",
       "      <td>Fun! For kids, fun and creative!</td>\n",
       "      <td>1</td>\n",
       "    </tr>\n",
       "  </tbody>\n",
       "</table>\n",
       "</div>"
      ],
      "text/plain": [
       "                                                text label\n",
       "0  Great game Pretty fun, however i'm more a GoW ...     1\n",
       "1  Five Stars A great disc, you can keep using it...     1\n",
       "2      Five Stars Game is in great condition thanks.     1\n",
       "3                         Five Stars perfect product     1\n",
       "4  Rocking out This game is classic.  The disk wo...     1\n",
       "5  17-in-1 Bundle Pack For Nintendo DS Lite I bou...     1\n",
       "6  Moving in a new direction The Good: Fantastic ...     1\n",
       "7  A perfect gaming companion for your PC  Brief ...     1\n",
       "8  Five Stars really good game, not my favorite z...     1\n",
       "9                   Fun! For kids, fun and creative!     1"
      ]
     },
     "execution_count": 7,
     "metadata": {},
     "output_type": "execute_result"
    }
   ],
   "source": [
    "g_ra_00010"
   ]
  },
  {
   "cell_type": "markdown",
   "id": "7f79026b",
   "metadata": {},
   "source": [
    "# Check Distributions"
   ]
  },
  {
   "cell_type": "markdown",
   "id": "0260201b",
   "metadata": {},
   "source": [
    "### Games unbalanced"
   ]
  },
  {
   "cell_type": "code",
   "execution_count": 8,
   "id": "f15119dc",
   "metadata": {},
   "outputs": [],
   "source": [
    "games_ra = [g_ra_00010, g_ra_00100, g_ra_01000, g_ra_10000]\n",
    "games_ra_names = ['g_ra_00010', 'g_ra_00100', 'g_ra_01000', 'g_ra_10000']"
   ]
  },
  {
   "cell_type": "code",
   "execution_count": 9,
   "id": "a23d8b08",
   "metadata": {},
   "outputs": [
    {
     "name": "stdout",
     "output_type": "stream",
     "text": [
      "For Dataset g_ra_00010\n",
      "Count Positive: 10\n",
      "Count Negative: 0\n",
      "Ratio: 100.0% Positive\n",
      "\n",
      "For Dataset g_ra_00100\n",
      "Count Positive: 90\n",
      "Count Negative: 10\n",
      "Ratio: 90.0% Positive\n",
      "\n",
      "For Dataset g_ra_01000\n",
      "Count Positive: 888\n",
      "Count Negative: 112\n",
      "Ratio: 88.8% Positive\n",
      "\n",
      "For Dataset g_ra_10000\n",
      "Count Positive: 8743\n",
      "Count Negative: 1257\n",
      "Ratio: 87.43% Positive\n",
      "\n"
     ]
    }
   ],
   "source": [
    "for i in range(len(games_ra)):\n",
    "    corp_len = len(games_ra[i])\n",
    "    name = games_ra_names[i]\n",
    "    pos = 0\n",
    "    neg = 0\n",
    "    for j in range(corp_len):\n",
    "        if games_ra[i]['label'][j] == '1':\n",
    "            pos +=1\n",
    "        else:\n",
    "            neg +=1\n",
    "    print(f\"For Dataset {name}\\nCount Positive: {pos}\\nCount Negative: {neg}\\nRatio: {round(pos/corp_len*100,2)}% Positive\\n\")"
   ]
  },
  {
   "cell_type": "markdown",
   "id": "59256d7f",
   "metadata": {},
   "source": [
    "### Games Balanced"
   ]
  },
  {
   "cell_type": "code",
   "execution_count": 10,
   "id": "5caee9c8",
   "metadata": {},
   "outputs": [],
   "source": [
    "games_re = [g_re_00010, g_re_00100, g_re_01000, g_re_10000]\n",
    "games_re_names = ['g_re_00010', 'g_re_00100', 'g_re_01000', 'g_re_10000']"
   ]
  },
  {
   "cell_type": "code",
   "execution_count": 11,
   "id": "b54e5c56",
   "metadata": {},
   "outputs": [
    {
     "name": "stdout",
     "output_type": "stream",
     "text": [
      "For Dataset g_re_00010\n",
      "Count Positive: 5\n",
      "Count Negative: 5\n",
      "Ratio: 50.0% Positive\n",
      "\n",
      "For Dataset g_re_00100\n",
      "Count Positive: 50\n",
      "Count Negative: 50\n",
      "Ratio: 50.0% Positive\n",
      "\n",
      "For Dataset g_re_01000\n",
      "Count Positive: 500\n",
      "Count Negative: 500\n",
      "Ratio: 50.0% Positive\n",
      "\n",
      "For Dataset g_re_10000\n",
      "Count Positive: 5000\n",
      "Count Negative: 5000\n",
      "Ratio: 50.0% Positive\n",
      "\n"
     ]
    }
   ],
   "source": [
    "for i in range(len(games_re)):\n",
    "    corp_len = len(games_re[i])\n",
    "    name = games_re_names[i]\n",
    "    pos = 0\n",
    "    neg = 0\n",
    "    for j in range(corp_len):\n",
    "        if games_re[i]['label'][j] == '1':\n",
    "            pos +=1\n",
    "        else:\n",
    "            neg +=1\n",
    "    print(f\"For Dataset {name}\\nCount Positive: {pos}\\nCount Negative: {neg}\\nRatio: {round(pos/corp_len*100,2)}% Positive\\n\")"
   ]
  },
  {
   "cell_type": "markdown",
   "id": "a427767b",
   "metadata": {},
   "source": [
    "# Save to csv"
   ]
  },
  {
   "cell_type": "code",
   "execution_count": 12,
   "id": "31a54637",
   "metadata": {},
   "outputs": [],
   "source": [
    "g_re_00010.to_csv('../data/random/games_res_00010.csv', index=False, header=False)\n",
    "g_re_00100.to_csv('../data/random/games_res_00100.csv', index=False, header=False)\n",
    "g_re_01000.to_csv('../data/random/games_res_01000.csv', index=False, header=False)\n",
    "g_re_10000.to_csv('../data/random/games_res_10000.csv', index=False, header=False)"
   ]
  },
  {
   "cell_type": "code",
   "execution_count": 13,
   "id": "df2757f9",
   "metadata": {},
   "outputs": [],
   "source": [
    "g_ra_00010.to_csv('../data/random/games_00010.csv', index=False, header=False)\n",
    "g_ra_00100.to_csv('../data/random/games_00100.csv', index=False, header=False)\n",
    "g_ra_01000.to_csv('../data/random/games_01000.csv', index=False, header=False)\n",
    "g_ra_10000.to_csv('../data/random/games_10000.csv', index=False, header=False)"
   ]
  },
  {
   "cell_type": "code",
   "execution_count": null,
   "id": "55818995",
   "metadata": {},
   "outputs": [],
   "source": []
  },
  {
   "cell_type": "code",
   "execution_count": null,
   "id": "20e1fdbf",
   "metadata": {},
   "outputs": [],
   "source": []
  },
  {
   "cell_type": "markdown",
   "id": "ed86449f",
   "metadata": {},
   "source": [
    "# Read Sew Data Set"
   ]
  },
  {
   "cell_type": "code",
   "execution_count": 14,
   "id": "231e252d",
   "metadata": {},
   "outputs": [
    {
     "data": {
      "text/html": [
       "<div>\n",
       "<style scoped>\n",
       "    .dataframe tbody tr th:only-of-type {\n",
       "        vertical-align: middle;\n",
       "    }\n",
       "\n",
       "    .dataframe tbody tr th {\n",
       "        vertical-align: top;\n",
       "    }\n",
       "\n",
       "    .dataframe thead th {\n",
       "        text-align: right;\n",
       "    }\n",
       "</style>\n",
       "<table border=\"1\" class=\"dataframe\">\n",
       "  <thead>\n",
       "    <tr style=\"text-align: right;\">\n",
       "      <th></th>\n",
       "      <th>text</th>\n",
       "      <th>label</th>\n",
       "    </tr>\n",
       "  </thead>\n",
       "  <tbody>\n",
       "    <tr>\n",
       "      <th>0</th>\n",
       "      <td>Recommend! I love this paper! I was kinda skep...</td>\n",
       "      <td>1</td>\n",
       "    </tr>\n",
       "    <tr>\n",
       "      <th>1</th>\n",
       "      <td>Five Stars This is a great pack filled with ca...</td>\n",
       "      <td>1</td>\n",
       "    </tr>\n",
       "  </tbody>\n",
       "</table>\n",
       "</div>"
      ],
      "text/plain": [
       "                                                text label\n",
       "0  Recommend! I love this paper! I was kinda skep...     1\n",
       "1  Five Stars This is a great pack filled with ca...     1"
      ]
     },
     "execution_count": 14,
     "metadata": {},
     "output_type": "execute_result"
    }
   ],
   "source": [
    "sew_train = pd.read_csv('../data/interim/'+FILE_2+'.csv', dtype='string')\n",
    "sew_train.columns = ['text', 'label']\n",
    "sew_train.head(2)"
   ]
  },
  {
   "cell_type": "markdown",
   "id": "7b2a61f2",
   "metadata": {},
   "source": [
    "# Take a Sample"
   ]
  },
  {
   "cell_type": "markdown",
   "id": "d87ac377",
   "metadata": {},
   "source": [
    "## balanced"
   ]
  },
  {
   "cell_type": "code",
   "execution_count": 15,
   "id": "6b4b12fc",
   "metadata": {},
   "outputs": [],
   "source": [
    "# Sew Random Even Shuffled\n",
    "s_re_00010 = sew_train.groupby('label').apply(lambda x: x.sample(n=5, random_state=42)).sample(frac=1)\n",
    "s_re_00100 = sew_train.groupby('label').apply(lambda x: x.sample(n=50, random_state=42)).sample(frac=1)\n",
    "s_re_01000 = sew_train.groupby('label').apply(lambda x: x.sample(n=500, random_state=42)).sample(frac=1)\n",
    "s_re_10000 = sew_train.groupby('label').apply(lambda x: x.sample(n=5000, random_state=42)).sample(frac=1)"
   ]
  },
  {
   "cell_type": "code",
   "execution_count": 16,
   "id": "e680ccc9",
   "metadata": {},
   "outputs": [
    {
     "data": {
      "text/html": [
       "<div>\n",
       "<style scoped>\n",
       "    .dataframe tbody tr th:only-of-type {\n",
       "        vertical-align: middle;\n",
       "    }\n",
       "\n",
       "    .dataframe tbody tr th {\n",
       "        vertical-align: top;\n",
       "    }\n",
       "\n",
       "    .dataframe thead th {\n",
       "        text-align: right;\n",
       "    }\n",
       "</style>\n",
       "<table border=\"1\" class=\"dataframe\">\n",
       "  <thead>\n",
       "    <tr style=\"text-align: right;\">\n",
       "      <th></th>\n",
       "      <th></th>\n",
       "      <th>text</th>\n",
       "      <th>label</th>\n",
       "    </tr>\n",
       "    <tr>\n",
       "      <th>label</th>\n",
       "      <th></th>\n",
       "      <th></th>\n",
       "      <th></th>\n",
       "    </tr>\n",
       "  </thead>\n",
       "  <tbody>\n",
       "    <tr>\n",
       "      <th>0</th>\n",
       "      <th>20451</th>\n",
       "      <td>Don't Waste Your Money Poor quality. The edges...</td>\n",
       "      <td>0</td>\n",
       "    </tr>\n",
       "    <tr>\n",
       "      <th rowspan=\"2\" valign=\"top\">1</th>\n",
       "      <th>357506</th>\n",
       "      <td>Five Stars good</td>\n",
       "      <td>1</td>\n",
       "    </tr>\n",
       "    <tr>\n",
       "      <th>114726</th>\n",
       "      <td>Five Stars Love my singer sewing</td>\n",
       "      <td>1</td>\n",
       "    </tr>\n",
       "    <tr>\n",
       "      <th>0</th>\n",
       "      <th>290954</th>\n",
       "      <td>You can fond cheaper in retail stores. It work...</td>\n",
       "      <td>0</td>\n",
       "    </tr>\n",
       "    <tr>\n",
       "      <th rowspan=\"2\" valign=\"top\">1</th>\n",
       "      <th>253375</th>\n",
       "      <td>Love these! So adorable, and now a family trad...</td>\n",
       "      <td>1</td>\n",
       "    </tr>\n",
       "    <tr>\n",
       "      <th>113824</th>\n",
       "      <td>Five Stars These are so cool, I have made scar...</td>\n",
       "      <td>1</td>\n",
       "    </tr>\n",
       "    <tr>\n",
       "      <th rowspan=\"3\" valign=\"top\">0</th>\n",
       "      <th>18131</th>\n",
       "      <td>One Star So cheaply made.</td>\n",
       "      <td>0</td>\n",
       "    </tr>\n",
       "    <tr>\n",
       "      <th>51198</th>\n",
       "      <td>One Star didn't fit together right</td>\n",
       "      <td>0</td>\n",
       "    </tr>\n",
       "    <tr>\n",
       "      <th>69724</th>\n",
       "      <td>They flip flop Not a favorite These can be a l...</td>\n",
       "      <td>0</td>\n",
       "    </tr>\n",
       "    <tr>\n",
       "      <th>1</th>\n",
       "      <th>277611</th>\n",
       "      <td>Very nice set Beautiful pastels set.  Rich cre...</td>\n",
       "      <td>1</td>\n",
       "    </tr>\n",
       "  </tbody>\n",
       "</table>\n",
       "</div>"
      ],
      "text/plain": [
       "                                                           text label\n",
       "label                                                                \n",
       "0     20451   Don't Waste Your Money Poor quality. The edges...     0\n",
       "1     357506                                    Five Stars good     1\n",
       "      114726                   Five Stars Love my singer sewing     1\n",
       "0     290954  You can fond cheaper in retail stores. It work...     0\n",
       "1     253375  Love these! So adorable, and now a family trad...     1\n",
       "      113824  Five Stars These are so cool, I have made scar...     1\n",
       "0     18131                           One Star So cheaply made.     0\n",
       "      51198                  One Star didn't fit together right     0\n",
       "      69724   They flip flop Not a favorite These can be a l...     0\n",
       "1     277611  Very nice set Beautiful pastels set.  Rich cre...     1"
      ]
     },
     "execution_count": 16,
     "metadata": {},
     "output_type": "execute_result"
    }
   ],
   "source": [
    "s_re_00010"
   ]
  },
  {
   "cell_type": "markdown",
   "id": "104a1729",
   "metadata": {},
   "source": [
    "## unbalanced"
   ]
  },
  {
   "cell_type": "code",
   "execution_count": 17,
   "id": "b962e55e",
   "metadata": {},
   "outputs": [],
   "source": [
    "# Sew Random Unbalanced\n",
    "s_ra_00010 = sew_train.sample(n=10, random_state=42).reset_index(drop=True)\n",
    "s_ra_00100 = sew_train.sample(n=100, random_state=42).reset_index(drop=True)\n",
    "s_ra_01000 = sew_train.sample(n=1000, random_state=42).reset_index(drop=True)\n",
    "s_ra_10000 = sew_train.sample(n=10000, random_state=42).reset_index(drop=True)"
   ]
  },
  {
   "cell_type": "markdown",
   "id": "9a3c941b",
   "metadata": {},
   "source": [
    "# Check Distributions"
   ]
  },
  {
   "cell_type": "markdown",
   "id": "a7b9af73",
   "metadata": {},
   "source": [
    "### Sew unbalanced"
   ]
  },
  {
   "cell_type": "code",
   "execution_count": 18,
   "id": "b897a2ed",
   "metadata": {},
   "outputs": [],
   "source": [
    "sew_ra = [s_ra_00010, s_ra_00100, s_ra_01000, s_ra_10000]\n",
    "sew_ra_names = ['s_ra_00010', 's_ra_00100', 's_ra_01000', 's_ra_10000']"
   ]
  },
  {
   "cell_type": "code",
   "execution_count": 19,
   "id": "3ec9292a",
   "metadata": {},
   "outputs": [
    {
     "name": "stdout",
     "output_type": "stream",
     "text": [
      "For Dataset s_ra_00010\n",
      "Count Positive: 9\n",
      "Count Negative: 1\n",
      "Ratio: 90.0% Positive\n",
      "\n",
      "For Dataset s_ra_00100\n",
      "Count Positive: 94\n",
      "Count Negative: 6\n",
      "Ratio: 94.0% Positive\n",
      "\n",
      "For Dataset s_ra_01000\n",
      "Count Positive: 958\n",
      "Count Negative: 42\n",
      "Ratio: 95.8% Positive\n",
      "\n",
      "For Dataset s_ra_10000\n",
      "Count Positive: 9414\n",
      "Count Negative: 586\n",
      "Ratio: 94.14% Positive\n",
      "\n"
     ]
    }
   ],
   "source": [
    "for i in range(len(sew_ra)):\n",
    "    corp_len = len(sew_ra[i])\n",
    "    name = sew_ra_names[i]\n",
    "    pos = 0\n",
    "    neg = 0\n",
    "    for j in range(corp_len):\n",
    "        if sew_ra[i]['label'][j] == '1':\n",
    "            pos +=1\n",
    "        else:\n",
    "            neg +=1\n",
    "    print(f\"For Dataset {name}\\nCount Positive: {pos}\\nCount Negative: {neg}\\nRatio: {round(pos/corp_len*100,2)}% Positive\\n\")"
   ]
  },
  {
   "cell_type": "markdown",
   "id": "a6b7e75e",
   "metadata": {},
   "source": [
    "### Sew balanced"
   ]
  },
  {
   "cell_type": "code",
   "execution_count": 20,
   "id": "d6a3ab7c",
   "metadata": {},
   "outputs": [],
   "source": [
    "sew_re = [s_re_00010, s_re_00100, s_re_01000, s_re_10000]\n",
    "sew_re_names = ['s_re_00010', 's_re_00100', 's_re_01000', 's_re_10000']"
   ]
  },
  {
   "cell_type": "code",
   "execution_count": 21,
   "id": "92a5d6e9",
   "metadata": {},
   "outputs": [
    {
     "name": "stdout",
     "output_type": "stream",
     "text": [
      "For Dataset s_re_00010\n",
      "Count Positive: 5\n",
      "Count Negative: 5\n",
      "Ratio: 50.0% Positive\n",
      "\n",
      "For Dataset s_re_00100\n",
      "Count Positive: 50\n",
      "Count Negative: 50\n",
      "Ratio: 50.0% Positive\n",
      "\n",
      "For Dataset s_re_01000\n",
      "Count Positive: 500\n",
      "Count Negative: 500\n",
      "Ratio: 50.0% Positive\n",
      "\n",
      "For Dataset s_re_10000\n",
      "Count Positive: 5000\n",
      "Count Negative: 5000\n",
      "Ratio: 50.0% Positive\n",
      "\n"
     ]
    }
   ],
   "source": [
    "for i in range(len(sew_re)):\n",
    "    corp_len = len(sew_re[i])\n",
    "    name = sew_re_names[i]\n",
    "    pos = 0\n",
    "    neg = 0\n",
    "    for j in range(corp_len):\n",
    "        if sew_re[i]['label'][j] == '1':\n",
    "            pos +=1\n",
    "        else:\n",
    "            neg +=1\n",
    "    print(f\"For Dataset {name}\\nCount Positive: {pos}\\nCount Negative: {neg}\\nRatio: {round(pos/corp_len*100,2)}% Positive\\n\")"
   ]
  },
  {
   "cell_type": "markdown",
   "id": "c427ac38",
   "metadata": {},
   "source": [
    "# Save to CSV"
   ]
  },
  {
   "cell_type": "code",
   "execution_count": 22,
   "id": "bb68be56",
   "metadata": {},
   "outputs": [],
   "source": [
    "s_ra_00010.to_csv('../data/random/sew_00010.csv', index=False, header=False)\n",
    "s_ra_00100.to_csv('../data/random/sew_00100.csv', index=False, header=False)\n",
    "s_ra_01000.to_csv('../data/random/sew_01000.csv', index=False, header=False)\n",
    "s_ra_10000.to_csv('../data/random/sew_10000.csv', index=False, header=False)"
   ]
  },
  {
   "cell_type": "code",
   "execution_count": 23,
   "id": "84a5a0d2",
   "metadata": {},
   "outputs": [],
   "source": [
    "s_re_00010.to_csv('../data/random/sew_res_00010.csv', index=False, header=False)\n",
    "s_re_00100.to_csv('../data/random/sew_res_00100.csv', index=False, header=False)\n",
    "s_re_01000.to_csv('../data/random/sew_res_01000.csv', index=False, header=False)\n",
    "s_re_10000.to_csv('../data/random/sew_res_10000.csv', index=False, header=False)"
   ]
  }
 ],
 "metadata": {
  "kernelspec": {
   "display_name": "Python 3 (ipykernel)",
   "language": "python",
   "name": "python3"
  },
  "language_info": {
   "codemirror_mode": {
    "name": "ipython",
    "version": 3
   },
   "file_extension": ".py",
   "mimetype": "text/x-python",
   "name": "python",
   "nbconvert_exporter": "python",
   "pygments_lexer": "ipython3",
   "version": "3.8.10"
  }
 },
 "nbformat": 4,
 "nbformat_minor": 5
}
