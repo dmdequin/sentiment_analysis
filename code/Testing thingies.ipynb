{
 "cells": [
  {
   "cell_type": "code",
   "execution_count": 1,
   "id": "562d88f2",
   "metadata": {},
   "outputs": [],
   "source": [
    "import csv\n",
    "import pandas as pd\n",
    "import gzip\n",
    "import json"
   ]
  },
  {
   "cell_type": "code",
   "execution_count": 2,
   "id": "7aa4401a",
   "metadata": {},
   "outputs": [],
   "source": [
    "## functions\n",
    "def loader(PATH):\n",
    "    with open(PATH, mode ='r')as file:\n",
    "        csvFile = csv.reader(file)\n",
    "        text = []\n",
    "        for lines in csvFile:\n",
    "            text.append(lines)\n",
    "    return text"
   ]
  },
  {
   "cell_type": "code",
   "execution_count": 3,
   "id": "579f35d1",
   "metadata": {},
   "outputs": [],
   "source": [
    "true = loader('../data/interim/train.csv')\n",
    "true = true[-100:]"
   ]
  },
  {
   "cell_type": "code",
   "execution_count": 4,
   "id": "faa896d5",
   "metadata": {},
   "outputs": [
    {
     "data": {
      "text/plain": [
       "100"
      ]
     },
     "execution_count": 4,
     "metadata": {},
     "output_type": "execute_result"
    }
   ],
   "source": [
    "true_y = []\n",
    "for i in range(len(true)):\n",
    "    true_y.append(int(true[i][1]))\n",
    "    \n",
    "len(true_y)"
   ]
  },
  {
   "cell_type": "code",
   "execution_count": null,
   "id": "8c23af0e",
   "metadata": {},
   "outputs": [],
   "source": []
  },
  {
   "cell_type": "code",
   "execution_count": 5,
   "id": "5385eb93",
   "metadata": {},
   "outputs": [
    {
     "data": {
      "text/plain": [
       "100"
      ]
     },
     "execution_count": 5,
     "metadata": {},
     "output_type": "execute_result"
    }
   ],
   "source": [
    "test1 = pd.read_json('../data/predictions/TEST1_preds.json', lines=True)\n",
    "y_hat1 = []\n",
    "for i in test1['sentiment']:\n",
    "    if i == 'negative':\n",
    "        y_hat1.append(0)\n",
    "    else:\n",
    "        y_hat1.append(1)\n",
    "        \n",
    "len(y_hat1)"
   ]
  },
  {
   "cell_type": "code",
   "execution_count": 6,
   "id": "bb56c67c",
   "metadata": {},
   "outputs": [
    {
     "data": {
      "text/plain": [
       "100"
      ]
     },
     "execution_count": 6,
     "metadata": {},
     "output_type": "execute_result"
    }
   ],
   "source": [
    "test2 = pd.read_json('../data/predictions/TEST2_preds.json', lines=True)\n",
    "y_hat2 = []\n",
    "for i in test2['sentiment']:\n",
    "    if i == 'negative':\n",
    "        y_hat2.append(0)\n",
    "    else:\n",
    "        y_hat2.append(1)\n",
    "        \n",
    "len(y_hat2)"
   ]
  },
  {
   "cell_type": "code",
   "execution_count": 7,
   "id": "39985c81",
   "metadata": {},
   "outputs": [],
   "source": [
    "from sklearn.metrics import confusion_matrix"
   ]
  },
  {
   "cell_type": "code",
   "execution_count": 8,
   "id": "50cd55e1",
   "metadata": {},
   "outputs": [
    {
     "name": "stdout",
     "output_type": "stream",
     "text": [
      "[[36  6]\n",
      " [ 6 52]]\n"
     ]
    }
   ],
   "source": [
    "cf_matrix1 = confusion_matrix(true_y, y_hat1)\n",
    "\n",
    "print(cf_matrix1)"
   ]
  },
  {
   "cell_type": "code",
   "execution_count": 9,
   "id": "f62d1dfa",
   "metadata": {},
   "outputs": [
    {
     "name": "stdout",
     "output_type": "stream",
     "text": [
      "[[40  2]\n",
      " [ 6 52]]\n"
     ]
    }
   ],
   "source": [
    "cf_matrix2 = confusion_matrix(true_y, y_hat2)\n",
    "\n",
    "print(cf_matrix2)"
   ]
  },
  {
   "cell_type": "code",
   "execution_count": 11,
   "id": "a08fcb6e",
   "metadata": {},
   "outputs": [
    {
     "data": {
      "text/plain": [
       "58"
      ]
     },
     "execution_count": 11,
     "metadata": {},
     "output_type": "execute_result"
    }
   ],
   "source": [
    "sum(true_y)"
   ]
  },
  {
   "cell_type": "code",
   "execution_count": null,
   "id": "d6704bc2",
   "metadata": {},
   "outputs": [],
   "source": []
  }
 ],
 "metadata": {
  "kernelspec": {
   "display_name": "Python 3 (ipykernel)",
   "language": "python",
   "name": "python3"
  },
  "language_info": {
   "codemirror_mode": {
    "name": "ipython",
    "version": 3
   },
   "file_extension": ".py",
   "mimetype": "text/x-python",
   "name": "python",
   "nbconvert_exporter": "python",
   "pygments_lexer": "ipython3",
   "version": "3.8.10"
  }
 },
 "nbformat": 4,
 "nbformat_minor": 5
}
