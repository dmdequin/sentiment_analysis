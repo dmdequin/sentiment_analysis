{
 "cells": [
  {
   "cell_type": "code",
   "execution_count": 1,
   "id": "e644833a",
   "metadata": {},
   "outputs": [],
   "source": [
    "import pandas as pd\n",
    "from sklearn.metrics import f1_score\n",
    "from sklearn.metrics import precision_score\n",
    "from sklearn.metrics import recall_score"
   ]
  },
  {
   "cell_type": "code",
   "execution_count": 2,
   "id": "530cac9c",
   "metadata": {},
   "outputs": [],
   "source": [
    "def comparerer(truth, predictions):\n",
    "\tif len(predictions) != len(truth):\n",
    "\t\tprint('Lengths don\\'t match!')\n",
    "\t\tprint(len(predictions))\n",
    "\t\tprint(len(truth))\n",
    "\t\treturn 0,0,0\n",
    "\n",
    "\telse:\n",
    "\t\tpos_correct = 0\n",
    "\t\tpos_wrong = 0\n",
    "\t\tneg_correct = 0\n",
    "\t\tneg_wrong = 0\n",
    "\n",
    "\t\tfor i in range(len(truth)):\n",
    "\t\t\tif int(predictions[i]) == int(truth[i]):\n",
    "\t\t\t\tif int(truth[i]) == 1:\n",
    "\t\t\t\t\tpos_correct += 1\n",
    "\t\t\t\telse:\n",
    "\t\t\t\t\tneg_correct += 1\n",
    "\t\t\telse:\n",
    "\t\t\t\tif int(truth[i]) == 1:\n",
    "\t\t\t\t\tpos_wrong += 1\n",
    "\t\t\t\telse:\n",
    "\t\t\t\t\tneg_wrong +=1\n",
    "\n",
    "\t\treturn pos_correct, pos_wrong, neg_correct, neg_wrong, (100*(pos_correct+neg_correct))/len(truth)\n",
    "\n"
   ]
  },
  {
   "cell_type": "code",
   "execution_count": 36,
   "id": "3d77c6f5",
   "metadata": {},
   "outputs": [
    {
     "data": {
      "text/plain": [
       "10000"
      ]
     },
     "execution_count": 36,
     "metadata": {},
     "output_type": "execute_result"
    }
   ],
   "source": [
    "subject = pd.read_json(f'../data/predictions/music_test.json', lines=True)\n",
    "\n",
    "pred_y = []\n",
    "\n",
    "for x in subject['sentiment']:\n",
    "    if x == 'positive':\n",
    "        pred_y.append(1)\n",
    "    else:\n",
    "        pred_y.append(0)\n",
    "        \n",
    "len(pred_y)"
   ]
  },
  {
   "cell_type": "code",
   "execution_count": 37,
   "id": "62669c70",
   "metadata": {},
   "outputs": [
    {
     "name": "stdout",
     "output_type": "stream",
     "text": [
      "There are 5954 predicted positives\n"
     ]
    }
   ],
   "source": [
    "print(f'There are {sum(pred_y)} predicted positives')"
   ]
  },
  {
   "cell_type": "code",
   "execution_count": 38,
   "id": "9f243585",
   "metadata": {},
   "outputs": [],
   "source": [
    "subject_true = pd.read_csv(f'../data/interim/music_test.csv', header=None)\n",
    "subject_true.columns=['text', 'label']"
   ]
  },
  {
   "cell_type": "code",
   "execution_count": 39,
   "id": "ead5a116",
   "metadata": {},
   "outputs": [
    {
     "name": "stdout",
     "output_type": "stream",
     "text": [
      "There are 5945 actual positives\n"
     ]
    }
   ],
   "source": [
    "print(f'There are {subject_true[\"label\"].sum()} actual positives')"
   ]
  },
  {
   "cell_type": "code",
   "execution_count": 40,
   "id": "13600cc7",
   "metadata": {},
   "outputs": [],
   "source": [
    "pc, pw, nc, nw, acc = comparerer(subject_true['label'], pred_y)"
   ]
  },
  {
   "cell_type": "code",
   "execution_count": 41,
   "id": "636c4353",
   "metadata": {},
   "outputs": [
    {
     "name": "stdout",
     "output_type": "stream",
     "text": [
      "There are 9377 correct\n",
      "There are 623 incorrect\n",
      "\n",
      "Accuracy:        93.77%\n",
      "True positives:  5638\n",
      "True negatives:  3739\n",
      "False positives: 316\n",
      "False negatives: 307\n"
     ]
    }
   ],
   "source": [
    "print(f'There are {pc + nc} correct')\n",
    "print(f'There are {pw + nw} incorrect')\n",
    "\n",
    "print(f'\\nAccuracy:        {acc}%')\n",
    "print(f'True positives:  {pc}')\n",
    "print(f'True negatives:  {nc}')\n",
    "print(f'False positives: {nw}')\n",
    "print(f'False negatives: {pw}')\n"
   ]
  },
  {
   "cell_type": "code",
   "execution_count": 46,
   "id": "bdc84df5",
   "metadata": {},
   "outputs": [
    {
     "name": "stdout",
     "output_type": "stream",
     "text": [
      "F1:              0.938\n",
      "Precision:       0.938\n",
      "Recall:          0.938\n"
     ]
    }
   ],
   "source": [
    "f1 = f1_score(subject_true['label'], pred_y, average='weighted')\n",
    "print(f'F1:              {round(f1, 3)}')\n",
    "\n",
    "p = precision_score(subject_true['label'], pred_y, average='weighted')\n",
    "print(f'Precision:       {round(p,3)}')\n",
    "\n",
    "r = recall_score(subject_true['label'], pred_y, average='weighted')\n",
    "print(f'Recall:          {round(r,3)}')"
   ]
  },
  {
   "cell_type": "code",
   "execution_count": 50,
   "id": "d3c47afc",
   "metadata": {},
   "outputs": [],
   "source": [
    "data = {'music_base': ['music', 'ba', '00000', pc + nc, pw + nw, sum(pred_y), subject_true[\"label\"].sum(), pc, nc, nw, pw, acc, p, r, f1]}\n",
    "columns = ['domain', 'trial_type', 'add_data', 'correctly_predicted', 'incorrectly_predicted', 'total_predicted_positives', 'ground_truth_positives', 'TP', 'TN', 'FP', 'FN', 'accuracy', 'precision', 'recall', 'f1']\n",
    "\n",
    "df2 = pd.DataFrame.from_dict(data, orient='index', columns=columns)"
   ]
  },
  {
   "cell_type": "code",
   "execution_count": 51,
   "id": "ebb5b8aa",
   "metadata": {},
   "outputs": [
    {
     "data": {
      "text/html": [
       "<div>\n",
       "<style scoped>\n",
       "    .dataframe tbody tr th:only-of-type {\n",
       "        vertical-align: middle;\n",
       "    }\n",
       "\n",
       "    .dataframe tbody tr th {\n",
       "        vertical-align: top;\n",
       "    }\n",
       "\n",
       "    .dataframe thead th {\n",
       "        text-align: right;\n",
       "    }\n",
       "</style>\n",
       "<table border=\"1\" class=\"dataframe\">\n",
       "  <thead>\n",
       "    <tr style=\"text-align: right;\">\n",
       "      <th></th>\n",
       "      <th>domain</th>\n",
       "      <th>trial_type</th>\n",
       "      <th>add_data</th>\n",
       "      <th>correctly_predicted</th>\n",
       "      <th>incorrectly_predicted</th>\n",
       "      <th>total_predicted_positives</th>\n",
       "      <th>ground_truth_positives</th>\n",
       "      <th>TP</th>\n",
       "      <th>TN</th>\n",
       "      <th>FP</th>\n",
       "      <th>FN</th>\n",
       "      <th>accuracy</th>\n",
       "      <th>precision</th>\n",
       "      <th>recall</th>\n",
       "      <th>f1</th>\n",
       "    </tr>\n",
       "  </thead>\n",
       "  <tbody>\n",
       "    <tr>\n",
       "      <th>music_base</th>\n",
       "      <td>music</td>\n",
       "      <td>ba</td>\n",
       "      <td>00000</td>\n",
       "      <td>9377</td>\n",
       "      <td>623</td>\n",
       "      <td>5954</td>\n",
       "      <td>5945</td>\n",
       "      <td>5638</td>\n",
       "      <td>3739</td>\n",
       "      <td>316</td>\n",
       "      <td>307</td>\n",
       "      <td>93.77</td>\n",
       "      <td>0.937679</td>\n",
       "      <td>0.9377</td>\n",
       "      <td>0.937689</td>\n",
       "    </tr>\n",
       "  </tbody>\n",
       "</table>\n",
       "</div>"
      ],
      "text/plain": [
       "           domain trial_type add_data  correctly_predicted  \\\n",
       "music_base  music         ba    00000                 9377   \n",
       "\n",
       "            incorrectly_predicted  total_predicted_positives  \\\n",
       "music_base                    623                       5954   \n",
       "\n",
       "            ground_truth_positives    TP    TN   FP   FN  accuracy  precision  \\\n",
       "music_base                    5945  5638  3739  316  307     93.77   0.937679   \n",
       "\n",
       "            recall        f1  \n",
       "music_base  0.9377  0.937689  "
      ]
     },
     "execution_count": 51,
     "metadata": {},
     "output_type": "execute_result"
    }
   ],
   "source": [
    "df2"
   ]
  },
  {
   "cell_type": "code",
   "execution_count": 52,
   "id": "2b51962a",
   "metadata": {},
   "outputs": [],
   "source": [
    "df2.to_csv(f'../report/metrics/music_test_metrics.csv', index=False)"
   ]
  },
  {
   "cell_type": "code",
   "execution_count": null,
   "id": "5292d617",
   "metadata": {},
   "outputs": [],
   "source": []
  }
 ],
 "metadata": {
  "kernelspec": {
   "display_name": "Python 3 (ipykernel)",
   "language": "python",
   "name": "python3"
  },
  "language_info": {
   "codemirror_mode": {
    "name": "ipython",
    "version": 3
   },
   "file_extension": ".py",
   "mimetype": "text/x-python",
   "name": "python",
   "nbconvert_exporter": "python",
   "pygments_lexer": "ipython3",
   "version": "3.8.10"
  }
 },
 "nbformat": 4,
 "nbformat_minor": 5
}
