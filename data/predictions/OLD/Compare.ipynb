{
 "cells": [
  {
   "cell_type": "code",
   "execution_count": 1,
   "id": "abb15430",
   "metadata": {},
   "outputs": [],
   "source": [
    "import pandas as pd"
   ]
  },
  {
   "cell_type": "code",
   "execution_count": 57,
   "id": "2ef8624f",
   "metadata": {},
   "outputs": [
    {
     "name": "stdout",
     "output_type": "stream",
     "text": [
      "Something unexpected occurred!\n"
     ]
    }
   ],
   "source": [
    "import pickle\n",
    "  \n",
    "  \n",
    "try:\n",
    "    geeky_file = open('music_reviews_test.json', 'r')\n",
    "    dictionary_list = pickle.load(geeky_file)\n",
    "      \n",
    "    for d in dictionary_list:\n",
    "        print(d)\n",
    "    geeky_file.close()\n",
    "  \n",
    "except:\n",
    "    print(\"Something unexpected occurred!\")"
   ]
  },
  {
   "cell_type": "code",
   "execution_count": null,
   "id": "311fa266",
   "metadata": {},
   "outputs": [],
   "source": [
    "\n"
   ]
  },
  {
   "cell_type": "code",
   "execution_count": null,
   "id": "ac073e6f",
   "metadata": {},
   "outputs": [],
   "source": []
  }
 ],
 "metadata": {
  "kernelspec": {
   "display_name": "Python 3 (ipykernel)",
   "language": "python",
   "name": "python3"
  },
  "language_info": {
   "codemirror_mode": {
    "name": "ipython",
    "version": 3
   },
   "file_extension": ".py",
   "mimetype": "text/x-python",
   "name": "python",
   "nbconvert_exporter": "python",
   "pygments_lexer": "ipython3",
   "version": "3.8.10"
  }
 },
 "nbformat": 4,
 "nbformat_minor": 5
}
